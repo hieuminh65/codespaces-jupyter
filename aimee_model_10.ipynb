{
 "cells": [
  {
   "cell_type": "code",
   "execution_count": 1,
   "id": "86f6e99d",
   "metadata": {},
   "outputs": [],
   "source": [
    "#pip install --upgrade \"protobuf<=3.20.1\""
   ]
  },
  {
   "cell_type": "code",
   "execution_count": 2,
   "id": "94c67b7a",
   "metadata": {},
   "outputs": [
    {
     "name": "stderr",
     "output_type": "stream",
     "text": [
      "2023-07-25 18:22:08.858092: I tensorflow/tsl/cuda/cudart_stub.cc:28] Could not find cuda drivers on your machine, GPU will not be used.\n",
      "2023-07-25 18:22:11.605446: I tensorflow/tsl/cuda/cudart_stub.cc:28] Could not find cuda drivers on your machine, GPU will not be used.\n",
      "2023-07-25 18:22:11.607622: I tensorflow/core/platform/cpu_feature_guard.cc:182] This TensorFlow binary is optimized to use available CPU instructions in performance-critical operations.\n",
      "To enable the following instructions: AVX2 AVX512F FMA, in other operations, rebuild TensorFlow with the appropriate compiler flags.\n",
      "2023-07-25 18:22:16.521655: W tensorflow/compiler/tf2tensorrt/utils/py_utils.cc:38] TF-TRT Warning: Could not find TensorRT\n"
     ]
    }
   ],
   "source": [
    "#necessary imports\n",
    "import librosa\n",
    "import pandas as pd\n",
    "import numpy as np\n",
    "import sklearn\n",
    "from sklearn import preprocessing\n",
    "from sklearn.model_selection import train_test_split\n",
    "from sklearn.neural_network import MLPClassifier\n",
    "from sklearn.metrics import accuracy_score\n",
    "import glob,os\n",
    "import keras\n",
    "from keras.callbacks import ReduceLROnPlateau, EarlyStopping\n",
    "from keras.models import Sequential\n",
    "from keras.layers import Dense, Conv1D, MaxPooling1D, Flatten, Dropout, BatchNormalization\n",
    "# from keras.utils import np_utils\n",
    "from keras.callbacks import ModelCheckpoint\n",
    "import seaborn as sns\n",
    "import matplotlib.pyplot as plt\n",
    "import random"
   ]
  },
  {
   "cell_type": "code",
   "execution_count": 3,
   "id": "e81b1590",
   "metadata": {},
   "outputs": [],
   "source": [
    "random.seed(1)"
   ]
  },
  {
   "cell_type": "code",
   "execution_count": 4,
   "id": "24703be9",
   "metadata": {},
   "outputs": [],
   "source": [
    "# Extracting features from each .wav file\n",
    "def extract_features(data, sample_rate):\n",
    "    # ZCR\n",
    "    result = np.array([])\n",
    "    zcr = np.mean(librosa.feature.zero_crossing_rate(y=data).T, axis=0)\n",
    "    result=np.hstack((result, zcr)) # stacking horizontally\n",
    "\n",
    "    # Chroma_stft\n",
    "    stft = np.abs(librosa.stft(data))\n",
    "    chroma_stft = np.mean(librosa.feature.chroma_stft(S=stft, sr=sample_rate).T, axis=0)\n",
    "    result = np.hstack((result, chroma_stft)) # stacking horizontally\n",
    "\n",
    "    # MFCC\n",
    "    mfcc = np.mean(librosa.feature.mfcc(y=data, sr=sample_rate).T, axis=0)\n",
    "    result = np.hstack((result, mfcc)) # stacking horizontally\n",
    "\n",
    "    # Root Mean Square Value\n",
    "    rms = np.mean(librosa.feature.rms(y=data).T, axis=0)\n",
    "    result = np.hstack((result, rms)) # stacking horizontally\n",
    "\n",
    "    # MelSpectogram\n",
    "    mel = np.mean(librosa.feature.melspectrogram(y=data, sr=sample_rate).T, axis=0)\n",
    "    result = np.hstack((result, mel)) # stacking horizontally\n",
    "    \n",
    "    return result"
   ]
  },
  {
   "cell_type": "code",
   "execution_count": 5,
   "id": "df4429c4",
   "metadata": {},
   "outputs": [],
   "source": [
    "def noise(data):\n",
    "    noise_amp = 0.035*np.random.uniform()*np.amax(data)\n",
    "    data = data + noise_amp*np.random.normal(size=data.shape[0])\n",
    "    return data\n",
    "\n",
    "def stretch(data, rate=0.8):\n",
    "    return librosa.effects.time_stretch(data, rate = rate)\n",
    "\n",
    "def shift(data):\n",
    "    shift_range = int(np.random.uniform(low=-5, high = 5)*1000)\n",
    "    return np.roll(data, shift_range)\n",
    "\n",
    "def pitch(data, sampling_rate, pitch_factor=0.7):\n",
    "    return librosa.effects.pitch_shift(data, sr = sampling_rate, n_steps = pitch_factor)\n"
   ]
  },
  {
   "cell_type": "code",
   "execution_count": 6,
   "id": "b02f1828",
   "metadata": {},
   "outputs": [],
   "source": [
    "#Emotions in the dataset\n",
    "emotions={\n",
    "  '01':'neutral',\n",
    "  #'02':'calm',\n",
    "  '03':'happy',\n",
    "  '04':'sad',\n",
    "  '05':'angry',\n",
    "  '06':'fearful',\n",
    "  #'07':'disgust',\n",
    "  #'08':'surprised'\n",
    "}\n",
    "\n",
    "#Emotions to observe\n",
    "#observed_emotions=['calm', 'happy', 'fearful', 'disgust', 'sad']\n"
   ]
  },
  {
   "cell_type": "code",
   "execution_count": 7,
   "id": "f996d92e",
   "metadata": {},
   "outputs": [],
   "source": [
    "emotions2={\n",
    "    'NEU': 'neutral',\n",
    "    'HAP': 'happy',\n",
    "    'SAD': 'sad',\n",
    "    'ANG': 'angry',\n",
    "    'FEA': 'fearful',\n",
    "}"
   ]
  },
  {
   "cell_type": "code",
   "execution_count": 8,
   "id": "0aa4489a",
   "metadata": {},
   "outputs": [],
   "source": [
    "def get_features(path, isTraining):\n",
    "    # duration and offset are used to take care of the no audio in start and the ending of each audio files as seen above.\n",
    "    #data, sample_rate = librosa.load(path, duration=2.5, offset=0.6)\n",
    "    data, sample_rate = librosa.load(path, duration=2, offset=0.6, sr=8025)\n",
    "    \n",
    "    # without augmentation\n",
    "    res1 = extract_features(data, sample_rate)\n",
    "    result = np.array(res1)\n",
    "    \n",
    "    # Augmenting only training data and skipping augmentation for test data\n",
    "    if isTraining:\n",
    "        \n",
    "        # data with noise\n",
    "        noise_data = noise(data)\n",
    "        res2 = extract_features(noise_data, sample_rate)\n",
    "        result = np.vstack((result, res2)) # stacking vertically\n",
    "\n",
    "        # data with stretching \n",
    "        stretched_data = stretch(data)\n",
    "        res3 = extract_features(stretched_data, sample_rate)\n",
    "        result = np.vstack((result, res3)) # stacking vertically\n",
    "        \n",
    "        # data with pitch offset\n",
    "        data_pitch = pitch(data, sample_rate)\n",
    "        res4 = extract_features(data_pitch, sample_rate)\n",
    "        result = np.vstack((result, res4)) # stacking vertically\n",
    "    \n",
    "    return result"
   ]
  },
  {
   "cell_type": "markdown",
   "id": "a62b0424",
   "metadata": {},
   "source": [
    "# New Data\n",
    "## Crema-D dataset"
   ]
  },
  {
   "cell_type": "code",
   "execution_count": 9,
   "id": "0f446730",
   "metadata": {},
   "outputs": [
    {
     "name": "stdout",
     "output_type": "stream",
     "text": [
      "['fearful' 'angry' 'sad' 'neutral' 'happy']\n"
     ]
    }
   ],
   "source": [
    "Creama = \"data2/\"\n",
    "creama_directory_list = os.listdir(Creama)\n",
    "\n",
    "file_emotion = []\n",
    "file_path = []\n",
    "for file in glob.glob(f\"{Creama}*\"):\n",
    "    part = file.split('.')[0]\n",
    "    part = part.split('_')\n",
    "    if part[2] not in emotions2.keys():\n",
    "        continue\n",
    "    file_emotion.append(part[2])\n",
    "    file_path.append(file)\n",
    "\n",
    "# dataframe for emotion of files\n",
    "emotion2_df = pd.DataFrame(file_emotion, columns=['Emotions'])\n",
    "\n",
    "# dataframe for path of files\n",
    "path2_df = pd.DataFrame(file_path, columns=['Path'])\n",
    "Creama_df = pd.concat([emotion2_df, path2_df], axis=1)\n",
    "\n",
    "# Mapping integers to corresponding emotions\n",
    "Creama_df = Creama_df.replace({'Emotions': emotions2})\n",
    "print(Creama_df[\"Emotions\"].unique())\n"
   ]
  },
  {
   "cell_type": "code",
   "execution_count": 10,
   "id": "cb984459",
   "metadata": {},
   "outputs": [],
   "source": [
    "# Creating Dataframes\n",
    "Ravdess = \"data/\"\n",
    "ravdess_directory_list = os.listdir(Ravdess)\n",
    "file_emotion = []\n",
    "file_path = []\n",
    "\n",
    "for folder in glob.glob(f\"{Ravdess}Actor_*\"):\n",
    "    # as their are 20 different actors in our previous directory we need to extract files for each actor.\n",
    "    actor = os.listdir(folder)\n",
    "    for file in actor:\n",
    "        part = file.split('.')[0]\n",
    "        part = part.split('-')\n",
    "        # third part in each file represents the emotion associated to that file.\n",
    "        if part[2] not in emotions.keys():\n",
    "            continue\n",
    "        file_emotion.append(int(part[2]))\n",
    "        file_path.append(folder + '/' + file)\n",
    "        \n",
    "# dataframe for emotion of files\n",
    "emotion_df = pd.DataFrame(file_emotion, columns=['Emotions'])\n",
    "\n",
    "\n",
    "# dataframe for path of files\n",
    "path_df = pd.DataFrame(file_path, columns=['Path'])\n",
    "Ravdess_df = pd.concat([emotion_df, path_df], axis=1)\n",
    "\n",
    "# Mapping integers to corresponding emotions\n",
    "Ravdess_df.Emotions.replace({1:'neutral', 3:'happy', 4:'sad', 5:'angry', 6:'fear'}, inplace=True)\n",
    "# ? \"\"\"Ravdess_df.head()\"\"\"\n",
    "\n",
    "data = pd.concat([Creama_df, Ravdess_df], axis=0)\n",
    "\n",
    "X = data[\"Path\"]\n",
    "Y = data[\"Emotions\"]"
   ]
  },
  {
   "cell_type": "code",
   "execution_count": 11,
   "id": "bb1a1a63",
   "metadata": {},
   "outputs": [],
   "source": [
    "X_train, X_test, Y_train, Y_test = train_test_split(X, Y, random_state=0, shuffle=True)"
   ]
  },
  {
   "cell_type": "code",
   "execution_count": 12,
   "id": "0aa2e4be",
   "metadata": {},
   "outputs": [
    {
     "name": "stdout",
     "output_type": "stream",
     "text": [
      "(5276,)\n",
      "(5276,)\n",
      "(1759,)\n",
      "(1759,)\n"
     ]
    }
   ],
   "source": [
    "print(np.shape(X_train))\n",
    "print(np.shape(Y_train))\n",
    "print(np.shape(X_test))\n",
    "print(np.shape(Y_test))"
   ]
  },
  {
   "cell_type": "code",
   "execution_count": 13,
   "id": "d8323543",
   "metadata": {
    "scrolled": false
   },
   "outputs": [
    {
     "name": "stderr",
     "output_type": "stream",
     "text": [
      "/home/codespace/.python/current/lib/python3.10/site-packages/librosa/core/pitch.py:102: UserWarning: Trying to estimate tuning from empty frequency set.\n",
      "  return pitch_tuning(\n"
     ]
    }
   ],
   "source": [
    "X, Y = [], []\n",
    "for path, emotion in zip(X_train, Y_train):\n",
    "    feature = get_features(path, True)\n",
    "    for ele in feature:\n",
    "        X.append(ele)\n",
    "        # appending emotion 4 times as we have applied 4 augmentation techniques on each audio file\n",
    "        Y.append(emotion)\n",
    "x_train = X\n",
    "y_train = Y"
   ]
  },
  {
   "cell_type": "code",
   "execution_count": 14,
   "id": "904d3001",
   "metadata": {},
   "outputs": [
    {
     "data": {
      "text/html": [
       "<div>\n",
       "<style scoped>\n",
       "    .dataframe tbody tr th:only-of-type {\n",
       "        vertical-align: middle;\n",
       "    }\n",
       "\n",
       "    .dataframe tbody tr th {\n",
       "        vertical-align: top;\n",
       "    }\n",
       "\n",
       "    .dataframe thead th {\n",
       "        text-align: right;\n",
       "    }\n",
       "</style>\n",
       "<table border=\"1\" class=\"dataframe\">\n",
       "  <thead>\n",
       "    <tr style=\"text-align: right;\">\n",
       "      <th></th>\n",
       "      <th>0</th>\n",
       "      <th>1</th>\n",
       "      <th>2</th>\n",
       "      <th>3</th>\n",
       "      <th>4</th>\n",
       "      <th>5</th>\n",
       "      <th>6</th>\n",
       "      <th>7</th>\n",
       "      <th>8</th>\n",
       "      <th>9</th>\n",
       "      <th>...</th>\n",
       "      <th>153</th>\n",
       "      <th>154</th>\n",
       "      <th>155</th>\n",
       "      <th>156</th>\n",
       "      <th>157</th>\n",
       "      <th>158</th>\n",
       "      <th>159</th>\n",
       "      <th>160</th>\n",
       "      <th>161</th>\n",
       "      <th>labels</th>\n",
       "    </tr>\n",
       "  </thead>\n",
       "  <tbody>\n",
       "    <tr>\n",
       "      <th>0</th>\n",
       "      <td>0.132812</td>\n",
       "      <td>0.786461</td>\n",
       "      <td>0.788402</td>\n",
       "      <td>0.502173</td>\n",
       "      <td>0.456299</td>\n",
       "      <td>0.488599</td>\n",
       "      <td>0.458573</td>\n",
       "      <td>0.497425</td>\n",
       "      <td>0.589869</td>\n",
       "      <td>0.639345</td>\n",
       "      <td>...</td>\n",
       "      <td>0.106477</td>\n",
       "      <td>0.037218</td>\n",
       "      <td>0.030323</td>\n",
       "      <td>0.022959</td>\n",
       "      <td>0.034632</td>\n",
       "      <td>0.018931</td>\n",
       "      <td>0.007288</td>\n",
       "      <td>0.001811</td>\n",
       "      <td>0.000043</td>\n",
       "      <td>angry</td>\n",
       "    </tr>\n",
       "    <tr>\n",
       "      <th>1</th>\n",
       "      <td>0.197499</td>\n",
       "      <td>0.794354</td>\n",
       "      <td>0.684380</td>\n",
       "      <td>0.456011</td>\n",
       "      <td>0.470637</td>\n",
       "      <td>0.497837</td>\n",
       "      <td>0.486151</td>\n",
       "      <td>0.527306</td>\n",
       "      <td>0.641404</td>\n",
       "      <td>0.627995</td>\n",
       "      <td>...</td>\n",
       "      <td>0.105259</td>\n",
       "      <td>0.037137</td>\n",
       "      <td>0.030578</td>\n",
       "      <td>0.023704</td>\n",
       "      <td>0.035130</td>\n",
       "      <td>0.019389</td>\n",
       "      <td>0.007926</td>\n",
       "      <td>0.002445</td>\n",
       "      <td>0.000779</td>\n",
       "      <td>angry</td>\n",
       "    </tr>\n",
       "    <tr>\n",
       "      <th>2</th>\n",
       "      <td>0.155408</td>\n",
       "      <td>0.906215</td>\n",
       "      <td>0.619200</td>\n",
       "      <td>0.418835</td>\n",
       "      <td>0.486907</td>\n",
       "      <td>0.462776</td>\n",
       "      <td>0.463361</td>\n",
       "      <td>0.517800</td>\n",
       "      <td>0.655547</td>\n",
       "      <td>0.588477</td>\n",
       "      <td>...</td>\n",
       "      <td>0.066172</td>\n",
       "      <td>0.022858</td>\n",
       "      <td>0.017371</td>\n",
       "      <td>0.012629</td>\n",
       "      <td>0.020867</td>\n",
       "      <td>0.012879</td>\n",
       "      <td>0.005110</td>\n",
       "      <td>0.001129</td>\n",
       "      <td>0.000024</td>\n",
       "      <td>angry</td>\n",
       "    </tr>\n",
       "    <tr>\n",
       "      <th>3</th>\n",
       "      <td>0.161833</td>\n",
       "      <td>0.527145</td>\n",
       "      <td>0.869874</td>\n",
       "      <td>0.795607</td>\n",
       "      <td>0.476046</td>\n",
       "      <td>0.447058</td>\n",
       "      <td>0.478203</td>\n",
       "      <td>0.410140</td>\n",
       "      <td>0.459286</td>\n",
       "      <td>0.580427</td>\n",
       "      <td>...</td>\n",
       "      <td>0.083353</td>\n",
       "      <td>0.028837</td>\n",
       "      <td>0.070650</td>\n",
       "      <td>0.033715</td>\n",
       "      <td>0.023035</td>\n",
       "      <td>0.016411</td>\n",
       "      <td>0.013157</td>\n",
       "      <td>0.004276</td>\n",
       "      <td>0.000025</td>\n",
       "      <td>angry</td>\n",
       "    </tr>\n",
       "    <tr>\n",
       "      <th>4</th>\n",
       "      <td>0.123682</td>\n",
       "      <td>0.609155</td>\n",
       "      <td>0.439890</td>\n",
       "      <td>0.468290</td>\n",
       "      <td>0.535586</td>\n",
       "      <td>0.620048</td>\n",
       "      <td>0.572363</td>\n",
       "      <td>0.580419</td>\n",
       "      <td>0.533955</td>\n",
       "      <td>0.571267</td>\n",
       "      <td>...</td>\n",
       "      <td>0.033259</td>\n",
       "      <td>0.025641</td>\n",
       "      <td>0.091899</td>\n",
       "      <td>0.020896</td>\n",
       "      <td>0.011710</td>\n",
       "      <td>0.024206</td>\n",
       "      <td>0.016897</td>\n",
       "      <td>0.003146</td>\n",
       "      <td>0.000130</td>\n",
       "      <td>angry</td>\n",
       "    </tr>\n",
       "  </tbody>\n",
       "</table>\n",
       "<p>5 rows × 163 columns</p>\n",
       "</div>"
      ],
      "text/plain": [
       "          0         1         2         3         4         5         6  \\\n",
       "0  0.132812  0.786461  0.788402  0.502173  0.456299  0.488599  0.458573   \n",
       "1  0.197499  0.794354  0.684380  0.456011  0.470637  0.497837  0.486151   \n",
       "2  0.155408  0.906215  0.619200  0.418835  0.486907  0.462776  0.463361   \n",
       "3  0.161833  0.527145  0.869874  0.795607  0.476046  0.447058  0.478203   \n",
       "4  0.123682  0.609155  0.439890  0.468290  0.535586  0.620048  0.572363   \n",
       "\n",
       "          7         8         9  ...       153       154       155       156  \\\n",
       "0  0.497425  0.589869  0.639345  ...  0.106477  0.037218  0.030323  0.022959   \n",
       "1  0.527306  0.641404  0.627995  ...  0.105259  0.037137  0.030578  0.023704   \n",
       "2  0.517800  0.655547  0.588477  ...  0.066172  0.022858  0.017371  0.012629   \n",
       "3  0.410140  0.459286  0.580427  ...  0.083353  0.028837  0.070650  0.033715   \n",
       "4  0.580419  0.533955  0.571267  ...  0.033259  0.025641  0.091899  0.020896   \n",
       "\n",
       "        157       158       159       160       161  labels  \n",
       "0  0.034632  0.018931  0.007288  0.001811  0.000043   angry  \n",
       "1  0.035130  0.019389  0.007926  0.002445  0.000779   angry  \n",
       "2  0.020867  0.012879  0.005110  0.001129  0.000024   angry  \n",
       "3  0.023035  0.016411  0.013157  0.004276  0.000025   angry  \n",
       "4  0.011710  0.024206  0.016897  0.003146  0.000130   angry  \n",
       "\n",
       "[5 rows x 163 columns]"
      ]
     },
     "execution_count": 14,
     "metadata": {},
     "output_type": "execute_result"
    }
   ],
   "source": [
    "# Saving features in a csv file to avoid redundant feature extraction\n",
    "Features = pd.DataFrame(x_train)\n",
    "Features['labels'] = y_train\n",
    "Features.to_csv('features.csv', index=False)\n",
    "Features.head()"
   ]
  },
  {
   "cell_type": "code",
   "execution_count": 15,
   "id": "c6be64a2",
   "metadata": {},
   "outputs": [
    {
     "name": "stdout",
     "output_type": "stream",
     "text": [
      "['angry' 'angry' 'angry' ... 'fearful' 'fearful' 'fearful']\n"
     ]
    }
   ],
   "source": [
    "x_train = Features.iloc[: ,:-1].values\n",
    "y_train = Features['labels'].values\n",
    "print(y_train)"
   ]
  },
  {
   "cell_type": "code",
   "execution_count": 16,
   "id": "c7cee47f",
   "metadata": {},
   "outputs": [
    {
     "name": "stdout",
     "output_type": "stream",
     "text": [
      "[[1. 0. 0. 0. 0. 0.]\n",
      " [1. 0. 0. 0. 0. 0.]\n",
      " [1. 0. 0. 0. 0. 0.]\n",
      " ...\n",
      " [0. 0. 1. 0. 0. 0.]\n",
      " [0. 0. 1. 0. 0. 0.]\n",
      " [0. 0. 1. 0. 0. 0.]]\n"
     ]
    }
   ],
   "source": [
    "encoder = sklearn.preprocessing.OneHotEncoder()\n",
    "y_train = encoder.fit_transform(np.array(y_train).reshape(-1,1)).toarray()\n",
    "print(y_train)"
   ]
  },
  {
   "cell_type": "code",
   "execution_count": 17,
   "id": "e59ad66f",
   "metadata": {},
   "outputs": [
    {
     "name": "stdout",
     "output_type": "stream",
     "text": [
      "(1759, 162)\n",
      "(1759,)\n"
     ]
    }
   ],
   "source": [
    "X, Y = [], []\n",
    "for path, emotion in zip(X_test, Y_test):\n",
    "    feature = get_features(path, False)   \n",
    "    X.append(feature)\n",
    "    Y.append(emotion)\n",
    "\n",
    "print(np.shape(X))\n",
    "print(np.shape(Y))\n",
    "x_test = np.array(X)\n",
    "y_test = np.array(Y)\n"
   ]
  },
  {
   "cell_type": "code",
   "execution_count": 18,
   "id": "bf54dc00",
   "metadata": {},
   "outputs": [
    {
     "data": {
      "text/plain": [
       "4003      happy\n",
       "474         sad\n",
       "3927        sad\n",
       "4694    fearful\n",
       "1237    fearful\n",
       "Name: Emotions, dtype: object"
      ]
     },
     "execution_count": 18,
     "metadata": {},
     "output_type": "execute_result"
    }
   ],
   "source": [
    "Y_test.head(5)"
   ]
  },
  {
   "cell_type": "code",
   "execution_count": 19,
   "id": "6ae3a53f",
   "metadata": {},
   "outputs": [
    {
     "data": {
      "text/plain": [
       "4003                 data2/1048_IEO_HAP_MD.wav\n",
       "474     data/Actor_09/03-01-04-02-01-02-09.wav\n",
       "3927                 data2/1038_TSI_SAD_XX.wav\n",
       "4694                 data2/1024_TIE_FEA_XX.wav\n",
       "1237                 data2/1044_TSI_FEA_XX.wav\n",
       "Name: Path, dtype: object"
      ]
     },
     "execution_count": 19,
     "metadata": {},
     "output_type": "execute_result"
    }
   ],
   "source": [
    "X_test.head(5)"
   ]
  },
  {
   "cell_type": "code",
   "execution_count": 20,
   "id": "afb211d8",
   "metadata": {},
   "outputs": [],
   "source": [
    "encoder = sklearn.preprocessing.OneHotEncoder()\n",
    "y_test = encoder.fit_transform(np.array(y_test).reshape(-1,1)).toarray()"
   ]
  },
  {
   "cell_type": "code",
   "execution_count": 21,
   "id": "76164e33",
   "metadata": {},
   "outputs": [
    {
     "data": {
      "text/plain": [
       "((21104, 162), (21104, 6), (1759, 162), (1759, 6))"
      ]
     },
     "execution_count": 21,
     "metadata": {},
     "output_type": "execute_result"
    }
   ],
   "source": [
    "# Normalization\n",
    "scaler = sklearn.preprocessing.StandardScaler()\n",
    "x_train = scaler.fit_transform(x_train)\n",
    "x_test = scaler.transform(x_test)\n",
    "x_train.shape, y_train.shape, x_test.shape, y_test.shape"
   ]
  },
  {
   "cell_type": "code",
   "execution_count": 22,
   "id": "3228786c",
   "metadata": {},
   "outputs": [
    {
     "name": "stdout",
     "output_type": "stream",
     "text": [
      "Accuracy: 0.4019329164297897\n"
     ]
    }
   ],
   "source": [
    "model1=MLPClassifier(alpha=0.01, batch_size=64, epsilon=1e-08, hidden_layer_sizes=(500,), learning_rate='adaptive', max_iter=500)\n",
    "model1.fit(x_train,y_train)\n",
    "score = model1.score(x_test, y_test)\n",
    "print(\"Accuracy:\", score)"
   ]
  },
  {
   "cell_type": "code",
   "execution_count": 23,
   "id": "a1164fe9",
   "metadata": {},
   "outputs": [
    {
     "data": {
      "text/plain": [
       "((21104, 162, 1), (21104, 6), (1759, 162, 1), (1759, 6))"
      ]
     },
     "execution_count": 23,
     "metadata": {},
     "output_type": "execute_result"
    }
   ],
   "source": [
    "# Reshaping train and test data for new model\n",
    "x_train = np.expand_dims(x_train, axis=2)\n",
    "x_test = np.expand_dims(x_test, axis=2)\n",
    "x_train.shape, y_train.shape, x_test.shape, y_test.shape"
   ]
  },
  {
   "cell_type": "markdown",
   "id": "25f7f26a",
   "metadata": {},
   "source": [
    "# old model\n",
    "model=Sequential()\n",
    "model.add(Conv1D(256, kernel_size=5, strides=1, padding='same', activation='relu', input_shape=(x_train.shape[1], 1)))\n",
    "model.add(MaxPooling1D(pool_size=5, strides = 2, padding = 'same'))\n",
    "\n",
    "model.add(Conv1D(256, kernel_size=5, strides=1, padding='same', activation='relu'))\n",
    "model.add(MaxPooling1D(pool_size=5, strides = 2, padding = 'same'))\n",
    "\n",
    "model.add(Conv1D(128, kernel_size=5, strides=1, padding='same', activation='relu'))\n",
    "model.add(MaxPooling1D(pool_size=5, strides = 2, padding = 'same'))\n",
    "model.add(Dropout(0.2))\n",
    "\n",
    "model.add(Conv1D(64, kernel_size=5, strides=1, padding='same', activation='relu'))\n",
    "model.add(MaxPooling1D(pool_size=5, strides = 2, padding = 'same'))\n",
    "\n",
    "model.add(Flatten())\n",
    "model.add(Dense(units=32, activation='relu'))\n",
    "model.add(Dropout(0.3))\n",
    "\n",
    "model.add(Dense(units=8, activation='softmax'))\n",
    "model.compile(optimizer = 'adam' , loss = 'categorical_crossentropy' , metrics = ['accuracy'])\n",
    "\n",
    "model.summary()"
   ]
  },
  {
   "cell_type": "code",
   "execution_count": 24,
   "id": "1860e403",
   "metadata": {},
   "outputs": [
    {
     "name": "stdout",
     "output_type": "stream",
     "text": [
      "Model: \"sequential\"\n",
      "_________________________________________________________________\n",
      " Layer (type)                Output Shape              Param #   \n",
      "=================================================================\n",
      " conv1d (Conv1D)             (None, 162, 256)          2304      \n",
      "                                                                 \n",
      " conv1d_1 (Conv1D)           (None, 162, 256)          524544    \n",
      "                                                                 \n",
      " batch_normalization (BatchN  (None, 162, 256)         1024      \n",
      " ormalization)                                                   \n",
      "                                                                 \n",
      " dropout (Dropout)           (None, 162, 256)          0         \n",
      "                                                                 \n",
      " max_pooling1d (MaxPooling1D  (None, 20, 256)          0         \n",
      " )                                                               \n",
      "                                                                 \n",
      " conv1d_2 (Conv1D)           (None, 20, 128)           262272    \n",
      "                                                                 \n",
      " conv1d_3 (Conv1D)           (None, 20, 128)           131200    \n",
      "                                                                 \n",
      " conv1d_4 (Conv1D)           (None, 20, 128)           131200    \n",
      "                                                                 \n",
      " conv1d_5 (Conv1D)           (None, 20, 128)           131200    \n",
      "                                                                 \n",
      " batch_normalization_1 (Batc  (None, 20, 128)          512       \n",
      " hNormalization)                                                 \n",
      "                                                                 \n",
      " dropout_1 (Dropout)         (None, 20, 128)           0         \n",
      "                                                                 \n",
      " max_pooling1d_1 (MaxPooling  (None, 2, 128)           0         \n",
      " 1D)                                                             \n",
      "                                                                 \n",
      " conv1d_6 (Conv1D)           (None, 2, 64)             65600     \n",
      "                                                                 \n",
      " conv1d_7 (Conv1D)           (None, 2, 64)             32832     \n",
      "                                                                 \n",
      " flatten (Flatten)           (None, 128)               0         \n",
      "                                                                 \n",
      " dropout_2 (Dropout)         (None, 128)               0         \n",
      "                                                                 \n",
      " dense (Dense)               (None, 6)                 774       \n",
      "                                                                 \n",
      "=================================================================\n",
      "Total params: 1,283,462\n",
      "Trainable params: 1,282,694\n",
      "Non-trainable params: 768\n",
      "_________________________________________________________________\n"
     ]
    }
   ],
   "source": [
    "model = Sequential()\n",
    "model.add(Conv1D(32, 8, padding='same',activation='relu', input_shape=(x_train.shape[1],1)))  # X_train.shape[1] = No. of Columns\n",
    "# model.add(Conv1D(32, 8, padding='same', activation='relu'))\n",
    "model.add(Conv1D(64, 8, padding='same', activation='relu'))\n",
    "model.add(Conv1D(64, 8, padding='same', activation='relu'))\n",
    "model.add(BatchNormalization())\n",
    "model.add(Dropout(0.25))\n",
    "model.add(MaxPooling1D(pool_size=(8)))\n",
    "model.add(Conv1D(128, 8, padding='same', activation='relu'))\n",
    "model.add(Conv1D(128, 8, padding='same',activation='relu'))\n",
    "# model.add(Conv1D(128, 8, padding='same',activation='relu'))\n",
    "# model.add(Conv1D(128, 8, padding='same',activation='relu'))\n",
    "model.add(BatchNormalization())\n",
    "model.add(Dropout(0.45))\n",
    "model.add(MaxPooling1D(pool_size=(8)))\n",
    "model.add(Conv1D(128, 8, padding='same',activation='relu'))\n",
    "# model.add(Conv1D(256, 8, padding='same',activation='relu'))\n",
    "model.add(Conv1D(256, 8, padding='same',activation='relu'))\n",
    "model.add(Flatten())\n",
    "model.add(Dense(y_train.shape[1],activation='softmax')) # Target class number\n",
    "model.compile(optimizer = 'adam' , loss = 'categorical_crossentropy' , metrics = ['accuracy'])\n",
    "model.summary()\n",
    "# model = Sequential()\n",
    "# model.add(Conv1D(256, 8, padding='same',activation='relu', input_shape=(x_train.shape[1],1)))  # X_train.shape[1] = No. of Columns\n",
    "# model.add(Conv1D(256, 8, padding='same', activation='relu'))\n",
    "# model.add(BatchNormalization())\n",
    "# model.add(Dropout(0.25))\n",
    "# model.add(MaxPooling1D(pool_size=(8)))\n",
    "# model.add(Conv1D(128, 8, padding='same', activation='relu'))\n",
    "# model.add(Conv1D(128, 8, padding='same',activation='relu'))\n",
    "# model.add(Conv1D(128, 8, padding='same',activation='relu'))\n",
    "# model.add(Conv1D(128, 8, padding='same',activation='relu'))\n",
    "# model.add(BatchNormalization())\n",
    "# model.add(Dropout(0.25))\n",
    "# model.add(MaxPooling1D(pool_size=(8)))\n",
    "# model.add(Conv1D(64, 8, padding='same',activation='relu'))\n",
    "# model.add(Conv1D(64, 8, padding='same',activation='relu'))\n",
    "# model.add(Flatten())\n",
    "# model.add(Dense(y_train.shape[1],activation='softmax')) # Target class number\n",
    "# model.compile(optimizer = 'adam' , loss = 'categorical_crossentropy' , metrics = ['accuracy'])\n",
    "# model.summary()"
   ]
  },
  {
   "cell_type": "code",
   "execution_count": 25,
   "id": "11e1a441",
   "metadata": {
    "scrolled": false
   },
   "outputs": [
    {
     "name": "stdout",
     "output_type": "stream",
     "text": [
      "Epoch 1/70\n",
      " 15/330 [>.............................] - ETA: 2:13 - loss: 1.7166 - accuracy: 0.2750"
     ]
    },
    {
     "name": "stdout",
     "output_type": "stream",
     "text": [
      "330/330 [==============================] - 120s 351ms/step - loss: 1.4479 - accuracy: 0.3927 - val_loss: 2.6954 - val_accuracy: 0.2973 - lr: 0.0010\n",
      "Epoch 2/70\n",
      "330/330 [==============================] - 113s 344ms/step - loss: 1.3004 - accuracy: 0.4423 - val_loss: 1.5524 - val_accuracy: 0.4213 - lr: 0.0010\n",
      "Epoch 3/70\n",
      "330/330 [==============================] - 107s 324ms/step - loss: 1.2319 - accuracy: 0.4748 - val_loss: 1.3132 - val_accuracy: 0.4861 - lr: 0.0010\n",
      "Epoch 4/70\n",
      "330/330 [==============================] - 105s 318ms/step - loss: 1.1725 - accuracy: 0.5081 - val_loss: 1.1905 - val_accuracy: 0.4901 - lr: 0.0010\n",
      "Epoch 5/70\n",
      "330/330 [==============================] - 106s 320ms/step - loss: 1.1218 - accuracy: 0.5313 - val_loss: 1.2475 - val_accuracy: 0.4798 - lr: 0.0010\n",
      "Epoch 6/70\n",
      "330/330 [==============================] - 107s 322ms/step - loss: 1.0739 - accuracy: 0.5584 - val_loss: 1.1657 - val_accuracy: 0.5099 - lr: 0.0010\n",
      "Epoch 7/70\n",
      "330/330 [==============================] - 105s 317ms/step - loss: 1.0206 - accuracy: 0.5774 - val_loss: 1.1651 - val_accuracy: 0.5361 - lr: 0.0010\n",
      "Epoch 8/70\n",
      "330/330 [==============================] - 105s 317ms/step - loss: 0.9600 - accuracy: 0.6057 - val_loss: 1.2710 - val_accuracy: 0.4821 - lr: 0.0010\n",
      "Epoch 9/70\n",
      "330/330 [==============================] - 106s 320ms/step - loss: 0.9050 - accuracy: 0.6303 - val_loss: 1.3087 - val_accuracy: 0.5151 - lr: 0.0010\n",
      "Epoch 10/70\n",
      "330/330 [==============================] - 107s 324ms/step - loss: 0.8542 - accuracy: 0.6539 - val_loss: 1.4211 - val_accuracy: 0.5105 - lr: 0.0010\n",
      "Epoch 11/70\n",
      "330/330 [==============================] - 105s 319ms/step - loss: 0.7783 - accuracy: 0.6860 - val_loss: 1.3869 - val_accuracy: 0.5145 - lr: 0.0010\n",
      "Epoch 12/70\n",
      "330/330 [==============================] - 105s 320ms/step - loss: 0.7251 - accuracy: 0.7135 - val_loss: 1.6143 - val_accuracy: 0.5082 - lr: 0.0010\n",
      "Epoch 13/70\n",
      "330/330 [==============================] - 106s 321ms/step - loss: 0.6598 - accuracy: 0.7422 - val_loss: 1.4594 - val_accuracy: 0.5418 - lr: 0.0010\n",
      "Epoch 14/70\n",
      "330/330 [==============================] - 106s 322ms/step - loss: 0.5972 - accuracy: 0.7710 - val_loss: 1.6849 - val_accuracy: 0.5094 - lr: 0.0010\n",
      "Epoch 15/70\n",
      "330/330 [==============================] - 104s 317ms/step - loss: 0.5424 - accuracy: 0.7963 - val_loss: 1.6121 - val_accuracy: 0.5327 - lr: 0.0010\n",
      "Epoch 16/70\n",
      "330/330 [==============================] - 104s 316ms/step - loss: 0.4891 - accuracy: 0.8170 - val_loss: 2.0595 - val_accuracy: 0.4912 - lr: 0.0010\n",
      "Epoch 17/70\n",
      "330/330 [==============================] - 104s 315ms/step - loss: 0.4405 - accuracy: 0.8376 - val_loss: 1.7179 - val_accuracy: 0.5401 - lr: 0.0010\n",
      "Epoch 18/70\n",
      "330/330 [==============================] - 104s 315ms/step - loss: 0.4017 - accuracy: 0.8517 - val_loss: 2.0501 - val_accuracy: 0.5435 - lr: 0.0010\n",
      "Epoch 19/70\n",
      "330/330 [==============================] - 104s 314ms/step - loss: 0.3455 - accuracy: 0.8766 - val_loss: 2.3709 - val_accuracy: 0.4986 - lr: 0.0010\n",
      "Epoch 20/70\n",
      "330/330 [==============================] - 105s 319ms/step - loss: 0.3378 - accuracy: 0.8771 - val_loss: 2.0308 - val_accuracy: 0.5361 - lr: 0.0010\n",
      "Epoch 21/70\n",
      "330/330 [==============================] - 105s 317ms/step - loss: 0.2926 - accuracy: 0.8937 - val_loss: 2.3703 - val_accuracy: 0.5401 - lr: 0.0010\n",
      "Epoch 22/70\n",
      "330/330 [==============================] - 103s 311ms/step - loss: 0.2846 - accuracy: 0.9001 - val_loss: 2.1682 - val_accuracy: 0.5230 - lr: 0.0010\n",
      "Epoch 23/70\n",
      "330/330 [==============================] - 103s 313ms/step - loss: 0.2537 - accuracy: 0.9070 - val_loss: 2.3745 - val_accuracy: 0.5259 - lr: 0.0010\n",
      "Epoch 24/70\n",
      "330/330 [==============================] - 102s 311ms/step - loss: 0.2378 - accuracy: 0.9143 - val_loss: 2.6519 - val_accuracy: 0.5173 - lr: 0.0010\n",
      "Epoch 25/70\n",
      "330/330 [==============================] - 104s 316ms/step - loss: 0.2231 - accuracy: 0.9218 - val_loss: 2.6151 - val_accuracy: 0.5361 - lr: 0.0010\n",
      "Epoch 26/70\n",
      "330/330 [==============================] - 103s 313ms/step - loss: 0.1971 - accuracy: 0.9323 - val_loss: 2.8041 - val_accuracy: 0.5145 - lr: 0.0010\n",
      "Epoch 27/70\n",
      "330/330 [==============================] - 103s 311ms/step - loss: 0.1924 - accuracy: 0.9324 - val_loss: 2.8103 - val_accuracy: 0.5264 - lr: 0.0010\n",
      "Epoch 28/70\n",
      "330/330 [==============================] - 103s 313ms/step - loss: 0.1857 - accuracy: 0.9372 - val_loss: 2.6885 - val_accuracy: 0.5168 - lr: 0.0010\n",
      "Epoch 29/70\n",
      "330/330 [==============================] - 105s 318ms/step - loss: 0.1688 - accuracy: 0.9414 - val_loss: 2.8245 - val_accuracy: 0.5196 - lr: 0.0010\n",
      "Epoch 30/70\n",
      "330/330 [==============================] - 117s 356ms/step - loss: 0.1610 - accuracy: 0.9446 - val_loss: 2.9253 - val_accuracy: 0.5173 - lr: 0.0010\n",
      "Epoch 31/70\n",
      "330/330 [==============================] - 109s 329ms/step - loss: 0.1441 - accuracy: 0.9517 - val_loss: 2.9921 - val_accuracy: 0.5401 - lr: 0.0010\n",
      "Epoch 32/70\n",
      "330/330 [==============================] - 106s 321ms/step - loss: 0.1478 - accuracy: 0.9489 - val_loss: 2.9693 - val_accuracy: 0.5378 - lr: 0.0010\n",
      "Epoch 33/70\n",
      "330/330 [==============================] - 108s 326ms/step - loss: 0.1389 - accuracy: 0.9523 - val_loss: 2.6756 - val_accuracy: 0.5372 - lr: 0.0010\n",
      "Epoch 34/70\n",
      "330/330 [==============================] - 109s 330ms/step - loss: 0.1303 - accuracy: 0.9554 - val_loss: 3.1514 - val_accuracy: 0.5446 - lr: 0.0010\n",
      "Epoch 35/70\n",
      "330/330 [==============================] - 115s 347ms/step - loss: 0.1299 - accuracy: 0.9555 - val_loss: 3.1574 - val_accuracy: 0.5378 - lr: 0.0010\n",
      "Epoch 36/70\n",
      "330/330 [==============================] - 112s 339ms/step - loss: 0.1276 - accuracy: 0.9579 - val_loss: 3.3876 - val_accuracy: 0.5338 - lr: 0.0010\n",
      "Epoch 37/70\n",
      "330/330 [==============================] - 112s 339ms/step - loss: 0.1228 - accuracy: 0.9600 - val_loss: 2.8330 - val_accuracy: 0.5435 - lr: 0.0010\n",
      "Epoch 38/70\n",
      "330/330 [==============================] - 127s 384ms/step - loss: 0.1215 - accuracy: 0.9570 - val_loss: 3.2280 - val_accuracy: 0.5270 - lr: 0.0010\n",
      "Epoch 39/70\n",
      "330/330 [==============================] - 135s 409ms/step - loss: 0.1116 - accuracy: 0.9621 - val_loss: 3.1479 - val_accuracy: 0.5287 - lr: 0.0010\n",
      "Epoch 40/70\n",
      "330/330 [==============================] - 137s 414ms/step - loss: 0.1082 - accuracy: 0.9638 - val_loss: 3.2272 - val_accuracy: 0.5270 - lr: 0.0010\n",
      "Epoch 41/70\n",
      "330/330 [==============================] - 135s 409ms/step - loss: 0.1007 - accuracy: 0.9672 - val_loss: 3.5073 - val_accuracy: 0.5304 - lr: 0.0010\n",
      "Epoch 42/70\n",
      "330/330 [==============================] - 129s 392ms/step - loss: 0.0946 - accuracy: 0.9681 - val_loss: 3.7487 - val_accuracy: 0.5253 - lr: 0.0010\n",
      "Epoch 43/70\n",
      "330/330 [==============================] - 121s 367ms/step - loss: 0.1056 - accuracy: 0.9648 - val_loss: 3.4490 - val_accuracy: 0.5202 - lr: 0.0010\n",
      "Epoch 44/70\n",
      "330/330 [==============================] - 133s 403ms/step - loss: 0.1017 - accuracy: 0.9665 - val_loss: 3.3912 - val_accuracy: 0.5270 - lr: 0.0010\n",
      "Epoch 45/70\n",
      "330/330 [==============================] - 138s 418ms/step - loss: 0.0543 - accuracy: 0.9820 - val_loss: 3.8526 - val_accuracy: 0.5253 - lr: 4.0000e-04\n",
      "Epoch 46/70\n",
      "330/330 [==============================] - 109s 331ms/step - loss: 0.0358 - accuracy: 0.9879 - val_loss: 4.1613 - val_accuracy: 0.5293 - lr: 4.0000e-04\n",
      "Epoch 47/70\n",
      "330/330 [==============================] - 106s 322ms/step - loss: 0.0330 - accuracy: 0.9885 - val_loss: 4.2316 - val_accuracy: 0.5378 - lr: 4.0000e-04\n",
      "Epoch 48/70\n",
      "330/330 [==============================] - 129s 390ms/step - loss: 0.0316 - accuracy: 0.9895 - val_loss: 4.4981 - val_accuracy: 0.5406 - lr: 4.0000e-04\n",
      "Epoch 49/70\n",
      "330/330 [==============================] - 138s 417ms/step - loss: 0.0299 - accuracy: 0.9898 - val_loss: 4.5529 - val_accuracy: 0.5264 - lr: 4.0000e-04\n",
      "Epoch 50/70\n",
      "330/330 [==============================] - 121s 367ms/step - loss: 0.0278 - accuracy: 0.9907 - val_loss: 4.7670 - val_accuracy: 0.5270 - lr: 4.0000e-04\n",
      "Epoch 51/70\n",
      "330/330 [==============================] - 107s 325ms/step - loss: 0.0327 - accuracy: 0.9896 - val_loss: 4.6879 - val_accuracy: 0.5327 - lr: 4.0000e-04\n",
      "Epoch 52/70\n",
      "330/330 [==============================] - 106s 321ms/step - loss: 0.0280 - accuracy: 0.9907 - val_loss: 4.6984 - val_accuracy: 0.5310 - lr: 4.0000e-04\n",
      "Epoch 53/70\n",
      "330/330 [==============================] - 135s 408ms/step - loss: 0.0229 - accuracy: 0.9934 - val_loss: 4.7459 - val_accuracy: 0.5293 - lr: 1.6000e-04\n",
      "Epoch 54/70\n",
      "330/330 [==============================] - 135s 411ms/step - loss: 0.0191 - accuracy: 0.9942 - val_loss: 4.7501 - val_accuracy: 0.5270 - lr: 1.6000e-04\n",
      "Epoch 55/70\n",
      "330/330 [==============================] - 134s 407ms/step - loss: 0.0136 - accuracy: 0.9957 - val_loss: 4.9405 - val_accuracy: 0.5281 - lr: 1.6000e-04\n",
      "Epoch 56/70\n",
      "330/330 [==============================] - 134s 407ms/step - loss: 0.0157 - accuracy: 0.9943 - val_loss: 5.0101 - val_accuracy: 0.5276 - lr: 1.6000e-04\n",
      "Epoch 57/70\n",
      "330/330 [==============================] - 119s 361ms/step - loss: 0.0117 - accuracy: 0.9967 - val_loss: 5.1746 - val_accuracy: 0.5327 - lr: 1.6000e-04\n",
      "Epoch 58/70\n",
      "330/330 [==============================] - 120s 363ms/step - loss: 0.0117 - accuracy: 0.9959 - val_loss: 5.4668 - val_accuracy: 0.5344 - lr: 1.6000e-04\n",
      "Epoch 59/70\n",
      "330/330 [==============================] - 129s 392ms/step - loss: 0.0124 - accuracy: 0.9961 - val_loss: 5.2928 - val_accuracy: 0.5321 - lr: 1.6000e-04\n",
      "Epoch 60/70\n",
      "330/330 [==============================] - 116s 352ms/step - loss: 0.0110 - accuracy: 0.9969 - val_loss: 5.3566 - val_accuracy: 0.5350 - lr: 6.4000e-05\n",
      "Epoch 61/70\n",
      "330/330 [==============================] - 139s 421ms/step - loss: 0.0088 - accuracy: 0.9971 - val_loss: 5.4791 - val_accuracy: 0.5372 - lr: 6.4000e-05\n",
      "Epoch 62/70\n",
      "330/330 [==============================] - 123s 374ms/step - loss: 0.0082 - accuracy: 0.9974 - val_loss: 5.4668 - val_accuracy: 0.5350 - lr: 6.4000e-05\n",
      "Epoch 63/70\n",
      "330/330 [==============================] - 109s 329ms/step - loss: 0.0115 - accuracy: 0.9965 - val_loss: 5.3928 - val_accuracy: 0.5372 - lr: 6.4000e-05\n",
      "Epoch 64/70\n",
      "330/330 [==============================] - 108s 326ms/step - loss: 0.0104 - accuracy: 0.9968 - val_loss: 5.3873 - val_accuracy: 0.5424 - lr: 6.4000e-05\n",
      "Epoch 65/70\n",
      "330/330 [==============================] - 107s 323ms/step - loss: 0.0079 - accuracy: 0.9973 - val_loss: 5.4414 - val_accuracy: 0.5350 - lr: 2.5600e-05\n",
      "Epoch 66/70\n",
      "330/330 [==============================] - 110s 333ms/step - loss: 0.0075 - accuracy: 0.9974 - val_loss: 5.4755 - val_accuracy: 0.5350 - lr: 2.5600e-05\n",
      "Epoch 67/70\n",
      "330/330 [==============================] - 108s 327ms/step - loss: 0.0066 - accuracy: 0.9979 - val_loss: 5.5040 - val_accuracy: 0.5384 - lr: 2.5600e-05\n",
      "Epoch 68/70\n",
      "330/330 [==============================] - 121s 367ms/step - loss: 0.0074 - accuracy: 0.9975 - val_loss: 5.5161 - val_accuracy: 0.5412 - lr: 2.5600e-05\n",
      "Epoch 69/70\n",
      "330/330 [==============================] - 136s 412ms/step - loss: 0.0069 - accuracy: 0.9977 - val_loss: 5.5648 - val_accuracy: 0.5361 - lr: 2.5600e-05\n",
      "Epoch 70/70\n",
      "330/330 [==============================] - 137s 414ms/step - loss: 0.0078 - accuracy: 0.9973 - val_loss: 5.5696 - val_accuracy: 0.5372 - lr: 1.0240e-05\n"
     ]
    }
   ],
   "source": [
    "stop = EarlyStopping(monitor='val_loss', mode='min', verbose=1, patience=40)\n",
    "rlrp = ReduceLROnPlateau(monitor='loss', factor=0.4, verbose=0, patience=2, min_lr=0.00001)\n",
    "history=model.fit(x_train, y_train, batch_size=32, epochs=65, validation_data=(x_test, y_test), callbacks=[rlrp])"
   ]
  },
  {
   "cell_type": "code",
   "execution_count": 26,
   "id": "d16bd49e",
   "metadata": {},
   "outputs": [
    {
     "name": "stdout",
     "output_type": "stream",
     "text": [
      " 1/55 [..............................] - ETA: 2s - loss: 3.4870 - accuracy: 0.7188"
     ]
    },
    {
     "name": "stdout",
     "output_type": "stream",
     "text": [
      "55/55 [==============================] - 2s 35ms/step - loss: 5.5696 - accuracy: 0.5372\n",
      "Accuracy of our model on test data :  53.72370481491089 %\n"
     ]
    }
   ],
   "source": [
    "print(\"Accuracy of our model on test data : \" , model.evaluate(x_test, y_test)[1]*100 , \"%\")"
   ]
  },
  {
   "cell_type": "code",
   "execution_count": 27,
   "id": "39c7950c",
   "metadata": {},
   "outputs": [
    {
     "name": "stdout",
     "output_type": "stream",
     "text": [
      "55/55 [==============================] - 2s 32ms/step\n"
     ]
    },
    {
     "data": {
      "text/html": [
       "<div>\n",
       "<style scoped>\n",
       "    .dataframe tbody tr th:only-of-type {\n",
       "        vertical-align: middle;\n",
       "    }\n",
       "\n",
       "    .dataframe tbody tr th {\n",
       "        vertical-align: top;\n",
       "    }\n",
       "\n",
       "    .dataframe thead th {\n",
       "        text-align: right;\n",
       "    }\n",
       "</style>\n",
       "<table border=\"1\" class=\"dataframe\">\n",
       "  <thead>\n",
       "    <tr style=\"text-align: right;\">\n",
       "      <th></th>\n",
       "      <th>Predicted Labels</th>\n",
       "      <th>Actual Labels</th>\n",
       "    </tr>\n",
       "  </thead>\n",
       "  <tbody>\n",
       "    <tr>\n",
       "      <th>0</th>\n",
       "      <td>fearful</td>\n",
       "      <td>happy</td>\n",
       "    </tr>\n",
       "    <tr>\n",
       "      <th>1</th>\n",
       "      <td>sad</td>\n",
       "      <td>sad</td>\n",
       "    </tr>\n",
       "    <tr>\n",
       "      <th>2</th>\n",
       "      <td>sad</td>\n",
       "      <td>sad</td>\n",
       "    </tr>\n",
       "    <tr>\n",
       "      <th>3</th>\n",
       "      <td>happy</td>\n",
       "      <td>fearful</td>\n",
       "    </tr>\n",
       "    <tr>\n",
       "      <th>4</th>\n",
       "      <td>angry</td>\n",
       "      <td>fearful</td>\n",
       "    </tr>\n",
       "    <tr>\n",
       "      <th>5</th>\n",
       "      <td>fearful</td>\n",
       "      <td>fearful</td>\n",
       "    </tr>\n",
       "    <tr>\n",
       "      <th>6</th>\n",
       "      <td>neutral</td>\n",
       "      <td>neutral</td>\n",
       "    </tr>\n",
       "    <tr>\n",
       "      <th>7</th>\n",
       "      <td>sad</td>\n",
       "      <td>sad</td>\n",
       "    </tr>\n",
       "    <tr>\n",
       "      <th>8</th>\n",
       "      <td>sad</td>\n",
       "      <td>sad</td>\n",
       "    </tr>\n",
       "    <tr>\n",
       "      <th>9</th>\n",
       "      <td>fearful</td>\n",
       "      <td>angry</td>\n",
       "    </tr>\n",
       "  </tbody>\n",
       "</table>\n",
       "</div>"
      ],
      "text/plain": [
       "  Predicted Labels Actual Labels\n",
       "0          fearful         happy\n",
       "1              sad           sad\n",
       "2              sad           sad\n",
       "3            happy       fearful\n",
       "4            angry       fearful\n",
       "5          fearful       fearful\n",
       "6          neutral       neutral\n",
       "7              sad           sad\n",
       "8              sad           sad\n",
       "9          fearful         angry"
      ]
     },
     "execution_count": 27,
     "metadata": {},
     "output_type": "execute_result"
    }
   ],
   "source": [
    "pred_test = model.predict(x_test)\n",
    "y_pred = encoder.inverse_transform(pred_test)\n",
    "y_test = encoder.inverse_transform(y_test)\n",
    "df = pd.DataFrame(columns=['Predicted Labels', 'Actual Labels'])\n",
    "df['Predicted Labels'] = y_pred.flatten()\n",
    "df['Actual Labels'] = y_test.flatten()\n",
    "df.head(10)\n"
   ]
  },
  {
   "cell_type": "code",
   "execution_count": 28,
   "id": "9eda3f36",
   "metadata": {},
   "outputs": [
    {
     "data": {
      "image/png": "[encoded data removed]",
      "text/plain": [
       "<Figure size 1200x1000 with 2 Axes>"
      ]
     },
     "metadata": {},
     "output_type": "display_data"
    }
   ],
   "source": [
    "cm = sklearn.metrics.confusion_matrix(y_test, y_pred)\n",
    "plt.figure(figsize = (12, 10))\n",
    "cm = pd.DataFrame(cm , index = [i for i in encoder.categories_] , columns = [i for i in encoder.categories_])\n",
    "sns.heatmap(cm, linecolor='white', cmap='Blues', linewidth=1, annot=True, fmt='')\n",
    "plt.title('Confusion Matrix', size=20)\n",
    "plt.xlabel('Predicted Labels', size=14)\n",
    "plt.ylabel('Actual Labels', size=14)\n",
    "plt.show()"
   ]
  },
  {
   "cell_type": "code",
   "execution_count": 29,
   "id": "db78a11c",
   "metadata": {},
   "outputs": [
    {
     "name": "stdout",
     "output_type": "stream",
     "text": [
      "              precision    recall  f1-score   support\n",
      "\n",
      "       angry       0.64      0.65      0.65       352\n",
      "        fear       0.55      0.59      0.57        46\n",
      "     fearful       0.54      0.39      0.45       324\n",
      "       happy       0.44      0.46      0.45       373\n",
      "     neutral       0.51      0.58      0.54       310\n",
      "         sad       0.57      0.60      0.58       354\n",
      "\n",
      "    accuracy                           0.54      1759\n",
      "   macro avg       0.54      0.54      0.54      1759\n",
      "weighted avg       0.54      0.54      0.53      1759\n",
      "\n"
     ]
    }
   ],
   "source": [
    "print(sklearn.metrics.classification_report(y_test, y_pred))"
   ]
  },
  {
   "cell_type": "code",
   "execution_count": 30,
   "id": "68d82401",
   "metadata": {},
   "outputs": [],
   "source": [
    "# pip install tf2onnx"
   ]
  },
  {
   "cell_type": "code",
   "execution_count": 31,
   "id": "219f502c",
   "metadata": {},
   "outputs": [
    {
     "name": "stderr",
     "output_type": "stream",
     "text": [
      "2023-07-25 20:52:10.443695: I tensorflow/core/grappler/devices.cc:66] Number of eligible GPUs (core count >= 8, compute capability >= 0.0): 0\n",
      "2023-07-25 20:52:10.458421: I tensorflow/core/grappler/clusters/single_machine.cc:358] Starting new session\n",
      "2023-07-25 20:52:10.784487: I tensorflow/core/grappler/devices.cc:66] Number of eligible GPUs (core count >= 8, compute capability >= 0.0): 0\n",
      "2023-07-25 20:52:10.784726: I tensorflow/core/grappler/clusters/single_machine.cc:358] Starting new session\n"
     ]
    },
    {
     "data": {
      "text/plain": [
       "'./model.onnx'"
      ]
     },
     "execution_count": 31,
     "metadata": {},
     "output_type": "execute_result"
    }
   ],
   "source": [
    "import tf2onnx\n",
    "import tensorflow as tf\n",
    "\n",
    "onnx_model, _ = tf2onnx.convert.from_keras(model)\n",
    "tf.io.write_graph(onnx_model, '.', 'model.onnx', as_text=False)"
   ]
  },
  {
   "cell_type": "code",
   "execution_count": 32,
   "id": "66abf64b",
   "metadata": {},
   "outputs": [],
   "source": [
    "# Saved the current model to replicate results\n",
    "#dump(model, open('model.pkl', 'wb'))"
   ]
  },
  {
   "cell_type": "code",
   "execution_count": 33,
   "id": "79b75741",
   "metadata": {},
   "outputs": [],
   "source": [
    "from pickle import dump\n",
    "dump(scaler, open('scaler.pkl', 'wb'))"
   ]
  },
  {
   "cell_type": "code",
   "execution_count": 34,
   "id": "f1e44fc5",
   "metadata": {},
   "outputs": [],
   "source": [
    "dump(encoder, open('encoder.pkl', 'wb'))"
   ]
  },
  {
   "cell_type": "code",
   "execution_count": 35,
   "id": "6f9d8209",
   "metadata": {},
   "outputs": [
    {
     "name": "stdout",
     "output_type": "stream",
     "text": [
      "Input node name: conv1d_input\n",
      "Output node name: dense\n"
     ]
    }
   ],
   "source": [
    "input_name = onnx_model.graph.input[0].name\n",
    "output_name = onnx_model.graph.output[0].name\n",
    "\n",
    "print(\"Input node name:\", input_name)\n",
    "print(\"Output node name:\", output_name)"
   ]
  },
  {
   "cell_type": "code",
   "execution_count": null,
   "id": "7e0b9b50",
   "metadata": {},
   "outputs": [],
   "source": []
  }
 ],
 "metadata": {
  "kernelspec": {
   "display_name": "Python 3 (ipykernel)",
   "language": "python",
   "name": "python3"
  },
  "language_info": {
   "codemirror_mode": {
    "name": "ipython",
    "version": 3
   },
   "file_extension": ".py",
   "mimetype": "text/x-python",
   "name": "python",
   "nbconvert_exporter": "python",
   "pygments_lexer": "ipython3",
   "version": "3.10.8"
  }
 },
 "nbformat": 4,
 "nbformat_minor": 5
}
