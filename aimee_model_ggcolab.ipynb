{
  "cells": [
    {
      "cell_type": "code",
      "execution_count": 1,
      "id": "86f6e99d",
      "metadata": {
        "id": "86f6e99d"
      },
      "outputs": [],
      "source": [
        "#pip install --upgrade \"protobuf<=3.20.1\""
      ]
    },
    {
      "cell_type": "code",
      "execution_count": 2,
      "id": "aWUO5f4ZvkEx",
      "metadata": {
        "id": "aWUO5f4ZvkEx"
      },
      "outputs": [],
      "source": [
        "# ! git clone https://github.com/hieuminh65/codespaces-jupyter.git"
      ]
    },
    {
      "cell_type": "code",
      "execution_count": 3,
      "id": "94c67b7a",
      "metadata": {
        "id": "94c67b7a"
      },
      "outputs": [],
      "source": [
        "#necessary imports\n",
        "import librosa\n",
        "import pandas as pd\n",
        "import numpy as np\n",
        "import sklearn\n",
        "from sklearn import preprocessing\n",
        "from sklearn.model_selection import train_test_split\n",
        "from sklearn.neural_network import MLPClassifier\n",
        "from sklearn.metrics import accuracy_score\n",
        "import glob,os\n",
        "import keras\n",
        "from keras.callbacks import ReduceLROnPlateau, EarlyStopping\n",
        "from keras.models import Sequential\n",
        "from keras.layers import Dense, Conv1D, MaxPooling1D, Flatten, Dropout, BatchNormalization\n",
        "# from keras.utils import np_utils\n",
        "from keras.callbacks import ModelCheckpoint\n",
        "import seaborn as sns\n",
        "import matplotlib.pyplot as plt\n",
        "import random"
      ]
    },
    {
      "cell_type": "code",
      "execution_count": 4,
      "id": "e81b1590",
      "metadata": {
        "id": "e81b1590"
      },
      "outputs": [],
      "source": [
        "random.seed(1)"
      ]
    },
    {
      "cell_type": "code",
      "execution_count": 5,
      "id": "24703be9",
      "metadata": {
        "id": "24703be9"
      },
      "outputs": [],
      "source": [
        "# Extracting features from each .wav file\n",
        "def extract_features(data, sample_rate):\n",
        "    # ZCR\n",
        "    result = np.array([])\n",
        "    zcr = np.mean(librosa.feature.zero_crossing_rate(y=data).T, axis=0)\n",
        "    result=np.hstack((result, zcr)) # stacking horizontally\n",
        "\n",
        "    # Chroma_stft\n",
        "    stft = np.abs(librosa.stft(data))\n",
        "    chroma_stft = np.mean(librosa.feature.chroma_stft(S=stft, sr=sample_rate).T, axis=0)\n",
        "    result = np.hstack((result, chroma_stft)) # stacking horizontally\n",
        "\n",
        "    # MFCC\n",
        "    mfcc = np.mean(librosa.feature.mfcc(y=data, sr=sample_rate).T, axis=0)\n",
        "    result = np.hstack((result, mfcc)) # stacking horizontally\n",
        "\n",
        "    # Root Mean Square Value\n",
        "    rms = np.mean(librosa.feature.rms(y=data).T, axis=0)\n",
        "    result = np.hstack((result, rms)) # stacking horizontally\n",
        "\n",
        "    # MelSpectogram\n",
        "    mel = np.mean(librosa.feature.melspectrogram(y=data, sr=sample_rate).T, axis=0)\n",
        "    result = np.hstack((result, mel)) # stacking horizontally\n",
        "\n",
        "    return result"
      ]
    },
    {
      "cell_type": "code",
      "execution_count": 6,
      "id": "df4429c4",
      "metadata": {
        "id": "df4429c4"
      },
      "outputs": [],
      "source": [
        "def noise(data):\n",
        "    noise_amp = 0.035*np.random.uniform()*np.amax(data)\n",
        "    data = data + noise_amp*np.random.normal(size=data.shape[0])\n",
        "    return data\n",
        "\n",
        "def stretch(data, rate=0.8):\n",
        "    return librosa.effects.time_stretch(data, rate = rate)\n",
        "\n",
        "def shift(data):\n",
        "    shift_range = int(np.random.uniform(low=-5, high = 5)*1000)\n",
        "    return np.roll(data, shift_range)\n",
        "\n",
        "def pitch(data, sampling_rate, pitch_factor=0.7):\n",
        "    return librosa.effects.pitch_shift(data, sr = sampling_rate, n_steps = pitch_factor)\n"
      ]
    },
    {
      "cell_type": "code",
      "execution_count": 7,
      "id": "b02f1828",
      "metadata": {
        "id": "b02f1828"
      },
      "outputs": [],
      "source": [
        "#Emotions in the dataset\n",
        "emotions={\n",
        "  '01':'neutral',\n",
        "  #'02':'calm',\n",
        "  '03':'happy',\n",
        "  '04':'sad',\n",
        "  '05':'angry',\n",
        "  '06':'fearful',\n",
        "  #'07':'disgust',\n",
        "  #'08':'surprised'\n",
        "}\n",
        "\n",
        "#Emotions to observe\n",
        "#observed_emotions=['calm', 'happy', 'fearful', 'disgust', 'sad']\n"
      ]
    },
    {
      "cell_type": "code",
      "execution_count": 8,
      "id": "f996d92e",
      "metadata": {
        "id": "f996d92e"
      },
      "outputs": [],
      "source": [
        "emotions2={\n",
        "    'NEU': 'neutral',\n",
        "    'HAP': 'happy',\n",
        "    'SAD': 'sad',\n",
        "    'ANG': 'angry',\n",
        "    'FEA': 'fearful',\n",
        "}"
      ]
    },
    {
      "cell_type": "code",
      "execution_count": 9,
      "id": "0aa4489a",
      "metadata": {
        "id": "0aa4489a"
      },
      "outputs": [],
      "source": [
        "def get_features(path, isTraining):\n",
        "    # duration and offset are used to take care of the no audio in start and the ending of each audio files as seen above.\n",
        "    #data, sample_rate = librosa.load(path, duration=2.5, offset=0.6)\n",
        "    data, sample_rate = librosa.load(path, duration=2, offset=0.6, sr=8025)\n",
        "\n",
        "    # without augmentation\n",
        "    res1 = extract_features(data, sample_rate)\n",
        "    result = np.array(res1)\n",
        "\n",
        "    # Augmenting only training data and skipping augmentation for test data\n",
        "    if isTraining:\n",
        "\n",
        "        # data with noise\n",
        "        noise_data = noise(data)\n",
        "        res2 = extract_features(noise_data, sample_rate)\n",
        "        result = np.vstack((result, res2)) # stacking vertically\n",
        "\n",
        "        # data with stretching\n",
        "        stretched_data = stretch(data)\n",
        "        res3 = extract_features(stretched_data, sample_rate)\n",
        "        result = np.vstack((result, res3)) # stacking vertically\n",
        "\n",
        "        # data with pitch offset\n",
        "        data_pitch = pitch(data, sample_rate)\n",
        "        res4 = extract_features(data_pitch, sample_rate)\n",
        "        result = np.vstack((result, res4)) # stacking vertically\n",
        "\n",
        "    return result"
      ]
    },
    {
      "cell_type": "markdown",
      "id": "a62b0424",
      "metadata": {
        "id": "a62b0424"
      },
      "source": [
        "# New Data\n",
        "## Crema-D dataset"
      ]
    },
    {
      "cell_type": "code",
      "execution_count": 10,
      "id": "0f446730",
      "metadata": {
        "colab": {
          "base_uri": "https://localhost:8080/"
        },
        "id": "0f446730",
        "outputId": "25af7080-fcc4-4cb0-dfd5-8782d2912ae5"
      },
      "outputs": [
        {
          "name": "stdout",
          "output_type": "stream",
          "text": [
            "['happy' 'fearful' 'angry' 'sad' 'neutral']\n"
          ]
        }
      ],
      "source": [
        "Creama = \"/content/codespaces-jupyter/data2/\"\n",
        "creama_directory_list = os.listdir(Creama)\n",
        "\n",
        "file_emotion = []\n",
        "file_path = []\n",
        "for file in glob.glob(f\"{Creama}*\"):\n",
        "    part = file.split('.')[0]\n",
        "    part = part.split('_')\n",
        "    if part[2] not in emotions2.keys():\n",
        "        continue\n",
        "    file_emotion.append(part[2])\n",
        "    file_path.append(file)\n",
        "\n",
        "# dataframe for emotion of files\n",
        "emotion2_df = pd.DataFrame(file_emotion, columns=['Emotions'])\n",
        "\n",
        "# dataframe for path of files\n",
        "path2_df = pd.DataFrame(file_path, columns=['Path'])\n",
        "Creama_df = pd.concat([emotion2_df, path2_df], axis=1)\n",
        "\n",
        "# Mapping integers to corresponding emotions\n",
        "Creama_df = Creama_df.replace({'Emotions': emotions2})\n",
        "print(Creama_df[\"Emotions\"].unique())\n"
      ]
    },
    {
      "cell_type": "code",
      "execution_count": 11,
      "id": "cb984459",
      "metadata": {
        "id": "cb984459"
      },
      "outputs": [],
      "source": [
        "# Creating Dataframes\n",
        "Ravdess = \"/content/codespaces-jupyter/data/\"\n",
        "ravdess_directory_list = os.listdir(Ravdess)\n",
        "file_emotion = []\n",
        "file_path = []\n",
        "\n",
        "for folder in glob.glob(f\"{Ravdess}Actor_*\"):\n",
        "    # as their are 20 different actors in our previous directory we need to extract files for each actor.\n",
        "    actor = os.listdir(folder)\n",
        "    for file in actor:\n",
        "        part = file.split('.')[0]\n",
        "        part = part.split('-')\n",
        "        # third part in each file represents the emotion associated to that file.\n",
        "        if part[2] not in emotions.keys():\n",
        "            continue\n",
        "        file_emotion.append(int(part[2]))\n",
        "        file_path.append(folder + '/' + file)\n",
        "\n",
        "# dataframe for emotion of files\n",
        "emotion_df = pd.DataFrame(file_emotion, columns=['Emotions'])\n",
        "\n",
        "\n",
        "# dataframe for path of files\n",
        "path_df = pd.DataFrame(file_path, columns=['Path'])\n",
        "Ravdess_df = pd.concat([emotion_df, path_df], axis=1)\n",
        "\n",
        "# Mapping integers to corresponding emotions\n",
        "Ravdess_df.Emotions.replace({1:'neutral', 3:'happy', 4:'sad', 5:'angry', 6:'fearful'}, inplace=True)\n",
        "# ? \"\"\"Ravdess_df.head()\"\"\"\n",
        "\n",
        "data = pd.concat([Creama_df, Ravdess_df], axis=0)\n",
        "\n",
        "X = data[\"Path\"]\n",
        "Y = data[\"Emotions\"]"
      ]
    },
    {
      "cell_type": "code",
      "execution_count": 12,
      "id": "bb1a1a63",
      "metadata": {
        "id": "bb1a1a63"
      },
      "outputs": [],
      "source": [
        "X_train, X_test, Y_train, Y_test = train_test_split(X, Y, random_state=0, shuffle=True)"
      ]
    },
    {
      "cell_type": "code",
      "execution_count": null,
      "id": "e7305abd",
      "metadata": {},
      "outputs": [],
      "source": [
        "Y_train.value_counts(), Y_test.value_counts()"
      ]
    },
    {
      "cell_type": "code",
      "execution_count": 13,
      "id": "0aa2e4be",
      "metadata": {
        "colab": {
          "base_uri": "https://localhost:8080/"
        },
        "id": "0aa2e4be",
        "outputId": "c2ad5362-1690-40eb-ae5f-4dfb6219dea7"
      },
      "outputs": [
        {
          "name": "stdout",
          "output_type": "stream",
          "text": [
            "(5276,)\n",
            "(5276,)\n",
            "(1759,)\n",
            "(1759,)\n"
          ]
        }
      ],
      "source": [
        "print(np.shape(X_train))\n",
        "print(np.shape(Y_train))\n",
        "print(np.shape(X_test))\n",
        "print(np.shape(Y_test))"
      ]
    },
    {
      "cell_type": "code",
      "execution_count": 14,
      "id": "d8323543",
      "metadata": {
        "colab": {
          "base_uri": "https://localhost:8080/"
        },
        "id": "d8323543",
        "outputId": "cd1f721a-d994-4c2f-a91f-a4efad1adc8d",
        "scrolled": false
      },
      "outputs": [
        {
          "name": "stderr",
          "output_type": "stream",
          "text": [
            "/usr/local/lib/python3.10/dist-packages/librosa/core/pitch.py:102: UserWarning: Trying to estimate tuning from empty frequency set.\n",
            "  return pitch_tuning(\n"
          ]
        }
      ],
      "source": [
        "X, Y = [], []\n",
        "for path, emotion in zip(X_train, Y_train):\n",
        "    feature = get_features(path, True)\n",
        "    for ele in feature:\n",
        "        X.append(ele)\n",
        "        # appending emotion 4 times as we have applied 4 augmentation techniques on each audio file\n",
        "        Y.append(emotion)\n",
        "x_train = X\n",
        "y_train = Y"
      ]
    },
    {
      "cell_type": "code",
      "execution_count": 15,
      "id": "904d3001",
      "metadata": {
        "colab": {
          "base_uri": "https://localhost:8080/",
          "height": 297
        },
        "id": "904d3001",
        "outputId": "4468fb1e-bd88-4191-dea7-5d48cdf8fbcf"
      },
      "outputs": [
        {
          "data": {
            "text/html": [
              "\n",
              "\n",
              "  <div id=\"df-730f0bbc-b68e-4279-83b9-5f4e0d3a6bc7\">\n",
              "    <div class=\"colab-df-container\">\n",
              "      <div>\n",
              "<style scoped>\n",
              "    .dataframe tbody tr th:only-of-type {\n",
              "        vertical-align: middle;\n",
              "    }\n",
              "\n",
              "    .dataframe tbody tr th {\n",
              "        vertical-align: top;\n",
              "    }\n",
              "\n",
              "    .dataframe thead th {\n",
              "        text-align: right;\n",
              "    }\n",
              "</style>\n",
              "<table border=\"1\" class=\"dataframe\">\n",
              "  <thead>\n",
              "    <tr style=\"text-align: right;\">\n",
              "      <th></th>\n",
              "      <th>0</th>\n",
              "      <th>1</th>\n",
              "      <th>2</th>\n",
              "      <th>3</th>\n",
              "      <th>4</th>\n",
              "      <th>5</th>\n",
              "      <th>6</th>\n",
              "      <th>7</th>\n",
              "      <th>8</th>\n",
              "      <th>9</th>\n",
              "      <th>...</th>\n",
              "      <th>153</th>\n",
              "      <th>154</th>\n",
              "      <th>155</th>\n",
              "      <th>156</th>\n",
              "      <th>157</th>\n",
              "      <th>158</th>\n",
              "      <th>159</th>\n",
              "      <th>160</th>\n",
              "      <th>161</th>\n",
              "      <th>labels</th>\n",
              "    </tr>\n",
              "  </thead>\n",
              "  <tbody>\n",
              "    <tr>\n",
              "      <th>0</th>\n",
              "      <td>0.109337</td>\n",
              "      <td>0.538946</td>\n",
              "      <td>0.559595</td>\n",
              "      <td>0.561073</td>\n",
              "      <td>0.656845</td>\n",
              "      <td>0.753396</td>\n",
              "      <td>0.718244</td>\n",
              "      <td>0.821912</td>\n",
              "      <td>0.757459</td>\n",
              "      <td>0.779076</td>\n",
              "      <td>...</td>\n",
              "      <td>0.010531</td>\n",
              "      <td>0.006776</td>\n",
              "      <td>0.011303</td>\n",
              "      <td>0.016263</td>\n",
              "      <td>0.007811</td>\n",
              "      <td>0.013106</td>\n",
              "      <td>0.005727</td>\n",
              "      <td>0.001438</td>\n",
              "      <td>0.000038</td>\n",
              "      <td>happy</td>\n",
              "    </tr>\n",
              "    <tr>\n",
              "      <th>1</th>\n",
              "      <td>0.211031</td>\n",
              "      <td>0.526032</td>\n",
              "      <td>0.559015</td>\n",
              "      <td>0.564690</td>\n",
              "      <td>0.605275</td>\n",
              "      <td>0.759825</td>\n",
              "      <td>0.735481</td>\n",
              "      <td>0.794664</td>\n",
              "      <td>0.827997</td>\n",
              "      <td>0.767552</td>\n",
              "      <td>...</td>\n",
              "      <td>0.013349</td>\n",
              "      <td>0.010276</td>\n",
              "      <td>0.013998</td>\n",
              "      <td>0.018341</td>\n",
              "      <td>0.010523</td>\n",
              "      <td>0.017073</td>\n",
              "      <td>0.009190</td>\n",
              "      <td>0.004196</td>\n",
              "      <td>0.003037</td>\n",
              "      <td>happy</td>\n",
              "    </tr>\n",
              "    <tr>\n",
              "      <th>2</th>\n",
              "      <td>0.125305</td>\n",
              "      <td>0.468952</td>\n",
              "      <td>0.529941</td>\n",
              "      <td>0.534854</td>\n",
              "      <td>0.570197</td>\n",
              "      <td>0.740940</td>\n",
              "      <td>0.719575</td>\n",
              "      <td>0.775312</td>\n",
              "      <td>0.788141</td>\n",
              "      <td>0.757632</td>\n",
              "      <td>...</td>\n",
              "      <td>0.005620</td>\n",
              "      <td>0.002977</td>\n",
              "      <td>0.006016</td>\n",
              "      <td>0.008066</td>\n",
              "      <td>0.003712</td>\n",
              "      <td>0.006593</td>\n",
              "      <td>0.002881</td>\n",
              "      <td>0.000786</td>\n",
              "      <td>0.000020</td>\n",
              "      <td>happy</td>\n",
              "    </tr>\n",
              "    <tr>\n",
              "      <th>3</th>\n",
              "      <td>0.123047</td>\n",
              "      <td>0.510770</td>\n",
              "      <td>0.550830</td>\n",
              "      <td>0.592938</td>\n",
              "      <td>0.580308</td>\n",
              "      <td>0.691380</td>\n",
              "      <td>0.720800</td>\n",
              "      <td>0.802385</td>\n",
              "      <td>0.845298</td>\n",
              "      <td>0.772511</td>\n",
              "      <td>...</td>\n",
              "      <td>0.012361</td>\n",
              "      <td>0.009428</td>\n",
              "      <td>0.007688</td>\n",
              "      <td>0.003160</td>\n",
              "      <td>0.006633</td>\n",
              "      <td>0.009709</td>\n",
              "      <td>0.003646</td>\n",
              "      <td>0.000754</td>\n",
              "      <td>0.000045</td>\n",
              "      <td>happy</td>\n",
              "    </tr>\n",
              "    <tr>\n",
              "      <th>4</th>\n",
              "      <td>0.116362</td>\n",
              "      <td>0.673909</td>\n",
              "      <td>0.713651</td>\n",
              "      <td>0.602404</td>\n",
              "      <td>0.590360</td>\n",
              "      <td>0.734210</td>\n",
              "      <td>0.640220</td>\n",
              "      <td>0.521658</td>\n",
              "      <td>0.541095</td>\n",
              "      <td>0.575332</td>\n",
              "      <td>...</td>\n",
              "      <td>0.022717</td>\n",
              "      <td>0.026103</td>\n",
              "      <td>0.045411</td>\n",
              "      <td>0.040773</td>\n",
              "      <td>0.028045</td>\n",
              "      <td>0.008673</td>\n",
              "      <td>0.001482</td>\n",
              "      <td>0.000316</td>\n",
              "      <td>0.000006</td>\n",
              "      <td>happy</td>\n",
              "    </tr>\n",
              "  </tbody>\n",
              "</table>\n",
              "<p>5 rows × 163 columns</p>\n",
              "</div>\n",
              "      <button class=\"colab-df-convert\" onclick=\"convertToInteractive('df-730f0bbc-b68e-4279-83b9-5f4e0d3a6bc7')\"\n",
              "              title=\"Convert this dataframe to an interactive table.\"\n",
              "              style=\"display:none;\">\n",
              "\n",
              "  <svg xmlns=\"http://www.w3.org/2000/svg\" height=\"24px\"viewBox=\"0 0 24 24\"\n",
              "       width=\"24px\">\n",
              "    <path d=\"M0 0h24v24H0V0z\" fill=\"none\"/>\n",
              "    <path d=\"M18.56 5.44l.94 2.06.94-2.06 2.06-.94-2.06-.94-.94-2.06-.94 2.06-2.06.94zm-11 1L8.5 8.5l.94-2.06 2.06-.94-2.06-.94L8.5 2.5l-.94 2.06-2.06.94zm10 10l.94 2.06.94-2.06 2.06-.94-2.06-.94-.94-2.06-.94 2.06-2.06.94z\"/><path d=\"M17.41 7.96l-1.37-1.37c-.4-.4-.92-.59-1.43-.59-.52 0-1.04.2-1.43.59L10.3 9.45l-7.72 7.72c-.78.78-.78 2.05 0 2.83L4 21.41c.39.39.9.59 1.41.59.51 0 1.02-.2 1.41-.59l7.78-7.78 2.81-2.81c.8-.78.8-2.07 0-2.86zM5.41 20L4 18.59l7.72-7.72 1.47 1.35L5.41 20z\"/>\n",
              "  </svg>\n",
              "      </button>\n",
              "\n",
              "\n",
              "\n",
              "    <div id=\"df-be13ee15-07b9-44e2-906e-5209fc551879\">\n",
              "      <button class=\"colab-df-quickchart\" onclick=\"quickchart('df-be13ee15-07b9-44e2-906e-5209fc551879')\"\n",
              "              title=\"Suggest charts.\"\n",
              "              style=\"display:none;\">\n",
              "\n",
              "<svg xmlns=\"http://www.w3.org/2000/svg\" height=\"24px\"viewBox=\"0 0 24 24\"\n",
              "     width=\"24px\">\n",
              "    <g>\n",
              "        <path d=\"M19 3H5c-1.1 0-2 .9-2 2v14c0 1.1.9 2 2 2h14c1.1 0 2-.9 2-2V5c0-1.1-.9-2-2-2zM9 17H7v-7h2v7zm4 0h-2V7h2v10zm4 0h-2v-4h2v4z\"/>\n",
              "    </g>\n",
              "</svg>\n",
              "      </button>\n",
              "    </div>\n",
              "\n",
              "<style>\n",
              "  .colab-df-quickchart {\n",
              "    background-color: #E8F0FE;\n",
              "    border: none;\n",
              "    border-radius: 50%;\n",
              "    cursor: pointer;\n",
              "    display: none;\n",
              "    fill: #1967D2;\n",
              "    height: 32px;\n",
              "    padding: 0 0 0 0;\n",
              "    width: 32px;\n",
              "  }\n",
              "\n",
              "  .colab-df-quickchart:hover {\n",
              "    background-color: #E2EBFA;\n",
              "    box-shadow: 0px 1px 2px rgba(60, 64, 67, 0.3), 0px 1px 3px 1px rgba(60, 64, 67, 0.15);\n",
              "    fill: #174EA6;\n",
              "  }\n",
              "\n",
              "  [theme=dark] .colab-df-quickchart {\n",
              "    background-color: #3B4455;\n",
              "    fill: #D2E3FC;\n",
              "  }\n",
              "\n",
              "  [theme=dark] .colab-df-quickchart:hover {\n",
              "    background-color: #434B5C;\n",
              "    box-shadow: 0px 1px 3px 1px rgba(0, 0, 0, 0.15);\n",
              "    filter: drop-shadow(0px 1px 2px rgba(0, 0, 0, 0.3));\n",
              "    fill: #FFFFFF;\n",
              "  }\n",
              "</style>\n",
              "\n",
              "    <script>\n",
              "      async function quickchart(key) {\n",
              "        const containerElement = document.querySelector('#' + key);\n",
              "        const charts = await google.colab.kernel.invokeFunction(\n",
              "            'suggestCharts', [key], {});\n",
              "      }\n",
              "    </script>\n",
              "\n",
              "      <script>\n",
              "\n",
              "function displayQuickchartButton(domScope) {\n",
              "  let quickchartButtonEl =\n",
              "    domScope.querySelector('#df-be13ee15-07b9-44e2-906e-5209fc551879 button.colab-df-quickchart');\n",
              "  quickchartButtonEl.style.display =\n",
              "    google.colab.kernel.accessAllowed ? 'block' : 'none';\n",
              "}\n",
              "\n",
              "        displayQuickchartButton(document);\n",
              "      </script>\n",
              "      <style>\n",
              "    .colab-df-container {\n",
              "      display:flex;\n",
              "      flex-wrap:wrap;\n",
              "      gap: 12px;\n",
              "    }\n",
              "\n",
              "    .colab-df-convert {\n",
              "      background-color: #E8F0FE;\n",
              "      border: none;\n",
              "      border-radius: 50%;\n",
              "      cursor: pointer;\n",
              "      display: none;\n",
              "      fill: #1967D2;\n",
              "      height: 32px;\n",
              "      padding: 0 0 0 0;\n",
              "      width: 32px;\n",
              "    }\n",
              "\n",
              "    .colab-df-convert:hover {\n",
              "      background-color: #E2EBFA;\n",
              "      box-shadow: 0px 1px 2px rgba(60, 64, 67, 0.3), 0px 1px 3px 1px rgba(60, 64, 67, 0.15);\n",
              "      fill: #174EA6;\n",
              "    }\n",
              "\n",
              "    [theme=dark] .colab-df-convert {\n",
              "      background-color: #3B4455;\n",
              "      fill: #D2E3FC;\n",
              "    }\n",
              "\n",
              "    [theme=dark] .colab-df-convert:hover {\n",
              "      background-color: #434B5C;\n",
              "      box-shadow: 0px 1px 3px 1px rgba(0, 0, 0, 0.15);\n",
              "      filter: drop-shadow(0px 1px 2px rgba(0, 0, 0, 0.3));\n",
              "      fill: #FFFFFF;\n",
              "    }\n",
              "  </style>\n",
              "\n",
              "      <script>\n",
              "        const buttonEl =\n",
              "          document.querySelector('#df-730f0bbc-b68e-4279-83b9-5f4e0d3a6bc7 button.colab-df-convert');\n",
              "        buttonEl.style.display =\n",
              "          google.colab.kernel.accessAllowed ? 'block' : 'none';\n",
              "\n",
              "        async function convertToInteractive(key) {\n",
              "          const element = document.querySelector('#df-730f0bbc-b68e-4279-83b9-5f4e0d3a6bc7');\n",
              "          const dataTable =\n",
              "            await google.colab.kernel.invokeFunction('convertToInteractive',\n",
              "                                                     [key], {});\n",
              "          if (!dataTable) return;\n",
              "\n",
              "          const docLinkHtml = 'Like what you see? Visit the ' +\n",
              "            '<a target=\"_blank\" href=https://colab.research.google.com/notebooks/data_table.ipynb>data table notebook</a>'\n",
              "            + ' to learn more about interactive tables.';\n",
              "          element.innerHTML = '';\n",
              "          dataTable['output_type'] = 'display_data';\n",
              "          await google.colab.output.renderOutput(dataTable, element);\n",
              "          const docLink = document.createElement('div');\n",
              "          docLink.innerHTML = docLinkHtml;\n",
              "          element.appendChild(docLink);\n",
              "        }\n",
              "      </script>\n",
              "    </div>\n",
              "  </div>\n"
            ],
            "text/plain": [
              "          0         1         2         3         4         5         6  \\\n",
              "0  0.109337  0.538946  0.559595  0.561073  0.656845  0.753396  0.718244   \n",
              "1  0.211031  0.526032  0.559015  0.564690  0.605275  0.759825  0.735481   \n",
              "2  0.125305  0.468952  0.529941  0.534854  0.570197  0.740940  0.719575   \n",
              "3  0.123047  0.510770  0.550830  0.592938  0.580308  0.691380  0.720800   \n",
              "4  0.116362  0.673909  0.713651  0.602404  0.590360  0.734210  0.640220   \n",
              "\n",
              "          7         8         9  ...       153       154       155       156  \\\n",
              "0  0.821912  0.757459  0.779076  ...  0.010531  0.006776  0.011303  0.016263   \n",
              "1  0.794664  0.827997  0.767552  ...  0.013349  0.010276  0.013998  0.018341   \n",
              "2  0.775312  0.788141  0.757632  ...  0.005620  0.002977  0.006016  0.008066   \n",
              "3  0.802385  0.845298  0.772511  ...  0.012361  0.009428  0.007688  0.003160   \n",
              "4  0.521658  0.541095  0.575332  ...  0.022717  0.026103  0.045411  0.040773   \n",
              "\n",
              "        157       158       159       160       161  labels  \n",
              "0  0.007811  0.013106  0.005727  0.001438  0.000038   happy  \n",
              "1  0.010523  0.017073  0.009190  0.004196  0.003037   happy  \n",
              "2  0.003712  0.006593  0.002881  0.000786  0.000020   happy  \n",
              "3  0.006633  0.009709  0.003646  0.000754  0.000045   happy  \n",
              "4  0.028045  0.008673  0.001482  0.000316  0.000006   happy  \n",
              "\n",
              "[5 rows x 163 columns]"
            ]
          },
          "execution_count": 15,
          "metadata": {},
          "output_type": "execute_result"
        }
      ],
      "source": [
        "# Saving features in a csv file to avoid redundant feature extraction\n",
        "Features = pd.DataFrame(x_train)\n",
        "Features['labels'] = y_train\n",
        "Features.to_csv('features.csv', index=False)\n",
        "Features.head()"
      ]
    },
    {
      "cell_type": "code",
      "execution_count": 16,
      "id": "c6be64a2",
      "metadata": {
        "colab": {
          "base_uri": "https://localhost:8080/"
        },
        "id": "c6be64a2",
        "outputId": "9e822cf8-0d0f-49c7-f624-a53ebd0a8cbd"
      },
      "outputs": [
        {
          "name": "stdout",
          "output_type": "stream",
          "text": [
            "['happy' 'happy' 'happy' ... 'neutral' 'neutral' 'neutral']\n"
          ]
        }
      ],
      "source": [
        "x_train = Features.iloc[: ,:-1].values\n",
        "y_train = Features['labels'].values\n",
        "print(y_train)"
      ]
    },
    {
      "cell_type": "code",
      "execution_count": 17,
      "id": "c7cee47f",
      "metadata": {
        "colab": {
          "base_uri": "https://localhost:8080/"
        },
        "id": "c7cee47f",
        "outputId": "975448f8-6253-43cd-8fe7-2ac57ba1a91a"
      },
      "outputs": [
        {
          "name": "stdout",
          "output_type": "stream",
          "text": [
            "[[0. 0. 0. 1. 0. 0.]\n",
            " [0. 0. 0. 1. 0. 0.]\n",
            " [0. 0. 0. 1. 0. 0.]\n",
            " ...\n",
            " [0. 0. 0. 0. 1. 0.]\n",
            " [0. 0. 0. 0. 1. 0.]\n",
            " [0. 0. 0. 0. 1. 0.]]\n"
          ]
        }
      ],
      "source": [
        "encoder = sklearn.preprocessing.OneHotEncoder()\n",
        "y_train = encoder.fit_transform(np.array(y_train).reshape(-1,1)).toarray()\n",
        "print(y_train)"
      ]
    },
    {
      "cell_type": "code",
      "execution_count": 18,
      "id": "e59ad66f",
      "metadata": {
        "colab": {
          "base_uri": "https://localhost:8080/"
        },
        "id": "e59ad66f",
        "outputId": "1ed34955-29e7-4ffd-b79d-8df648259a45"
      },
      "outputs": [
        {
          "name": "stdout",
          "output_type": "stream",
          "text": [
            "(1759, 162)\n",
            "(1759,)\n"
          ]
        }
      ],
      "source": [
        "X, Y = [], []\n",
        "for path, emotion in zip(X_test, Y_test):\n",
        "    feature = get_features(path, False)\n",
        "    X.append(feature)\n",
        "    Y.append(emotion)\n",
        "\n",
        "print(np.shape(X))\n",
        "print(np.shape(Y))\n",
        "x_test = np.array(X)\n",
        "y_test = np.array(Y)\n"
      ]
    },
    {
      "cell_type": "code",
      "execution_count": 19,
      "id": "bf54dc00",
      "metadata": {
        "colab": {
          "base_uri": "https://localhost:8080/"
        },
        "id": "bf54dc00",
        "outputId": "a17d4830-e2e2-4366-9290-13c7bfeeacf3"
      },
      "outputs": [
        {
          "data": {
            "text/plain": [
              "4003        sad\n",
              "474        fear\n",
              "3927    fearful\n",
              "4694    fearful\n",
              "1237    fearful\n",
              "Name: Emotions, dtype: object"
            ]
          },
          "execution_count": 19,
          "metadata": {},
          "output_type": "execute_result"
        }
      ],
      "source": [
        "Y_test.head(5)"
      ]
    },
    {
      "cell_type": "code",
      "execution_count": 20,
      "id": "6ae3a53f",
      "metadata": {
        "colab": {
          "base_uri": "https://localhost:8080/"
        },
        "id": "6ae3a53f",
        "outputId": "bb9ae89c-055e-4fb2-87c8-f9fb9962eada"
      },
      "outputs": [
        {
          "data": {
            "text/plain": [
              "4003    /content/codespaces-jupyter/data2/1041_WSI_SAD...\n",
              "474     /content/codespaces-jupyter/data/Actor_24/03-0...\n",
              "3927    /content/codespaces-jupyter/data2/1036_IEO_FEA...\n",
              "4694    /content/codespaces-jupyter/data2/1023_IWL_FEA...\n",
              "1237    /content/codespaces-jupyter/data2/1087_TSI_FEA...\n",
              "Name: Path, dtype: object"
            ]
          },
          "execution_count": 20,
          "metadata": {},
          "output_type": "execute_result"
        }
      ],
      "source": [
        "X_test.head(5)"
      ]
    },
    {
      "cell_type": "code",
      "execution_count": 21,
      "id": "afb211d8",
      "metadata": {
        "id": "afb211d8"
      },
      "outputs": [],
      "source": [
        "encoder = sklearn.preprocessing.OneHotEncoder()\n",
        "y_test = encoder.fit_transform(np.array(y_test).reshape(-1,1)).toarray()"
      ]
    },
    {
      "cell_type": "code",
      "execution_count": 22,
      "id": "76164e33",
      "metadata": {
        "colab": {
          "base_uri": "https://localhost:8080/"
        },
        "id": "76164e33",
        "outputId": "2914f1f5-8a0b-45d7-e854-3e0e1b5a91a7"
      },
      "outputs": [
        {
          "data": {
            "text/plain": [
              "((21104, 162), (21104, 6), (1759, 162), (1759, 6))"
            ]
          },
          "execution_count": 22,
          "metadata": {},
          "output_type": "execute_result"
        }
      ],
      "source": [
        "# Normalization\n",
        "scaler = sklearn.preprocessing.StandardScaler()\n",
        "x_train = scaler.fit_transform(x_train)\n",
        "x_test = scaler.transform(x_test)\n",
        "x_train.shape, y_train.shape, x_test.shape, y_test.shape"
      ]
    },
    {
      "cell_type": "code",
      "execution_count": 23,
      "id": "3228786c",
      "metadata": {
        "colab": {
          "base_uri": "https://localhost:8080/"
        },
        "id": "3228786c",
        "outputId": "84f5913b-1b9f-496c-87a3-ad38eb6796a4"
      },
      "outputs": [
        {
          "name": "stdout",
          "output_type": "stream",
          "text": [
            "Accuracy: 0.3916998294485503\n"
          ]
        }
      ],
      "source": [
        "model1=MLPClassifier(alpha=0.01, batch_size=64, epsilon=1e-08, hidden_layer_sizes=(500,), learning_rate='adaptive', max_iter=500)\n",
        "model1.fit(x_train,y_train)\n",
        "score = model1.score(x_test, y_test)\n",
        "print(\"Accuracy:\", score)"
      ]
    },
    {
      "cell_type": "code",
      "execution_count": 24,
      "id": "a1164fe9",
      "metadata": {
        "colab": {
          "base_uri": "https://localhost:8080/"
        },
        "id": "a1164fe9",
        "outputId": "36e5f982-cf46-471f-a16e-4b913ae1b0ea"
      },
      "outputs": [
        {
          "data": {
            "text/plain": [
              "((21104, 162, 1), (21104, 6), (1759, 162, 1), (1759, 6))"
            ]
          },
          "execution_count": 24,
          "metadata": {},
          "output_type": "execute_result"
        }
      ],
      "source": [
        "# Reshaping train and test data for new model\n",
        "x_train = np.expand_dims(x_train, axis=2)\n",
        "x_test = np.expand_dims(x_test, axis=2)\n",
        "x_train.shape, y_train.shape, x_test.shape, y_test.shape"
      ]
    },
    {
      "cell_type": "markdown",
      "id": "25f7f26a",
      "metadata": {
        "id": "25f7f26a"
      },
      "source": [
        "# Model"
      ]
    },
    {
      "cell_type": "code",
      "execution_count": 62,
      "id": "1860e403",
      "metadata": {
        "colab": {
          "base_uri": "https://localhost:8080/"
        },
        "id": "1860e403",
        "outputId": "9772a194-fb23-446a-f835-592c3a9f57f7"
      },
      "outputs": [
        {
          "name": "stdout",
          "output_type": "stream",
          "text": [
            "Model: \"sequential_14\"\n",
            "_________________________________________________________________\n",
            " Layer (type)                Output Shape              Param #   \n",
            "=================================================================\n",
            " conv1d_33 (Conv1D)          (None, 162, 64)           576       \n",
            "                                                                 \n",
            " dropout_25 (Dropout)        (None, 162, 64)           0         \n",
            "                                                                 \n",
            " max_pooling1d_20 (MaxPoolin  (None, 20, 64)           0         \n",
            " g1D)                                                            \n",
            "                                                                 \n",
            " conv1d_34 (Conv1D)          (None, 20, 16)            8208      \n",
            "                                                                 \n",
            " flatten_8 (Flatten)         (None, 320)               0         \n",
            "                                                                 \n",
            " dense_19 (Dense)            (None, 6)                 1926      \n",
            "                                                                 \n",
            "=================================================================\n",
            "Total params: 10,710\n",
            "Trainable params: 10,710\n",
            "Non-trainable params: 0\n",
            "_________________________________________________________________\n"
          ]
        }
      ],
      "source": [
        "from keras.optimizers import Adam\n",
        "model = Sequential()\n",
        "model.add(Conv1D(64, 3, padding='same',activation='relu', input_shape=(x_train.shape[1],1)))  # X_train.shape[1] = No. of Columns\n",
        "model.add(BatchNormalization())\n",
        "model.add(MaxPooling1D(pool_size=(2)))\n",
        "model.add(Conv1D(32, 3, padding='same',activation='relu'))\n",
        "model.add(Flatten())\n",
        "model.add(Dense(y_train.shape[1],activation='softmax')) # Target class number\n",
        "model.compile(optimizer = Adam(learning_rate=2e-4) , loss = 'categorical_crossentropy' , metrics = ['accuracy'])\n",
        "model.summary()"
      ]
    },
    {
      "cell_type": "code",
      "execution_count": 63,
      "id": "11e1a441",
      "metadata": {
        "colab": {
          "base_uri": "https://localhost:8080/"
        },
        "id": "11e1a441",
        "outputId": "6cccfefc-b241-4d73-c89d-8e2f60d6d5d7",
        "scrolled": false
      },
      "outputs": [
        {
          "name": "stdout",
          "output_type": "stream",
          "text": [
            "Epoch 1/90\n",
            "2634/2638 [============================>.] - ETA: 0s - loss: 1.3019 - accuracy: 0.4444\n",
            "Epoch 1: val_accuracy improved from -inf to 0.47413, saving model to model_checkpoint/\n"
          ]
        },
        {
          "name": "stderr",
          "output_type": "stream",
          "text": [
            "WARNING:absl:Found untraced functions such as _jit_compiled_convolution_op, _jit_compiled_convolution_op while saving (showing 2 of 2). These functions will not be directly callable after loading.\n"
          ]
        },
        {
          "name": "stdout",
          "output_type": "stream",
          "text": [
            "\b\b\b\b\b\b\b\b\b\b\b\b\b\b\b\b\b\b\b\b\b\b\b\b\b\b\b\b\b\b\b\b\b\b\b\b\b\b\b\b\b\b\b\b\b\b\b\b\b\b\b\b\b\b\b\b\b\b\b\b\b\b\b\b\b\b\b\b\b\b\b\b\b\b\b\b\b\b\b\b\b\b\b\b\b\b\r2638/2638 [==============================] - 11s 4ms/step - loss: 1.3019 - accuracy: 0.4443 - val_loss: 1.2432 - val_accuracy: 0.4741 - lr: 0.0010\n",
            "Epoch 2/90\n",
            "2637/2638 [============================>.] - ETA: 0s - loss: 1.1740 - accuracy: 0.5088\n",
            "Epoch 2: val_accuracy improved from 0.47413 to 0.48550, saving model to model_checkpoint/\n"
          ]
        },
        {
          "name": "stderr",
          "output_type": "stream",
          "text": [
            "WARNING:absl:Found untraced functions such as _jit_compiled_convolution_op, _jit_compiled_convolution_op while saving (showing 2 of 2). These functions will not be directly callable after loading.\n"
          ]
        },
        {
          "name": "stdout",
          "output_type": "stream",
          "text": [
            "\b\b\b\b\b\b\b\b\b\b\b\b\b\b\b\b\b\b\b\b\b\b\b\b\b\b\b\b\b\b\b\b\b\b\b\b\b\b\b\b\b\b\b\b\b\b\b\b\b\b\b\b\b\b\b\b\b\b\b\b\b\b\b\b\b\b\b\b\b\b\b\b\b\b\b\b\b\b\b\b\b\b\b\b\b\b\r2638/2638 [==============================] - 9s 3ms/step - loss: 1.1742 - accuracy: 0.5088 - val_loss: 1.2568 - val_accuracy: 0.4855 - lr: 0.0010\n",
            "Epoch 3/90\n",
            "2632/2638 [============================>.] - ETA: 0s - loss: 1.1348 - accuracy: 0.5246\n",
            "Epoch 3: val_accuracy improved from 0.48550 to 0.49972, saving model to model_checkpoint/\n"
          ]
        },
        {
          "name": "stderr",
          "output_type": "stream",
          "text": [
            "WARNING:absl:Found untraced functions such as _jit_compiled_convolution_op, _jit_compiled_convolution_op while saving (showing 2 of 2). These functions will not be directly callable after loading.\n"
          ]
        },
        {
          "name": "stdout",
          "output_type": "stream",
          "text": [
            "\b\b\b\b\b\b\b\b\b\b\b\b\b\b\b\b\b\b\b\b\b\b\b\b\b\b\b\b\b\b\b\b\b\b\b\b\b\b\b\b\b\b\b\b\b\b\b\b\b\b\b\b\b\b\b\b\b\b\b\b\b\b\b\b\b\b\b\b\b\b\b\b\b\b\b\b\b\b\b\b\b\b\b\b\b\b\r2638/2638 [==============================] - 10s 4ms/step - loss: 1.1349 - accuracy: 0.5245 - val_loss: 1.2100 - val_accuracy: 0.4997 - lr: 0.0010\n",
            "Epoch 4/90\n",
            "2627/2638 [============================>.] - ETA: 0s - loss: 1.1075 - accuracy: 0.5396\n",
            "Epoch 4: val_accuracy did not improve from 0.49972\n",
            "2638/2638 [==============================] - 9s 3ms/step - loss: 1.1074 - accuracy: 0.5395 - val_loss: 1.2282 - val_accuracy: 0.4895 - lr: 0.0010\n",
            "Epoch 5/90\n",
            "2637/2638 [============================>.] - ETA: 0s - loss: 1.0876 - accuracy: 0.5455\n",
            "Epoch 5: val_accuracy improved from 0.49972 to 0.51052, saving model to model_checkpoint/\n"
          ]
        },
        {
          "name": "stderr",
          "output_type": "stream",
          "text": [
            "WARNING:absl:Found untraced functions such as _jit_compiled_convolution_op, _jit_compiled_convolution_op while saving (showing 2 of 2). These functions will not be directly callable after loading.\n"
          ]
        },
        {
          "name": "stdout",
          "output_type": "stream",
          "text": [
            "\b\b\b\b\b\b\b\b\b\b\b\b\b\b\b\b\b\b\b\b\b\b\b\b\b\b\b\b\b\b\b\b\b\b\b\b\b\b\b\b\b\b\b\b\b\b\b\b\b\b\b\b\b\b\b\b\b\b\b\b\b\b\b\b\b\b\b\b\b\b\b\b\b\b\b\b\b\b\b\b\b\b\b\b\b\b\r2638/2638 [==============================] - 10s 4ms/step - loss: 1.0875 - accuracy: 0.5455 - val_loss: 1.1844 - val_accuracy: 0.5105 - lr: 0.0010\n",
            "Epoch 6/90\n",
            "2629/2638 [============================>.] - ETA: 0s - loss: 1.0741 - accuracy: 0.5527\n",
            "Epoch 6: val_accuracy improved from 0.51052 to 0.51507, saving model to model_checkpoint/\n"
          ]
        },
        {
          "name": "stderr",
          "output_type": "stream",
          "text": [
            "WARNING:absl:Found untraced functions such as _jit_compiled_convolution_op, _jit_compiled_convolution_op while saving (showing 2 of 2). These functions will not be directly callable after loading.\n"
          ]
        },
        {
          "name": "stdout",
          "output_type": "stream",
          "text": [
            "\b\b\b\b\b\b\b\b\b\b\b\b\b\b\b\b\b\b\b\b\b\b\b\b\b\b\b\b\b\b\b\b\b\b\b\b\b\b\b\b\b\b\b\b\b\b\b\b\b\b\b\b\b\b\b\b\b\b\b\b\b\b\b\b\b\b\b\b\b\b\b\b\b\b\b\b\b\b\b\b\b\b\b\b\b\b\r2638/2638 [==============================] - 9s 3ms/step - loss: 1.0739 - accuracy: 0.5530 - val_loss: 1.1718 - val_accuracy: 0.5151 - lr: 0.0010\n",
            "Epoch 7/90\n",
            "2620/2638 [============================>.] - ETA: 0s - loss: 1.0598 - accuracy: 0.5558\n",
            "Epoch 7: val_accuracy did not improve from 0.51507\n",
            "2638/2638 [==============================] - 10s 4ms/step - loss: 1.0600 - accuracy: 0.5559 - val_loss: 1.1726 - val_accuracy: 0.4991 - lr: 0.0010\n",
            "Epoch 8/90\n",
            "2637/2638 [============================>.] - ETA: 0s - loss: 1.0534 - accuracy: 0.5612\n",
            "Epoch 8: val_accuracy improved from 0.51507 to 0.52132, saving model to model_checkpoint/\n"
          ]
        },
        {
          "name": "stderr",
          "output_type": "stream",
          "text": [
            "WARNING:absl:Found untraced functions such as _jit_compiled_convolution_op, _jit_compiled_convolution_op while saving (showing 2 of 2). These functions will not be directly callable after loading.\n"
          ]
        },
        {
          "name": "stdout",
          "output_type": "stream",
          "text": [
            "\b\b\b\b\b\b\b\b\b\b\b\b\b\b\b\b\b\b\b\b\b\b\b\b\b\b\b\b\b\b\b\b\b\b\b\b\b\b\b\b\b\b\b\b\b\b\b\b\b\b\b\b\b\b\b\b\b\b\b\b\b\b\b\b\b\b\b\b\b\b\b\b\b\b\b\b\b\b\b\b\b\b\b\b\b\b\r2638/2638 [==============================] - 11s 4ms/step - loss: 1.0535 - accuracy: 0.5611 - val_loss: 1.1563 - val_accuracy: 0.5213 - lr: 0.0010\n",
            "Epoch 9/90\n",
            "2634/2638 [============================>.] - ETA: 0s - loss: 1.0386 - accuracy: 0.5650\n",
            "Epoch 9: val_accuracy did not improve from 0.52132\n",
            "2638/2638 [==============================] - 9s 3ms/step - loss: 1.0384 - accuracy: 0.5651 - val_loss: 1.1633 - val_accuracy: 0.5208 - lr: 0.0010\n",
            "Epoch 10/90\n",
            "2637/2638 [============================>.] - ETA: 0s - loss: 1.0339 - accuracy: 0.5688\n",
            "Epoch 10: val_accuracy improved from 0.52132 to 0.54008, saving model to model_checkpoint/\n"
          ]
        },
        {
          "name": "stderr",
          "output_type": "stream",
          "text": [
            "WARNING:absl:Found untraced functions such as _jit_compiled_convolution_op, _jit_compiled_convolution_op while saving (showing 2 of 2). These functions will not be directly callable after loading.\n"
          ]
        },
        {
          "name": "stdout",
          "output_type": "stream",
          "text": [
            "\b\b\b\b\b\b\b\b\b\b\b\b\b\b\b\b\b\b\b\b\b\b\b\b\b\b\b\b\b\b\b\b\b\b\b\b\b\b\b\b\b\b\b\b\b\b\b\b\b\b\b\b\b\b\b\b\b\b\b\b\b\b\b\b\b\b\b\b\b\b\b\b\b\b\b\b\b\b\b\b\b\b\b\b\b\b\r2638/2638 [==============================] - 9s 3ms/step - loss: 1.0338 - accuracy: 0.5688 - val_loss: 1.1539 - val_accuracy: 0.5401 - lr: 0.0010\n",
            "Epoch 11/90\n",
            "2628/2638 [============================>.] - ETA: 0s - loss: 1.0256 - accuracy: 0.5705\n",
            "Epoch 11: val_accuracy did not improve from 0.54008\n",
            "2638/2638 [==============================] - 9s 3ms/step - loss: 1.0254 - accuracy: 0.5709 - val_loss: 1.1923 - val_accuracy: 0.5105 - lr: 0.0010\n",
            "Epoch 12/90\n",
            "2621/2638 [============================>.] - ETA: 0s - loss: 1.0199 - accuracy: 0.5745\n",
            "Epoch 12: val_accuracy did not improve from 0.54008\n",
            "2638/2638 [==============================] - 9s 3ms/step - loss: 1.0204 - accuracy: 0.5744 - val_loss: 1.2039 - val_accuracy: 0.5060 - lr: 0.0010\n",
            "Epoch 13/90\n",
            "2635/2638 [============================>.] - ETA: 0s - loss: 1.0114 - accuracy: 0.5838\n",
            "Epoch 13: val_accuracy did not improve from 0.54008\n",
            "2638/2638 [==============================] - 8s 3ms/step - loss: 1.0115 - accuracy: 0.5838 - val_loss: 1.1545 - val_accuracy: 0.5099 - lr: 0.0010\n",
            "Epoch 14/90\n",
            "2636/2638 [============================>.] - ETA: 0s - loss: 1.0096 - accuracy: 0.5780\n",
            "Epoch 14: val_accuracy did not improve from 0.54008\n",
            "2638/2638 [==============================] - 9s 3ms/step - loss: 1.0098 - accuracy: 0.5780 - val_loss: 1.1480 - val_accuracy: 0.5287 - lr: 0.0010\n",
            "Epoch 15/90\n",
            "2630/2638 [============================>.] - ETA: 0s - loss: 1.0059 - accuracy: 0.5883\n",
            "Epoch 15: val_accuracy did not improve from 0.54008\n",
            "2638/2638 [==============================] - 9s 3ms/step - loss: 1.0058 - accuracy: 0.5886 - val_loss: 1.1917 - val_accuracy: 0.4997 - lr: 0.0010\n",
            "Epoch 16/90\n",
            "2627/2638 [============================>.] - ETA: 0s - loss: 0.9968 - accuracy: 0.5859\n",
            "Epoch 16: val_accuracy did not improve from 0.54008\n",
            "2638/2638 [==============================] - 8s 3ms/step - loss: 0.9960 - accuracy: 0.5861 - val_loss: 1.1761 - val_accuracy: 0.5117 - lr: 0.0010\n",
            "Epoch 17/90\n",
            "2624/2638 [============================>.] - ETA: 0s - loss: 0.9920 - accuracy: 0.5845\n",
            "Epoch 17: val_accuracy did not improve from 0.54008\n",
            "2638/2638 [==============================] - 9s 3ms/step - loss: 0.9913 - accuracy: 0.5849 - val_loss: 1.1467 - val_accuracy: 0.5242 - lr: 0.0010\n",
            "Epoch 18/90\n",
            "2638/2638 [==============================] - ETA: 0s - loss: 0.9859 - accuracy: 0.5921\n",
            "Epoch 18: val_accuracy did not improve from 0.54008\n",
            "2638/2638 [==============================] - 9s 3ms/step - loss: 0.9859 - accuracy: 0.5921 - val_loss: 1.2006 - val_accuracy: 0.5060 - lr: 0.0010\n",
            "Epoch 19/90\n",
            "2629/2638 [============================>.] - ETA: 0s - loss: 0.9876 - accuracy: 0.5924\n",
            "Epoch 19: val_accuracy did not improve from 0.54008\n",
            "2638/2638 [==============================] - 9s 3ms/step - loss: 0.9877 - accuracy: 0.5926 - val_loss: 1.1665 - val_accuracy: 0.5276 - lr: 0.0010\n",
            "Epoch 20/90\n",
            "2620/2638 [============================>.] - ETA: 0s - loss: 0.9733 - accuracy: 0.5997\n",
            "Epoch 20: val_accuracy did not improve from 0.54008\n",
            "2638/2638 [==============================] - 9s 3ms/step - loss: 0.9731 - accuracy: 0.5997 - val_loss: 1.1903 - val_accuracy: 0.5298 - lr: 0.0010\n",
            "Epoch 21/90\n",
            "2635/2638 [============================>.] - ETA: 0s - loss: 0.9852 - accuracy: 0.5925\n",
            "Epoch 21: val_accuracy did not improve from 0.54008\n",
            "2638/2638 [==============================] - 11s 4ms/step - loss: 0.9851 - accuracy: 0.5925 - val_loss: 1.1709 - val_accuracy: 0.5213 - lr: 0.0010\n",
            "Epoch 22/90\n",
            "2623/2638 [============================>.] - ETA: 0s - loss: 0.9729 - accuracy: 0.5983\n",
            "Epoch 22: val_accuracy did not improve from 0.54008\n",
            "2638/2638 [==============================] - 11s 4ms/step - loss: 0.9730 - accuracy: 0.5981 - val_loss: 1.1774 - val_accuracy: 0.5213 - lr: 0.0010\n",
            "Epoch 23/90\n",
            "2632/2638 [============================>.] - ETA: 0s - loss: 0.9245 - accuracy: 0.6163\n",
            "Epoch 23: val_accuracy did not improve from 0.54008\n",
            "2638/2638 [==============================] - 10s 4ms/step - loss: 0.9247 - accuracy: 0.6162 - val_loss: 1.1736 - val_accuracy: 0.5202 - lr: 4.0000e-04\n",
            "Epoch 24/90\n",
            "2630/2638 [============================>.] - ETA: 0s - loss: 0.9213 - accuracy: 0.6224\n",
            "Epoch 24: val_accuracy did not improve from 0.54008\n",
            "2638/2638 [==============================] - 8s 3ms/step - loss: 0.9215 - accuracy: 0.6223 - val_loss: 1.1676 - val_accuracy: 0.5276 - lr: 4.0000e-04\n",
            "Epoch 25/90\n",
            "2628/2638 [============================>.] - ETA: 0s - loss: 0.9158 - accuracy: 0.6258\n",
            "Epoch 25: val_accuracy did not improve from 0.54008\n",
            "2638/2638 [==============================] - 9s 4ms/step - loss: 0.9155 - accuracy: 0.6259 - val_loss: 1.1746 - val_accuracy: 0.5276 - lr: 4.0000e-04\n",
            "Epoch 25: early stopping\n"
          ]
        }
      ],
      "source": [
        "model_path = 'model_checkpoint/'\n",
        "checkpoint = ModelCheckpoint(model_path, monitor='val_accuracy', verbose=1, save_best_only=True, mode='max')\n",
        "stop = EarlyStopping(monitor='val_loss', mode='min', verbose=1, patience=8)\n",
        "rlrp = ReduceLROnPlateau(monitor='loss', factor=0.4, verbose=0, patience=2, min_lr=0.00001)\n",
        "history=model.fit(x_train, y_train, batch_size=8, epochs=90, validation_data=(x_test, y_test), callbacks=[rlrp, checkpoint, stop])"
      ]
    },
    {
      "cell_type": "code",
      "execution_count": 64,
      "id": "D1NzyXNWQIOz",
      "metadata": {
        "id": "D1NzyXNWQIOz"
      },
      "outputs": [],
      "source": [
        "# model.load_weights(model_path)"
      ]
    },
    {
      "cell_type": "code",
      "execution_count": 65,
      "id": "d16bd49e",
      "metadata": {
        "colab": {
          "base_uri": "https://localhost:8080/"
        },
        "id": "d16bd49e",
        "outputId": "4481a89b-4bb4-41f8-b861-9b0c7360b30a"
      },
      "outputs": [
        {
          "name": "stdout",
          "output_type": "stream",
          "text": [
            "55/55 [==============================] - 0s 3ms/step - loss: 1.1746 - accuracy: 0.5276\n",
            "Accuracy of our model on test data :  52.757251262664795 %\n"
          ]
        }
      ],
      "source": [
        "print(\"Accuracy of our model on test data : \" , model.evaluate(x_test, y_test)[1]*100 , \"%\")"
      ]
    },
    {
      "cell_type": "code",
      "execution_count": 66,
      "id": "LP3-hGaH7T0X",
      "metadata": {
        "colab": {
          "base_uri": "https://localhost:8080/",
          "height": 472
        },
        "id": "LP3-hGaH7T0X",
        "outputId": "af46ca1c-9def-4555-94b7-b91a7a7d63ab"
      },
      "outputs": [
        {
          "data": {
            "image/png": "[encoded data removed]",
            "text/plain": [
              "<Figure size 640x480 with 1 Axes>"
            ]
          },
          "metadata": {},
          "output_type": "display_data"
        }
      ],
      "source": [
        "# Access the loss values from the history object\n",
        "train_loss = history.history['loss']\n",
        "val_loss = history.history['val_loss']\n",
        "\n",
        "# Plot the loss curve\n",
        "epochs = range(1, len(train_loss) + 1)\n",
        "plt.plot(epochs, train_loss, 'b', label='Training Loss')\n",
        "plt.plot(epochs, val_loss, 'r', label='Validation Loss')\n",
        "plt.title('Loss Curve')\n",
        "plt.xlabel('Epochs')\n",
        "plt.ylabel('Loss')\n",
        "plt.legend()\n",
        "plt.show()"
      ]
    },
    {
      "cell_type": "code",
      "execution_count": 67,
      "id": "39c7950c",
      "metadata": {
        "colab": {
          "base_uri": "https://localhost:8080/",
          "height": 376
        },
        "id": "39c7950c",
        "outputId": "630340a6-5c83-4c15-bb82-af4773ea77d2"
      },
      "outputs": [
        {
          "name": "stdout",
          "output_type": "stream",
          "text": [
            "55/55 [==============================] - 0s 2ms/step\n"
          ]
        },
        {
          "data": {
            "text/html": [
              "\n",
              "\n",
              "  <div id=\"df-485b2e51-fb5f-4875-97d8-73ea405323e4\">\n",
              "    <div class=\"colab-df-container\">\n",
              "      <div>\n",
              "<style scoped>\n",
              "    .dataframe tbody tr th:only-of-type {\n",
              "        vertical-align: middle;\n",
              "    }\n",
              "\n",
              "    .dataframe tbody tr th {\n",
              "        vertical-align: top;\n",
              "    }\n",
              "\n",
              "    .dataframe thead th {\n",
              "        text-align: right;\n",
              "    }\n",
              "</style>\n",
              "<table border=\"1\" class=\"dataframe\">\n",
              "  <thead>\n",
              "    <tr style=\"text-align: right;\">\n",
              "      <th></th>\n",
              "      <th>Predicted Labels</th>\n",
              "      <th>Actual Labels</th>\n",
              "    </tr>\n",
              "  </thead>\n",
              "  <tbody>\n",
              "    <tr>\n",
              "      <th>0</th>\n",
              "      <td>sad</td>\n",
              "      <td>sad</td>\n",
              "    </tr>\n",
              "    <tr>\n",
              "      <th>1</th>\n",
              "      <td>fear</td>\n",
              "      <td>fear</td>\n",
              "    </tr>\n",
              "    <tr>\n",
              "      <th>2</th>\n",
              "      <td>fearful</td>\n",
              "      <td>fearful</td>\n",
              "    </tr>\n",
              "    <tr>\n",
              "      <th>3</th>\n",
              "      <td>angry</td>\n",
              "      <td>fearful</td>\n",
              "    </tr>\n",
              "    <tr>\n",
              "      <th>4</th>\n",
              "      <td>sad</td>\n",
              "      <td>fearful</td>\n",
              "    </tr>\n",
              "    <tr>\n",
              "      <th>5</th>\n",
              "      <td>fearful</td>\n",
              "      <td>sad</td>\n",
              "    </tr>\n",
              "    <tr>\n",
              "      <th>6</th>\n",
              "      <td>angry</td>\n",
              "      <td>angry</td>\n",
              "    </tr>\n",
              "    <tr>\n",
              "      <th>7</th>\n",
              "      <td>fearful</td>\n",
              "      <td>sad</td>\n",
              "    </tr>\n",
              "    <tr>\n",
              "      <th>8</th>\n",
              "      <td>angry</td>\n",
              "      <td>neutral</td>\n",
              "    </tr>\n",
              "    <tr>\n",
              "      <th>9</th>\n",
              "      <td>angry</td>\n",
              "      <td>happy</td>\n",
              "    </tr>\n",
              "  </tbody>\n",
              "</table>\n",
              "</div>\n",
              "      <button class=\"colab-df-convert\" onclick=\"convertToInteractive('df-485b2e51-fb5f-4875-97d8-73ea405323e4')\"\n",
              "              title=\"Convert this dataframe to an interactive table.\"\n",
              "              style=\"display:none;\">\n",
              "\n",
              "  <svg xmlns=\"http://www.w3.org/2000/svg\" height=\"24px\"viewBox=\"0 0 24 24\"\n",
              "       width=\"24px\">\n",
              "    <path d=\"M0 0h24v24H0V0z\" fill=\"none\"/>\n",
              "    <path d=\"M18.56 5.44l.94 2.06.94-2.06 2.06-.94-2.06-.94-.94-2.06-.94 2.06-2.06.94zm-11 1L8.5 8.5l.94-2.06 2.06-.94-2.06-.94L8.5 2.5l-.94 2.06-2.06.94zm10 10l.94 2.06.94-2.06 2.06-.94-2.06-.94-.94-2.06-.94 2.06-2.06.94z\"/><path d=\"M17.41 7.96l-1.37-1.37c-.4-.4-.92-.59-1.43-.59-.52 0-1.04.2-1.43.59L10.3 9.45l-7.72 7.72c-.78.78-.78 2.05 0 2.83L4 21.41c.39.39.9.59 1.41.59.51 0 1.02-.2 1.41-.59l7.78-7.78 2.81-2.81c.8-.78.8-2.07 0-2.86zM5.41 20L4 18.59l7.72-7.72 1.47 1.35L5.41 20z\"/>\n",
              "  </svg>\n",
              "      </button>\n",
              "\n",
              "\n",
              "\n",
              "    <div id=\"df-b27ae594-3585-42ea-8398-f0c34a4f9c68\">\n",
              "      <button class=\"colab-df-quickchart\" onclick=\"quickchart('df-b27ae594-3585-42ea-8398-f0c34a4f9c68')\"\n",
              "              title=\"Suggest charts.\"\n",
              "              style=\"display:none;\">\n",
              "\n",
              "<svg xmlns=\"http://www.w3.org/2000/svg\" height=\"24px\"viewBox=\"0 0 24 24\"\n",
              "     width=\"24px\">\n",
              "    <g>\n",
              "        <path d=\"M19 3H5c-1.1 0-2 .9-2 2v14c0 1.1.9 2 2 2h14c1.1 0 2-.9 2-2V5c0-1.1-.9-2-2-2zM9 17H7v-7h2v7zm4 0h-2V7h2v10zm4 0h-2v-4h2v4z\"/>\n",
              "    </g>\n",
              "</svg>\n",
              "      </button>\n",
              "    </div>\n",
              "\n",
              "<style>\n",
              "  .colab-df-quickchart {\n",
              "    background-color: #E8F0FE;\n",
              "    border: none;\n",
              "    border-radius: 50%;\n",
              "    cursor: pointer;\n",
              "    display: none;\n",
              "    fill: #1967D2;\n",
              "    height: 32px;\n",
              "    padding: 0 0 0 0;\n",
              "    width: 32px;\n",
              "  }\n",
              "\n",
              "  .colab-df-quickchart:hover {\n",
              "    background-color: #E2EBFA;\n",
              "    box-shadow: 0px 1px 2px rgba(60, 64, 67, 0.3), 0px 1px 3px 1px rgba(60, 64, 67, 0.15);\n",
              "    fill: #174EA6;\n",
              "  }\n",
              "\n",
              "  [theme=dark] .colab-df-quickchart {\n",
              "    background-color: #3B4455;\n",
              "    fill: #D2E3FC;\n",
              "  }\n",
              "\n",
              "  [theme=dark] .colab-df-quickchart:hover {\n",
              "    background-color: #434B5C;\n",
              "    box-shadow: 0px 1px 3px 1px rgba(0, 0, 0, 0.15);\n",
              "    filter: drop-shadow(0px 1px 2px rgba(0, 0, 0, 0.3));\n",
              "    fill: #FFFFFF;\n",
              "  }\n",
              "</style>\n",
              "\n",
              "    <script>\n",
              "      async function quickchart(key) {\n",
              "        const containerElement = document.querySelector('#' + key);\n",
              "        const charts = await google.colab.kernel.invokeFunction(\n",
              "            'suggestCharts', [key], {});\n",
              "      }\n",
              "    </script>\n",
              "\n",
              "      <script>\n",
              "\n",
              "function displayQuickchartButton(domScope) {\n",
              "  let quickchartButtonEl =\n",
              "    domScope.querySelector('#df-b27ae594-3585-42ea-8398-f0c34a4f9c68 button.colab-df-quickchart');\n",
              "  quickchartButtonEl.style.display =\n",
              "    google.colab.kernel.accessAllowed ? 'block' : 'none';\n",
              "}\n",
              "\n",
              "        displayQuickchartButton(document);\n",
              "      </script>\n",
              "      <style>\n",
              "    .colab-df-container {\n",
              "      display:flex;\n",
              "      flex-wrap:wrap;\n",
              "      gap: 12px;\n",
              "    }\n",
              "\n",
              "    .colab-df-convert {\n",
              "      background-color: #E8F0FE;\n",
              "      border: none;\n",
              "      border-radius: 50%;\n",
              "      cursor: pointer;\n",
              "      display: none;\n",
              "      fill: #1967D2;\n",
              "      height: 32px;\n",
              "      padding: 0 0 0 0;\n",
              "      width: 32px;\n",
              "    }\n",
              "\n",
              "    .colab-df-convert:hover {\n",
              "      background-color: #E2EBFA;\n",
              "      box-shadow: 0px 1px 2px rgba(60, 64, 67, 0.3), 0px 1px 3px 1px rgba(60, 64, 67, 0.15);\n",
              "      fill: #174EA6;\n",
              "    }\n",
              "\n",
              "    [theme=dark] .colab-df-convert {\n",
              "      background-color: #3B4455;\n",
              "      fill: #D2E3FC;\n",
              "    }\n",
              "\n",
              "    [theme=dark] .colab-df-convert:hover {\n",
              "      background-color: #434B5C;\n",
              "      box-shadow: 0px 1px 3px 1px rgba(0, 0, 0, 0.15);\n",
              "      filter: drop-shadow(0px 1px 2px rgba(0, 0, 0, 0.3));\n",
              "      fill: #FFFFFF;\n",
              "    }\n",
              "  </style>\n",
              "\n",
              "      <script>\n",
              "        const buttonEl =\n",
              "          document.querySelector('#df-485b2e51-fb5f-4875-97d8-73ea405323e4 button.colab-df-convert');\n",
              "        buttonEl.style.display =\n",
              "          google.colab.kernel.accessAllowed ? 'block' : 'none';\n",
              "\n",
              "        async function convertToInteractive(key) {\n",
              "          const element = document.querySelector('#df-485b2e51-fb5f-4875-97d8-73ea405323e4');\n",
              "          const dataTable =\n",
              "            await google.colab.kernel.invokeFunction('convertToInteractive',\n",
              "                                                     [key], {});\n",
              "          if (!dataTable) return;\n",
              "\n",
              "          const docLinkHtml = 'Like what you see? Visit the ' +\n",
              "            '<a target=\"_blank\" href=https://colab.research.google.com/notebooks/data_table.ipynb>data table notebook</a>'\n",
              "            + ' to learn more about interactive tables.';\n",
              "          element.innerHTML = '';\n",
              "          dataTable['output_type'] = 'display_data';\n",
              "          await google.colab.output.renderOutput(dataTable, element);\n",
              "          const docLink = document.createElement('div');\n",
              "          docLink.innerHTML = docLinkHtml;\n",
              "          element.appendChild(docLink);\n",
              "        }\n",
              "      </script>\n",
              "    </div>\n",
              "  </div>\n"
            ],
            "text/plain": [
              "  Predicted Labels Actual Labels\n",
              "0              sad           sad\n",
              "1             fear          fear\n",
              "2          fearful       fearful\n",
              "3            angry       fearful\n",
              "4              sad       fearful\n",
              "5          fearful           sad\n",
              "6            angry         angry\n",
              "7          fearful           sad\n",
              "8            angry       neutral\n",
              "9            angry         happy"
            ]
          },
          "execution_count": 67,
          "metadata": {},
          "output_type": "execute_result"
        }
      ],
      "source": [
        "pred_test = model.predict(x_test)\n",
        "y_pred = encoder.inverse_transform(pred_test)\n",
        "y_test = encoder.inverse_transform(y_test)\n",
        "df = pd.DataFrame(columns=['Predicted Labels', 'Actual Labels'])\n",
        "df['Predicted Labels'] = y_pred.flatten()\n",
        "df['Actual Labels'] = y_test.flatten()\n",
        "df.head(10)\n"
      ]
    },
    {
      "cell_type": "code",
      "execution_count": 68,
      "id": "9eda3f36",
      "metadata": {
        "colab": {
          "base_uri": "https://localhost:8080/",
          "height": 885
        },
        "id": "9eda3f36",
        "outputId": "586fc680-120b-4205-dab3-ec8acb46aa95"
      },
      "outputs": [
        {
          "data": {
            "image/png": "[encoded data removed]",
            "text/plain": [
              "<Figure size 1200x1000 with 2 Axes>"
            ]
          },
          "metadata": {},
          "output_type": "display_data"
        }
      ],
      "source": [
        "cm = sklearn.metrics.confusion_matrix(y_test, y_pred)\n",
        "plt.figure(figsize = (12, 10))\n",
        "cm = pd.DataFrame(cm , index = [i for i in encoder.categories_] , columns = [i for i in encoder.categories_])\n",
        "sns.heatmap(cm, linecolor='white', cmap='Blues', linewidth=1, annot=True, fmt='')\n",
        "plt.title('Confusion Matrix', size=20)\n",
        "plt.xlabel('Predicted Labels', size=14)\n",
        "plt.ylabel('Actual Labels', size=14)\n",
        "plt.show()"
      ]
    },
    {
      "cell_type": "code",
      "execution_count": 69,
      "id": "db78a11c",
      "metadata": {
        "colab": {
          "base_uri": "https://localhost:8080/"
        },
        "id": "db78a11c",
        "outputId": "b2469e22-4457-42dc-f31f-a251d3c64eae"
      },
      "outputs": [
        {
          "name": "stdout",
          "output_type": "stream",
          "text": [
            "              precision    recall  f1-score   support\n",
            "\n",
            "       angry       0.64      0.69      0.67       344\n",
            "        fear       0.62      0.49      0.55        49\n",
            "     fearful       0.44      0.34      0.38       315\n",
            "       happy       0.47      0.47      0.47       361\n",
            "     neutral       0.46      0.61      0.53       299\n",
            "         sad       0.59      0.53      0.56       391\n",
            "\n",
            "    accuracy                           0.53      1759\n",
            "   macro avg       0.54      0.52      0.52      1759\n",
            "weighted avg       0.53      0.53      0.52      1759\n",
            "\n"
          ]
        }
      ],
      "source": [
        "print(sklearn.metrics.classification_report(y_test, y_pred))"
      ]
    },
    {
      "cell_type": "code",
      "execution_count": 70,
      "id": "68d82401",
      "metadata": {
        "colab": {
          "base_uri": "https://localhost:8080/"
        },
        "id": "68d82401",
        "outputId": "274c62db-21f2-42c4-c2ec-d1c59bc42a57"
      },
      "outputs": [
        {
          "name": "stdout",
          "output_type": "stream",
          "text": [
            "Requirement already satisfied: tf2onnx in /usr/local/lib/python3.10/dist-packages (1.14.0)\n",
            "Requirement already satisfied: numpy>=1.14.1 in /usr/local/lib/python3.10/dist-packages (from tf2onnx) (1.22.4)\n",
            "Requirement already satisfied: onnx>=1.4.1 in /usr/local/lib/python3.10/dist-packages (from tf2onnx) (1.14.0)\n",
            "Requirement already satisfied: requests in /usr/local/lib/python3.10/dist-packages (from tf2onnx) (2.27.1)\n",
            "Requirement already satisfied: six in /usr/local/lib/python3.10/dist-packages (from tf2onnx) (1.16.0)\n",
            "Requirement already satisfied: flatbuffers<3.0,>=1.12 in /usr/local/lib/python3.10/dist-packages (from tf2onnx) (2.0.7)\n",
            "Requirement already satisfied: protobuf>=3.20.2 in /usr/local/lib/python3.10/dist-packages (from onnx>=1.4.1->tf2onnx) (3.20.3)\n",
            "Requirement already satisfied: typing-extensions>=3.6.2.1 in /usr/local/lib/python3.10/dist-packages (from onnx>=1.4.1->tf2onnx) (4.7.1)\n",
            "Requirement already satisfied: urllib3<1.27,>=1.21.1 in /usr/local/lib/python3.10/dist-packages (from requests->tf2onnx) (1.26.16)\n",
            "Requirement already satisfied: certifi>=2017.4.17 in /usr/local/lib/python3.10/dist-packages (from requests->tf2onnx) (2023.7.22)\n",
            "Requirement already satisfied: charset-normalizer~=2.0.0 in /usr/local/lib/python3.10/dist-packages (from requests->tf2onnx) (2.0.12)\n",
            "Requirement already satisfied: idna<4,>=2.5 in /usr/local/lib/python3.10/dist-packages (from requests->tf2onnx) (3.4)\n"
          ]
        }
      ],
      "source": [
        "pip install tf2onnx"
      ]
    },
    {
      "cell_type": "code",
      "execution_count": 71,
      "id": "219f502c",
      "metadata": {
        "colab": {
          "base_uri": "https://localhost:8080/",
          "height": 35
        },
        "id": "219f502c",
        "outputId": "7b7fc2bc-11a0-4f32-a3ca-c14e9424afca"
      },
      "outputs": [
        {
          "data": {
            "application/vnd.google.colaboratory.intrinsic+json": {
              "type": "string"
            },
            "text/plain": [
              "'./model.onnx'"
            ]
          },
          "execution_count": 71,
          "metadata": {},
          "output_type": "execute_result"
        }
      ],
      "source": [
        "import tf2onnx\n",
        "import tensorflow as tf\n",
        "\n",
        "onnx_model, _ = tf2onnx.convert.from_keras(model)\n",
        "tf.io.write_graph(onnx_model, '.', 'model.onnx', as_text=False)"
      ]
    },
    {
      "cell_type": "code",
      "execution_count": 72,
      "id": "66abf64b",
      "metadata": {
        "id": "66abf64b"
      },
      "outputs": [],
      "source": [
        "# Saved the current model to replicate results\n",
        "#dump(model, open('model.pkl', 'wb'))"
      ]
    },
    {
      "cell_type": "code",
      "execution_count": 73,
      "id": "79b75741",
      "metadata": {
        "id": "79b75741"
      },
      "outputs": [],
      "source": [
        "from pickle import dump\n",
        "dump(scaler, open('scaler.pkl', 'wb'))"
      ]
    },
    {
      "cell_type": "code",
      "execution_count": 74,
      "id": "f1e44fc5",
      "metadata": {
        "id": "f1e44fc5"
      },
      "outputs": [],
      "source": [
        "dump(encoder, open('encoder.pkl', 'wb'))"
      ]
    },
    {
      "cell_type": "code",
      "execution_count": 75,
      "id": "6f9d8209",
      "metadata": {
        "colab": {
          "base_uri": "https://localhost:8080/"
        },
        "id": "6f9d8209",
        "outputId": "6cf5bddc-1ff2-4fdc-e204-13c90d3aa135"
      },
      "outputs": [
        {
          "name": "stdout",
          "output_type": "stream",
          "text": [
            "Input node name: conv1d_33_input\n",
            "Output node name: dense_19\n"
          ]
        }
      ],
      "source": [
        "input_name = onnx_model.graph.input[0].name\n",
        "output_name = onnx_model.graph.output[0].name\n",
        "\n",
        "print(\"Input node name:\", input_name)\n",
        "print(\"Output node name:\", output_name)"
      ]
    }
  ],
  "metadata": {
    "accelerator": "GPU",
    "colab": {
      "gpuType": "T4",
      "provenance": []
    },
    "kernelspec": {
      "display_name": "Python 3",
      "name": "python3"
    },
    "language_info": {
      "codemirror_mode": {
        "name": "ipython",
        "version": 3
      },
      "file_extension": ".py",
      "mimetype": "text/x-python",
      "name": "python",
      "nbconvert_exporter": "python",
      "pygments_lexer": "ipython3",
      "version": "3.10.8"
    }
  },
  "nbformat": 4,
  "nbformat_minor": 5
}
