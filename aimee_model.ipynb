{
 "cells": [
  {
   "cell_type": "code",
   "execution_count": 34,
   "id": "86f6e99d",
   "metadata": {},
   "outputs": [],
   "source": [
    "#pip install --upgrade \"protobuf<=3.20.1\""
   ]
  },
  {
   "cell_type": "code",
   "execution_count": 35,
   "id": "94c67b7a",
   "metadata": {},
   "outputs": [],
   "source": [
    "#necessary imports\n",
    "import librosa\n",
    "import pandas as pd\n",
    "import numpy as np\n",
    "import sklearn\n",
    "from sklearn import preprocessing\n",
    "from sklearn.model_selection import train_test_split\n",
    "from sklearn.neural_network import MLPClassifier\n",
    "from sklearn.metrics import accuracy_score\n",
    "import glob,os\n",
    "import keras\n",
    "from keras.callbacks import ReduceLROnPlateau, EarlyStopping\n",
    "from keras.models import Sequential\n",
    "from keras.layers import Dense, Conv1D, MaxPooling1D, Flatten, Dropout, BatchNormalization\n",
    "# from keras.utils import np_utils\n",
    "from keras.callbacks import ModelCheckpoint\n",
    "import seaborn as sns\n",
    "import matplotlib.pyplot as plt\n",
    "import random"
   ]
  },
  {
   "cell_type": "code",
   "execution_count": 36,
   "id": "e81b1590",
   "metadata": {},
   "outputs": [],
   "source": [
    "random.seed(1)"
   ]
  },
  {
   "cell_type": "code",
   "execution_count": 37,
   "id": "24703be9",
   "metadata": {},
   "outputs": [],
   "source": [
    "# Extracting features from each .wav file\n",
    "def extract_features(data, sample_rate):\n",
    "    # ZCR\n",
    "    result = np.array([])\n",
    "    zcr = np.mean(librosa.feature.zero_crossing_rate(y=data).T, axis=0)\n",
    "    result=np.hstack((result, zcr)) # stacking horizontally\n",
    "\n",
    "    # Chroma_stft\n",
    "    stft = np.abs(librosa.stft(data))\n",
    "    chroma_stft = np.mean(librosa.feature.chroma_stft(S=stft, sr=sample_rate).T, axis=0)\n",
    "    result = np.hstack((result, chroma_stft)) # stacking horizontally\n",
    "\n",
    "    # MFCC\n",
    "    mfcc = np.mean(librosa.feature.mfcc(y=data, sr=sample_rate).T, axis=0)\n",
    "    result = np.hstack((result, mfcc)) # stacking horizontally\n",
    "\n",
    "    # Root Mean Square Value\n",
    "    rms = np.mean(librosa.feature.rms(y=data).T, axis=0)\n",
    "    result = np.hstack((result, rms)) # stacking horizontally\n",
    "\n",
    "    # MelSpectogram\n",
    "    mel = np.mean(librosa.feature.melspectrogram(y=data, sr=sample_rate).T, axis=0)\n",
    "    result = np.hstack((result, mel)) # stacking horizontally\n",
    "    \n",
    "    return result"
   ]
  },
  {
   "cell_type": "code",
   "execution_count": 38,
   "id": "df4429c4",
   "metadata": {},
   "outputs": [],
   "source": [
    "def noise(data):\n",
    "    noise_amp = 0.035*np.random.uniform()*np.amax(data)\n",
    "    data = data + noise_amp*np.random.normal(size=data.shape[0])\n",
    "    return data\n",
    "\n",
    "def stretch(data, rate=0.8):\n",
    "    return librosa.effects.time_stretch(data, rate = rate)\n",
    "\n",
    "def shift(data):\n",
    "    shift_range = int(np.random.uniform(low=-5, high = 5)*1000)\n",
    "    return np.roll(data, shift_range)\n",
    "\n",
    "def pitch(data, sampling_rate, pitch_factor=0.7):\n",
    "    return librosa.effects.pitch_shift(data, sr = sampling_rate, n_steps = pitch_factor)\n"
   ]
  },
  {
   "cell_type": "code",
   "execution_count": 39,
   "id": "b02f1828",
   "metadata": {},
   "outputs": [],
   "source": [
    "#Emotions in the dataset\n",
    "emotions={\n",
    "  '01':'neutral',\n",
    "  #'02':'calm',\n",
    "  '03':'happy',\n",
    "  '04':'sad',\n",
    "  '05':'angry',\n",
    "  '06':'fearful',\n",
    "  #'07':'disgust',\n",
    "  #'08':'surprised'\n",
    "}\n",
    "\n",
    "#Emotions to observe\n",
    "#observed_emotions=['calm', 'happy', 'fearful', 'disgust', 'sad']\n"
   ]
  },
  {
   "cell_type": "code",
   "execution_count": 40,
   "id": "0aa4489a",
   "metadata": {},
   "outputs": [],
   "source": [
    "def get_features(path, isTraining):\n",
    "    # duration and offset are used to take care of the no audio in start and the ending of each audio files as seen above.\n",
    "    #data, sample_rate = librosa.load(path, duration=2.5, offset=0.6)\n",
    "    data, sample_rate = librosa.load(path, duration=2, offset=0.6, sr=8025)\n",
    "    \n",
    "    # without augmentation\n",
    "    res1 = extract_features(data, sample_rate)\n",
    "    result = np.array(res1)\n",
    "    \n",
    "    # Augmenting only training data and skipping augmentation for test data\n",
    "    if isTraining:\n",
    "        \n",
    "        # data with noise\n",
    "        noise_data = noise(data)\n",
    "        res2 = extract_features(noise_data, sample_rate)\n",
    "        result = np.vstack((result, res2)) # stacking vertically\n",
    "\n",
    "        # data with stretching \n",
    "        stretched_data = stretch(data)\n",
    "        res3 = extract_features(stretched_data, sample_rate)\n",
    "        result = np.vstack((result, res3)) # stacking vertically\n",
    "        \n",
    "        # data with pitch offset\n",
    "        data_pitch = pitch(data, sample_rate)\n",
    "        res4 = extract_features(data_pitch, sample_rate)\n",
    "        result = np.vstack((result, res4)) # stacking vertically\n",
    "    \n",
    "    return result"
   ]
  },
  {
   "cell_type": "code",
   "execution_count": 41,
   "id": "cb984459",
   "metadata": {},
   "outputs": [
    {
     "name": "stdout",
     "output_type": "stream",
     "text": [
      "['Actor_02', 'Actor_03', 'Actor_22', 'Actor_08', 'Actor_16', 'Actor_20', 'Actor_04', 'Actor_19', 'Actor_15', 'Actor_17', 'Actor_07', 'Actor_24', 'Actor_12', 'Actor_21', 'Actor_01', 'Actor_13', 'Actor_11', 'Actor_18', 'Actor_23', 'Actor_05', 'Actor_14', 'Actor_10', 'Actor_06', 'Actor_09']\n"
     ]
    }
   ],
   "source": [
    "# Creating Dataframes\n",
    "Ravdess = \"data/\"\n",
    "ravdess_directory_list = os.listdir(Ravdess)\n",
    "print(ravdess_directory_list)\n",
    "file_emotion = []\n",
    "file_path = []\n",
    "\n",
    "for folder in glob.glob(f\"{Ravdess}Actor_*\"):\n",
    "    # as their are 20 different actors in our previous directory we need to extract files for each actor.\n",
    "    actor = os.listdir(folder)\n",
    "    for file in actor:\n",
    "        part = file.split('.')[0]\n",
    "        part = part.split('-')\n",
    "        # third part in each file represents the emotion associated to that file.\n",
    "        if part[2] not in emotions.keys():\n",
    "            continue\n",
    "        file_emotion.append(int(part[2]))\n",
    "        file_path.append(folder + '/' + file)\n",
    "        \n",
    "# dataframe for emotion of files\n",
    "emotion_df = pd.DataFrame(file_emotion, columns=['Emotions'])\n",
    "\n",
    "\n",
    "# dataframe for path of files\n",
    "path_df = pd.DataFrame(file_path, columns=['Path'])\n",
    "Ravdess_df = pd.concat([emotion_df, path_df], axis=1)\n",
    "\n",
    "# Mapping integers to corresponding emotions\n",
    "Ravdess_df.Emotions.replace({1:'neutral', 3:'happy', 4:'sad', 5:'angry', 6:'fear'}, inplace=True)\n",
    "Ravdess_df.head()\n",
    "\n",
    "X, Y = Ravdess_df[\"Path\"], Ravdess_df[\"Emotions\"]"
   ]
  },
  {
   "cell_type": "code",
   "execution_count": 42,
   "id": "bb1a1a63",
   "metadata": {},
   "outputs": [],
   "source": [
    "X_train, X_test, Y_train, Y_test = train_test_split(X, Y, random_state=0, shuffle=True)"
   ]
  },
  {
   "cell_type": "code",
   "execution_count": 43,
   "id": "0aa2e4be",
   "metadata": {},
   "outputs": [
    {
     "name": "stdout",
     "output_type": "stream",
     "text": [
      "(648,)\n",
      "(648,)\n",
      "(216,)\n",
      "(216,)\n"
     ]
    }
   ],
   "source": [
    "print(np.shape(X_train))\n",
    "print(np.shape(Y_train))\n",
    "print(np.shape(X_test))\n",
    "print(np.shape(Y_test))"
   ]
  },
  {
   "cell_type": "code",
   "execution_count": 44,
   "id": "d8323543",
   "metadata": {
    "scrolled": false
   },
   "outputs": [],
   "source": [
    "X, Y = [], []\n",
    "for path, emotion in zip(X_train, Y_train):\n",
    "    feature = get_features(path, True)\n",
    "    for ele in feature:\n",
    "        X.append(ele)\n",
    "        # appending emotion 4 times as we have applied 4 augmentation techniques on each audio file\n",
    "        Y.append(emotion)\n",
    "x_train = X\n",
    "y_train = Y"
   ]
  },
  {
   "cell_type": "code",
   "execution_count": 45,
   "id": "904d3001",
   "metadata": {},
   "outputs": [
    {
     "data": {
      "text/html": [
       "<div>\n",
       "<style scoped>\n",
       "    .dataframe tbody tr th:only-of-type {\n",
       "        vertical-align: middle;\n",
       "    }\n",
       "\n",
       "    .dataframe tbody tr th {\n",
       "        vertical-align: top;\n",
       "    }\n",
       "\n",
       "    .dataframe thead th {\n",
       "        text-align: right;\n",
       "    }\n",
       "</style>\n",
       "<table border=\"1\" class=\"dataframe\">\n",
       "  <thead>\n",
       "    <tr style=\"text-align: right;\">\n",
       "      <th></th>\n",
       "      <th>0</th>\n",
       "      <th>1</th>\n",
       "      <th>2</th>\n",
       "      <th>3</th>\n",
       "      <th>4</th>\n",
       "      <th>5</th>\n",
       "      <th>6</th>\n",
       "      <th>7</th>\n",
       "      <th>8</th>\n",
       "      <th>9</th>\n",
       "      <th>...</th>\n",
       "      <th>153</th>\n",
       "      <th>154</th>\n",
       "      <th>155</th>\n",
       "      <th>156</th>\n",
       "      <th>157</th>\n",
       "      <th>158</th>\n",
       "      <th>159</th>\n",
       "      <th>160</th>\n",
       "      <th>161</th>\n",
       "      <th>labels</th>\n",
       "    </tr>\n",
       "  </thead>\n",
       "  <tbody>\n",
       "    <tr>\n",
       "      <th>0</th>\n",
       "      <td>0.234756</td>\n",
       "      <td>0.453023</td>\n",
       "      <td>0.532435</td>\n",
       "      <td>0.675329</td>\n",
       "      <td>0.709075</td>\n",
       "      <td>0.575481</td>\n",
       "      <td>0.525318</td>\n",
       "      <td>0.548347</td>\n",
       "      <td>0.586336</td>\n",
       "      <td>0.646260</td>\n",
       "      <td>...</td>\n",
       "      <td>0.001135</td>\n",
       "      <td>0.000323</td>\n",
       "      <td>0.000474</td>\n",
       "      <td>0.000333</td>\n",
       "      <td>0.000373</td>\n",
       "      <td>0.000384</td>\n",
       "      <td>0.000303</td>\n",
       "      <td>0.000074</td>\n",
       "      <td>2.256767e-06</td>\n",
       "      <td>fear</td>\n",
       "    </tr>\n",
       "    <tr>\n",
       "      <th>1</th>\n",
       "      <td>0.325455</td>\n",
       "      <td>0.549621</td>\n",
       "      <td>0.574669</td>\n",
       "      <td>0.712600</td>\n",
       "      <td>0.773430</td>\n",
       "      <td>0.667388</td>\n",
       "      <td>0.619002</td>\n",
       "      <td>0.644139</td>\n",
       "      <td>0.666391</td>\n",
       "      <td>0.677656</td>\n",
       "      <td>...</td>\n",
       "      <td>0.002607</td>\n",
       "      <td>0.001992</td>\n",
       "      <td>0.002067</td>\n",
       "      <td>0.001923</td>\n",
       "      <td>0.002160</td>\n",
       "      <td>0.002005</td>\n",
       "      <td>0.001970</td>\n",
       "      <td>0.001701</td>\n",
       "      <td>1.525774e-03</td>\n",
       "      <td>fear</td>\n",
       "    </tr>\n",
       "    <tr>\n",
       "      <th>2</th>\n",
       "      <td>0.235400</td>\n",
       "      <td>0.467799</td>\n",
       "      <td>0.526148</td>\n",
       "      <td>0.696489</td>\n",
       "      <td>0.765350</td>\n",
       "      <td>0.596145</td>\n",
       "      <td>0.525455</td>\n",
       "      <td>0.554829</td>\n",
       "      <td>0.576128</td>\n",
       "      <td>0.608458</td>\n",
       "      <td>...</td>\n",
       "      <td>0.000454</td>\n",
       "      <td>0.000127</td>\n",
       "      <td>0.000189</td>\n",
       "      <td>0.000156</td>\n",
       "      <td>0.000179</td>\n",
       "      <td>0.000167</td>\n",
       "      <td>0.000103</td>\n",
       "      <td>0.000026</td>\n",
       "      <td>8.751683e-07</td>\n",
       "      <td>fear</td>\n",
       "    </tr>\n",
       "    <tr>\n",
       "      <th>3</th>\n",
       "      <td>0.244064</td>\n",
       "      <td>0.571490</td>\n",
       "      <td>0.473687</td>\n",
       "      <td>0.541058</td>\n",
       "      <td>0.732877</td>\n",
       "      <td>0.789297</td>\n",
       "      <td>0.602376</td>\n",
       "      <td>0.531433</td>\n",
       "      <td>0.564427</td>\n",
       "      <td>0.588936</td>\n",
       "      <td>...</td>\n",
       "      <td>0.000707</td>\n",
       "      <td>0.000806</td>\n",
       "      <td>0.000699</td>\n",
       "      <td>0.000248</td>\n",
       "      <td>0.000212</td>\n",
       "      <td>0.000182</td>\n",
       "      <td>0.000112</td>\n",
       "      <td>0.000044</td>\n",
       "      <td>5.921319e-07</td>\n",
       "      <td>fear</td>\n",
       "    </tr>\n",
       "    <tr>\n",
       "      <th>4</th>\n",
       "      <td>0.208771</td>\n",
       "      <td>0.471565</td>\n",
       "      <td>0.524938</td>\n",
       "      <td>0.570187</td>\n",
       "      <td>0.558178</td>\n",
       "      <td>0.477314</td>\n",
       "      <td>0.458931</td>\n",
       "      <td>0.627174</td>\n",
       "      <td>0.626698</td>\n",
       "      <td>0.669495</td>\n",
       "      <td>...</td>\n",
       "      <td>0.000595</td>\n",
       "      <td>0.001652</td>\n",
       "      <td>0.002122</td>\n",
       "      <td>0.000607</td>\n",
       "      <td>0.001908</td>\n",
       "      <td>0.001104</td>\n",
       "      <td>0.000152</td>\n",
       "      <td>0.000116</td>\n",
       "      <td>3.131501e-06</td>\n",
       "      <td>happy</td>\n",
       "    </tr>\n",
       "  </tbody>\n",
       "</table>\n",
       "<p>5 rows × 163 columns</p>\n",
       "</div>"
      ],
      "text/plain": [
       "          0         1         2         3         4         5         6  \\\n",
       "0  0.234756  0.453023  0.532435  0.675329  0.709075  0.575481  0.525318   \n",
       "1  0.325455  0.549621  0.574669  0.712600  0.773430  0.667388  0.619002   \n",
       "2  0.235400  0.467799  0.526148  0.696489  0.765350  0.596145  0.525455   \n",
       "3  0.244064  0.571490  0.473687  0.541058  0.732877  0.789297  0.602376   \n",
       "4  0.208771  0.471565  0.524938  0.570187  0.558178  0.477314  0.458931   \n",
       "\n",
       "          7         8         9  ...       153       154       155       156  \\\n",
       "0  0.548347  0.586336  0.646260  ...  0.001135  0.000323  0.000474  0.000333   \n",
       "1  0.644139  0.666391  0.677656  ...  0.002607  0.001992  0.002067  0.001923   \n",
       "2  0.554829  0.576128  0.608458  ...  0.000454  0.000127  0.000189  0.000156   \n",
       "3  0.531433  0.564427  0.588936  ...  0.000707  0.000806  0.000699  0.000248   \n",
       "4  0.627174  0.626698  0.669495  ...  0.000595  0.001652  0.002122  0.000607   \n",
       "\n",
       "        157       158       159       160           161  labels  \n",
       "0  0.000373  0.000384  0.000303  0.000074  2.256767e-06    fear  \n",
       "1  0.002160  0.002005  0.001970  0.001701  1.525774e-03    fear  \n",
       "2  0.000179  0.000167  0.000103  0.000026  8.751683e-07    fear  \n",
       "3  0.000212  0.000182  0.000112  0.000044  5.921319e-07    fear  \n",
       "4  0.001908  0.001104  0.000152  0.000116  3.131501e-06   happy  \n",
       "\n",
       "[5 rows x 163 columns]"
      ]
     },
     "execution_count": 45,
     "metadata": {},
     "output_type": "execute_result"
    }
   ],
   "source": [
    "# Saving features in a csv file to avoid redundant feature extraction\n",
    "Features = pd.DataFrame(x_train)\n",
    "Features['labels'] = y_train\n",
    "Features.to_csv('features.csv', index=False)\n",
    "Features.head()"
   ]
  },
  {
   "cell_type": "code",
   "execution_count": 46,
   "id": "c6be64a2",
   "metadata": {},
   "outputs": [
    {
     "name": "stdout",
     "output_type": "stream",
     "text": [
      "['fear' 'fear' 'fear' ... 'happy' 'happy' 'happy']\n"
     ]
    }
   ],
   "source": [
    "x_train = Features.iloc[: ,:-1].values\n",
    "y_train = Features['labels'].values\n",
    "print(y_train)"
   ]
  },
  {
   "cell_type": "code",
   "execution_count": 47,
   "id": "c7cee47f",
   "metadata": {},
   "outputs": [
    {
     "name": "stdout",
     "output_type": "stream",
     "text": [
      "[[0. 1. 0. 0. 0.]\n",
      " [0. 1. 0. 0. 0.]\n",
      " [0. 1. 0. 0. 0.]\n",
      " ...\n",
      " [0. 0. 1. 0. 0.]\n",
      " [0. 0. 1. 0. 0.]\n",
      " [0. 0. 1. 0. 0.]]\n"
     ]
    }
   ],
   "source": [
    "encoder = sklearn.preprocessing.OneHotEncoder()\n",
    "y_train = encoder.fit_transform(np.array(y_train).reshape(-1,1)).toarray()\n",
    "print(y_train)"
   ]
  },
  {
   "cell_type": "code",
   "execution_count": 48,
   "id": "e59ad66f",
   "metadata": {},
   "outputs": [
    {
     "name": "stdout",
     "output_type": "stream",
     "text": [
      "(216, 162)\n",
      "(216,)\n"
     ]
    }
   ],
   "source": [
    "X, Y = [], []\n",
    "for path, emotion in zip(X_test, Y_test):\n",
    "    feature = get_features(path, False)   \n",
    "    X.append(feature)\n",
    "    Y.append(emotion)\n",
    "\n",
    "print(np.shape(X))\n",
    "print(np.shape(Y))\n",
    "x_test = np.array(X)\n",
    "y_test = np.array(Y)\n"
   ]
  },
  {
   "cell_type": "code",
   "execution_count": 49,
   "id": "bf54dc00",
   "metadata": {},
   "outputs": [
    {
     "data": {
      "text/plain": [
       "55       sad\n",
       "316     fear\n",
       "252     fear\n",
       "262    angry\n",
       "31       sad\n",
       "Name: Emotions, dtype: object"
      ]
     },
     "execution_count": 49,
     "metadata": {},
     "output_type": "execute_result"
    }
   ],
   "source": [
    "Y_test.head(5)"
   ]
  },
  {
   "cell_type": "code",
   "execution_count": 50,
   "id": "6ae3a53f",
   "metadata": {},
   "outputs": [
    {
     "data": {
      "text/plain": [
       "55     data/Actor_03/03-01-04-01-01-02-03.wav\n",
       "316    data/Actor_15/03-01-06-02-01-02-15.wav\n",
       "252    data/Actor_19/03-01-06-02-01-01-19.wav\n",
       "262    data/Actor_19/03-01-05-01-02-02-19.wav\n",
       "31     data/Actor_02/03-01-04-02-01-01-02.wav\n",
       "Name: Path, dtype: object"
      ]
     },
     "execution_count": 50,
     "metadata": {},
     "output_type": "execute_result"
    }
   ],
   "source": [
    "X_test.head(5)"
   ]
  },
  {
   "cell_type": "code",
   "execution_count": 51,
   "id": "afb211d8",
   "metadata": {},
   "outputs": [],
   "source": [
    "encoder = sklearn.preprocessing.OneHotEncoder()\n",
    "y_test = encoder.fit_transform(np.array(y_test).reshape(-1,1)).toarray()"
   ]
  },
  {
   "cell_type": "code",
   "execution_count": 52,
   "id": "76164e33",
   "metadata": {},
   "outputs": [
    {
     "data": {
      "text/plain": [
       "((2592, 162), (2592, 5), (216, 162), (216, 5))"
      ]
     },
     "execution_count": 52,
     "metadata": {},
     "output_type": "execute_result"
    }
   ],
   "source": [
    "# Normalization\n",
    "scaler = sklearn.preprocessing.StandardScaler()\n",
    "x_train = scaler.fit_transform(x_train)\n",
    "x_test = scaler.transform(x_test)\n",
    "x_train.shape, y_train.shape, x_test.shape, y_test.shape"
   ]
  },
  {
   "cell_type": "code",
   "execution_count": 53,
   "id": "3228786c",
   "metadata": {},
   "outputs": [
    {
     "name": "stdout",
     "output_type": "stream",
     "text": [
      "Accuracy: 0.4351851851851852\n"
     ]
    }
   ],
   "source": [
    "model1=MLPClassifier(alpha=0.01, batch_size=64, epsilon=1e-08, hidden_layer_sizes=(500,), learning_rate='adaptive', max_iter=500)\n",
    "model1.fit(x_train,y_train)\n",
    "score = model1.score(x_test, y_test)\n",
    "print(\"Accuracy:\", score)"
   ]
  },
  {
   "cell_type": "code",
   "execution_count": 54,
   "id": "a1164fe9",
   "metadata": {},
   "outputs": [
    {
     "data": {
      "text/plain": [
       "((2592, 162, 1), (2592, 5), (216, 162, 1), (216, 5))"
      ]
     },
     "execution_count": 54,
     "metadata": {},
     "output_type": "execute_result"
    }
   ],
   "source": [
    "# Reshaping train and test data for new model\n",
    "x_train = np.expand_dims(x_train, axis=2)\n",
    "x_test = np.expand_dims(x_test, axis=2)\n",
    "x_train.shape, y_train.shape, x_test.shape, y_test.shape"
   ]
  },
  {
   "cell_type": "markdown",
   "id": "25f7f26a",
   "metadata": {},
   "source": [
    "# old model\n",
    "model=Sequential()\n",
    "model.add(Conv1D(256, kernel_size=5, strides=1, padding='same', activation='relu', input_shape=(x_train.shape[1], 1)))\n",
    "model.add(MaxPooling1D(pool_size=5, strides = 2, padding = 'same'))\n",
    "\n",
    "model.add(Conv1D(256, kernel_size=5, strides=1, padding='same', activation='relu'))\n",
    "model.add(MaxPooling1D(pool_size=5, strides = 2, padding = 'same'))\n",
    "\n",
    "model.add(Conv1D(128, kernel_size=5, strides=1, padding='same', activation='relu'))\n",
    "model.add(MaxPooling1D(pool_size=5, strides = 2, padding = 'same'))\n",
    "model.add(Dropout(0.2))\n",
    "\n",
    "model.add(Conv1D(64, kernel_size=5, strides=1, padding='same', activation='relu'))\n",
    "model.add(MaxPooling1D(pool_size=5, strides = 2, padding = 'same'))\n",
    "\n",
    "model.add(Flatten())\n",
    "model.add(Dense(units=32, activation='relu'))\n",
    "model.add(Dropout(0.3))\n",
    "\n",
    "model.add(Dense(units=8, activation='softmax'))\n",
    "model.compile(optimizer = 'adam' , loss = 'categorical_crossentropy' , metrics = ['accuracy'])\n",
    "\n",
    "model.summary()"
   ]
  },
  {
   "cell_type": "code",
   "execution_count": 63,
   "id": "1860e403",
   "metadata": {},
   "outputs": [
    {
     "name": "stdout",
     "output_type": "stream",
     "text": [
      "Model: \"sequential_4\"\n",
      "_________________________________________________________________\n",
      " Layer (type)                Output Shape              Param #   \n",
      "=================================================================\n",
      " conv1d_32 (Conv1D)          (None, 162, 256)          2304      \n",
      "                                                                 \n",
      " conv1d_33 (Conv1D)          (None, 162, 256)          524544    \n",
      "                                                                 \n",
      " batch_normalization_8 (Batc  (None, 162, 256)         1024      \n",
      " hNormalization)                                                 \n",
      "                                                                 \n"
     ]
    },
    {
     "name": "stdout",
     "output_type": "stream",
     "text": [
      " dropout_8 (Dropout)         (None, 162, 256)          0         \n",
      "                                                                 \n",
      " max_pooling1d_8 (MaxPooling  (None, 20, 256)          0         \n",
      " 1D)                                                             \n",
      "                                                                 \n",
      " conv1d_34 (Conv1D)          (None, 20, 128)           262272    \n",
      "                                                                 \n",
      " conv1d_35 (Conv1D)          (None, 20, 128)           131200    \n",
      "                                                                 \n",
      " batch_normalization_9 (Batc  (None, 20, 128)          512       \n",
      " hNormalization)                                                 \n",
      "                                                                 \n",
      " dropout_9 (Dropout)         (None, 20, 128)           0         \n",
      "                                                                 \n",
      " max_pooling1d_9 (MaxPooling  (None, 2, 128)           0         \n",
      " 1D)                                                             \n",
      "                                                                 \n",
      " conv1d_36 (Conv1D)          (None, 2, 128)            131200    \n",
      "                                                                 \n",
      " conv1d_37 (Conv1D)          (None, 2, 128)            131200    \n",
      "                                                                 \n",
      " flatten_4 (Flatten)         (None, 256)               0         \n",
      "                                                                 \n",
      " dense_4 (Dense)             (None, 5)                 1285      \n",
      "                                                                 \n",
      "=================================================================\n",
      "Total params: 1,185,541\n",
      "Trainable params: 1,184,773\n",
      "Non-trainable params: 768\n",
      "_________________________________________________________________\n"
     ]
    }
   ],
   "source": [
    "model = Sequential()\n",
    "model.add(Conv1D(32, 8, padding='same',activation='relu', input_shape=(x_train.shape[1],1)))  # X_train.shape[1] = No. of Columns\n",
    "# model.add(Conv1D(32, 8, padding='same', activation='relu'))\n",
    "model.add(Conv1D(64, 8, padding='same', activation='relu'))\n",
    "model.add(Conv1D(64, 8, padding='same', activation='relu'))\n",
    "model.add(BatchNormalization())\n",
    "model.add(Dropout(0.25))\n",
    "model.add(MaxPooling1D(pool_size=(8)))\n",
    "model.add(Conv1D(128, 8, padding='same', activation='relu'))\n",
    "model.add(Conv1D(128, 8, padding='same',activation='relu'))\n",
    "# model.add(Conv1D(128, 8, padding='same',activation='relu'))\n",
    "# model.add(Conv1D(128, 8, padding='same',activation='relu'))\n",
    "model.add(BatchNormalization())\n",
    "model.add(Dropout(0.45))\n",
    "model.add(MaxPooling1D(pool_size=(8)))\n",
    "model.add(Conv1D(128, 8, padding='same',activation='relu'))\n",
    "# model.add(Conv1D(256, 8, padding='same',activation='relu'))\n",
    "model.add(Conv1D(256, 8, padding='same',activation='relu'))\n",
    "model.add(Flatten())\n",
    "model.add(Dense(y_train.shape[1],activation='softmax')) # Target class number\n",
    "model.compile(optimizer = 'adam' , loss = 'categorical_crossentropy' , metrics = ['accuracy'])\n",
    "model.summary()\n",
    "# model = Sequential()\n",
    "# model.add(Conv1D(256, 8, padding='same',activation='relu', input_shape=(x_train.shape[1],1)))  # X_train.shape[1] = No. of Columns\n",
    "# model.add(Conv1D(256, 8, padding='same', activation='relu'))\n",
    "# model.add(BatchNormalization())\n",
    "# model.add(Dropout(0.25))\n",
    "# model.add(MaxPooling1D(pool_size=(8)))\n",
    "# model.add(Conv1D(128, 8, padding='same', activation='relu'))\n",
    "# model.add(Conv1D(128, 8, padding='same',activation='relu'))\n",
    "# model.add(Conv1D(128, 8, padding='same',activation='relu'))\n",
    "# model.add(Conv1D(128, 8, padding='same',activation='relu'))\n",
    "# model.add(BatchNormalization())\n",
    "# model.add(Dropout(0.25))\n",
    "# model.add(MaxPooling1D(pool_size=(8)))\n",
    "# model.add(Conv1D(64, 8, padding='same',activation='relu'))\n",
    "# model.add(Conv1D(64, 8, padding='same',activation='relu'))\n",
    "# model.add(Flatten())\n",
    "# model.add(Dense(y_train.shape[1],activation='softmax')) # Target class number\n",
    "# model.compile(optimizer = 'adam' , loss = 'categorical_crossentropy' , metrics = ['accuracy'])\n",
    "# model.summary()"
   ]
  },
  {
   "cell_type": "code",
   "execution_count": 64,
   "id": "11e1a441",
   "metadata": {
    "scrolled": false
   },
   "outputs": [
    {
     "name": "stdout",
     "output_type": "stream",
     "text": [
      "Epoch 1/45\n"
     ]
    },
    {
     "name": "stdout",
     "output_type": "stream",
     "text": [
      "648/648 [==============================] - 22s 31ms/step - loss: 1.4674 - accuracy: 0.3569 - val_loss: 1.4856 - val_accuracy: 0.3704 - lr: 0.0010\n",
      "Epoch 2/45\n",
      "648/648 [==============================] - 20s 31ms/step - loss: 1.3526 - accuracy: 0.3978 - val_loss: 3.4028 - val_accuracy: 0.2824 - lr: 0.0010\n",
      "Epoch 3/45\n",
      "648/648 [==============================] - 21s 32ms/step - loss: 1.3399 - accuracy: 0.4028 - val_loss: 1.4735 - val_accuracy: 0.4074 - lr: 0.0010\n",
      "Epoch 4/45\n",
      "648/648 [==============================] - 20s 31ms/step - loss: 1.2300 - accuracy: 0.4599 - val_loss: 1.5764 - val_accuracy: 0.3565 - lr: 0.0010\n",
      "Epoch 5/45\n",
      "648/648 [==============================] - 20s 30ms/step - loss: 1.1832 - accuracy: 0.4830 - val_loss: 1.5093 - val_accuracy: 0.3472 - lr: 0.0010\n",
      "Epoch 6/45\n",
      "648/648 [==============================] - 20s 30ms/step - loss: 1.1279 - accuracy: 0.5131 - val_loss: 1.4840 - val_accuracy: 0.4398 - lr: 0.0010\n",
      "Epoch 7/45\n",
      "648/648 [==============================] - 19s 29ms/step - loss: 1.0780 - accuracy: 0.5490 - val_loss: 1.4900 - val_accuracy: 0.3796 - lr: 0.0010\n",
      "Epoch 8/45\n",
      "648/648 [==============================] - 20s 30ms/step - loss: 0.9954 - accuracy: 0.5860 - val_loss: 1.7815 - val_accuracy: 0.4398 - lr: 0.0010\n",
      "Epoch 9/45\n",
      "648/648 [==============================] - 19s 30ms/step - loss: 0.9576 - accuracy: 0.5949 - val_loss: 1.4351 - val_accuracy: 0.4861 - lr: 0.0010\n",
      "Epoch 10/45\n",
      "648/648 [==============================] - 19s 30ms/step - loss: 0.8852 - accuracy: 0.6281 - val_loss: 1.7787 - val_accuracy: 0.4491 - lr: 0.0010\n",
      "Epoch 11/45\n",
      "648/648 [==============================] - 20s 30ms/step - loss: 0.8428 - accuracy: 0.6520 - val_loss: 1.4955 - val_accuracy: 0.4259 - lr: 0.0010\n",
      "Epoch 12/45\n",
      "648/648 [==============================] - 20s 31ms/step - loss: 0.7850 - accuracy: 0.6736 - val_loss: 1.4555 - val_accuracy: 0.5000 - lr: 0.0010\n",
      "Epoch 13/45\n",
      "648/648 [==============================] - 19s 30ms/step - loss: 0.7629 - accuracy: 0.6875 - val_loss: 1.5325 - val_accuracy: 0.4352 - lr: 0.0010\n",
      "Epoch 14/45\n",
      "648/648 [==============================] - 20s 30ms/step - loss: 0.7099 - accuracy: 0.7083 - val_loss: 1.3747 - val_accuracy: 0.5185 - lr: 0.0010\n",
      "Epoch 15/45\n",
      "648/648 [==============================] - 19s 30ms/step - loss: 0.6621 - accuracy: 0.7276 - val_loss: 1.8488 - val_accuracy: 0.5000 - lr: 0.0010\n",
      "Epoch 16/45\n",
      "648/648 [==============================] - 20s 31ms/step - loss: 0.6069 - accuracy: 0.7531 - val_loss: 1.7270 - val_accuracy: 0.5231 - lr: 0.0010\n",
      "Epoch 17/45\n",
      "648/648 [==============================] - 20s 31ms/step - loss: 0.6081 - accuracy: 0.7593 - val_loss: 1.6279 - val_accuracy: 0.5231 - lr: 0.0010\n",
      "Epoch 18/45\n",
      "648/648 [==============================] - 20s 30ms/step - loss: 0.5274 - accuracy: 0.7975 - val_loss: 1.8620 - val_accuracy: 0.4722 - lr: 0.0010\n",
      "Epoch 19/45\n",
      "648/648 [==============================] - 20s 31ms/step - loss: 0.4952 - accuracy: 0.8148 - val_loss: 1.5701 - val_accuracy: 0.5463 - lr: 0.0010\n",
      "Epoch 20/45\n",
      "648/648 [==============================] - 19s 30ms/step - loss: 0.4753 - accuracy: 0.8233 - val_loss: 1.9592 - val_accuracy: 0.5046 - lr: 0.0010\n",
      "Epoch 21/45\n",
      "648/648 [==============================] - 19s 30ms/step - loss: 0.4288 - accuracy: 0.8326 - val_loss: 1.7697 - val_accuracy: 0.5694 - lr: 0.0010\n",
      "Epoch 22/45\n",
      "648/648 [==============================] - 20s 31ms/step - loss: 0.4521 - accuracy: 0.8364 - val_loss: 1.8162 - val_accuracy: 0.5648 - lr: 0.0010\n",
      "Epoch 23/45\n",
      "648/648 [==============================] - 20s 31ms/step - loss: 0.4216 - accuracy: 0.8414 - val_loss: 1.8199 - val_accuracy: 0.5139 - lr: 0.0010\n",
      "Epoch 24/45\n",
      "648/648 [==============================] - 19s 30ms/step - loss: 0.3798 - accuracy: 0.8569 - val_loss: 2.2676 - val_accuracy: 0.5694 - lr: 0.0010\n",
      "Epoch 25/45\n",
      "648/648 [==============================] - 19s 30ms/step - loss: 0.3415 - accuracy: 0.8781 - val_loss: 2.3765 - val_accuracy: 0.5139 - lr: 0.0010\n",
      "Epoch 26/45\n",
      "648/648 [==============================] - 19s 30ms/step - loss: 0.3199 - accuracy: 0.8858 - val_loss: 2.4303 - val_accuracy: 0.5556 - lr: 0.0010\n",
      "Epoch 27/45\n",
      "648/648 [==============================] - 20s 31ms/step - loss: 0.3068 - accuracy: 0.8827 - val_loss: 2.7820 - val_accuracy: 0.5509 - lr: 0.0010\n",
      "Epoch 28/45\n",
      "648/648 [==============================] - 20s 31ms/step - loss: 0.3051 - accuracy: 0.8873 - val_loss: 2.9716 - val_accuracy: 0.5694 - lr: 0.0010\n",
      "Epoch 29/45\n",
      "648/648 [==============================] - 20s 30ms/step - loss: 0.2840 - accuracy: 0.8993 - val_loss: 2.5082 - val_accuracy: 0.5556 - lr: 0.0010\n",
      "Epoch 30/45\n",
      "648/648 [==============================] - 20s 31ms/step - loss: 0.2537 - accuracy: 0.9074 - val_loss: 3.0792 - val_accuracy: 0.5231 - lr: 0.0010\n",
      "Epoch 31/45\n",
      "648/648 [==============================] - 20s 30ms/step - loss: 0.2614 - accuracy: 0.9109 - val_loss: 2.9049 - val_accuracy: 0.5694 - lr: 0.0010\n",
      "Epoch 32/45\n",
      "648/648 [==============================] - 20s 30ms/step - loss: 0.2633 - accuracy: 0.9066 - val_loss: 3.4687 - val_accuracy: 0.5324 - lr: 0.0010\n",
      "Epoch 33/45\n",
      "648/648 [==============================] - 20s 30ms/step - loss: 0.1697 - accuracy: 0.9410 - val_loss: 3.1600 - val_accuracy: 0.5463 - lr: 4.0000e-04\n",
      "Epoch 34/45\n",
      "648/648 [==============================] - 19s 30ms/step - loss: 0.1411 - accuracy: 0.9491 - val_loss: 3.9805 - val_accuracy: 0.5417 - lr: 4.0000e-04\n",
      "Epoch 35/45\n",
      "648/648 [==============================] - 20s 30ms/step - loss: 0.1151 - accuracy: 0.9649 - val_loss: 3.2604 - val_accuracy: 0.5880 - lr: 4.0000e-04\n",
      "Epoch 36/45\n",
      "648/648 [==============================] - 20s 30ms/step - loss: 0.1131 - accuracy: 0.9603 - val_loss: 3.4746 - val_accuracy: 0.5278 - lr: 4.0000e-04\n",
      "Epoch 37/45\n",
      "648/648 [==============================] - 20s 31ms/step - loss: 0.0953 - accuracy: 0.9672 - val_loss: 3.3592 - val_accuracy: 0.5741 - lr: 4.0000e-04\n",
      "Epoch 38/45\n",
      "648/648 [==============================] - 20s 31ms/step - loss: 0.0982 - accuracy: 0.9641 - val_loss: 3.2962 - val_accuracy: 0.5648 - lr: 4.0000e-04\n",
      "Epoch 39/45\n",
      "648/648 [==============================] - 20s 31ms/step - loss: 0.1019 - accuracy: 0.9633 - val_loss: 3.1088 - val_accuracy: 0.5556 - lr: 4.0000e-04\n",
      "Epoch 40/45\n",
      "648/648 [==============================] - 20s 30ms/step - loss: 0.0696 - accuracy: 0.9734 - val_loss: 3.8637 - val_accuracy: 0.5556 - lr: 1.6000e-04\n",
      "Epoch 41/45\n",
      "648/648 [==============================] - 20s 31ms/step - loss: 0.0632 - accuracy: 0.9761 - val_loss: 3.6368 - val_accuracy: 0.5972 - lr: 1.6000e-04\n",
      "Epoch 42/45\n",
      "648/648 [==============================] - 20s 30ms/step - loss: 0.0556 - accuracy: 0.9796 - val_loss: 4.1978 - val_accuracy: 0.5880 - lr: 1.6000e-04\n",
      "Epoch 43/45\n",
      "648/648 [==============================] - 20s 31ms/step - loss: 0.0531 - accuracy: 0.9799 - val_loss: 4.4009 - val_accuracy: 0.5694 - lr: 1.6000e-04\n",
      "Epoch 44/45\n",
      "648/648 [==============================] - 20s 30ms/step - loss: 0.0499 - accuracy: 0.9861 - val_loss: 4.3375 - val_accuracy: 0.5648 - lr: 1.6000e-04\n",
      "Epoch 45/45\n",
      "648/648 [==============================] - 20s 31ms/step - loss: 0.0548 - accuracy: 0.9819 - val_loss: 4.3877 - val_accuracy: 0.5926 - lr: 1.6000e-04\n"
     ]
    }
   ],
   "source": [
    "stop = EarlyStopping(monitor='val_loss', mode='min', verbose=1, patience=40)\n",
    "rlrp = ReduceLROnPlateau(monitor='loss', factor=0.4, verbose=0, patience=2, min_lr=0.00001)\n",
    "history=model.fit(x_train, y_train, batch_size=32, epochs=65, validation_data=(x_test, y_test), callbacks=[rlrp])"
   ]
  },
  {
   "cell_type": "code",
   "execution_count": 65,
   "id": "d16bd49e",
   "metadata": {},
   "outputs": [
    {
     "name": "stdout",
     "output_type": "stream",
     "text": [
      "7/7 [==============================] - 0s 27ms/step - loss: 4.3877 - accuracy: 0.5926\n",
      "Accuracy of our model on test data :  59.25925970077515 %\n"
     ]
    }
   ],
   "source": [
    "print(\"Accuracy of our model on test data : \" , model.evaluate(x_test, y_test)[1]*100 , \"%\")"
   ]
  },
  {
   "cell_type": "code",
   "execution_count": null,
   "id": "39c7950c",
   "metadata": {},
   "outputs": [
    {
     "name": "stdout",
     "output_type": "stream",
     "text": [
      "7/7 [==============================] - 0s 32ms/step\n"
     ]
    },
    {
     "data": {
      "text/html": [
       "<div>\n",
       "<style scoped>\n",
       "    .dataframe tbody tr th:only-of-type {\n",
       "        vertical-align: middle;\n",
       "    }\n",
       "\n",
       "    .dataframe tbody tr th {\n",
       "        vertical-align: top;\n",
       "    }\n",
       "\n",
       "    .dataframe thead th {\n",
       "        text-align: right;\n",
       "    }\n",
       "</style>\n",
       "<table border=\"1\" class=\"dataframe\">\n",
       "  <thead>\n",
       "    <tr style=\"text-align: right;\">\n",
       "      <th></th>\n",
       "      <th>Predicted Labels</th>\n",
       "      <th>Actual Labels</th>\n",
       "    </tr>\n",
       "  </thead>\n",
       "  <tbody>\n",
       "    <tr>\n",
       "      <th>0</th>\n",
       "      <td>sad</td>\n",
       "      <td>sad</td>\n",
       "    </tr>\n",
       "    <tr>\n",
       "      <th>1</th>\n",
       "      <td>happy</td>\n",
       "      <td>fear</td>\n",
       "    </tr>\n",
       "    <tr>\n",
       "      <th>2</th>\n",
       "      <td>happy</td>\n",
       "      <td>fear</td>\n",
       "    </tr>\n",
       "    <tr>\n",
       "      <th>3</th>\n",
       "      <td>angry</td>\n",
       "      <td>angry</td>\n",
       "    </tr>\n",
       "    <tr>\n",
       "      <th>4</th>\n",
       "      <td>neutral</td>\n",
       "      <td>sad</td>\n",
       "    </tr>\n",
       "    <tr>\n",
       "      <th>5</th>\n",
       "      <td>sad</td>\n",
       "      <td>sad</td>\n",
       "    </tr>\n",
       "    <tr>\n",
       "      <th>6</th>\n",
       "      <td>angry</td>\n",
       "      <td>angry</td>\n",
       "    </tr>\n",
       "    <tr>\n",
       "      <th>7</th>\n",
       "      <td>angry</td>\n",
       "      <td>fear</td>\n",
       "    </tr>\n",
       "    <tr>\n",
       "      <th>8</th>\n",
       "      <td>sad</td>\n",
       "      <td>sad</td>\n",
       "    </tr>\n",
       "    <tr>\n",
       "      <th>9</th>\n",
       "      <td>neutral</td>\n",
       "      <td>happy</td>\n",
       "    </tr>\n",
       "  </tbody>\n",
       "</table>\n",
       "</div>"
      ],
      "text/plain": [
       "  Predicted Labels Actual Labels\n",
       "0              sad           sad\n",
       "1            happy          fear\n",
       "2            happy          fear\n",
       "3            angry         angry\n",
       "4          neutral           sad\n",
       "5              sad           sad\n",
       "6            angry         angry\n",
       "7            angry          fear\n",
       "8              sad           sad\n",
       "9          neutral         happy"
      ]
     },
     "execution_count": 25,
     "metadata": {},
     "output_type": "execute_result"
    }
   ],
   "source": [
    "pred_test = model.predict(x_test)\n",
    "y_pred = encoder.inverse_transform(pred_test)\n",
    "y_test = encoder.inverse_transform(y_test)\n",
    "df = pd.DataFrame(columns=['Predicted Labels', 'Actual Labels'])\n",
    "df['Predicted Labels'] = y_pred.flatten()\n",
    "df['Actual Labels'] = y_test.flatten()\n",
    "df.head(10)\n"
   ]
  },
  {
   "cell_type": "code",
   "execution_count": null,
   "id": "9eda3f36",
   "metadata": {},
   "outputs": [
    {
     "data": {
      "image/png": "[encoded data removed]",
      "text/plain": [
       "<Figure size 1200x1000 with 2 Axes>"
      ]
     },
     "metadata": {},
     "output_type": "display_data"
    }
   ],
   "source": [
    "cm = sklearn.metrics.confusion_matrix(y_test, y_pred)\n",
    "plt.figure(figsize = (12, 10))\n",
    "cm = pd.DataFrame(cm , index = [i for i in encoder.categories_] , columns = [i for i in encoder.categories_])\n",
    "sns.heatmap(cm, linecolor='white', cmap='Blues', linewidth=1, annot=True, fmt='')\n",
    "plt.title('Confusion Matrix', size=20)\n",
    "plt.xlabel('Predicted Labels', size=14)\n",
    "plt.ylabel('Actual Labels', size=14)\n",
    "plt.show()"
   ]
  },
  {
   "cell_type": "code",
   "execution_count": null,
   "id": "db78a11c",
   "metadata": {},
   "outputs": [
    {
     "name": "stdout",
     "output_type": "stream",
     "text": [
      "              precision    recall  f1-score   support\n",
      "\n",
      "       angry       0.61      0.70      0.65        43\n",
      "        fear       0.50      0.35      0.41        52\n",
      "       happy       0.43      0.47      0.45        49\n",
      "     neutral       0.62      0.81      0.70        26\n",
      "         sad       0.65      0.61      0.63        46\n",
      "\n",
      "    accuracy                           0.56       216\n",
      "   macro avg       0.56      0.59      0.57       216\n",
      "weighted avg       0.55      0.56      0.55       216\n",
      "\n"
     ]
    }
   ],
   "source": [
    "print(sklearn.metrics.classification_report(y_test, y_pred))"
   ]
  },
  {
   "cell_type": "code",
   "execution_count": null,
   "id": "68d82401",
   "metadata": {},
   "outputs": [],
   "source": [
    "# pip install tf2onnx"
   ]
  },
  {
   "cell_type": "code",
   "execution_count": null,
   "id": "219f502c",
   "metadata": {},
   "outputs": [
    {
     "name": "stderr",
     "output_type": "stream",
     "text": [
      "2023-07-30 03:13:49.014946: I tensorflow/core/grappler/devices.cc:66] Number of eligible GPUs (core count >= 8, compute capability >= 0.0): 0\n",
      "2023-07-30 03:13:49.015138: I tensorflow/core/grappler/clusters/single_machine.cc:358] Starting new session\n"
     ]
    },
    {
     "name": "stderr",
     "output_type": "stream",
     "text": [
      "2023-07-30 03:13:49.275038: I tensorflow/core/grappler/devices.cc:66] Number of eligible GPUs (core count >= 8, compute capability >= 0.0): 0\n",
      "2023-07-30 03:13:49.275280: I tensorflow/core/grappler/clusters/single_machine.cc:358] Starting new session\n"
     ]
    },
    {
     "data": {
      "text/plain": [
       "'./model.onnx'"
      ]
     },
     "execution_count": 29,
     "metadata": {},
     "output_type": "execute_result"
    }
   ],
   "source": [
    "import tf2onnx\n",
    "import tensorflow as tf\n",
    "\n",
    "onnx_model, _ = tf2onnx.convert.from_keras(model)\n",
    "tf.io.write_graph(onnx_model, '.', 'model.onnx', as_text=False)"
   ]
  },
  {
   "cell_type": "code",
   "execution_count": null,
   "id": "66abf64b",
   "metadata": {},
   "outputs": [],
   "source": [
    "# Saved the current model to replicate results\n",
    "#dump(model, open('model.pkl', 'wb'))"
   ]
  },
  {
   "cell_type": "code",
   "execution_count": null,
   "id": "79b75741",
   "metadata": {},
   "outputs": [],
   "source": [
    "from pickle import dump\n",
    "dump(scaler, open('scaler.pkl', 'wb'))"
   ]
  },
  {
   "cell_type": "code",
   "execution_count": null,
   "id": "f1e44fc5",
   "metadata": {},
   "outputs": [],
   "source": [
    "dump(encoder, open('encoder.pkl', 'wb'))"
   ]
  },
  {
   "cell_type": "code",
   "execution_count": null,
   "id": "6f9d8209",
   "metadata": {},
   "outputs": [
    {
     "name": "stdout",
     "output_type": "stream",
     "text": [
      "Input node name: conv1d_input\n",
      "Output node name: dense\n"
     ]
    }
   ],
   "source": [
    "input_name = onnx_model.graph.input[0].name\n",
    "output_name = onnx_model.graph.output[0].name\n",
    "\n",
    "print(\"Input node name:\", input_name)\n",
    "print(\"Output node name:\", output_name)"
   ]
  },
  {
   "cell_type": "code",
   "execution_count": null,
   "id": "7e0b9b50",
   "metadata": {},
   "outputs": [],
   "source": []
  }
 ],
 "metadata": {
  "kernelspec": {
   "display_name": "Python 3 (ipykernel)",
   "language": "python",
   "name": "python3"
  },
  "language_info": {
   "codemirror_mode": {
    "name": "ipython",
    "version": 3
   },
   "file_extension": ".py",
   "mimetype": "text/x-python",
   "name": "python",
   "nbconvert_exporter": "python",
   "pygments_lexer": "ipython3",
   "version": "3.10.8"
  }
 },
 "nbformat": 4,
 "nbformat_minor": 5
}
