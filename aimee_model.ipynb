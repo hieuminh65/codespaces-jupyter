{
 "cells": [
  {
   "cell_type": "code",
   "execution_count": 88,
   "id": "86f6e99d",
   "metadata": {},
   "outputs": [],
   "source": [
    "#pip install --upgrade \"protobuf<=3.20.1\""
   ]
  },
  {
   "cell_type": "code",
   "execution_count": 89,
   "id": "94c67b7a",
   "metadata": {},
   "outputs": [],
   "source": [
    "#necessary imports\n",
    "import librosa\n",
    "import pandas as pd\n",
    "import numpy as np\n",
    "import sklearn\n",
    "from sklearn import preprocessing\n",
    "from sklearn.model_selection import train_test_split\n",
    "from sklearn.neural_network import MLPClassifier\n",
    "from sklearn.metrics import accuracy_score\n",
    "import glob,os\n",
    "import keras\n",
    "from keras.callbacks import ReduceLROnPlateau\n",
    "from keras.models import Sequential\n",
    "from keras.layers import Dense, Conv1D, MaxPooling1D, Flatten, Dropout, BatchNormalization\n",
    "# from keras.utils import np_utils\n",
    "from keras.callbacks import ModelCheckpoint\n",
    "import seaborn as sns\n",
    "import matplotlib.pyplot as plt\n",
    "import random"
   ]
  },
  {
   "cell_type": "code",
   "execution_count": 90,
   "id": "e81b1590",
   "metadata": {},
   "outputs": [],
   "source": [
    "random.seed(1)"
   ]
  },
  {
   "cell_type": "code",
   "execution_count": 91,
   "id": "24703be9",
   "metadata": {},
   "outputs": [],
   "source": [
    "# Extracting features from each .wav file\n",
    "def extract_features(data, sample_rate):\n",
    "    # ZCR\n",
    "    result = np.array([])\n",
    "    zcr = np.mean(librosa.feature.zero_crossing_rate(y=data).T, axis=0)\n",
    "    result=np.hstack((result, zcr)) # stacking horizontally\n",
    "\n",
    "    # Chroma_stft\n",
    "    stft = np.abs(librosa.stft(data))\n",
    "    chroma_stft = np.mean(librosa.feature.chroma_stft(S=stft, sr=sample_rate).T, axis=0)\n",
    "    result = np.hstack((result, chroma_stft)) # stacking horizontally\n",
    "\n",
    "    # MFCC\n",
    "    mfcc = np.mean(librosa.feature.mfcc(y=data, sr=sample_rate).T, axis=0)\n",
    "    result = np.hstack((result, mfcc)) # stacking horizontally\n",
    "\n",
    "    # Root Mean Square Value\n",
    "    rms = np.mean(librosa.feature.rms(y=data).T, axis=0)\n",
    "    result = np.hstack((result, rms)) # stacking horizontally\n",
    "\n",
    "    # MelSpectogram\n",
    "    mel = np.mean(librosa.feature.melspectrogram(y=data, sr=sample_rate).T, axis=0)\n",
    "    result = np.hstack((result, mel)) # stacking horizontally\n",
    "    \n",
    "    return result"
   ]
  },
  {
   "cell_type": "code",
   "execution_count": 92,
   "id": "df4429c4",
   "metadata": {},
   "outputs": [],
   "source": [
    "def noise(data):\n",
    "    noise_amp = 0.035*np.random.uniform()*np.amax(data)\n",
    "    data = data + noise_amp*np.random.normal(size=data.shape[0])\n",
    "    return data\n",
    "\n",
    "def stretch(data, rate=0.8):\n",
    "    return librosa.effects.time_stretch(data, rate = rate)\n",
    "\n",
    "def shift(data):\n",
    "    shift_range = int(np.random.uniform(low=-5, high = 5)*1000)\n",
    "    return np.roll(data, shift_range)\n",
    "\n",
    "def pitch(data, sampling_rate, pitch_factor=0.7):\n",
    "    return librosa.effects.pitch_shift(data, sr = sampling_rate, n_steps = pitch_factor)\n"
   ]
  },
  {
   "cell_type": "code",
   "execution_count": 93,
   "id": "b02f1828",
   "metadata": {},
   "outputs": [],
   "source": [
    "#Emotions in the dataset\n",
    "emotions={\n",
    "  '01':'neutral',\n",
    "  #'02':'calm',\n",
    "  '03':'happy',\n",
    "  '04':'sad',\n",
    "  '05':'angry',\n",
    "  '06':'fearful',\n",
    "  #'07':'disgust',\n",
    "  #'08':'surprised'\n",
    "}\n",
    "\n",
    "#Emotions to observe\n",
    "#observed_emotions=['calm', 'happy', 'fearful', 'disgust', 'sad']\n"
   ]
  },
  {
   "cell_type": "code",
   "execution_count": 94,
   "id": "0aa4489a",
   "metadata": {},
   "outputs": [],
   "source": [
    "def get_features(path, isTraining):\n",
    "    # duration and offset are used to take care of the no audio in start and the ending of each audio files as seen above.\n",
    "    #data, sample_rate = librosa.load(path, duration=2.5, offset=0.6)\n",
    "    data, sample_rate = librosa.load(path, duration=2, offset=0.6, sr=8025)\n",
    "    \n",
    "    # without augmentation\n",
    "    res1 = extract_features(data, sample_rate)\n",
    "    result = np.array(res1)\n",
    "    \n",
    "    # Augmenting only training data and skipping augmentation for test data\n",
    "    if isTraining:\n",
    "        \n",
    "        # data with noise\n",
    "        noise_data = noise(data)\n",
    "        res2 = extract_features(noise_data, sample_rate)\n",
    "        result = np.vstack((result, res2)) # stacking vertically\n",
    "\n",
    "        # data with stretching \n",
    "        stretched_data = stretch(data)\n",
    "        res3 = extract_features(stretched_data, sample_rate)\n",
    "        result = np.vstack((result, res3)) # stacking vertically\n",
    "        \n",
    "        # data with pitch offset\n",
    "        data_pitch = pitch(data, sample_rate)\n",
    "        res4 = extract_features(data_pitch, sample_rate)\n",
    "        result = np.vstack((result, res4)) # stacking vertically\n",
    "    \n",
    "    return result"
   ]
  },
  {
   "cell_type": "code",
   "execution_count": 95,
   "id": "cb984459",
   "metadata": {},
   "outputs": [
    {
     "name": "stdout",
     "output_type": "stream",
     "text": [
      "['Actor_02', 'Actor_03', 'Actor_22', 'Actor_08', 'Actor_16', 'Actor_20', 'Actor_04', 'Actor_19', 'Actor_15', 'Actor_17', 'Actor_07', 'Actor_24', 'Actor_12', 'Actor_21', 'Actor_01', 'Actor_13', 'Actor_11', 'Actor_18', 'Actor_23', 'Actor_05', 'Actor_14', 'Actor_10', 'Actor_06', 'Actor_09']\n"
     ]
    }
   ],
   "source": [
    "# Creating Dataframes\n",
    "Ravdess = \"data/\"\n",
    "ravdess_directory_list = os.listdir(Ravdess)\n",
    "print(ravdess_directory_list)\n",
    "file_emotion = []\n",
    "file_path = []\n",
    "\n",
    "for folder in glob.glob(f\"{Ravdess}Actor_*\"):\n",
    "    # as their are 20 different actors in our previous directory we need to extract files for each actor.\n",
    "    actor = os.listdir(folder)\n",
    "    for file in actor:\n",
    "        part = file.split('.')[0]\n",
    "        part = part.split('-')\n",
    "        # third part in each file represents the emotion associated to that file.\n",
    "        if part[2] not in emotions.keys():\n",
    "            continue\n",
    "        file_emotion.append(int(part[2]))\n",
    "        file_path.append(folder + '/' + file)\n",
    "        \n",
    "# dataframe for emotion of files\n",
    "emotion_df = pd.DataFrame(file_emotion, columns=['Emotions'])\n",
    "\n",
    "\n",
    "# dataframe for path of files\n",
    "path_df = pd.DataFrame(file_path, columns=['Path'])\n",
    "Ravdess_df = pd.concat([emotion_df, path_df], axis=1)\n",
    "\n",
    "# Mapping integers to corresponding emotions\n",
    "Ravdess_df.Emotions.replace({1:'neutral', 3:'happy', 4:'sad', 5:'angry', 6:'fear'}, inplace=True)\n",
    "Ravdess_df.head()\n",
    "\n",
    "X, Y = Ravdess_df[\"Path\"], Ravdess_df[\"Emotions\"]"
   ]
  },
  {
   "cell_type": "code",
   "execution_count": 96,
   "id": "bb1a1a63",
   "metadata": {},
   "outputs": [],
   "source": [
    "X_train, X_test, Y_train, Y_test = train_test_split(X, Y, random_state=0, shuffle=True)"
   ]
  },
  {
   "cell_type": "code",
   "execution_count": 97,
   "id": "0aa2e4be",
   "metadata": {},
   "outputs": [
    {
     "name": "stdout",
     "output_type": "stream",
     "text": [
      "(648,)\n",
      "(648,)\n",
      "(216,)\n",
      "(216,)\n"
     ]
    }
   ],
   "source": [
    "print(np.shape(X_train))\n",
    "print(np.shape(Y_train))\n",
    "print(np.shape(X_test))\n",
    "print(np.shape(Y_test))"
   ]
  },
  {
   "cell_type": "code",
   "execution_count": 98,
   "id": "d8323543",
   "metadata": {
    "scrolled": false
   },
   "outputs": [],
   "source": [
    "X, Y = [], []\n",
    "for path, emotion in zip(X_train, Y_train):\n",
    "    feature = get_features(path, True)\n",
    "    for ele in feature:\n",
    "        X.append(ele)\n",
    "        # appending emotion 4 times as we have applied 4 augmentation techniques on each audio file\n",
    "        Y.append(emotion)\n",
    "x_train = X\n",
    "y_train = Y"
   ]
  },
  {
   "cell_type": "code",
   "execution_count": 99,
   "id": "904d3001",
   "metadata": {},
   "outputs": [
    {
     "data": {
      "text/html": [
       "<div>\n",
       "<style scoped>\n",
       "    .dataframe tbody tr th:only-of-type {\n",
       "        vertical-align: middle;\n",
       "    }\n",
       "\n",
       "    .dataframe tbody tr th {\n",
       "        vertical-align: top;\n",
       "    }\n",
       "\n",
       "    .dataframe thead th {\n",
       "        text-align: right;\n",
       "    }\n",
       "</style>\n",
       "<table border=\"1\" class=\"dataframe\">\n",
       "  <thead>\n",
       "    <tr style=\"text-align: right;\">\n",
       "      <th></th>\n",
       "      <th>0</th>\n",
       "      <th>1</th>\n",
       "      <th>2</th>\n",
       "      <th>3</th>\n",
       "      <th>4</th>\n",
       "      <th>5</th>\n",
       "      <th>6</th>\n",
       "      <th>7</th>\n",
       "      <th>8</th>\n",
       "      <th>9</th>\n",
       "      <th>...</th>\n",
       "      <th>153</th>\n",
       "      <th>154</th>\n",
       "      <th>155</th>\n",
       "      <th>156</th>\n",
       "      <th>157</th>\n",
       "      <th>158</th>\n",
       "      <th>159</th>\n",
       "      <th>160</th>\n",
       "      <th>161</th>\n",
       "      <th>labels</th>\n",
       "    </tr>\n",
       "  </thead>\n",
       "  <tbody>\n",
       "    <tr>\n",
       "      <th>0</th>\n",
       "      <td>0.234756</td>\n",
       "      <td>0.453023</td>\n",
       "      <td>0.532435</td>\n",
       "      <td>0.675329</td>\n",
       "      <td>0.709075</td>\n",
       "      <td>0.575481</td>\n",
       "      <td>0.525318</td>\n",
       "      <td>0.548347</td>\n",
       "      <td>0.586336</td>\n",
       "      <td>0.646260</td>\n",
       "      <td>...</td>\n",
       "      <td>0.001135</td>\n",
       "      <td>0.000323</td>\n",
       "      <td>0.000474</td>\n",
       "      <td>0.000333</td>\n",
       "      <td>0.000373</td>\n",
       "      <td>0.000384</td>\n",
       "      <td>0.000303</td>\n",
       "      <td>0.000074</td>\n",
       "      <td>2.256767e-06</td>\n",
       "      <td>fear</td>\n",
       "    </tr>\n",
       "    <tr>\n",
       "      <th>1</th>\n",
       "      <td>0.292572</td>\n",
       "      <td>0.522883</td>\n",
       "      <td>0.542099</td>\n",
       "      <td>0.704136</td>\n",
       "      <td>0.773659</td>\n",
       "      <td>0.652858</td>\n",
       "      <td>0.578526</td>\n",
       "      <td>0.611642</td>\n",
       "      <td>0.647129</td>\n",
       "      <td>0.640030</td>\n",
       "      <td>...</td>\n",
       "      <td>0.001458</td>\n",
       "      <td>0.000653</td>\n",
       "      <td>0.000732</td>\n",
       "      <td>0.000635</td>\n",
       "      <td>0.000647</td>\n",
       "      <td>0.000665</td>\n",
       "      <td>0.000677</td>\n",
       "      <td>0.000334</td>\n",
       "      <td>2.781925e-04</td>\n",
       "      <td>fear</td>\n",
       "    </tr>\n",
       "    <tr>\n",
       "      <th>2</th>\n",
       "      <td>0.235400</td>\n",
       "      <td>0.467799</td>\n",
       "      <td>0.526149</td>\n",
       "      <td>0.696491</td>\n",
       "      <td>0.765350</td>\n",
       "      <td>0.596145</td>\n",
       "      <td>0.525455</td>\n",
       "      <td>0.554829</td>\n",
       "      <td>0.576128</td>\n",
       "      <td>0.608458</td>\n",
       "      <td>...</td>\n",
       "      <td>0.000454</td>\n",
       "      <td>0.000127</td>\n",
       "      <td>0.000189</td>\n",
       "      <td>0.000156</td>\n",
       "      <td>0.000179</td>\n",
       "      <td>0.000167</td>\n",
       "      <td>0.000103</td>\n",
       "      <td>0.000026</td>\n",
       "      <td>8.751693e-07</td>\n",
       "      <td>fear</td>\n",
       "    </tr>\n",
       "    <tr>\n",
       "      <th>3</th>\n",
       "      <td>0.244064</td>\n",
       "      <td>0.571490</td>\n",
       "      <td>0.473687</td>\n",
       "      <td>0.541058</td>\n",
       "      <td>0.732877</td>\n",
       "      <td>0.789297</td>\n",
       "      <td>0.602376</td>\n",
       "      <td>0.531433</td>\n",
       "      <td>0.564427</td>\n",
       "      <td>0.588936</td>\n",
       "      <td>...</td>\n",
       "      <td>0.000707</td>\n",
       "      <td>0.000806</td>\n",
       "      <td>0.000699</td>\n",
       "      <td>0.000248</td>\n",
       "      <td>0.000212</td>\n",
       "      <td>0.000182</td>\n",
       "      <td>0.000112</td>\n",
       "      <td>0.000044</td>\n",
       "      <td>5.921338e-07</td>\n",
       "      <td>fear</td>\n",
       "    </tr>\n",
       "    <tr>\n",
       "      <th>4</th>\n",
       "      <td>0.208771</td>\n",
       "      <td>0.471565</td>\n",
       "      <td>0.524938</td>\n",
       "      <td>0.570187</td>\n",
       "      <td>0.558178</td>\n",
       "      <td>0.477314</td>\n",
       "      <td>0.458931</td>\n",
       "      <td>0.627174</td>\n",
       "      <td>0.626698</td>\n",
       "      <td>0.669495</td>\n",
       "      <td>...</td>\n",
       "      <td>0.000595</td>\n",
       "      <td>0.001652</td>\n",
       "      <td>0.002122</td>\n",
       "      <td>0.000607</td>\n",
       "      <td>0.001908</td>\n",
       "      <td>0.001104</td>\n",
       "      <td>0.000152</td>\n",
       "      <td>0.000116</td>\n",
       "      <td>3.131501e-06</td>\n",
       "      <td>happy</td>\n",
       "    </tr>\n",
       "  </tbody>\n",
       "</table>\n",
       "<p>5 rows × 163 columns</p>\n",
       "</div>"
      ],
      "text/plain": [
       "          0         1         2         3         4         5         6  \\\n",
       "0  0.234756  0.453023  0.532435  0.675329  0.709075  0.575481  0.525318   \n",
       "1  0.292572  0.522883  0.542099  0.704136  0.773659  0.652858  0.578526   \n",
       "2  0.235400  0.467799  0.526149  0.696491  0.765350  0.596145  0.525455   \n",
       "3  0.244064  0.571490  0.473687  0.541058  0.732877  0.789297  0.602376   \n",
       "4  0.208771  0.471565  0.524938  0.570187  0.558178  0.477314  0.458931   \n",
       "\n",
       "          7         8         9  ...       153       154       155       156  \\\n",
       "0  0.548347  0.586336  0.646260  ...  0.001135  0.000323  0.000474  0.000333   \n",
       "1  0.611642  0.647129  0.640030  ...  0.001458  0.000653  0.000732  0.000635   \n",
       "2  0.554829  0.576128  0.608458  ...  0.000454  0.000127  0.000189  0.000156   \n",
       "3  0.531433  0.564427  0.588936  ...  0.000707  0.000806  0.000699  0.000248   \n",
       "4  0.627174  0.626698  0.669495  ...  0.000595  0.001652  0.002122  0.000607   \n",
       "\n",
       "        157       158       159       160           161  labels  \n",
       "0  0.000373  0.000384  0.000303  0.000074  2.256767e-06    fear  \n",
       "1  0.000647  0.000665  0.000677  0.000334  2.781925e-04    fear  \n",
       "2  0.000179  0.000167  0.000103  0.000026  8.751693e-07    fear  \n",
       "3  0.000212  0.000182  0.000112  0.000044  5.921338e-07    fear  \n",
       "4  0.001908  0.001104  0.000152  0.000116  3.131501e-06   happy  \n",
       "\n",
       "[5 rows x 163 columns]"
      ]
     },
     "execution_count": 99,
     "metadata": {},
     "output_type": "execute_result"
    }
   ],
   "source": [
    "# Saving features in a csv file to avoid redundant feature extraction\n",
    "Features = pd.DataFrame(x_train)\n",
    "Features['labels'] = y_train\n",
    "Features.to_csv('features.csv', index=False)\n",
    "Features.head()"
   ]
  },
  {
   "cell_type": "code",
   "execution_count": 100,
   "id": "c6be64a2",
   "metadata": {},
   "outputs": [
    {
     "name": "stdout",
     "output_type": "stream",
     "text": [
      "['fear' 'fear' 'fear' ... 'happy' 'happy' 'happy']\n"
     ]
    }
   ],
   "source": [
    "x_train = Features.iloc[: ,:-1].values\n",
    "y_train = Features['labels'].values\n",
    "print(y_train)"
   ]
  },
  {
   "cell_type": "code",
   "execution_count": 101,
   "id": "c7cee47f",
   "metadata": {},
   "outputs": [
    {
     "name": "stdout",
     "output_type": "stream",
     "text": [
      "[[0. 1. 0. 0. 0.]\n",
      " [0. 1. 0. 0. 0.]\n",
      " [0. 1. 0. 0. 0.]\n",
      " ...\n",
      " [0. 0. 1. 0. 0.]\n",
      " [0. 0. 1. 0. 0.]\n",
      " [0. 0. 1. 0. 0.]]\n"
     ]
    }
   ],
   "source": [
    "encoder = sklearn.preprocessing.OneHotEncoder()\n",
    "y_train = encoder.fit_transform(np.array(y_train).reshape(-1,1)).toarray()\n",
    "print(y_train)"
   ]
  },
  {
   "cell_type": "code",
   "execution_count": 102,
   "id": "e59ad66f",
   "metadata": {},
   "outputs": [
    {
     "name": "stdout",
     "output_type": "stream",
     "text": [
      "(216, 162)\n",
      "(216,)\n"
     ]
    }
   ],
   "source": [
    "X, Y = [], []\n",
    "for path, emotion in zip(X_test, Y_test):\n",
    "    feature = get_features(path, False)   \n",
    "    X.append(feature)\n",
    "    Y.append(emotion)\n",
    "\n",
    "print(np.shape(X))\n",
    "print(np.shape(Y))\n",
    "x_test = np.array(X)\n",
    "y_test = np.array(Y)\n"
   ]
  },
  {
   "cell_type": "code",
   "execution_count": 103,
   "id": "bf54dc00",
   "metadata": {},
   "outputs": [
    {
     "data": {
      "text/plain": [
       "55       sad\n",
       "316     fear\n",
       "252     fear\n",
       "262    angry\n",
       "31       sad\n",
       "Name: Emotions, dtype: object"
      ]
     },
     "execution_count": 103,
     "metadata": {},
     "output_type": "execute_result"
    }
   ],
   "source": [
    "Y_test.head(5)"
   ]
  },
  {
   "cell_type": "code",
   "execution_count": 104,
   "id": "6ae3a53f",
   "metadata": {},
   "outputs": [
    {
     "data": {
      "text/plain": [
       "55     data/Actor_03/03-01-04-01-01-02-03.wav\n",
       "316    data/Actor_15/03-01-06-02-01-02-15.wav\n",
       "252    data/Actor_19/03-01-06-02-01-01-19.wav\n",
       "262    data/Actor_19/03-01-05-01-02-02-19.wav\n",
       "31     data/Actor_02/03-01-04-02-01-01-02.wav\n",
       "Name: Path, dtype: object"
      ]
     },
     "execution_count": 104,
     "metadata": {},
     "output_type": "execute_result"
    }
   ],
   "source": [
    "X_test.head(5)"
   ]
  },
  {
   "cell_type": "code",
   "execution_count": 105,
   "id": "afb211d8",
   "metadata": {},
   "outputs": [],
   "source": [
    "encoder = sklearn.preprocessing.OneHotEncoder()\n",
    "y_test = encoder.fit_transform(np.array(y_test).reshape(-1,1)).toarray()"
   ]
  },
  {
   "cell_type": "code",
   "execution_count": 106,
   "id": "76164e33",
   "metadata": {},
   "outputs": [
    {
     "data": {
      "text/plain": [
       "((2592, 162), (2592, 5), (216, 162), (216, 5))"
      ]
     },
     "execution_count": 106,
     "metadata": {},
     "output_type": "execute_result"
    }
   ],
   "source": [
    "# Normalization\n",
    "scaler = sklearn.preprocessing.StandardScaler()\n",
    "x_train = scaler.fit_transform(x_train)\n",
    "x_test = scaler.transform(x_test)\n",
    "x_train.shape, y_train.shape, x_test.shape, y_test.shape"
   ]
  },
  {
   "cell_type": "code",
   "execution_count": 107,
   "id": "3228786c",
   "metadata": {},
   "outputs": [
    {
     "name": "stdout",
     "output_type": "stream",
     "text": [
      "Accuracy: 0.48148148148148145\n"
     ]
    }
   ],
   "source": [
    "model1=MLPClassifier(alpha=0.01, batch_size=64, epsilon=1e-08, hidden_layer_sizes=(500,), learning_rate='adaptive', max_iter=500)\n",
    "model1.fit(x_train,y_train)\n",
    "score = model1.score(x_test, y_test)\n",
    "print(\"Accuracy:\", score)"
   ]
  },
  {
   "cell_type": "code",
   "execution_count": 108,
   "id": "a1164fe9",
   "metadata": {},
   "outputs": [
    {
     "data": {
      "text/plain": [
       "((2592, 162, 1), (2592, 5), (216, 162, 1), (216, 5))"
      ]
     },
     "execution_count": 108,
     "metadata": {},
     "output_type": "execute_result"
    }
   ],
   "source": [
    "# Reshaping train and test data for new model\n",
    "x_train = np.expand_dims(x_train, axis=2)\n",
    "x_test = np.expand_dims(x_test, axis=2)\n",
    "x_train.shape, y_train.shape, x_test.shape, y_test.shape"
   ]
  },
  {
   "cell_type": "markdown",
   "id": "25f7f26a",
   "metadata": {},
   "source": [
    "# old model\n",
    "model=Sequential()\n",
    "model.add(Conv1D(256, kernel_size=5, strides=1, padding='same', activation='relu', input_shape=(x_train.shape[1], 1)))\n",
    "model.add(MaxPooling1D(pool_size=5, strides = 2, padding = 'same'))\n",
    "\n",
    "model.add(Conv1D(256, kernel_size=5, strides=1, padding='same', activation='relu'))\n",
    "model.add(MaxPooling1D(pool_size=5, strides = 2, padding = 'same'))\n",
    "\n",
    "model.add(Conv1D(128, kernel_size=5, strides=1, padding='same', activation='relu'))\n",
    "model.add(MaxPooling1D(pool_size=5, strides = 2, padding = 'same'))\n",
    "model.add(Dropout(0.2))\n",
    "\n",
    "model.add(Conv1D(64, kernel_size=5, strides=1, padding='same', activation='relu'))\n",
    "model.add(MaxPooling1D(pool_size=5, strides = 2, padding = 'same'))\n",
    "\n",
    "model.add(Flatten())\n",
    "model.add(Dense(units=32, activation='relu'))\n",
    "model.add(Dropout(0.3))\n",
    "\n",
    "model.add(Dense(units=8, activation='softmax'))\n",
    "model.compile(optimizer = 'adam' , loss = 'categorical_crossentropy' , metrics = ['accuracy'])\n",
    "\n",
    "model.summary()"
   ]
  },
  {
   "cell_type": "code",
   "execution_count": 109,
   "id": "1860e403",
   "metadata": {},
   "outputs": [
    {
     "name": "stdout",
     "output_type": "stream",
     "text": [
      "Model: \"sequential_3\"\n",
      "_________________________________________________________________\n",
      " Layer (type)                Output Shape              Param #   \n",
      "=================================================================\n",
      " conv1d_24 (Conv1D)          (None, 162, 256)          2304      \n",
      "                                                                 \n",
      " conv1d_25 (Conv1D)          (None, 162, 256)          524544    \n",
      "                                                                 \n",
      " batch_normalization_6 (Bat  (None, 162, 256)          1024      \n",
      " chNormalization)                                                \n",
      "                                                                 \n",
      " dropout_6 (Dropout)         (None, 162, 256)          0         \n",
      "                                                                 \n",
      " max_pooling1d_6 (MaxPoolin  (None, 20, 256)           0         \n",
      " g1D)                                                            \n",
      "                                                                 \n",
      " conv1d_26 (Conv1D)          (None, 20, 128)           262272    \n",
      "                                                                 \n",
      " conv1d_27 (Conv1D)          (None, 20, 128)           131200    \n",
      "                                                                 \n",
      " conv1d_28 (Conv1D)          (None, 20, 128)           131200    \n",
      "                                                                 \n",
      " conv1d_29 (Conv1D)          (None, 20, 128)           131200    \n",
      "                                                                 \n",
      " batch_normalization_7 (Bat  (None, 20, 128)           512       \n",
      " chNormalization)                                                \n",
      "                                                                 \n",
      " dropout_7 (Dropout)         (None, 20, 128)           0         \n",
      "                                                                 \n",
      " max_pooling1d_7 (MaxPoolin  (None, 2, 128)            0         \n",
      " g1D)                                                            \n",
      "                                                                 \n",
      " conv1d_30 (Conv1D)          (None, 2, 64)             65600     \n",
      "                                                                 \n",
      " conv1d_31 (Conv1D)          (None, 2, 64)             32832     \n",
      "                                                                 \n",
      " flatten_3 (Flatten)         (None, 128)               0         \n",
      "                                                                 \n",
      " dense_3 (Dense)             (None, 5)                 645       \n",
      "                                                                 \n",
      "=================================================================\n",
      "Total params: 1283333 (4.90 MB)\n",
      "Trainable params: 1282565 (4.89 MB)\n",
      "Non-trainable params: 768 (3.00 KB)\n",
      "_________________________________________________________________\n"
     ]
    }
   ],
   "source": [
    "model = Sequential()\n",
    "model.add(Conv1D(256, 8, padding='same',activation='relu', input_shape=(x_train.shape[1],1)))  # X_train.shape[1] = No. of Columns\n",
    "model.add(Conv1D(256, 8, padding='same', activation='relu'))\n",
    "model.add(BatchNormalization())\n",
    "model.add(Dropout(0.25))\n",
    "model.add(MaxPooling1D(pool_size=(8)))\n",
    "model.add(Conv1D(128, 8, padding='same', activation='relu'))\n",
    "model.add(Conv1D(128, 8, padding='same',activation='relu'))\n",
    "model.add(Conv1D(128, 8, padding='same',activation='relu'))\n",
    "model.add(Conv1D(128, 8, padding='same',activation='relu'))\n",
    "model.add(BatchNormalization())\n",
    "model.add(Dropout(0.25))\n",
    "model.add(MaxPooling1D(pool_size=(8)))\n",
    "model.add(Conv1D(64, 8, padding='same',activation='relu'))\n",
    "model.add(Conv1D(64, 8, padding='same',activation='relu'))\n",
    "model.add(Flatten())\n",
    "model.add(Dense(y_train.shape[1],activation='softmax')) # Target class number\n",
    "model.compile(optimizer = 'adam' , loss = 'categorical_crossentropy' , metrics = ['accuracy'])\n",
    "model.summary()"
   ]
  },
  {
   "cell_type": "code",
   "execution_count": 110,
   "id": "11e1a441",
   "metadata": {
    "scrolled": false
   },
   "outputs": [
    {
     "name": "stdout",
     "output_type": "stream",
     "text": [
      "Epoch 1/45\n",
      "162/162 [==============================] - 42s 212ms/step - loss: 1.4425 - accuracy: 0.3684 - val_loss: 1.5997 - val_accuracy: 0.2685 - lr: 0.0010\n",
      "Epoch 2/45\n",
      "162/162 [==============================] - 37s 226ms/step - loss: 1.3145 - accuracy: 0.4325 - val_loss: 1.7213 - val_accuracy: 0.3333 - lr: 0.0010\n",
      "Epoch 3/45\n",
      "162/162 [==============================] - 36s 223ms/step - loss: 1.2320 - accuracy: 0.4537 - val_loss: 1.3139 - val_accuracy: 0.4028 - lr: 0.0010\n",
      "Epoch 4/45\n",
      "162/162 [==============================] - 35s 214ms/step - loss: 1.1513 - accuracy: 0.5027 - val_loss: 1.3109 - val_accuracy: 0.4074 - lr: 0.0010\n",
      "Epoch 5/45\n",
      "162/162 [==============================] - 34s 212ms/step - loss: 1.0989 - accuracy: 0.5181 - val_loss: 1.4492 - val_accuracy: 0.4444 - lr: 0.0010\n",
      "Epoch 6/45\n",
      "162/162 [==============================] - 36s 222ms/step - loss: 1.0285 - accuracy: 0.5505 - val_loss: 1.6152 - val_accuracy: 0.4306 - lr: 0.0010\n",
      "Epoch 7/45\n",
      "162/162 [==============================] - 35s 213ms/step - loss: 0.9509 - accuracy: 0.5999 - val_loss: 1.9318 - val_accuracy: 0.3611 - lr: 0.0010\n",
      "Epoch 8/45\n",
      "162/162 [==============================] - 36s 223ms/step - loss: 0.8581 - accuracy: 0.6412 - val_loss: 17.7917 - val_accuracy: 0.4398 - lr: 0.0010\n",
      "Epoch 9/45\n",
      "162/162 [==============================] - 35s 215ms/step - loss: 0.7805 - accuracy: 0.6813 - val_loss: 3.5031 - val_accuracy: 0.3056 - lr: 0.0010\n",
      "Epoch 10/45\n",
      "162/162 [==============================] - 35s 216ms/step - loss: 0.6889 - accuracy: 0.7218 - val_loss: 2.0494 - val_accuracy: 0.4907 - lr: 0.0010\n",
      "Epoch 11/45\n",
      "162/162 [==============================] - 34s 211ms/step - loss: 0.6011 - accuracy: 0.7635 - val_loss: 1.6135 - val_accuracy: 0.4954 - lr: 0.0010\n",
      "Epoch 12/45\n",
      "162/162 [==============================] - 36s 221ms/step - loss: 0.5650 - accuracy: 0.7793 - val_loss: 1.6916 - val_accuracy: 0.5046 - lr: 0.0010\n",
      "Epoch 13/45\n",
      "162/162 [==============================] - 34s 212ms/step - loss: 0.4509 - accuracy: 0.8364 - val_loss: 1.9727 - val_accuracy: 0.4907 - lr: 0.0010\n",
      "Epoch 14/45\n",
      "162/162 [==============================] - 35s 217ms/step - loss: 0.4218 - accuracy: 0.8356 - val_loss: 2.2186 - val_accuracy: 0.5000 - lr: 0.0010\n",
      "Epoch 15/45\n",
      "162/162 [==============================] - 35s 213ms/step - loss: 0.3371 - accuracy: 0.8750 - val_loss: 2.4553 - val_accuracy: 0.5370 - lr: 0.0010\n",
      "Epoch 16/45\n",
      "162/162 [==============================] - 35s 216ms/step - loss: 0.3218 - accuracy: 0.8858 - val_loss: 2.0790 - val_accuracy: 0.5324 - lr: 0.0010\n",
      "Epoch 17/45\n",
      "162/162 [==============================] - 34s 209ms/step - loss: 0.2710 - accuracy: 0.9051 - val_loss: 2.0090 - val_accuracy: 0.5231 - lr: 0.0010\n",
      "Epoch 18/45\n",
      "162/162 [==============================] - 36s 220ms/step - loss: 0.2444 - accuracy: 0.9055 - val_loss: 2.3991 - val_accuracy: 0.5278 - lr: 0.0010\n",
      "Epoch 19/45\n",
      "162/162 [==============================] - 35s 215ms/step - loss: 0.2229 - accuracy: 0.9182 - val_loss: 2.5520 - val_accuracy: 0.5370 - lr: 0.0010\n",
      "Epoch 20/45\n",
      "162/162 [==============================] - 36s 221ms/step - loss: 0.1813 - accuracy: 0.9387 - val_loss: 2.5583 - val_accuracy: 0.5463 - lr: 0.0010\n",
      "Epoch 21/45\n",
      "162/162 [==============================] - 35s 214ms/step - loss: 0.1670 - accuracy: 0.9452 - val_loss: 2.8279 - val_accuracy: 0.5046 - lr: 0.0010\n",
      "Epoch 22/45\n",
      "162/162 [==============================] - 36s 220ms/step - loss: 0.1520 - accuracy: 0.9506 - val_loss: 2.7997 - val_accuracy: 0.5509 - lr: 0.0010\n",
      "Epoch 23/45\n",
      "162/162 [==============================] - 35s 218ms/step - loss: 0.1414 - accuracy: 0.9522 - val_loss: 2.9316 - val_accuracy: 0.5463 - lr: 0.0010\n",
      "Epoch 24/45\n",
      "162/162 [==============================] - 35s 216ms/step - loss: 0.1268 - accuracy: 0.9564 - val_loss: 2.6198 - val_accuracy: 0.5648 - lr: 0.0010\n",
      "Epoch 25/45\n",
      "162/162 [==============================] - 35s 219ms/step - loss: 0.1343 - accuracy: 0.9510 - val_loss: 3.0453 - val_accuracy: 0.5185 - lr: 0.0010\n",
      "Epoch 26/45\n",
      "162/162 [==============================] - 36s 224ms/step - loss: 0.1216 - accuracy: 0.9626 - val_loss: 2.2730 - val_accuracy: 0.5602 - lr: 0.0010\n",
      "Epoch 27/45\n",
      "162/162 [==============================] - 36s 223ms/step - loss: 0.0987 - accuracy: 0.9653 - val_loss: 2.8284 - val_accuracy: 0.5370 - lr: 0.0010\n",
      "Epoch 28/45\n",
      "162/162 [==============================] - 37s 229ms/step - loss: 0.1042 - accuracy: 0.9618 - val_loss: 2.3194 - val_accuracy: 0.5787 - lr: 0.0010\n",
      "Epoch 29/45\n",
      "162/162 [==============================] - 35s 219ms/step - loss: 0.1137 - accuracy: 0.9591 - val_loss: 2.3408 - val_accuracy: 0.5741 - lr: 0.0010\n",
      "Epoch 30/45\n",
      "162/162 [==============================] - 37s 227ms/step - loss: 0.0373 - accuracy: 0.9877 - val_loss: 2.4030 - val_accuracy: 0.5556 - lr: 4.0000e-04\n",
      "Epoch 31/45\n",
      "162/162 [==============================] - 36s 223ms/step - loss: 0.0291 - accuracy: 0.9892 - val_loss: 2.7874 - val_accuracy: 0.5509 - lr: 4.0000e-04\n",
      "Epoch 32/45\n",
      "162/162 [==============================] - 36s 221ms/step - loss: 0.0236 - accuracy: 0.9915 - val_loss: 3.2304 - val_accuracy: 0.5602 - lr: 4.0000e-04\n",
      "Epoch 33/45\n",
      "162/162 [==============================] - 34s 212ms/step - loss: 0.0226 - accuracy: 0.9915 - val_loss: 3.2459 - val_accuracy: 0.5833 - lr: 4.0000e-04\n",
      "Epoch 34/45\n",
      "162/162 [==============================] - 35s 214ms/step - loss: 0.0196 - accuracy: 0.9927 - val_loss: 3.0183 - val_accuracy: 0.5648 - lr: 4.0000e-04\n",
      "Epoch 35/45\n",
      "162/162 [==============================] - 36s 224ms/step - loss: 0.0155 - accuracy: 0.9946 - val_loss: 3.1588 - val_accuracy: 0.5370 - lr: 4.0000e-04\n",
      "Epoch 36/45\n",
      "162/162 [==============================] - 35s 216ms/step - loss: 0.0171 - accuracy: 0.9942 - val_loss: 2.9448 - val_accuracy: 0.5833 - lr: 4.0000e-04\n",
      "Epoch 37/45\n",
      "162/162 [==============================] - 34s 209ms/step - loss: 0.0193 - accuracy: 0.9923 - val_loss: 3.7360 - val_accuracy: 0.5463 - lr: 4.0000e-04\n",
      "Epoch 38/45\n",
      "162/162 [==============================] - 35s 214ms/step - loss: 0.0160 - accuracy: 0.9934 - val_loss: 3.4664 - val_accuracy: 0.5556 - lr: 1.6000e-04\n",
      "Epoch 39/45\n",
      "162/162 [==============================] - 25s 154ms/step - loss: 0.0112 - accuracy: 0.9961 - val_loss: 3.4786 - val_accuracy: 0.5417 - lr: 1.6000e-04\n",
      "Epoch 40/45\n",
      "162/162 [==============================] - 23s 144ms/step - loss: 0.0060 - accuracy: 0.9977 - val_loss: 3.5539 - val_accuracy: 0.5509 - lr: 1.6000e-04\n",
      "Epoch 41/45\n",
      "162/162 [==============================] - 24s 149ms/step - loss: 0.0085 - accuracy: 0.9981 - val_loss: 3.5320 - val_accuracy: 0.5648 - lr: 1.6000e-04\n",
      "Epoch 42/45\n",
      "162/162 [==============================] - 24s 148ms/step - loss: 0.0108 - accuracy: 0.9946 - val_loss: 3.9675 - val_accuracy: 0.5556 - lr: 1.6000e-04\n",
      "Epoch 43/45\n",
      "162/162 [==============================] - 23s 144ms/step - loss: 0.0052 - accuracy: 0.9985 - val_loss: 3.9717 - val_accuracy: 0.5370 - lr: 6.4000e-05\n",
      "Epoch 44/45\n",
      "162/162 [==============================] - 22s 136ms/step - loss: 0.0063 - accuracy: 0.9973 - val_loss: 3.8488 - val_accuracy: 0.5324 - lr: 6.4000e-05\n",
      "Epoch 45/45\n",
      "162/162 [==============================] - 13s 78ms/step - loss: 0.0042 - accuracy: 0.9988 - val_loss: 3.7579 - val_accuracy: 0.5417 - lr: 6.4000e-05\n"
     ]
    }
   ],
   "source": [
    "rlrp = ReduceLROnPlateau(monitor='loss', factor=0.4, verbose=0, patience=2, min_lr=0.0000001)\n",
    "history=model.fit(x_train, y_train, batch_size=16, epochs=45, validation_data=(x_test, y_test), callbacks=[rlrp])"
   ]
  },
  {
   "cell_type": "code",
   "execution_count": 111,
   "id": "d16bd49e",
   "metadata": {},
   "outputs": [
    {
     "name": "stdout",
     "output_type": "stream",
     "text": [
      "1/7 [===>..........................] - ETA: 0s - loss: 2.0481 - accuracy: 0.6250"
     ]
    },
    {
     "name": "stdout",
     "output_type": "stream",
     "text": [
      "7/7 [==============================] - 0s 26ms/step - loss: 3.7579 - accuracy: 0.5417\n",
      "Accuracy of our model on test data :  54.16666865348816 %\n"
     ]
    }
   ],
   "source": [
    "print(\"Accuracy of our model on test data : \" , model.evaluate(x_test, y_test)[1]*100 , \"%\")"
   ]
  },
  {
   "cell_type": "code",
   "execution_count": 112,
   "id": "39c7950c",
   "metadata": {},
   "outputs": [
    {
     "name": "stdout",
     "output_type": "stream",
     "text": [
      "7/7 [==============================] - 0s 25ms/step\n"
     ]
    },
    {
     "data": {
      "text/html": [
       "<div>\n",
       "<style scoped>\n",
       "    .dataframe tbody tr th:only-of-type {\n",
       "        vertical-align: middle;\n",
       "    }\n",
       "\n",
       "    .dataframe tbody tr th {\n",
       "        vertical-align: top;\n",
       "    }\n",
       "\n",
       "    .dataframe thead th {\n",
       "        text-align: right;\n",
       "    }\n",
       "</style>\n",
       "<table border=\"1\" class=\"dataframe\">\n",
       "  <thead>\n",
       "    <tr style=\"text-align: right;\">\n",
       "      <th></th>\n",
       "      <th>Predicted Labels</th>\n",
       "      <th>Actual Labels</th>\n",
       "    </tr>\n",
       "  </thead>\n",
       "  <tbody>\n",
       "    <tr>\n",
       "      <th>0</th>\n",
       "      <td>sad</td>\n",
       "      <td>sad</td>\n",
       "    </tr>\n",
       "    <tr>\n",
       "      <th>1</th>\n",
       "      <td>happy</td>\n",
       "      <td>fear</td>\n",
       "    </tr>\n",
       "    <tr>\n",
       "      <th>2</th>\n",
       "      <td>angry</td>\n",
       "      <td>fear</td>\n",
       "    </tr>\n",
       "    <tr>\n",
       "      <th>3</th>\n",
       "      <td>angry</td>\n",
       "      <td>angry</td>\n",
       "    </tr>\n",
       "    <tr>\n",
       "      <th>4</th>\n",
       "      <td>neutral</td>\n",
       "      <td>sad</td>\n",
       "    </tr>\n",
       "    <tr>\n",
       "      <th>5</th>\n",
       "      <td>sad</td>\n",
       "      <td>sad</td>\n",
       "    </tr>\n",
       "    <tr>\n",
       "      <th>6</th>\n",
       "      <td>angry</td>\n",
       "      <td>angry</td>\n",
       "    </tr>\n",
       "    <tr>\n",
       "      <th>7</th>\n",
       "      <td>angry</td>\n",
       "      <td>fear</td>\n",
       "    </tr>\n",
       "    <tr>\n",
       "      <th>8</th>\n",
       "      <td>sad</td>\n",
       "      <td>sad</td>\n",
       "    </tr>\n",
       "    <tr>\n",
       "      <th>9</th>\n",
       "      <td>neutral</td>\n",
       "      <td>happy</td>\n",
       "    </tr>\n",
       "  </tbody>\n",
       "</table>\n",
       "</div>"
      ],
      "text/plain": [
       "  Predicted Labels Actual Labels\n",
       "0              sad           sad\n",
       "1            happy          fear\n",
       "2            angry          fear\n",
       "3            angry         angry\n",
       "4          neutral           sad\n",
       "5              sad           sad\n",
       "6            angry         angry\n",
       "7            angry          fear\n",
       "8              sad           sad\n",
       "9          neutral         happy"
      ]
     },
     "execution_count": 112,
     "metadata": {},
     "output_type": "execute_result"
    }
   ],
   "source": [
    "pred_test = model.predict(x_test)\n",
    "y_pred = encoder.inverse_transform(pred_test)\n",
    "y_test = encoder.inverse_transform(y_test)\n",
    "df = pd.DataFrame(columns=['Predicted Labels', 'Actual Labels'])\n",
    "df['Predicted Labels'] = y_pred.flatten()\n",
    "df['Actual Labels'] = y_test.flatten()\n",
    "df.head(10)\n"
   ]
  },
  {
   "cell_type": "code",
   "execution_count": 113,
   "id": "9eda3f36",
   "metadata": {},
   "outputs": [
    {
     "data": {
      "image/png": "[encoded data removed]",
      "text/plain": [
       "<Figure size 1200x1000 with 2 Axes>"
      ]
     },
     "metadata": {},
     "output_type": "display_data"
    }
   ],
   "source": [
    "cm = sklearn.metrics.confusion_matrix(y_test, y_pred)\n",
    "plt.figure(figsize = (12, 10))\n",
    "cm = pd.DataFrame(cm , index = [i for i in encoder.categories_] , columns = [i for i in encoder.categories_])\n",
    "sns.heatmap(cm, linecolor='white', cmap='Blues', linewidth=1, annot=True, fmt='')\n",
    "plt.title('Confusion Matrix', size=20)\n",
    "plt.xlabel('Predicted Labels', size=14)\n",
    "plt.ylabel('Actual Labels', size=14)\n",
    "plt.show()"
   ]
  },
  {
   "cell_type": "code",
   "execution_count": 114,
   "id": "db78a11c",
   "metadata": {},
   "outputs": [
    {
     "name": "stdout",
     "output_type": "stream",
     "text": [
      "              precision    recall  f1-score   support\n",
      "\n",
      "       angry       0.52      0.74      0.62        43\n",
      "        fear       0.52      0.25      0.34        52\n",
      "       happy       0.48      0.51      0.50        49\n",
      "     neutral       0.61      0.65      0.63        26\n",
      "         sad       0.60      0.65      0.63        46\n",
      "\n",
      "    accuracy                           0.54       216\n",
      "   macro avg       0.55      0.56      0.54       216\n",
      "weighted avg       0.54      0.54      0.52       216\n",
      "\n"
     ]
    }
   ],
   "source": [
    "print(sklearn.metrics.classification_report(y_test, y_pred))"
   ]
  },
  {
   "cell_type": "code",
   "execution_count": 115,
   "id": "68d82401",
   "metadata": {},
   "outputs": [
    {
     "name": "stdout",
     "output_type": "stream",
     "text": [
      "Requirement already satisfied: tf2onnx in /opt/python/3.10.8/lib/python3.10/site-packages (1.14.0)\n",
      "Requirement already satisfied: numpy>=1.14.1 in /opt/python/3.10.8/lib/python3.10/site-packages (from tf2onnx) (1.24.2)\n",
      "Requirement already satisfied: onnx>=1.4.1 in /opt/python/3.10.8/lib/python3.10/site-packages (from tf2onnx) (1.14.0)\n",
      "Requirement already satisfied: requests in /home/codespace/.local/lib/python3.10/site-packages (from tf2onnx) (2.31.0)\n",
      "Requirement already satisfied: six in /home/codespace/.local/lib/python3.10/site-packages (from tf2onnx) (1.16.0)\n",
      "Requirement already satisfied: flatbuffers<3.0,>=1.12 in /opt/python/3.10.8/lib/python3.10/site-packages (from tf2onnx) (2.0.7)\n",
      "Requirement already satisfied: protobuf>=3.20.2 in /opt/python/3.10.8/lib/python3.10/site-packages (from onnx>=1.4.1->tf2onnx) (4.23.4)\n",
      "Requirement already satisfied: typing-extensions>=3.6.2.1 in /opt/python/3.10.8/lib/python3.10/site-packages (from onnx>=1.4.1->tf2onnx) (4.5.0)\n",
      "Requirement already satisfied: charset-normalizer<4,>=2 in /home/codespace/.local/lib/python3.10/site-packages (from requests->tf2onnx) (3.1.0)\n",
      "Requirement already satisfied: idna<4,>=2.5 in /home/codespace/.local/lib/python3.10/site-packages (from requests->tf2onnx) (3.4)\n",
      "Requirement already satisfied: urllib3<3,>=1.21.1 in /opt/python/3.10.8/lib/python3.10/site-packages (from requests->tf2onnx) (1.26.16)\n",
      "Requirement already satisfied: certifi>=2017.4.17 in /home/codespace/.local/lib/python3.10/site-packages (from requests->tf2onnx) (2023.5.7)\n",
      "\n",
      "\u001b[1m[\u001b[0m\u001b[34;49mnotice\u001b[0m\u001b[1;39;49m]\u001b[0m\u001b[39;49m A new release of pip is available: \u001b[0m\u001b[31;49m23.1.2\u001b[0m\u001b[39;49m -> \u001b[0m\u001b[32;49m23.2.1\u001b[0m\n",
      "\u001b[1m[\u001b[0m\u001b[34;49mnotice\u001b[0m\u001b[1;39;49m]\u001b[0m\u001b[39;49m To update, run: \u001b[0m\u001b[32;49mpip install --upgrade pip\u001b[0m\n",
      "Note: you may need to restart the kernel to use updated packages.\n"
     ]
    }
   ],
   "source": [
    "# pip install tf2onnx"
   ]
  },
  {
   "cell_type": "code",
   "execution_count": 116,
   "id": "219f502c",
   "metadata": {},
   "outputs": [
    {
     "ename": "AttributeError",
     "evalue": "'FuncGraph' object has no attribute '_captures'",
     "output_type": "error",
     "traceback": [
      "\u001b[0;31m---------------------------------------------------------------------------\u001b[0m",
      "\u001b[0;31mAttributeError\u001b[0m                            Traceback (most recent call last)",
      "Cell \u001b[0;32mIn[116], line 4\u001b[0m\n\u001b[1;32m      1\u001b[0m \u001b[39mimport\u001b[39;00m \u001b[39mtf2onnx\u001b[39;00m\n\u001b[1;32m      2\u001b[0m \u001b[39mimport\u001b[39;00m \u001b[39mtensorflow\u001b[39;00m \u001b[39mas\u001b[39;00m \u001b[39mtf\u001b[39;00m\n\u001b[0;32m----> 4\u001b[0m onnx_model, _ \u001b[39m=\u001b[39m tf2onnx\u001b[39m.\u001b[39;49mconvert\u001b[39m.\u001b[39;49mfrom_keras(model)\n\u001b[1;32m      5\u001b[0m tf\u001b[39m.\u001b[39mio\u001b[39m.\u001b[39mwrite_graph(onnx_model, \u001b[39m'\u001b[39m\u001b[39m.\u001b[39m\u001b[39m'\u001b[39m, \u001b[39m'\u001b[39m\u001b[39mmodel.onnx\u001b[39m\u001b[39m'\u001b[39m, as_text\u001b[39m=\u001b[39m\u001b[39mFalse\u001b[39;00m)\n",
      "File \u001b[0;32m~/.python/current/lib/python3.10/site-packages/tf2onnx/convert.py:475\u001b[0m, in \u001b[0;36mfrom_keras\u001b[0;34m(model, input_signature, opset, custom_ops, custom_op_handlers, custom_rewriter, inputs_as_nchw, outputs_as_nchw, extra_opset, shape_override, target, large_model, output_path, optimizers)\u001b[0m\n\u001b[1;32m    472\u001b[0m             tensorflow_core\u001b[39m.\u001b[39mpython\u001b[39m.\u001b[39mkeras\u001b[39m.\u001b[39mbackend\u001b[39m.\u001b[39mlearning_phase \u001b[39m=\u001b[39m old_get_learning_phase\n\u001b[1;32m    474\u001b[0m \u001b[39m# These inputs will be removed during freezing (includes resources, etc.)\u001b[39;00m\n\u001b[0;32m--> 475\u001b[0m graph_captures \u001b[39m=\u001b[39m concrete_func\u001b[39m.\u001b[39;49mgraph\u001b[39m.\u001b[39;49m_captures  \u001b[39m# pylint: disable=protected-access\u001b[39;00m\n\u001b[1;32m    476\u001b[0m captured_inputs \u001b[39m=\u001b[39m [t_name\u001b[39m.\u001b[39mname \u001b[39mfor\u001b[39;00m t_val, t_name \u001b[39min\u001b[39;00m graph_captures\u001b[39m.\u001b[39mvalues()]\n\u001b[1;32m    477\u001b[0m input_names \u001b[39m=\u001b[39m [input_tensor\u001b[39m.\u001b[39mname \u001b[39mfor\u001b[39;00m input_tensor \u001b[39min\u001b[39;00m concrete_func\u001b[39m.\u001b[39minputs\n\u001b[1;32m    478\u001b[0m                \u001b[39mif\u001b[39;00m input_tensor\u001b[39m.\u001b[39mname \u001b[39mnot\u001b[39;00m \u001b[39min\u001b[39;00m captured_inputs]\n",
      "\u001b[0;31mAttributeError\u001b[0m: 'FuncGraph' object has no attribute '_captures'"
     ]
    }
   ],
   "source": [
    "import tf2onnx\n",
    "import tensorflow as tf\n",
    "\n",
    "onnx_model, _ = tf2onnx.convert.from_keras(model)\n",
    "tf.io.write_graph(onnx_model, '.', 'model.onnx', as_text=False)"
   ]
  },
  {
   "cell_type": "code",
   "execution_count": null,
   "id": "66abf64b",
   "metadata": {},
   "outputs": [],
   "source": [
    "# Saved the current model to replicate results\n",
    "#dump(model, open('model.pkl', 'wb'))"
   ]
  },
  {
   "cell_type": "code",
   "execution_count": null,
   "id": "79b75741",
   "metadata": {},
   "outputs": [],
   "source": [
    "from pickle import dump\n",
    "dump(scaler, open('scaler.pkl', 'wb'))"
   ]
  },
  {
   "cell_type": "code",
   "execution_count": null,
   "id": "f1e44fc5",
   "metadata": {},
   "outputs": [],
   "source": [
    "dump(encoder, open('encoder.pkl', 'wb'))"
   ]
  },
  {
   "cell_type": "code",
   "execution_count": null,
   "id": "6f9d8209",
   "metadata": {},
   "outputs": [
    {
     "name": "stdout",
     "output_type": "stream",
     "text": [
      "Input node name: conv1d_input\n",
      "Output node name: dense\n"
     ]
    }
   ],
   "source": [
    "input_name = onnx_model.graph.input[0].name\n",
    "output_name = onnx_model.graph.output[0].name\n",
    "\n",
    "print(\"Input node name:\", input_name)\n",
    "print(\"Output node name:\", output_name)"
   ]
  },
  {
   "cell_type": "code",
   "execution_count": null,
   "id": "7e0b9b50",
   "metadata": {},
   "outputs": [],
   "source": []
  }
 ],
 "metadata": {
  "kernelspec": {
   "display_name": "Python 3 (ipykernel)",
   "language": "python",
   "name": "python3"
  },
  "language_info": {
   "codemirror_mode": {
    "name": "ipython",
    "version": 3
   },
   "file_extension": ".py",
   "mimetype": "text/x-python",
   "name": "python",
   "nbconvert_exporter": "python",
   "pygments_lexer": "ipython3",
   "version": "3.10.8"
  }
 },
 "nbformat": 4,
 "nbformat_minor": 5
}
