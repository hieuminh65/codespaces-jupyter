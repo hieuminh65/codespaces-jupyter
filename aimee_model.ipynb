{
 "cells": [
  {
   "cell_type": "code",
   "execution_count": 1,
   "id": "86f6e99d",
   "metadata": {},
   "outputs": [],
   "source": [
    "#pip install --upgrade \"protobuf<=3.20.1\""
   ]
  },
  {
   "cell_type": "code",
   "execution_count": 2,
   "id": "94c67b7a",
   "metadata": {},
   "outputs": [
    {
     "name": "stderr",
     "output_type": "stream",
     "text": [
      "2023-07-09 13:15:56.278221: I tensorflow/core/platform/cpu_feature_guard.cc:182] This TensorFlow binary is optimized to use available CPU instructions in performance-critical operations.\n",
      "To enable the following instructions: AVX2 FMA, in other operations, rebuild TensorFlow with the appropriate compiler flags.\n"
     ]
    }
   ],
   "source": [
    "#necessary imports\n",
    "import librosa\n",
    "import pandas as pd\n",
    "import numpy as np\n",
    "import sklearn\n",
    "from sklearn import preprocessing\n",
    "from sklearn.model_selection import train_test_split\n",
    "from sklearn.neural_network import MLPClassifier\n",
    "from sklearn.metrics import accuracy_score\n",
    "import glob,os\n",
    "import keras\n",
    "from keras.callbacks import ReduceLROnPlateau\n",
    "from keras.models import Sequential\n",
    "from keras.layers import Dense, Conv1D, MaxPooling1D, Flatten, Dropout, BatchNormalization\n",
    "from keras.utils import np_utils\n",
    "from keras.callbacks import ModelCheckpoint\n",
    "import seaborn as sns\n",
    "import matplotlib.pyplot as plt\n",
    "import random"
   ]
  },
  {
   "cell_type": "code",
   "execution_count": 3,
   "id": "e81b1590",
   "metadata": {},
   "outputs": [],
   "source": [
    "random.seed(1)"
   ]
  },
  {
   "cell_type": "code",
   "execution_count": 4,
   "id": "24703be9",
   "metadata": {},
   "outputs": [],
   "source": [
    "# Extracting features from each .wav file\n",
    "def extract_features(data, sample_rate):\n",
    "    # ZCR\n",
    "    result = np.array([])\n",
    "    zcr = np.mean(librosa.feature.zero_crossing_rate(y=data).T, axis=0)\n",
    "    result=np.hstack((result, zcr)) # stacking horizontally\n",
    "\n",
    "    # Chroma_stft\n",
    "    stft = np.abs(librosa.stft(data))\n",
    "    chroma_stft = np.mean(librosa.feature.chroma_stft(S=stft, sr=sample_rate).T, axis=0)\n",
    "    result = np.hstack((result, chroma_stft)) # stacking horizontally\n",
    "\n",
    "    # MFCC\n",
    "    mfcc = np.mean(librosa.feature.mfcc(y=data, sr=sample_rate).T, axis=0)\n",
    "    result = np.hstack((result, mfcc)) # stacking horizontally\n",
    "\n",
    "    # Root Mean Square Value\n",
    "    rms = np.mean(librosa.feature.rms(y=data).T, axis=0)\n",
    "    result = np.hstack((result, rms)) # stacking horizontally\n",
    "\n",
    "    # MelSpectogram\n",
    "    mel = np.mean(librosa.feature.melspectrogram(y=data, sr=sample_rate).T, axis=0)\n",
    "    result = np.hstack((result, mel)) # stacking horizontally\n",
    "    \n",
    "    return result"
   ]
  },
  {
   "cell_type": "code",
   "execution_count": 5,
   "id": "df4429c4",
   "metadata": {},
   "outputs": [],
   "source": [
    "def noise(data):\n",
    "    noise_amp = 0.035*np.random.uniform()*np.amax(data)\n",
    "    data = data + noise_amp*np.random.normal(size=data.shape[0])\n",
    "    return data\n",
    "\n",
    "def stretch(data, rate=0.8):\n",
    "    return librosa.effects.time_stretch(data, rate = rate)\n",
    "\n",
    "def shift(data):\n",
    "    shift_range = int(np.random.uniform(low=-5, high = 5)*1000)\n",
    "    return np.roll(data, shift_range)\n",
    "\n",
    "def pitch(data, sampling_rate, pitch_factor=0.7):\n",
    "    return librosa.effects.pitch_shift(data, sr = sampling_rate, n_steps = pitch_factor)\n"
   ]
  },
  {
   "cell_type": "code",
   "execution_count": 6,
   "id": "b02f1828",
   "metadata": {},
   "outputs": [],
   "source": [
    "#Emotions in the dataset\n",
    "emotions={\n",
    "  '01':'neutral',\n",
    "  #'02':'calm',\n",
    "  '03':'happy',\n",
    "  '04':'sad',\n",
    "  '05':'angry',\n",
    "  '06':'fearful',\n",
    "  #'07':'disgust',\n",
    "  #'08':'surprised'\n",
    "}\n",
    "\n",
    "#Emotions to observe\n",
    "#observed_emotions=['calm', 'happy', 'fearful', 'disgust', 'sad']\n"
   ]
  },
  {
   "cell_type": "code",
   "execution_count": 7,
   "id": "0aa4489a",
   "metadata": {},
   "outputs": [],
   "source": [
    "def get_features(path, isTraining):\n",
    "    # duration and offset are used to take care of the no audio in start and the ending of each audio files as seen above.\n",
    "    #data, sample_rate = librosa.load(path, duration=2.5, offset=0.6)\n",
    "    data, sample_rate = librosa.load(path, duration=2, offset=0.6, sr=8025)\n",
    "    \n",
    "    # without augmentation\n",
    "    res1 = extract_features(data, sample_rate)\n",
    "    result = np.array(res1)\n",
    "    \n",
    "    # Augmenting only training data and skipping augmentation for test data\n",
    "    if isTraining:\n",
    "        \n",
    "        # data with noise\n",
    "        noise_data = noise(data)\n",
    "        res2 = extract_features(noise_data, sample_rate)\n",
    "        result = np.vstack((result, res2)) # stacking vertically\n",
    "\n",
    "        # data with stretching \n",
    "        stretched_data = stretch(data)\n",
    "        res3 = extract_features(stretched_data, sample_rate)\n",
    "        result = np.vstack((result, res3)) # stacking vertically\n",
    "        \n",
    "        # data with pitch offset\n",
    "        data_pitch = pitch(data, sample_rate)\n",
    "        res4 = extract_features(data_pitch, sample_rate)\n",
    "        result = np.vstack((result, res4)) # stacking vertically\n",
    "    \n",
    "    return result"
   ]
  },
  {
   "cell_type": "code",
   "execution_count": 8,
   "id": "cb984459",
   "metadata": {},
   "outputs": [
    {
     "name": "stdout",
     "output_type": "stream",
     "text": [
      "['Actor_16', 'Actor_11', 'Actor_18', 'Actor_20', 'Actor_21', 'Actor_19', 'Actor_10', 'Actor_17', '.DS_Store', 'Actor_04', 'Actor_03', 'Actor_02', 'Actor_05', 'Actor_12', 'Actor_15', 'Actor_23', 'Actor_24', 'Actor_22', 'Actor_14', 'Actor_13', 'Actor_09', 'Actor_07', 'Actor_06', 'Actor_01', 'Actor_08']\n"
     ]
    }
   ],
   "source": [
    "# Creating Dataframes\n",
    "Ravdess = \"data/\"\n",
    "ravdess_directory_list = os.listdir(Ravdess)\n",
    "print(ravdess_directory_list)\n",
    "file_emotion = []\n",
    "file_path = []\n",
    "\n",
    "for folder in glob.glob(f\"{Ravdess}Actor_*\"):\n",
    "    # as their are 20 different actors in our previous directory we need to extract files for each actor.\n",
    "    actor = os.listdir(folder)\n",
    "    for file in actor:\n",
    "        part = file.split('.')[0]\n",
    "        part = part.split('-')\n",
    "        # third part in each file represents the emotion associated to that file.\n",
    "        if part[2] not in emotions.keys():\n",
    "            continue\n",
    "        file_emotion.append(int(part[2]))\n",
    "        file_path.append(folder + '/' + file)\n",
    "        \n",
    "# dataframe for emotion of files\n",
    "emotion_df = pd.DataFrame(file_emotion, columns=['Emotions'])\n",
    "\n",
    "\n",
    "# dataframe for path of files\n",
    "path_df = pd.DataFrame(file_path, columns=['Path'])\n",
    "Ravdess_df = pd.concat([emotion_df, path_df], axis=1)\n",
    "\n",
    "# Mapping integers to corresponding emotions\n",
    "Ravdess_df.Emotions.replace({1:'neutral', 3:'happy', 4:'sad', 5:'angry', 6:'fear'}, inplace=True)\n",
    "Ravdess_df.head()\n",
    "\n",
    "X, Y = Ravdess_df[\"Path\"], Ravdess_df[\"Emotions\"]"
   ]
  },
  {
   "cell_type": "code",
   "execution_count": 9,
   "id": "bb1a1a63",
   "metadata": {},
   "outputs": [],
   "source": [
    "X_train, X_test, Y_train, Y_test = train_test_split(X, Y, random_state=0, shuffle=True)"
   ]
  },
  {
   "cell_type": "code",
   "execution_count": 10,
   "id": "0aa2e4be",
   "metadata": {},
   "outputs": [
    {
     "name": "stdout",
     "output_type": "stream",
     "text": [
      "(648,)\n",
      "(648,)\n",
      "(216,)\n",
      "(216,)\n"
     ]
    }
   ],
   "source": [
    "print(np.shape(X_train))\n",
    "print(np.shape(Y_train))\n",
    "print(np.shape(X_test))\n",
    "print(np.shape(Y_test))"
   ]
  },
  {
   "cell_type": "code",
   "execution_count": 11,
   "id": "d8323543",
   "metadata": {
    "scrolled": false
   },
   "outputs": [],
   "source": [
    "X, Y = [], []\n",
    "for path, emotion in zip(X_train, Y_train):\n",
    "    feature = get_features(path, True)\n",
    "    for ele in feature:\n",
    "        X.append(ele)\n",
    "        # appending emotion 4 times as we have applied 4 augmentation techniques on each audio file\n",
    "        Y.append(emotion)\n",
    "x_train = X\n",
    "y_train = Y"
   ]
  },
  {
   "cell_type": "code",
   "execution_count": 12,
   "id": "904d3001",
   "metadata": {},
   "outputs": [
    {
     "data": {
      "text/html": [
       "<div>\n",
       "<style scoped>\n",
       "    .dataframe tbody tr th:only-of-type {\n",
       "        vertical-align: middle;\n",
       "    }\n",
       "\n",
       "    .dataframe tbody tr th {\n",
       "        vertical-align: top;\n",
       "    }\n",
       "\n",
       "    .dataframe thead th {\n",
       "        text-align: right;\n",
       "    }\n",
       "</style>\n",
       "<table border=\"1\" class=\"dataframe\">\n",
       "  <thead>\n",
       "    <tr style=\"text-align: right;\">\n",
       "      <th></th>\n",
       "      <th>0</th>\n",
       "      <th>1</th>\n",
       "      <th>2</th>\n",
       "      <th>3</th>\n",
       "      <th>4</th>\n",
       "      <th>5</th>\n",
       "      <th>6</th>\n",
       "      <th>7</th>\n",
       "      <th>8</th>\n",
       "      <th>9</th>\n",
       "      <th>...</th>\n",
       "      <th>153</th>\n",
       "      <th>154</th>\n",
       "      <th>155</th>\n",
       "      <th>156</th>\n",
       "      <th>157</th>\n",
       "      <th>158</th>\n",
       "      <th>159</th>\n",
       "      <th>160</th>\n",
       "      <th>161</th>\n",
       "      <th>labels</th>\n",
       "    </tr>\n",
       "  </thead>\n",
       "  <tbody>\n",
       "    <tr>\n",
       "      <th>0</th>\n",
       "      <td>0.142563</td>\n",
       "      <td>0.541626</td>\n",
       "      <td>0.427574</td>\n",
       "      <td>0.370788</td>\n",
       "      <td>0.516711</td>\n",
       "      <td>0.609493</td>\n",
       "      <td>0.656977</td>\n",
       "      <td>0.500112</td>\n",
       "      <td>0.454026</td>\n",
       "      <td>0.584128</td>\n",
       "      <td>...</td>\n",
       "      <td>0.000919</td>\n",
       "      <td>0.000895</td>\n",
       "      <td>0.000541</td>\n",
       "      <td>0.000355</td>\n",
       "      <td>0.000247</td>\n",
       "      <td>0.000344</td>\n",
       "      <td>0.000296</td>\n",
       "      <td>0.000039</td>\n",
       "      <td>8.814712e-07</td>\n",
       "      <td>sad</td>\n",
       "    </tr>\n",
       "    <tr>\n",
       "      <th>1</th>\n",
       "      <td>0.190338</td>\n",
       "      <td>0.473212</td>\n",
       "      <td>0.396635</td>\n",
       "      <td>0.519017</td>\n",
       "      <td>0.624146</td>\n",
       "      <td>0.684335</td>\n",
       "      <td>0.557526</td>\n",
       "      <td>0.471743</td>\n",
       "      <td>0.571822</td>\n",
       "      <td>0.663548</td>\n",
       "      <td>...</td>\n",
       "      <td>0.001181</td>\n",
       "      <td>0.001082</td>\n",
       "      <td>0.000752</td>\n",
       "      <td>0.000587</td>\n",
       "      <td>0.000482</td>\n",
       "      <td>0.000547</td>\n",
       "      <td>0.000507</td>\n",
       "      <td>0.000250</td>\n",
       "      <td>2.146678e-04</td>\n",
       "      <td>sad</td>\n",
       "    </tr>\n",
       "    <tr>\n",
       "      <th>2</th>\n",
       "      <td>0.149792</td>\n",
       "      <td>0.523566</td>\n",
       "      <td>0.359173</td>\n",
       "      <td>0.386047</td>\n",
       "      <td>0.566976</td>\n",
       "      <td>0.613608</td>\n",
       "      <td>0.615938</td>\n",
       "      <td>0.445678</td>\n",
       "      <td>0.435702</td>\n",
       "      <td>0.627575</td>\n",
       "      <td>...</td>\n",
       "      <td>0.000488</td>\n",
       "      <td>0.000389</td>\n",
       "      <td>0.000277</td>\n",
       "      <td>0.000210</td>\n",
       "      <td>0.000123</td>\n",
       "      <td>0.000162</td>\n",
       "      <td>0.000142</td>\n",
       "      <td>0.000023</td>\n",
       "      <td>5.559601e-07</td>\n",
       "      <td>sad</td>\n",
       "    </tr>\n",
       "    <tr>\n",
       "      <th>3</th>\n",
       "      <td>0.151443</td>\n",
       "      <td>0.582611</td>\n",
       "      <td>0.442894</td>\n",
       "      <td>0.352675</td>\n",
       "      <td>0.490272</td>\n",
       "      <td>0.602543</td>\n",
       "      <td>0.638238</td>\n",
       "      <td>0.501230</td>\n",
       "      <td>0.415887</td>\n",
       "      <td>0.540462</td>\n",
       "      <td>...</td>\n",
       "      <td>0.000349</td>\n",
       "      <td>0.000626</td>\n",
       "      <td>0.000525</td>\n",
       "      <td>0.000531</td>\n",
       "      <td>0.000380</td>\n",
       "      <td>0.000214</td>\n",
       "      <td>0.000110</td>\n",
       "      <td>0.000022</td>\n",
       "      <td>7.930648e-07</td>\n",
       "      <td>sad</td>\n",
       "    </tr>\n",
       "    <tr>\n",
       "      <th>4</th>\n",
       "      <td>0.153275</td>\n",
       "      <td>0.466349</td>\n",
       "      <td>0.670371</td>\n",
       "      <td>0.679764</td>\n",
       "      <td>0.714558</td>\n",
       "      <td>0.730964</td>\n",
       "      <td>0.628781</td>\n",
       "      <td>0.532350</td>\n",
       "      <td>0.601436</td>\n",
       "      <td>0.687315</td>\n",
       "      <td>...</td>\n",
       "      <td>0.000776</td>\n",
       "      <td>0.000694</td>\n",
       "      <td>0.000658</td>\n",
       "      <td>0.000603</td>\n",
       "      <td>0.000240</td>\n",
       "      <td>0.000189</td>\n",
       "      <td>0.000125</td>\n",
       "      <td>0.000014</td>\n",
       "      <td>1.404203e-07</td>\n",
       "      <td>fear</td>\n",
       "    </tr>\n",
       "  </tbody>\n",
       "</table>\n",
       "<p>5 rows × 163 columns</p>\n",
       "</div>"
      ],
      "text/plain": [
       "          0         1         2         3         4         5         6  \\\n",
       "0  0.142563  0.541626  0.427574  0.370788  0.516711  0.609493  0.656977   \n",
       "1  0.190338  0.473212  0.396635  0.519017  0.624146  0.684335  0.557526   \n",
       "2  0.149792  0.523566  0.359173  0.386047  0.566976  0.613608  0.615938   \n",
       "3  0.151443  0.582611  0.442894  0.352675  0.490272  0.602543  0.638238   \n",
       "4  0.153275  0.466349  0.670371  0.679764  0.714558  0.730964  0.628781   \n",
       "\n",
       "          7         8         9  ...       153       154       155       156  \\\n",
       "0  0.500112  0.454026  0.584128  ...  0.000919  0.000895  0.000541  0.000355   \n",
       "1  0.471743  0.571822  0.663548  ...  0.001181  0.001082  0.000752  0.000587   \n",
       "2  0.445678  0.435702  0.627575  ...  0.000488  0.000389  0.000277  0.000210   \n",
       "3  0.501230  0.415887  0.540462  ...  0.000349  0.000626  0.000525  0.000531   \n",
       "4  0.532350  0.601436  0.687315  ...  0.000776  0.000694  0.000658  0.000603   \n",
       "\n",
       "        157       158       159       160           161  labels  \n",
       "0  0.000247  0.000344  0.000296  0.000039  8.814712e-07     sad  \n",
       "1  0.000482  0.000547  0.000507  0.000250  2.146678e-04     sad  \n",
       "2  0.000123  0.000162  0.000142  0.000023  5.559601e-07     sad  \n",
       "3  0.000380  0.000214  0.000110  0.000022  7.930648e-07     sad  \n",
       "4  0.000240  0.000189  0.000125  0.000014  1.404203e-07    fear  \n",
       "\n",
       "[5 rows x 163 columns]"
      ]
     },
     "execution_count": 12,
     "metadata": {},
     "output_type": "execute_result"
    }
   ],
   "source": [
    "# Saving features in a csv file to avoid redundant feature extraction\n",
    "Features = pd.DataFrame(x_train)\n",
    "Features['labels'] = y_train\n",
    "Features.to_csv('features.csv', index=False)\n",
    "Features.head()"
   ]
  },
  {
   "cell_type": "code",
   "execution_count": 13,
   "id": "c6be64a2",
   "metadata": {},
   "outputs": [
    {
     "name": "stdout",
     "output_type": "stream",
     "text": [
      "['sad' 'sad' 'sad' ... 'angry' 'angry' 'angry']\n"
     ]
    }
   ],
   "source": [
    "x_train = Features.iloc[: ,:-1].values\n",
    "y_train = Features['labels'].values\n",
    "print(y_train)"
   ]
  },
  {
   "cell_type": "code",
   "execution_count": 14,
   "id": "c7cee47f",
   "metadata": {},
   "outputs": [
    {
     "name": "stdout",
     "output_type": "stream",
     "text": [
      "[[0. 0. 0. 0. 1.]\n",
      " [0. 0. 0. 0. 1.]\n",
      " [0. 0. 0. 0. 1.]\n",
      " ...\n",
      " [1. 0. 0. 0. 0.]\n",
      " [1. 0. 0. 0. 0.]\n",
      " [1. 0. 0. 0. 0.]]\n"
     ]
    }
   ],
   "source": [
    "encoder = sklearn.preprocessing.OneHotEncoder()\n",
    "y_train = encoder.fit_transform(np.array(y_train).reshape(-1,1)).toarray()\n",
    "print(y_train)"
   ]
  },
  {
   "cell_type": "code",
   "execution_count": 15,
   "id": "e59ad66f",
   "metadata": {},
   "outputs": [
    {
     "name": "stdout",
     "output_type": "stream",
     "text": [
      "(216, 162)\n",
      "(216,)\n"
     ]
    }
   ],
   "source": [
    "X, Y = [], []\n",
    "for path, emotion in zip(X_test, Y_test):\n",
    "    feature = get_features(path, False)   \n",
    "    X.append(feature)\n",
    "    Y.append(emotion)\n",
    "\n",
    "print(np.shape(X))\n",
    "print(np.shape(Y))\n",
    "x_test = np.array(X)\n",
    "y_test = np.array(Y)\n"
   ]
  },
  {
   "cell_type": "code",
   "execution_count": 16,
   "id": "bf54dc00",
   "metadata": {},
   "outputs": [
    {
     "data": {
      "text/plain": [
       "55     angry\n",
       "316    happy\n",
       "252      sad\n",
       "262    happy\n",
       "31     angry\n",
       "Name: Emotions, dtype: object"
      ]
     },
     "execution_count": 16,
     "metadata": {},
     "output_type": "execute_result"
    }
   ],
   "source": [
    "Y_test.head(5)"
   ]
  },
  {
   "cell_type": "code",
   "execution_count": 17,
   "id": "6ae3a53f",
   "metadata": {},
   "outputs": [
    {
     "data": {
      "text/plain": [
       "55     data/Actor_11/03-01-05-01-02-02-11.wav\n",
       "316    data/Actor_04/03-01-03-01-02-02-04.wav\n",
       "252    data/Actor_17/03-01-04-02-02-02-17.wav\n",
       "262    data/Actor_17/03-01-03-01-02-01-17.wav\n",
       "31     data/Actor_16/03-01-05-01-01-01-16.wav\n",
       "Name: Path, dtype: object"
      ]
     },
     "execution_count": 17,
     "metadata": {},
     "output_type": "execute_result"
    }
   ],
   "source": [
    "X_test.head(5)"
   ]
  },
  {
   "cell_type": "code",
   "execution_count": 18,
   "id": "afb211d8",
   "metadata": {},
   "outputs": [],
   "source": [
    "encoder = sklearn.preprocessing.OneHotEncoder()\n",
    "y_test = encoder.fit_transform(np.array(y_test).reshape(-1,1)).toarray()"
   ]
  },
  {
   "cell_type": "code",
   "execution_count": 19,
   "id": "76164e33",
   "metadata": {},
   "outputs": [
    {
     "data": {
      "text/plain": [
       "((2592, 162), (2592, 5), (216, 162), (216, 5))"
      ]
     },
     "execution_count": 19,
     "metadata": {},
     "output_type": "execute_result"
    }
   ],
   "source": [
    "# Normalization\n",
    "scaler = sklearn.preprocessing.StandardScaler()\n",
    "x_train = scaler.fit_transform(x_train)\n",
    "x_test = scaler.transform(x_test)\n",
    "x_train.shape, y_train.shape, x_test.shape, y_test.shape"
   ]
  },
  {
   "cell_type": "code",
   "execution_count": 20,
   "id": "3228786c",
   "metadata": {},
   "outputs": [
    {
     "name": "stdout",
     "output_type": "stream",
     "text": [
      "Accuracy: 0.5092592592592593\n"
     ]
    }
   ],
   "source": [
    "model1=MLPClassifier(alpha=0.01, batch_size=64, epsilon=1e-08, hidden_layer_sizes=(500,), learning_rate='adaptive', max_iter=500)\n",
    "model1.fit(x_train,y_train)\n",
    "score = model1.score(x_test, y_test)\n",
    "print(\"Accuracy:\", score)"
   ]
  },
  {
   "cell_type": "code",
   "execution_count": 21,
   "id": "a1164fe9",
   "metadata": {},
   "outputs": [
    {
     "data": {
      "text/plain": [
       "((2592, 162, 1), (2592, 5), (216, 162, 1), (216, 5))"
      ]
     },
     "execution_count": 21,
     "metadata": {},
     "output_type": "execute_result"
    }
   ],
   "source": [
    "# Reshaping train and test data for new model\n",
    "x_train = np.expand_dims(x_train, axis=2)\n",
    "x_test = np.expand_dims(x_test, axis=2)\n",
    "x_train.shape, y_train.shape, x_test.shape, y_test.shape"
   ]
  },
  {
   "cell_type": "markdown",
   "id": "25f7f26a",
   "metadata": {},
   "source": [
    "# old model\n",
    "model=Sequential()\n",
    "model.add(Conv1D(256, kernel_size=5, strides=1, padding='same', activation='relu', input_shape=(x_train.shape[1], 1)))\n",
    "model.add(MaxPooling1D(pool_size=5, strides = 2, padding = 'same'))\n",
    "\n",
    "model.add(Conv1D(256, kernel_size=5, strides=1, padding='same', activation='relu'))\n",
    "model.add(MaxPooling1D(pool_size=5, strides = 2, padding = 'same'))\n",
    "\n",
    "model.add(Conv1D(128, kernel_size=5, strides=1, padding='same', activation='relu'))\n",
    "model.add(MaxPooling1D(pool_size=5, strides = 2, padding = 'same'))\n",
    "model.add(Dropout(0.2))\n",
    "\n",
    "model.add(Conv1D(64, kernel_size=5, strides=1, padding='same', activation='relu'))\n",
    "model.add(MaxPooling1D(pool_size=5, strides = 2, padding = 'same'))\n",
    "\n",
    "model.add(Flatten())\n",
    "model.add(Dense(units=32, activation='relu'))\n",
    "model.add(Dropout(0.3))\n",
    "\n",
    "model.add(Dense(units=8, activation='softmax'))\n",
    "model.compile(optimizer = 'adam' , loss = 'categorical_crossentropy' , metrics = ['accuracy'])\n",
    "\n",
    "model.summary()"
   ]
  },
  {
   "cell_type": "code",
   "execution_count": 22,
   "id": "1860e403",
   "metadata": {},
   "outputs": [
    {
     "name": "stdout",
     "output_type": "stream",
     "text": [
      "Model: \"sequential\"\n",
      "_________________________________________________________________\n",
      " Layer (type)                Output Shape              Param #   \n",
      "=================================================================\n",
      " conv1d (Conv1D)             (None, 162, 256)          2304      \n",
      "                                                                 \n",
      " conv1d_1 (Conv1D)           (None, 162, 256)          524544    \n",
      "                                                                 \n",
      " batch_normalization (BatchN  (None, 162, 256)         1024      \n",
      " ormalization)                                                   \n",
      "                                                                 \n",
      " dropout (Dropout)           (None, 162, 256)          0         \n",
      "                                                                 \n",
      " max_pooling1d (MaxPooling1D  (None, 20, 256)          0         \n",
      " )                                                               \n",
      "                                                                 \n",
      " conv1d_2 (Conv1D)           (None, 20, 128)           262272    \n",
      "                                                                 \n",
      " conv1d_3 (Conv1D)           (None, 20, 128)           131200    \n",
      "                                                                 \n",
      " conv1d_4 (Conv1D)           (None, 20, 128)           131200    \n",
      "                                                                 \n",
      " conv1d_5 (Conv1D)           (None, 20, 128)           131200    \n",
      "                                                                 \n",
      " batch_normalization_1 (Batc  (None, 20, 128)          512       \n",
      " hNormalization)                                                 \n",
      "                                                                 \n",
      " dropout_1 (Dropout)         (None, 20, 128)           0         \n",
      "                                                                 \n",
      " max_pooling1d_1 (MaxPooling  (None, 2, 128)           0         \n",
      " 1D)                                                             \n",
      "                                                                 \n",
      " conv1d_6 (Conv1D)           (None, 2, 64)             65600     \n",
      "                                                                 \n",
      " conv1d_7 (Conv1D)           (None, 2, 64)             32832     \n",
      "                                                                 \n",
      " flatten (Flatten)           (None, 128)               0         \n",
      "                                                                 \n",
      " dense (Dense)               (None, 5)                 645       \n",
      "                                                                 \n",
      "=================================================================\n",
      "Total params: 1,283,333\n",
      "Trainable params: 1,282,565\n",
      "Non-trainable params: 768\n",
      "_________________________________________________________________\n"
     ]
    }
   ],
   "source": [
    "model = Sequential()\n",
    "model.add(Conv1D(256, 8, padding='same',activation='relu', input_shape=(x_train.shape[1],1)))  # X_train.shape[1] = No. of Columns\n",
    "model.add(Conv1D(256, 8, padding='same', activation='relu'))\n",
    "model.add(BatchNormalization())\n",
    "model.add(Dropout(0.25))\n",
    "model.add(MaxPooling1D(pool_size=(8)))\n",
    "model.add(Conv1D(128, 8, padding='same', activation='relu'))\n",
    "model.add(Conv1D(128, 8, padding='same',activation='relu'))\n",
    "model.add(Conv1D(128, 8, padding='same',activation='relu'))\n",
    "model.add(Conv1D(128, 8, padding='same',activation='relu'))\n",
    "model.add(BatchNormalization())\n",
    "model.add(Dropout(0.25))\n",
    "model.add(MaxPooling1D(pool_size=(8)))\n",
    "model.add(Conv1D(64, 8, padding='same',activation='relu'))\n",
    "model.add(Conv1D(64, 8, padding='same',activation='relu'))\n",
    "model.add(Flatten())\n",
    "model.add(Dense(y_train.shape[1],activation='softmax')) # Target class number\n",
    "model.compile(optimizer = 'adam' , loss = 'categorical_crossentropy' , metrics = ['accuracy'])\n",
    "model.summary()"
   ]
  },
  {
   "cell_type": "code",
   "execution_count": 23,
   "id": "11e1a441",
   "metadata": {
    "scrolled": false
   },
   "outputs": [
    {
     "name": "stdout",
     "output_type": "stream",
     "text": [
      "Epoch 1/50\n",
      "162/162 [==============================] - 12s 60ms/step - loss: 1.4574 - accuracy: 0.3492 - val_loss: 1.4739 - val_accuracy: 0.3380 - lr: 0.0010\n",
      "Epoch 2/50\n",
      "162/162 [==============================] - 10s 63ms/step - loss: 1.3360 - accuracy: 0.4059 - val_loss: 1.3402 - val_accuracy: 0.4769 - lr: 0.0010\n",
      "Epoch 3/50\n",
      "162/162 [==============================] - 10s 61ms/step - loss: 1.2307 - accuracy: 0.4641 - val_loss: 1.3152 - val_accuracy: 0.4167 - lr: 0.0010\n",
      "Epoch 4/50\n",
      "162/162 [==============================] - 13s 81ms/step - loss: 1.1796 - accuracy: 0.5004 - val_loss: 1.9356 - val_accuracy: 0.4074 - lr: 0.0010\n",
      "Epoch 5/50\n",
      "162/162 [==============================] - 13s 79ms/step - loss: 1.1445 - accuracy: 0.5004 - val_loss: 1.6837 - val_accuracy: 0.4259 - lr: 0.0010\n",
      "Epoch 6/50\n",
      "162/162 [==============================] - 12s 71ms/step - loss: 1.0858 - accuracy: 0.5363 - val_loss: 1.8248 - val_accuracy: 0.3657 - lr: 0.0010\n",
      "Epoch 7/50\n",
      "162/162 [==============================] - 11s 71ms/step - loss: 1.0165 - accuracy: 0.5552 - val_loss: 2.3548 - val_accuracy: 0.3241 - lr: 0.0010\n",
      "Epoch 8/50\n",
      "162/162 [==============================] - 11s 70ms/step - loss: 0.9667 - accuracy: 0.5872 - val_loss: 1.3791 - val_accuracy: 0.4213 - lr: 0.0010\n",
      "Epoch 9/50\n",
      "162/162 [==============================] - 11s 69ms/step - loss: 0.9443 - accuracy: 0.5999 - val_loss: 2.7305 - val_accuracy: 0.4444 - lr: 0.0010\n",
      "Epoch 10/50\n",
      "162/162 [==============================] - 13s 80ms/step - loss: 0.8357 - accuracy: 0.6512 - val_loss: 1.2469 - val_accuracy: 0.5463 - lr: 0.0010\n",
      "Epoch 11/50\n",
      "162/162 [==============================] - 13s 82ms/step - loss: 0.7621 - accuracy: 0.6794 - val_loss: 2.8831 - val_accuracy: 0.3565 - lr: 0.0010\n",
      "Epoch 12/50\n",
      "162/162 [==============================] - 16s 98ms/step - loss: 0.6792 - accuracy: 0.7234 - val_loss: 1.4489 - val_accuracy: 0.4444 - lr: 0.0010\n",
      "Epoch 13/50\n",
      "162/162 [==============================] - 14s 90ms/step - loss: 0.5883 - accuracy: 0.7531 - val_loss: 1.5746 - val_accuracy: 0.5509 - lr: 0.0010\n",
      "Epoch 14/50\n",
      "162/162 [==============================] - 14s 88ms/step - loss: 0.5272 - accuracy: 0.7882 - val_loss: 1.2324 - val_accuracy: 0.5509 - lr: 0.0010\n",
      "Epoch 15/50\n",
      "162/162 [==============================] - 12s 72ms/step - loss: 0.4651 - accuracy: 0.8275 - val_loss: 1.8910 - val_accuracy: 0.5417 - lr: 0.0010\n",
      "Epoch 16/50\n",
      "162/162 [==============================] - 12s 72ms/step - loss: 0.7173 - accuracy: 0.7199 - val_loss: 1.3742 - val_accuracy: 0.5185 - lr: 0.0010\n",
      "Epoch 17/50\n",
      "162/162 [==============================] - 14s 86ms/step - loss: 0.4608 - accuracy: 0.8194 - val_loss: 1.1489 - val_accuracy: 0.5741 - lr: 0.0010\n",
      "Epoch 18/50\n",
      "162/162 [==============================] - 13s 83ms/step - loss: 0.3533 - accuracy: 0.8665 - val_loss: 1.8766 - val_accuracy: 0.4769 - lr: 0.0010\n",
      "Epoch 19/50\n",
      "162/162 [==============================] - 14s 84ms/step - loss: 0.3070 - accuracy: 0.8866 - val_loss: 4.1032 - val_accuracy: 0.3704 - lr: 0.0010\n",
      "Epoch 20/50\n",
      "162/162 [==============================] - 14s 86ms/step - loss: 0.2841 - accuracy: 0.8993 - val_loss: 1.5017 - val_accuracy: 0.5509 - lr: 0.0010\n",
      "Epoch 21/50\n",
      "162/162 [==============================] - 14s 86ms/step - loss: 0.2309 - accuracy: 0.9163 - val_loss: 1.8636 - val_accuracy: 0.5880 - lr: 0.0010\n",
      "Epoch 22/50\n",
      "162/162 [==============================] - 16s 97ms/step - loss: 0.2258 - accuracy: 0.9155 - val_loss: 2.0973 - val_accuracy: 0.5417 - lr: 0.0010\n",
      "Epoch 23/50\n",
      "162/162 [==============================] - 15s 92ms/step - loss: 0.2525 - accuracy: 0.9113 - val_loss: 2.1454 - val_accuracy: 0.5833 - lr: 0.0010\n",
      "Epoch 24/50\n",
      "162/162 [==============================] - 14s 86ms/step - loss: 0.1749 - accuracy: 0.9387 - val_loss: 2.5636 - val_accuracy: 0.5648 - lr: 0.0010\n",
      "Epoch 25/50\n",
      "162/162 [==============================] - 13s 78ms/step - loss: 0.1627 - accuracy: 0.9429 - val_loss: 3.1195 - val_accuracy: 0.4907 - lr: 0.0010\n",
      "Epoch 26/50\n",
      "162/162 [==============================] - 12s 76ms/step - loss: 0.1514 - accuracy: 0.9495 - val_loss: 2.0141 - val_accuracy: 0.6019 - lr: 0.0010\n",
      "Epoch 27/50\n",
      "162/162 [==============================] - 13s 78ms/step - loss: 0.1374 - accuracy: 0.9556 - val_loss: 1.9610 - val_accuracy: 0.6019 - lr: 0.0010\n",
      "Epoch 28/50\n",
      "162/162 [==============================] - 12s 72ms/step - loss: 0.1558 - accuracy: 0.9491 - val_loss: 3.0915 - val_accuracy: 0.4954 - lr: 0.0010\n",
      "Epoch 29/50\n",
      "162/162 [==============================] - 11s 69ms/step - loss: 0.1153 - accuracy: 0.9622 - val_loss: 2.0985 - val_accuracy: 0.5509 - lr: 0.0010\n",
      "Epoch 30/50\n",
      "162/162 [==============================] - 12s 72ms/step - loss: 0.1093 - accuracy: 0.9637 - val_loss: 1.9353 - val_accuracy: 0.6019 - lr: 0.0010\n",
      "Epoch 31/50\n",
      "162/162 [==============================] - 13s 82ms/step - loss: 0.1109 - accuracy: 0.9606 - val_loss: 1.8830 - val_accuracy: 0.5926 - lr: 0.0010\n",
      "Epoch 32/50\n",
      "162/162 [==============================] - 11s 68ms/step - loss: 0.0736 - accuracy: 0.9742 - val_loss: 3.3279 - val_accuracy: 0.5417 - lr: 0.0010\n",
      "Epoch 33/50\n",
      "162/162 [==============================] - 10s 62ms/step - loss: 0.1114 - accuracy: 0.9626 - val_loss: 2.1260 - val_accuracy: 0.6111 - lr: 0.0010\n",
      "Epoch 34/50\n",
      "162/162 [==============================] - 9s 58ms/step - loss: 0.1120 - accuracy: 0.9657 - val_loss: 2.7115 - val_accuracy: 0.5463 - lr: 0.0010\n",
      "Epoch 35/50\n",
      "162/162 [==============================] - 9s 55ms/step - loss: 0.0499 - accuracy: 0.9846 - val_loss: 2.3472 - val_accuracy: 0.6157 - lr: 4.0000e-04\n",
      "Epoch 36/50\n",
      "162/162 [==============================] - 15s 91ms/step - loss: 0.0179 - accuracy: 0.9950 - val_loss: 2.3935 - val_accuracy: 0.6250 - lr: 4.0000e-04\n",
      "Epoch 37/50\n",
      "162/162 [==============================] - 14s 85ms/step - loss: 0.0229 - accuracy: 0.9919 - val_loss: 2.4109 - val_accuracy: 0.6204 - lr: 4.0000e-04\n",
      "Epoch 38/50\n",
      "162/162 [==============================] - 13s 80ms/step - loss: 0.0239 - accuracy: 0.9904 - val_loss: 2.4428 - val_accuracy: 0.6296 - lr: 4.0000e-04\n",
      "Epoch 39/50\n",
      "162/162 [==============================] - 12s 72ms/step - loss: 0.0188 - accuracy: 0.9931 - val_loss: 2.2942 - val_accuracy: 0.6296 - lr: 1.6000e-04\n",
      "Epoch 40/50\n",
      "162/162 [==============================] - 12s 75ms/step - loss: 0.0121 - accuracy: 0.9965 - val_loss: 2.5691 - val_accuracy: 0.6111 - lr: 1.6000e-04\n",
      "Epoch 41/50\n",
      "162/162 [==============================] - 12s 75ms/step - loss: 0.0115 - accuracy: 0.9965 - val_loss: 2.5013 - val_accuracy: 0.5972 - lr: 1.6000e-04\n",
      "Epoch 42/50\n",
      "162/162 [==============================] - 12s 75ms/step - loss: 0.0087 - accuracy: 0.9981 - val_loss: 2.5569 - val_accuracy: 0.6111 - lr: 1.6000e-04\n",
      "Epoch 43/50\n",
      "162/162 [==============================] - 12s 74ms/step - loss: 0.0050 - accuracy: 0.9981 - val_loss: 2.7759 - val_accuracy: 0.6019 - lr: 1.6000e-04\n",
      "Epoch 44/50\n",
      "162/162 [==============================] - 11s 71ms/step - loss: 0.0098 - accuracy: 0.9958 - val_loss: 2.5300 - val_accuracy: 0.6296 - lr: 1.6000e-04\n",
      "Epoch 45/50\n",
      "162/162 [==============================] - 12s 73ms/step - loss: 0.0066 - accuracy: 0.9988 - val_loss: 2.6843 - val_accuracy: 0.6389 - lr: 1.6000e-04\n",
      "Epoch 46/50\n",
      "162/162 [==============================] - 11s 69ms/step - loss: 0.0078 - accuracy: 0.9985 - val_loss: 2.8402 - val_accuracy: 0.6389 - lr: 6.4000e-05\n",
      "Epoch 47/50\n",
      "162/162 [==============================] - 10s 62ms/step - loss: 0.0081 - accuracy: 0.9977 - val_loss: 2.6620 - val_accuracy: 0.6204 - lr: 6.4000e-05\n",
      "Epoch 48/50\n",
      "162/162 [==============================] - 9s 56ms/step - loss: 0.0046 - accuracy: 0.9988 - val_loss: 2.6759 - val_accuracy: 0.6204 - lr: 2.5600e-05\n",
      "Epoch 49/50\n",
      "162/162 [==============================] - 9s 55ms/step - loss: 0.0040 - accuracy: 0.9985 - val_loss: 2.6895 - val_accuracy: 0.6204 - lr: 2.5600e-05\n",
      "Epoch 50/50\n",
      "162/162 [==============================] - 9s 54ms/step - loss: 0.0035 - accuracy: 0.9992 - val_loss: 2.7134 - val_accuracy: 0.6204 - lr: 2.5600e-05\n"
     ]
    }
   ],
   "source": [
    "rlrp = ReduceLROnPlateau(monitor='loss', factor=0.4, verbose=0, patience=2, min_lr=0.0000001)\n",
    "history=model.fit(x_train, y_train, batch_size=16, epochs=50, validation_data=(x_test, y_test), callbacks=[rlrp])"
   ]
  },
  {
   "cell_type": "code",
   "execution_count": 24,
   "id": "d16bd49e",
   "metadata": {},
   "outputs": [
    {
     "name": "stdout",
     "output_type": "stream",
     "text": [
      "7/7 [==============================] - 0s 18ms/step - loss: 2.7134 - accuracy: 0.6204\n",
      "Accuracy of our model on test data :  62.037038803100586 %\n"
     ]
    }
   ],
   "source": [
    "print(\"Accuracy of our model on test data : \" , model.evaluate(x_test, y_test)[1]*100 , \"%\")"
   ]
  },
  {
   "cell_type": "code",
   "execution_count": 25,
   "id": "39c7950c",
   "metadata": {},
   "outputs": [
    {
     "name": "stdout",
     "output_type": "stream",
     "text": [
      "7/7 [==============================] - 0s 17ms/step\n"
     ]
    },
    {
     "data": {
      "text/html": [
       "<div>\n",
       "<style scoped>\n",
       "    .dataframe tbody tr th:only-of-type {\n",
       "        vertical-align: middle;\n",
       "    }\n",
       "\n",
       "    .dataframe tbody tr th {\n",
       "        vertical-align: top;\n",
       "    }\n",
       "\n",
       "    .dataframe thead th {\n",
       "        text-align: right;\n",
       "    }\n",
       "</style>\n",
       "<table border=\"1\" class=\"dataframe\">\n",
       "  <thead>\n",
       "    <tr style=\"text-align: right;\">\n",
       "      <th></th>\n",
       "      <th>Predicted Labels</th>\n",
       "      <th>Actual Labels</th>\n",
       "    </tr>\n",
       "  </thead>\n",
       "  <tbody>\n",
       "    <tr>\n",
       "      <th>0</th>\n",
       "      <td>angry</td>\n",
       "      <td>angry</td>\n",
       "    </tr>\n",
       "    <tr>\n",
       "      <th>1</th>\n",
       "      <td>happy</td>\n",
       "      <td>happy</td>\n",
       "    </tr>\n",
       "    <tr>\n",
       "      <th>2</th>\n",
       "      <td>happy</td>\n",
       "      <td>sad</td>\n",
       "    </tr>\n",
       "    <tr>\n",
       "      <th>3</th>\n",
       "      <td>happy</td>\n",
       "      <td>happy</td>\n",
       "    </tr>\n",
       "    <tr>\n",
       "      <th>4</th>\n",
       "      <td>angry</td>\n",
       "      <td>angry</td>\n",
       "    </tr>\n",
       "    <tr>\n",
       "      <th>5</th>\n",
       "      <td>happy</td>\n",
       "      <td>happy</td>\n",
       "    </tr>\n",
       "    <tr>\n",
       "      <th>6</th>\n",
       "      <td>happy</td>\n",
       "      <td>happy</td>\n",
       "    </tr>\n",
       "    <tr>\n",
       "      <th>7</th>\n",
       "      <td>neutral</td>\n",
       "      <td>neutral</td>\n",
       "    </tr>\n",
       "    <tr>\n",
       "      <th>8</th>\n",
       "      <td>happy</td>\n",
       "      <td>fear</td>\n",
       "    </tr>\n",
       "    <tr>\n",
       "      <th>9</th>\n",
       "      <td>sad</td>\n",
       "      <td>sad</td>\n",
       "    </tr>\n",
       "  </tbody>\n",
       "</table>\n",
       "</div>"
      ],
      "text/plain": [
       "  Predicted Labels Actual Labels\n",
       "0            angry         angry\n",
       "1            happy         happy\n",
       "2            happy           sad\n",
       "3            happy         happy\n",
       "4            angry         angry\n",
       "5            happy         happy\n",
       "6            happy         happy\n",
       "7          neutral       neutral\n",
       "8            happy          fear\n",
       "9              sad           sad"
      ]
     },
     "execution_count": 25,
     "metadata": {},
     "output_type": "execute_result"
    }
   ],
   "source": [
    "pred_test = model.predict(x_test)\n",
    "y_pred = encoder.inverse_transform(pred_test)\n",
    "y_test = encoder.inverse_transform(y_test)\n",
    "df = pd.DataFrame(columns=['Predicted Labels', 'Actual Labels'])\n",
    "df['Predicted Labels'] = y_pred.flatten()\n",
    "df['Actual Labels'] = y_test.flatten()\n",
    "df.head(10)\n"
   ]
  },
  {
   "cell_type": "code",
   "execution_count": 26,
   "id": "9eda3f36",
   "metadata": {},
   "outputs": [
    {
     "data": {
      "image/png": "[encoded data removed]",
      "text/plain": [
       "<Figure size 1200x1000 with 2 Axes>"
      ]
     },
     "metadata": {},
     "output_type": "display_data"
    }
   ],
   "source": [
    "cm = sklearn.metrics.confusion_matrix(y_test, y_pred)\n",
    "plt.figure(figsize = (12, 10))\n",
    "cm = pd.DataFrame(cm , index = [i for i in encoder.categories_] , columns = [i for i in encoder.categories_])\n",
    "sns.heatmap(cm, linecolor='white', cmap='Blues', linewidth=1, annot=True, fmt='')\n",
    "plt.title('Confusion Matrix', size=20)\n",
    "plt.xlabel('Predicted Labels', size=14)\n",
    "plt.ylabel('Actual Labels', size=14)\n",
    "plt.show()"
   ]
  },
  {
   "cell_type": "code",
   "execution_count": 27,
   "id": "db78a11c",
   "metadata": {},
   "outputs": [
    {
     "name": "stdout",
     "output_type": "stream",
     "text": [
      "              precision    recall  f1-score   support\n",
      "\n",
      "       angry       0.72      0.82      0.77        44\n",
      "        fear       0.61      0.48      0.54        46\n",
      "       happy       0.49      0.69      0.57        54\n",
      "     neutral       0.57      0.36      0.44        22\n",
      "         sad       0.76      0.62      0.68        50\n",
      "\n",
      "    accuracy                           0.62       216\n",
      "   macro avg       0.63      0.59      0.60       216\n",
      "weighted avg       0.63      0.62      0.62       216\n",
      "\n"
     ]
    }
   ],
   "source": [
    "print(sklearn.metrics.classification_report(y_test, y_pred))"
   ]
  },
  {
   "cell_type": "code",
   "execution_count": 28,
   "id": "68d82401",
   "metadata": {},
   "outputs": [
    {
     "name": "stdout",
     "output_type": "stream",
     "text": [
      "Requirement already satisfied: tf2onnx in /Library/Frameworks/Python.framework/Versions/3.11/lib/python3.11/site-packages (1.14.0)\n",
      "Requirement already satisfied: numpy>=1.14.1 in /Library/Frameworks/Python.framework/Versions/3.11/lib/python3.11/site-packages (from tf2onnx) (1.24.0)\n",
      "Requirement already satisfied: onnx>=1.4.1 in /Library/Frameworks/Python.framework/Versions/3.11/lib/python3.11/site-packages (from tf2onnx) (1.14.0)\n",
      "Requirement already satisfied: requests in /Library/Frameworks/Python.framework/Versions/3.11/lib/python3.11/site-packages (from tf2onnx) (2.28.2)\n",
      "Requirement already satisfied: six in /Library/Frameworks/Python.framework/Versions/3.11/lib/python3.11/site-packages (from tf2onnx) (1.16.0)\n",
      "Requirement already satisfied: flatbuffers<3.0,>=1.12 in /Library/Frameworks/Python.framework/Versions/3.11/lib/python3.11/site-packages (from tf2onnx) (2.0.7)\n",
      "Requirement already satisfied: protobuf>=3.20.2 in /Library/Frameworks/Python.framework/Versions/3.11/lib/python3.11/site-packages (from onnx>=1.4.1->tf2onnx) (3.20.3)\n",
      "Requirement already satisfied: typing-extensions>=3.6.2.1 in /Library/Frameworks/Python.framework/Versions/3.11/lib/python3.11/site-packages (from onnx>=1.4.1->tf2onnx) (4.5.0)\n",
      "Requirement already satisfied: charset-normalizer<4,>=2 in /Library/Frameworks/Python.framework/Versions/3.11/lib/python3.11/site-packages (from requests->tf2onnx) (3.0.1)\n",
      "Requirement already satisfied: idna<4,>=2.5 in /Library/Frameworks/Python.framework/Versions/3.11/lib/python3.11/site-packages (from requests->tf2onnx) (3.4)\n",
      "Requirement already satisfied: urllib3<1.27,>=1.21.1 in /Library/Frameworks/Python.framework/Versions/3.11/lib/python3.11/site-packages (from requests->tf2onnx) (1.26.14)\n",
      "Requirement already satisfied: certifi>=2017.4.17 in /Library/Frameworks/Python.framework/Versions/3.11/lib/python3.11/site-packages (from requests->tf2onnx) (2022.12.7)\n",
      "Note: you may need to restart the kernel to use updated packages.\n"
     ]
    }
   ],
   "source": [
    "pip install tf2onnx"
   ]
  },
  {
   "cell_type": "code",
   "execution_count": 29,
   "id": "219f502c",
   "metadata": {},
   "outputs": [
    {
     "name": "stderr",
     "output_type": "stream",
     "text": [
      "2023-07-09 13:27:19.808324: I tensorflow/core/grappler/devices.cc:75] Number of eligible GPUs (core count >= 8, compute capability >= 0.0): 0 (Note: TensorFlow was not compiled with CUDA or ROCm support)\n",
      "2023-07-09 13:27:20.179602: I tensorflow/core/grappler/devices.cc:75] Number of eligible GPUs (core count >= 8, compute capability >= 0.0): 0 (Note: TensorFlow was not compiled with CUDA or ROCm support)\n"
     ]
    },
    {
     "data": {
      "text/plain": [
       "'./model.onnx'"
      ]
     },
     "execution_count": 29,
     "metadata": {},
     "output_type": "execute_result"
    }
   ],
   "source": [
    "import tf2onnx\n",
    "import tensorflow as tf\n",
    "\n",
    "onnx_model, _ = tf2onnx.convert.from_keras(model)\n",
    "tf.io.write_graph(onnx_model, '.', 'model.onnx', as_text=False)"
   ]
  },
  {
   "cell_type": "code",
   "execution_count": 30,
   "id": "66abf64b",
   "metadata": {},
   "outputs": [],
   "source": [
    "# Saved the current model to replicate results\n",
    "#dump(model, open('model.pkl', 'wb'))"
   ]
  },
  {
   "cell_type": "code",
   "execution_count": 31,
   "id": "79b75741",
   "metadata": {},
   "outputs": [],
   "source": [
    "from pickle import dump\n",
    "dump(scaler, open('scaler.pkl', 'wb'))"
   ]
  },
  {
   "cell_type": "code",
   "execution_count": 32,
   "id": "f1e44fc5",
   "metadata": {},
   "outputs": [],
   "source": [
    "dump(encoder, open('encoder.pkl', 'wb'))"
   ]
  },
  {
   "cell_type": "code",
   "execution_count": 33,
   "id": "6f9d8209",
   "metadata": {},
   "outputs": [
    {
     "name": "stdout",
     "output_type": "stream",
     "text": [
      "Input node name: conv1d_input\n",
      "Output node name: dense\n"
     ]
    }
   ],
   "source": [
    "input_name = onnx_model.graph.input[0].name\n",
    "output_name = onnx_model.graph.output[0].name\n",
    "\n",
    "print(\"Input node name:\", input_name)\n",
    "print(\"Output node name:\", output_name)"
   ]
  },
  {
   "cell_type": "code",
   "execution_count": null,
   "id": "7e0b9b50",
   "metadata": {},
   "outputs": [],
   "source": []
  }
 ],
 "metadata": {
  "kernelspec": {
   "display_name": "Python 3 (ipykernel)",
   "language": "python",
   "name": "python3"
  },
  "language_info": {
   "codemirror_mode": {
    "name": "ipython",
    "version": 3
   },
   "file_extension": ".py",
   "mimetype": "text/x-python",
   "name": "python",
   "nbconvert_exporter": "python",
   "pygments_lexer": "ipython3",
   "version": "3.11.1"
  }
 },
 "nbformat": 4,
 "nbformat_minor": 5
}
