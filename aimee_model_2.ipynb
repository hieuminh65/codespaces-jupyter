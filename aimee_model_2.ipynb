{
 "cells": [
  {
   "cell_type": "code",
   "execution_count": 100,
   "id": "86f6e99d",
   "metadata": {},
   "outputs": [],
   "source": [
    "# !pip install --upgrade \"protobuf<=3.20.0\""
   ]
  },
  {
   "cell_type": "code",
   "execution_count": 101,
   "id": "94c67b7a",
   "metadata": {},
   "outputs": [],
   "source": [
    "#necessary imports\n",
    "import librosa\n",
    "import pandas as pd\n",
    "import numpy as np\n",
    "import sklearn\n",
    "from sklearn import preprocessing\n",
    "from sklearn.model_selection import train_test_split\n",
    "from sklearn.neural_network import MLPClassifier\n",
    "from sklearn.metrics import accuracy_score\n",
    "import glob,os\n",
    "import keras\n",
    "from keras.callbacks import ReduceLROnPlateau, EarlyStopping\n",
    "from keras.models import Sequential\n",
    "from keras.layers import Dense, Conv1D, MaxPooling1D, Flatten, Dropout, BatchNormalization\n",
    "# from keras.utils import np_utils\n",
    "from keras.callbacks import ModelCheckpoint\n",
    "import seaborn as sns\n",
    "import matplotlib.pyplot as plt\n",
    "import random\n",
    "\n",
    "from keras.layers import GRU"
   ]
  },
  {
   "cell_type": "code",
   "execution_count": 102,
   "id": "e81b1590",
   "metadata": {},
   "outputs": [],
   "source": [
    "random.seed(1)"
   ]
  },
  {
   "cell_type": "code",
   "execution_count": 103,
   "id": "24703be9",
   "metadata": {},
   "outputs": [],
   "source": [
    "# Extracting features from each .wav file\n",
    "def extract_features(data, sample_rate):\n",
    "    # ZCR\n",
    "    result = np.array([])\n",
    "    zcr = np.mean(librosa.feature.zero_crossing_rate(y=data).T, axis=0)\n",
    "    result=np.hstack((result, zcr)) # stacking horizontally\n",
    "\n",
    "    # Chroma_stft\n",
    "    stft = np.abs(librosa.stft(data))\n",
    "    chroma_stft = np.mean(librosa.feature.chroma_stft(S=stft, sr=sample_rate).T, axis=0)\n",
    "    result = np.hstack((result, chroma_stft)) # stacking horizontally\n",
    "\n",
    "    # MFCC\n",
    "    mfcc = np.mean(librosa.feature.mfcc(y=data, sr=sample_rate).T, axis=0)\n",
    "    result = np.hstack((result, mfcc)) # stacking horizontally\n",
    "\n",
    "    # Root Mean Square Value\n",
    "    rms = np.mean(librosa.feature.rms(y=data).T, axis=0)\n",
    "    result = np.hstack((result, rms)) # stacking horizontally\n",
    "\n",
    "    # MelSpectogram\n",
    "    mel = np.mean(librosa.feature.melspectrogram(y=data, sr=sample_rate).T, axis=0)\n",
    "    result = np.hstack((result, mel)) # stacking horizontally\n",
    "    \n",
    "    return result"
   ]
  },
  {
   "cell_type": "code",
   "execution_count": 104,
   "id": "df4429c4",
   "metadata": {},
   "outputs": [],
   "source": [
    "def noise(data):\n",
    "    noise_amp = 0.035*np.random.uniform()*np.amax(data)\n",
    "    data = data + noise_amp*np.random.normal(size=data.shape[0])\n",
    "    return data\n",
    "\n",
    "def stretch(data, rate=0.8):\n",
    "    return librosa.effects.time_stretch(data, rate = rate)\n",
    "\n",
    "def shift(data):\n",
    "    shift_range = int(np.random.uniform(low=-5, high = 5)*1000)\n",
    "    return np.roll(data, shift_range)\n",
    "\n",
    "def pitch(data, sampling_rate, pitch_factor=0.7):\n",
    "    return librosa.effects.pitch_shift(data, sr = sampling_rate, n_steps = pitch_factor)\n"
   ]
  },
  {
   "cell_type": "code",
   "execution_count": 105,
   "id": "b02f1828",
   "metadata": {},
   "outputs": [],
   "source": [
    "#Emotions in the dataset\n",
    "emotions={\n",
    "  '01':'neutral',\n",
    "  #'02':'calm',\n",
    "  '03':'happy',\n",
    "  '04':'sad',\n",
    "  '05':'angry',\n",
    "  '06':'fearful',\n",
    "  #'07':'disgust',\n",
    "  #'08':'surprised'\n",
    "}\n",
    "\n",
    "#Emotions to observe\n",
    "#observed_emotions=['calm', 'happy', 'fearful', 'disgust', 'sad']\n"
   ]
  },
  {
   "cell_type": "code",
   "execution_count": 106,
   "id": "0aa4489a",
   "metadata": {},
   "outputs": [],
   "source": [
    "def get_features(path, isTraining):\n",
    "    # duration and offset are used to take care of the no audio in start and the ending of each audio files as seen above.\n",
    "    #data, sample_rate = librosa.load(path, duration=2.5, offset=0.6)\n",
    "    data, sample_rate = librosa.load(path, duration=2, offset=0.6, sr=8025)\n",
    "    \n",
    "    # without augmentation\n",
    "    res1 = extract_features(data, sample_rate)\n",
    "    result = np.array(res1)\n",
    "    \n",
    "    # Augmenting only training data and skipping augmentation for test data\n",
    "    if isTraining:\n",
    "        \n",
    "        # data with noise\n",
    "        noise_data = noise(data)\n",
    "        res2 = extract_features(noise_data, sample_rate)\n",
    "        result = np.vstack((result, res2)) # stacking vertically\n",
    "\n",
    "        # data with stretching \n",
    "        stretched_data = stretch(data)\n",
    "        res3 = extract_features(stretched_data, sample_rate)\n",
    "        result = np.vstack((result, res3)) # stacking vertically\n",
    "        \n",
    "        # data with pitch offset\n",
    "        data_pitch = pitch(data, sample_rate)\n",
    "        res4 = extract_features(data_pitch, sample_rate)\n",
    "        result = np.vstack((result, res4)) # stacking vertically\n",
    "    \n",
    "    return result"
   ]
  },
  {
   "cell_type": "code",
   "execution_count": 107,
   "id": "cb984459",
   "metadata": {},
   "outputs": [
    {
     "name": "stdout",
     "output_type": "stream",
     "text": [
      "['Actor_02', 'Actor_03', 'Actor_22', 'Actor_08', 'Actor_16', 'Actor_20', 'Actor_04', 'Actor_19', 'Actor_15', 'Actor_17', 'Actor_07', 'Actor_24', 'Actor_12', 'Actor_21', 'Actor_01', 'Actor_13', 'Actor_11', 'Actor_18', 'Actor_23', 'Actor_05', 'Actor_14', 'Actor_10', 'Actor_06', 'Actor_09']\n"
     ]
    }
   ],
   "source": [
    "# Creating Dataframes\n",
    "Ravdess = \"data/\"\n",
    "ravdess_directory_list = os.listdir(Ravdess)\n",
    "print(ravdess_directory_list)\n",
    "file_emotion = []\n",
    "file_path = []\n",
    "\n",
    "for folder in glob.glob(f\"{Ravdess}Actor_*\"):\n",
    "    # as their are 20 different actors in our previous directory we need to extract files for each actor.\n",
    "    actor = os.listdir(folder)\n",
    "    for file in actor:\n",
    "        part = file.split('.')[0]\n",
    "        part = part.split('-')\n",
    "        # third part in each file represents the emotion associated to that file.\n",
    "        if part[2] not in emotions.keys():\n",
    "            continue\n",
    "        file_emotion.append(int(part[2]))\n",
    "        file_path.append(folder + '/' + file)\n",
    "        \n",
    "# dataframe for emotion of files\n",
    "emotion_df = pd.DataFrame(file_emotion, columns=['Emotions'])\n",
    "\n",
    "\n",
    "# dataframe for path of files\n",
    "path_df = pd.DataFrame(file_path, columns=['Path'])\n",
    "Ravdess_df = pd.concat([emotion_df, path_df], axis=1)\n",
    "\n",
    "# Mapping integers to corresponding emotions\n",
    "Ravdess_df.Emotions.replace({1:'neutral', 3:'happy', 4:'sad', 5:'angry', 6:'fear'}, inplace=True)\n",
    "Ravdess_df.head()\n",
    "\n",
    "X, Y = Ravdess_df[\"Path\"], Ravdess_df[\"Emotions\"]"
   ]
  },
  {
   "cell_type": "code",
   "execution_count": 108,
   "id": "bb1a1a63",
   "metadata": {},
   "outputs": [],
   "source": [
    "X_train, X_test, Y_train, Y_test = train_test_split(X, Y, random_state=0, shuffle=True)"
   ]
  },
  {
   "cell_type": "code",
   "execution_count": 109,
   "id": "0aa2e4be",
   "metadata": {},
   "outputs": [
    {
     "name": "stdout",
     "output_type": "stream",
     "text": [
      "(648,)\n",
      "(648,)\n",
      "(216,)\n",
      "(216,)\n"
     ]
    }
   ],
   "source": [
    "print(np.shape(X_train))\n",
    "print(np.shape(Y_train))\n",
    "print(np.shape(X_test))\n",
    "print(np.shape(Y_test))"
   ]
  },
  {
   "cell_type": "code",
   "execution_count": 110,
   "id": "d8323543",
   "metadata": {
    "scrolled": false
   },
   "outputs": [],
   "source": [
    "X, Y = [], []\n",
    "for path, emotion in zip(X_train, Y_train):\n",
    "    feature = get_features(path, True)\n",
    "    for ele in feature:\n",
    "        X.append(ele)\n",
    "        # appending emotion 4 times as we have applied 4 augmentation techniques on each audio file\n",
    "        Y.append(emotion)\n",
    "x_train = X\n",
    "y_train = Y"
   ]
  },
  {
   "cell_type": "code",
   "execution_count": 111,
   "id": "904d3001",
   "metadata": {},
   "outputs": [
    {
     "data": {
      "text/html": [
       "<div>\n",
       "<style scoped>\n",
       "    .dataframe tbody tr th:only-of-type {\n",
       "        vertical-align: middle;\n",
       "    }\n",
       "\n",
       "    .dataframe tbody tr th {\n",
       "        vertical-align: top;\n",
       "    }\n",
       "\n",
       "    .dataframe thead th {\n",
       "        text-align: right;\n",
       "    }\n",
       "</style>\n",
       "<table border=\"1\" class=\"dataframe\">\n",
       "  <thead>\n",
       "    <tr style=\"text-align: right;\">\n",
       "      <th></th>\n",
       "      <th>0</th>\n",
       "      <th>1</th>\n",
       "      <th>2</th>\n",
       "      <th>3</th>\n",
       "      <th>4</th>\n",
       "      <th>5</th>\n",
       "      <th>6</th>\n",
       "      <th>7</th>\n",
       "      <th>8</th>\n",
       "      <th>9</th>\n",
       "      <th>...</th>\n",
       "      <th>153</th>\n",
       "      <th>154</th>\n",
       "      <th>155</th>\n",
       "      <th>156</th>\n",
       "      <th>157</th>\n",
       "      <th>158</th>\n",
       "      <th>159</th>\n",
       "      <th>160</th>\n",
       "      <th>161</th>\n",
       "      <th>labels</th>\n",
       "    </tr>\n",
       "  </thead>\n",
       "  <tbody>\n",
       "    <tr>\n",
       "      <th>0</th>\n",
       "      <td>0.234756</td>\n",
       "      <td>0.453023</td>\n",
       "      <td>0.532435</td>\n",
       "      <td>0.675329</td>\n",
       "      <td>0.709075</td>\n",
       "      <td>0.575481</td>\n",
       "      <td>0.525318</td>\n",
       "      <td>0.548347</td>\n",
       "      <td>0.586336</td>\n",
       "      <td>0.646260</td>\n",
       "      <td>...</td>\n",
       "      <td>0.001135</td>\n",
       "      <td>0.000323</td>\n",
       "      <td>0.000474</td>\n",
       "      <td>0.000333</td>\n",
       "      <td>0.000373</td>\n",
       "      <td>0.000384</td>\n",
       "      <td>0.000303</td>\n",
       "      <td>0.000074</td>\n",
       "      <td>2.256767e-06</td>\n",
       "      <td>fear</td>\n",
       "    </tr>\n",
       "    <tr>\n",
       "      <th>1</th>\n",
       "      <td>0.324707</td>\n",
       "      <td>0.553077</td>\n",
       "      <td>0.586086</td>\n",
       "      <td>0.703431</td>\n",
       "      <td>0.771572</td>\n",
       "      <td>0.664322</td>\n",
       "      <td>0.614161</td>\n",
       "      <td>0.639006</td>\n",
       "      <td>0.684308</td>\n",
       "      <td>0.687066</td>\n",
       "      <td>...</td>\n",
       "      <td>0.002938</td>\n",
       "      <td>0.002251</td>\n",
       "      <td>0.002533</td>\n",
       "      <td>0.002146</td>\n",
       "      <td>0.002420</td>\n",
       "      <td>0.002204</td>\n",
       "      <td>0.002199</td>\n",
       "      <td>0.002136</td>\n",
       "      <td>1.868288e-03</td>\n",
       "      <td>fear</td>\n",
       "    </tr>\n",
       "    <tr>\n",
       "      <th>2</th>\n",
       "      <td>0.235400</td>\n",
       "      <td>0.467799</td>\n",
       "      <td>0.526148</td>\n",
       "      <td>0.696489</td>\n",
       "      <td>0.765350</td>\n",
       "      <td>0.596145</td>\n",
       "      <td>0.525455</td>\n",
       "      <td>0.554829</td>\n",
       "      <td>0.576128</td>\n",
       "      <td>0.608458</td>\n",
       "      <td>...</td>\n",
       "      <td>0.000454</td>\n",
       "      <td>0.000127</td>\n",
       "      <td>0.000189</td>\n",
       "      <td>0.000156</td>\n",
       "      <td>0.000179</td>\n",
       "      <td>0.000167</td>\n",
       "      <td>0.000103</td>\n",
       "      <td>0.000026</td>\n",
       "      <td>8.751683e-07</td>\n",
       "      <td>fear</td>\n",
       "    </tr>\n",
       "    <tr>\n",
       "      <th>3</th>\n",
       "      <td>0.244064</td>\n",
       "      <td>0.571490</td>\n",
       "      <td>0.473687</td>\n",
       "      <td>0.541058</td>\n",
       "      <td>0.732877</td>\n",
       "      <td>0.789297</td>\n",
       "      <td>0.602376</td>\n",
       "      <td>0.531433</td>\n",
       "      <td>0.564427</td>\n",
       "      <td>0.588936</td>\n",
       "      <td>...</td>\n",
       "      <td>0.000707</td>\n",
       "      <td>0.000806</td>\n",
       "      <td>0.000699</td>\n",
       "      <td>0.000248</td>\n",
       "      <td>0.000212</td>\n",
       "      <td>0.000182</td>\n",
       "      <td>0.000112</td>\n",
       "      <td>0.000044</td>\n",
       "      <td>5.921319e-07</td>\n",
       "      <td>fear</td>\n",
       "    </tr>\n",
       "    <tr>\n",
       "      <th>4</th>\n",
       "      <td>0.208771</td>\n",
       "      <td>0.471565</td>\n",
       "      <td>0.524938</td>\n",
       "      <td>0.570187</td>\n",
       "      <td>0.558178</td>\n",
       "      <td>0.477314</td>\n",
       "      <td>0.458931</td>\n",
       "      <td>0.627174</td>\n",
       "      <td>0.626698</td>\n",
       "      <td>0.669495</td>\n",
       "      <td>...</td>\n",
       "      <td>0.000595</td>\n",
       "      <td>0.001652</td>\n",
       "      <td>0.002122</td>\n",
       "      <td>0.000607</td>\n",
       "      <td>0.001908</td>\n",
       "      <td>0.001104</td>\n",
       "      <td>0.000152</td>\n",
       "      <td>0.000116</td>\n",
       "      <td>3.131501e-06</td>\n",
       "      <td>happy</td>\n",
       "    </tr>\n",
       "  </tbody>\n",
       "</table>\n",
       "<p>5 rows × 163 columns</p>\n",
       "</div>"
      ],
      "text/plain": [
       "          0         1         2         3         4         5         6  \\\n",
       "0  0.234756  0.453023  0.532435  0.675329  0.709075  0.575481  0.525318   \n",
       "1  0.324707  0.553077  0.586086  0.703431  0.771572  0.664322  0.614161   \n",
       "2  0.235400  0.467799  0.526148  0.696489  0.765350  0.596145  0.525455   \n",
       "3  0.244064  0.571490  0.473687  0.541058  0.732877  0.789297  0.602376   \n",
       "4  0.208771  0.471565  0.524938  0.570187  0.558178  0.477314  0.458931   \n",
       "\n",
       "          7         8         9  ...       153       154       155       156  \\\n",
       "0  0.548347  0.586336  0.646260  ...  0.001135  0.000323  0.000474  0.000333   \n",
       "1  0.639006  0.684308  0.687066  ...  0.002938  0.002251  0.002533  0.002146   \n",
       "2  0.554829  0.576128  0.608458  ...  0.000454  0.000127  0.000189  0.000156   \n",
       "3  0.531433  0.564427  0.588936  ...  0.000707  0.000806  0.000699  0.000248   \n",
       "4  0.627174  0.626698  0.669495  ...  0.000595  0.001652  0.002122  0.000607   \n",
       "\n",
       "        157       158       159       160           161  labels  \n",
       "0  0.000373  0.000384  0.000303  0.000074  2.256767e-06    fear  \n",
       "1  0.002420  0.002204  0.002199  0.002136  1.868288e-03    fear  \n",
       "2  0.000179  0.000167  0.000103  0.000026  8.751683e-07    fear  \n",
       "3  0.000212  0.000182  0.000112  0.000044  5.921319e-07    fear  \n",
       "4  0.001908  0.001104  0.000152  0.000116  3.131501e-06   happy  \n",
       "\n",
       "[5 rows x 163 columns]"
      ]
     },
     "execution_count": 111,
     "metadata": {},
     "output_type": "execute_result"
    }
   ],
   "source": [
    "# Saving features in a csv file to avoid redundant feature extraction\n",
    "Features = pd.DataFrame(x_train)\n",
    "Features['labels'] = y_train\n",
    "Features.to_csv('features.csv', index=False)\n",
    "Features.head()"
   ]
  },
  {
   "cell_type": "code",
   "execution_count": 112,
   "id": "c6be64a2",
   "metadata": {},
   "outputs": [
    {
     "name": "stdout",
     "output_type": "stream",
     "text": [
      "['fear' 'fear' 'fear' ... 'happy' 'happy' 'happy']\n"
     ]
    }
   ],
   "source": [
    "x_train = Features.iloc[: ,:-1].values\n",
    "y_train = Features['labels'].values\n",
    "print(y_train)"
   ]
  },
  {
   "cell_type": "code",
   "execution_count": 113,
   "id": "c7cee47f",
   "metadata": {},
   "outputs": [
    {
     "name": "stdout",
     "output_type": "stream",
     "text": [
      "[[0. 1. 0. 0. 0.]\n",
      " [0. 1. 0. 0. 0.]\n",
      " [0. 1. 0. 0. 0.]\n",
      " ...\n",
      " [0. 0. 1. 0. 0.]\n",
      " [0. 0. 1. 0. 0.]\n",
      " [0. 0. 1. 0. 0.]]\n"
     ]
    }
   ],
   "source": [
    "encoder = sklearn.preprocessing.OneHotEncoder()\n",
    "y_train = encoder.fit_transform(np.array(y_train).reshape(-1,1)).toarray()\n",
    "print(y_train)"
   ]
  },
  {
   "cell_type": "code",
   "execution_count": 114,
   "id": "e59ad66f",
   "metadata": {},
   "outputs": [
    {
     "name": "stdout",
     "output_type": "stream",
     "text": [
      "(216, 162)\n",
      "(216,)\n"
     ]
    }
   ],
   "source": [
    "X, Y = [], []\n",
    "for path, emotion in zip(X_test, Y_test):\n",
    "    feature = get_features(path, False)   \n",
    "    X.append(feature)\n",
    "    Y.append(emotion)\n",
    "\n",
    "print(np.shape(X))\n",
    "print(np.shape(Y))\n",
    "x_test = np.array(X)\n",
    "y_test = np.array(Y)\n"
   ]
  },
  {
   "cell_type": "code",
   "execution_count": 115,
   "id": "bf54dc00",
   "metadata": {},
   "outputs": [
    {
     "data": {
      "text/plain": [
       "55       sad\n",
       "316     fear\n",
       "252     fear\n",
       "262    angry\n",
       "31       sad\n",
       "Name: Emotions, dtype: object"
      ]
     },
     "execution_count": 115,
     "metadata": {},
     "output_type": "execute_result"
    }
   ],
   "source": [
    "Y_test.head(5)"
   ]
  },
  {
   "cell_type": "code",
   "execution_count": 116,
   "id": "6ae3a53f",
   "metadata": {},
   "outputs": [
    {
     "data": {
      "text/plain": [
       "55     data/Actor_03/03-01-04-01-01-02-03.wav\n",
       "316    data/Actor_15/03-01-06-02-01-02-15.wav\n",
       "252    data/Actor_19/03-01-06-02-01-01-19.wav\n",
       "262    data/Actor_19/03-01-05-01-02-02-19.wav\n",
       "31     data/Actor_02/03-01-04-02-01-01-02.wav\n",
       "Name: Path, dtype: object"
      ]
     },
     "execution_count": 116,
     "metadata": {},
     "output_type": "execute_result"
    }
   ],
   "source": [
    "X_test.head(5)"
   ]
  },
  {
   "cell_type": "code",
   "execution_count": 117,
   "id": "afb211d8",
   "metadata": {},
   "outputs": [],
   "source": [
    "encoder = sklearn.preprocessing.OneHotEncoder()\n",
    "y_test = encoder.fit_transform(np.array(y_test).reshape(-1,1)).toarray()"
   ]
  },
  {
   "cell_type": "code",
   "execution_count": 118,
   "id": "76164e33",
   "metadata": {},
   "outputs": [
    {
     "data": {
      "text/plain": [
       "((2592, 162), (2592, 5), (216, 162), (216, 5))"
      ]
     },
     "execution_count": 118,
     "metadata": {},
     "output_type": "execute_result"
    }
   ],
   "source": [
    "# Normalization\n",
    "scaler = sklearn.preprocessing.StandardScaler()\n",
    "x_train = scaler.fit_transform(x_train)\n",
    "x_test = scaler.transform(x_test)\n",
    "x_train.shape, y_train.shape, x_test.shape, y_test.shape"
   ]
  },
  {
   "cell_type": "code",
   "execution_count": 119,
   "id": "3228786c",
   "metadata": {},
   "outputs": [
    {
     "name": "stdout",
     "output_type": "stream",
     "text": [
      "Accuracy: 0.4722222222222222\n"
     ]
    }
   ],
   "source": [
    "model1=MLPClassifier(alpha=0.01, batch_size=64, epsilon=1e-08, hidden_layer_sizes=(500,), learning_rate='adaptive', max_iter=500)\n",
    "model1.fit(x_train,y_train)\n",
    "score = model1.score(x_test, y_test)\n",
    "print(\"Accuracy:\", score)"
   ]
  },
  {
   "cell_type": "code",
   "execution_count": 120,
   "id": "a1164fe9",
   "metadata": {},
   "outputs": [
    {
     "data": {
      "text/plain": [
       "((2592, 162, 1), (2592, 5), (216, 162, 1), (216, 5))"
      ]
     },
     "execution_count": 120,
     "metadata": {},
     "output_type": "execute_result"
    }
   ],
   "source": [
    "# Reshaping train and test data for new model\n",
    "x_train = np.expand_dims(x_train, axis=2)\n",
    "x_test = np.expand_dims(x_test, axis=2)\n",
    "x_train.shape, y_train.shape, x_test.shape, y_test.shape"
   ]
  },
  {
   "cell_type": "markdown",
   "id": "25f7f26a",
   "metadata": {},
   "source": [
    "# old model\n",
    "model=Sequential()\n",
    "model.add(Conv1D(256, kernel_size=5, strides=1, padding='same', activation='relu', input_shape=(x_train.shape[1], 1)))\n",
    "model.add(MaxPooling1D(pool_size=5, strides = 2, padding = 'same'))\n",
    "\n",
    "model.add(Conv1D(256, kernel_size=5, strides=1, padding='same', activation='relu'))\n",
    "model.add(MaxPooling1D(pool_size=5, strides = 2, padding = 'same'))\n",
    "\n",
    "model.add(Conv1D(128, kernel_size=5, strides=1, padding='same', activation='relu'))\n",
    "model.add(MaxPooling1D(pool_size=5, strides = 2, padding = 'same'))\n",
    "model.add(Dropout(0.2))\n",
    "\n",
    "model.add(Conv1D(64, kernel_size=5, strides=1, padding='same', activation='relu'))\n",
    "model.add(MaxPooling1D(pool_size=5, strides = 2, padding = 'same'))\n",
    "\n",
    "model.add(Flatten())\n",
    "model.add(Dense(units=32, activation='relu'))\n",
    "model.add(Dropout(0.3))\n",
    "\n",
    "model.add(Dense(units=8, activation='softmax'))\n",
    "model.compile(optimizer = 'adam' , loss = 'categorical_crossentropy' , metrics = ['accuracy'])\n",
    "\n",
    "model.summary()"
   ]
  },
  {
   "cell_type": "code",
   "execution_count": 121,
   "id": "1860e403",
   "metadata": {},
   "outputs": [
    {
     "name": "stdout",
     "output_type": "stream",
     "text": [
      "Model: \"sequential_3\"\n",
      "_________________________________________________________________\n",
      " Layer (type)                Output Shape              Param #   \n",
      "=================================================================\n",
      " conv1d_24 (Conv1D)          (None, 162, 256)          2304      \n",
      "                                                                 \n",
      " conv1d_25 (Conv1D)          (None, 162, 256)          524544    \n",
      "                                                                 \n",
      " batch_normalization_6 (Batc  (None, 162, 256)         1024      \n",
      " hNormalization)                                                 \n",
      "                                                                 \n",
      " dropout_6 (Dropout)         (None, 162, 256)          0         \n",
      "                                                                 \n",
      " max_pooling1d_6 (MaxPooling  (None, 20, 256)          0         \n",
      " 1D)                                                             \n",
      "                                                                 \n",
      " conv1d_26 (Conv1D)          (None, 20, 128)           262272    \n",
      "                                                                 \n",
      " conv1d_27 (Conv1D)          (None, 20, 128)           131200    \n",
      "                                                                 \n",
      " conv1d_28 (Conv1D)          (None, 20, 128)           131200    \n",
      "                                                                 \n",
      " conv1d_29 (Conv1D)          (None, 20, 128)           131200    \n",
      "                                                                 \n",
      " batch_normalization_7 (Batc  (None, 20, 128)          512       \n",
      " hNormalization)                                                 \n",
      "                                                                 \n",
      " dropout_7 (Dropout)         (None, 20, 128)           0         \n",
      "                                                                 \n",
      " max_pooling1d_7 (MaxPooling  (None, 2, 128)           0         \n",
      " 1D)                                                             \n",
      "                                                                 \n",
      " conv1d_30 (Conv1D)          (None, 2, 64)             65600     \n",
      "                                                                 \n",
      " conv1d_31 (Conv1D)          (None, 2, 64)             32832     \n",
      "                                                                 \n",
      " flatten_3 (Flatten)         (None, 128)               0         \n",
      "                                                                 \n",
      " dense_3 (Dense)             (None, 128)               16512     \n",
      "                                                                 \n",
      " batch_normalization_8 (Batc  (None, 128)              512       \n",
      " hNormalization)                                                 \n",
      "                                                                 \n",
      " dropout_8 (Dropout)         (None, 128)               0         \n",
      "                                                                 \n",
      " dense_4 (Dense)             (None, 5)                 645       \n",
      "                                                                 \n",
      "=================================================================\n",
      "Total params: 1,300,357\n",
      "Trainable params: 1,299,333\n",
      "Non-trainable params: 1,024\n",
      "_________________________________________________________________\n"
     ]
    }
   ],
   "source": [
    "# model = Sequential()\n",
    "# model.add(Conv1D(256, 8, padding='same',activation='relu', input_shape=(x_train.shape[1],1)))  # X_train.shape[1] = No. of Columns\n",
    "# model.add(Conv1D(256, 8, padding='same', activation='relu'))\n",
    "# model.add(BatchNormalization())\n",
    "# model.add(Dropout(0.25))\n",
    "# model.add(MaxPooling1D(pool_size=(8)))\n",
    "# model.add(Conv1D(128, 8, padding='same', activation='relu'))\n",
    "# model.add(Conv1D(128, 8, padding='same',activation='relu'))\n",
    "# model.add(Conv1D(128, 8, padding='same',activation='relu'))\n",
    "# model.add(Conv1D(128, 8, padding='same',activation='relu'))\n",
    "# model.add(BatchNormalization())\n",
    "# model.add(Dropout(0.25))\n",
    "# model.add(MaxPooling1D(pool_size=(8)))\n",
    "# model.add(Conv1D(64, 8, padding='same',activation='relu'))\n",
    "# model.add(Conv1D(64, 8, padding='same',activation='relu'))\n",
    "# model.add(Flatten())\n",
    "# model.add(Dense(y_train.shape[1],activation='softmax')) # Target class number\n",
    "# model.compile(optimizer = 'adam' , loss = 'categorical_crossentropy' , metrics = ['accuracy'])\n",
    "# model.summary()\n",
    "model = Sequential()\n",
    "model.add(Conv1D(256, 8, padding='same',activation='relu', input_shape=(x_train.shape[1],1)))  \n",
    "model.add(Conv1D(256, 8, padding='same', activation='relu'))\n",
    "model.add(BatchNormalization())\n",
    "model.add(Dropout(0.5))  # increased dropout\n",
    "model.add(MaxPooling1D(pool_size=(8)))\n",
    "model.add(Conv1D(128, 8, padding='same', activation='relu'))\n",
    "model.add(Conv1D(128, 8, padding='same',activation='relu'))\n",
    "model.add(Conv1D(128, 8, padding='same',activation='relu'))\n",
    "model.add(Conv1D(128, 8, padding='same',activation='relu'))\n",
    "model.add(BatchNormalization())\n",
    "model.add(Dropout(0.5))  # increased dropout\n",
    "model.add(MaxPooling1D(pool_size=(8)))\n",
    "model.add(Conv1D(64, 8, padding='same',activation='relu'))\n",
    "model.add(Conv1D(64, 8, padding='same',activation='relu'))\n",
    "model.add(Flatten())\n",
    "model.add(Dense(128, activation='relu'))  # added a Dense layer\n",
    "model.add(BatchNormalization())  # added Batch Normalization\n",
    "model.add(Dropout(0.5))  # added Dropout\n",
    "model.add(Dense(y_train.shape[1],activation='softmax')) \n",
    "model.compile(optimizer = 'adam' , loss = 'categorical_crossentropy' , metrics = ['accuracy'])\n",
    "model.summary()\n"
   ]
  },
  {
   "cell_type": "code",
   "execution_count": 122,
   "id": "11e1a441",
   "metadata": {
    "scrolled": false
   },
   "outputs": [
    {
     "name": "stdout",
     "output_type": "stream",
     "text": [
      "Epoch 1/50\n",
      "162/162 [==============================] - 15s 78ms/step - loss: 1.7221 - accuracy: 0.2936 - val_loss: 1.5798 - val_accuracy: 0.2593 - lr: 0.0010\n",
      "Epoch 2/50\n",
      "162/162 [==============================] - 13s 78ms/step - loss: 1.5932 - accuracy: 0.3167 - val_loss: 1.5863 - val_accuracy: 0.2917 - lr: 0.0010\n",
      "Epoch 3/50\n",
      "162/162 [==============================] - 12s 77ms/step - loss: 1.5040 - accuracy: 0.3573 - val_loss: 1.5958 - val_accuracy: 0.2407 - lr: 0.0010\n",
      "Epoch 4/50\n",
      "135/162 [========================>.....] - ETA: 2s - loss: 1.3862 - accuracy: 0.4060"
     ]
    },
    {
     "name": "stdout",
     "output_type": "stream",
     "text": [
      "162/162 [==============================] - 13s 78ms/step - loss: 1.3959 - accuracy: 0.4024 - val_loss: 1.6077 - val_accuracy: 0.2407 - lr: 0.0010\n",
      "Epoch 5/50\n",
      "162/162 [==============================] - 13s 78ms/step - loss: 1.3201 - accuracy: 0.4344 - val_loss: 1.5471 - val_accuracy: 0.3333 - lr: 0.0010\n",
      "Epoch 6/50\n",
      "162/162 [==============================] - 13s 78ms/step - loss: 1.3019 - accuracy: 0.4367 - val_loss: 2.0045 - val_accuracy: 0.3519 - lr: 0.0010\n",
      "Epoch 7/50\n",
      "162/162 [==============================] - 13s 78ms/step - loss: 1.2535 - accuracy: 0.4606 - val_loss: 2.0529 - val_accuracy: 0.2222 - lr: 0.0010\n",
      "Epoch 8/50\n",
      "162/162 [==============================] - 13s 78ms/step - loss: 1.2507 - accuracy: 0.4595 - val_loss: 1.9344 - val_accuracy: 0.2037 - lr: 0.0010\n",
      "Epoch 9/50\n",
      "162/162 [==============================] - 12s 76ms/step - loss: 1.2434 - accuracy: 0.4815 - val_loss: 1.9876 - val_accuracy: 0.2361 - lr: 0.0010\n",
      "Epoch 10/50\n",
      "162/162 [==============================] - 12s 77ms/step - loss: 1.2022 - accuracy: 0.4838 - val_loss: 1.8986 - val_accuracy: 0.2315 - lr: 0.0010\n",
      "Epoch 11/50\n",
      "162/162 [==============================] - 13s 77ms/step - loss: 1.1655 - accuracy: 0.5023 - val_loss: 1.6569 - val_accuracy: 0.3241 - lr: 0.0010\n",
      "Epoch 12/50\n",
      "162/162 [==============================] - 13s 77ms/step - loss: 1.1084 - accuracy: 0.5158 - val_loss: 1.3929 - val_accuracy: 0.4398 - lr: 0.0010\n",
      "Epoch 13/50\n",
      "162/162 [==============================] - 12s 77ms/step - loss: 1.1502 - accuracy: 0.5108 - val_loss: 1.7517 - val_accuracy: 0.2963 - lr: 0.0010\n",
      "Epoch 14/50\n",
      "162/162 [==============================] - 13s 79ms/step - loss: 1.0837 - accuracy: 0.5521 - val_loss: 1.3656 - val_accuracy: 0.4676 - lr: 0.0010\n",
      "Epoch 15/50\n",
      "162/162 [==============================] - 12s 77ms/step - loss: 1.0336 - accuracy: 0.5625 - val_loss: 1.4079 - val_accuracy: 0.4630 - lr: 0.0010\n",
      "Epoch 16/50\n",
      "162/162 [==============================] - 13s 78ms/step - loss: 1.0037 - accuracy: 0.5833 - val_loss: 1.3430 - val_accuracy: 0.4676 - lr: 0.0010\n",
      "Epoch 17/50\n",
      "162/162 [==============================] - 12s 77ms/step - loss: 0.9675 - accuracy: 0.5810 - val_loss: 1.4493 - val_accuracy: 0.4398 - lr: 0.0010\n",
      "Epoch 18/50\n",
      "162/162 [==============================] - 13s 77ms/step - loss: 0.9313 - accuracy: 0.6115 - val_loss: 1.5055 - val_accuracy: 0.4352 - lr: 0.0010\n",
      "Epoch 19/50\n",
      "162/162 [==============================] - 13s 78ms/step - loss: 0.9072 - accuracy: 0.6258 - val_loss: 2.0878 - val_accuracy: 0.2778 - lr: 0.0010\n",
      "Epoch 20/50\n",
      "162/162 [==============================] - 13s 78ms/step - loss: 0.8378 - accuracy: 0.6408 - val_loss: 1.4803 - val_accuracy: 0.4028 - lr: 0.0010\n",
      "Epoch 21/50\n",
      "162/162 [==============================] - 13s 78ms/step - loss: 0.8289 - accuracy: 0.6663 - val_loss: 1.7364 - val_accuracy: 0.3704 - lr: 0.0010\n",
      "Epoch 22/50\n",
      "162/162 [==============================] - 13s 78ms/step - loss: 0.7924 - accuracy: 0.6875 - val_loss: 1.2992 - val_accuracy: 0.4583 - lr: 0.0010\n",
      "Epoch 23/50\n",
      "162/162 [==============================] - 12s 77ms/step - loss: 0.7402 - accuracy: 0.7010 - val_loss: 1.5920 - val_accuracy: 0.4537 - lr: 0.0010\n",
      "Epoch 24/50\n",
      "162/162 [==============================] - 13s 78ms/step - loss: 0.6670 - accuracy: 0.7377 - val_loss: 1.4398 - val_accuracy: 0.4676 - lr: 0.0010\n",
      "Epoch 25/50\n",
      "162/162 [==============================] - 13s 78ms/step - loss: 0.7003 - accuracy: 0.7292 - val_loss: 1.5439 - val_accuracy: 0.4491 - lr: 0.0010\n",
      "Epoch 26/50\n",
      "162/162 [==============================] - 12s 77ms/step - loss: 0.6316 - accuracy: 0.7612 - val_loss: 1.9747 - val_accuracy: 0.3380 - lr: 0.0010\n",
      "Epoch 27/50\n",
      "162/162 [==============================] - 13s 78ms/step - loss: 0.6281 - accuracy: 0.7573 - val_loss: 1.8337 - val_accuracy: 0.3796 - lr: 0.0010\n",
      "Epoch 28/50\n",
      "162/162 [==============================] - 12s 76ms/step - loss: 0.5514 - accuracy: 0.7955 - val_loss: 1.8862 - val_accuracy: 0.3843 - lr: 0.0010\n",
      "Epoch 29/50\n",
      "162/162 [==============================] - 12s 77ms/step - loss: 0.5365 - accuracy: 0.8110 - val_loss: 1.8153 - val_accuracy: 0.4120 - lr: 0.0010\n",
      "Epoch 30/50\n",
      "162/162 [==============================] - 13s 78ms/step - loss: 0.4988 - accuracy: 0.8179 - val_loss: 1.6319 - val_accuracy: 0.4213 - lr: 0.0010\n",
      "Epoch 31/50\n",
      "162/162 [==============================] - 13s 78ms/step - loss: 0.4438 - accuracy: 0.8457 - val_loss: 2.3987 - val_accuracy: 0.3333 - lr: 0.0010\n",
      "Epoch 32/50\n",
      "162/162 [==============================] - 13s 80ms/step - loss: 0.4291 - accuracy: 0.8569 - val_loss: 1.7799 - val_accuracy: 0.4769 - lr: 0.0010\n",
      "Epoch 33/50\n",
      "162/162 [==============================] - 13s 79ms/step - loss: 0.3948 - accuracy: 0.8549 - val_loss: 1.8883 - val_accuracy: 0.5046 - lr: 0.0010\n",
      "Epoch 34/50\n",
      "162/162 [==============================] - 13s 78ms/step - loss: 0.3530 - accuracy: 0.8854 - val_loss: 1.9819 - val_accuracy: 0.4120 - lr: 0.0010\n",
      "Epoch 35/50\n",
      "162/162 [==============================] - 13s 79ms/step - loss: 0.3525 - accuracy: 0.8762 - val_loss: 1.9325 - val_accuracy: 0.4815 - lr: 0.0010\n",
      "Epoch 36/50\n",
      "162/162 [==============================] - 13s 78ms/step - loss: 0.3628 - accuracy: 0.8839 - val_loss: 1.5540 - val_accuracy: 0.5278 - lr: 0.0010\n",
      "Epoch 37/50\n",
      "162/162 [==============================] - 12s 77ms/step - loss: 0.3324 - accuracy: 0.8927 - val_loss: 1.6498 - val_accuracy: 0.5324 - lr: 0.0010\n",
      "Epoch 38/50\n",
      "162/162 [==============================] - 13s 79ms/step - loss: 0.2647 - accuracy: 0.9086 - val_loss: 1.7713 - val_accuracy: 0.5278 - lr: 0.0010\n",
      "Epoch 39/50\n",
      "162/162 [==============================] - 13s 79ms/step - loss: 0.2743 - accuracy: 0.9124 - val_loss: 1.8516 - val_accuracy: 0.4259 - lr: 0.0010\n",
      "Epoch 40/50\n",
      "162/162 [==============================] - 12s 77ms/step - loss: 0.2351 - accuracy: 0.9298 - val_loss: 1.8038 - val_accuracy: 0.5046 - lr: 0.0010\n",
      "Epoch 41/50\n",
      "162/162 [==============================] - 13s 78ms/step - loss: 0.2185 - accuracy: 0.9286 - val_loss: 2.3163 - val_accuracy: 0.4398 - lr: 0.0010\n",
      "Epoch 42/50\n",
      "162/162 [==============================] - 13s 78ms/step - loss: 0.2271 - accuracy: 0.9228 - val_loss: 1.8690 - val_accuracy: 0.5046 - lr: 0.0010\n",
      "Epoch 43/50\n",
      "162/162 [==============================] - 13s 79ms/step - loss: 0.2051 - accuracy: 0.9387 - val_loss: 1.5515 - val_accuracy: 0.6019 - lr: 0.0010\n",
      "Epoch 44/50\n",
      "162/162 [==============================] - 13s 79ms/step - loss: 0.2164 - accuracy: 0.9302 - val_loss: 1.6534 - val_accuracy: 0.5000 - lr: 0.0010\n",
      "Epoch 45/50\n",
      "162/162 [==============================] - 13s 77ms/step - loss: 0.1974 - accuracy: 0.9414 - val_loss: 1.9775 - val_accuracy: 0.5139 - lr: 0.0010\n",
      "Epoch 46/50\n",
      "162/162 [==============================] - 12s 77ms/step - loss: 0.1636 - accuracy: 0.9498 - val_loss: 1.6250 - val_accuracy: 0.5509 - lr: 0.0010\n",
      "Epoch 47/50\n",
      "162/162 [==============================] - 12s 77ms/step - loss: 0.1773 - accuracy: 0.9406 - val_loss: 2.2353 - val_accuracy: 0.4676 - lr: 0.0010\n",
      "Epoch 48/50\n",
      "162/162 [==============================] - 13s 78ms/step - loss: 0.1931 - accuracy: 0.9452 - val_loss: 2.2408 - val_accuracy: 0.4398 - lr: 0.0010\n",
      "Epoch 49/50\n",
      "162/162 [==============================] - 13s 78ms/step - loss: 0.1212 - accuracy: 0.9622 - val_loss: 1.6991 - val_accuracy: 0.5556 - lr: 4.0000e-04\n",
      "Epoch 50/50\n",
      "162/162 [==============================] - 13s 78ms/step - loss: 0.0785 - accuracy: 0.9769 - val_loss: 1.9038 - val_accuracy: 0.5324 - lr: 4.0000e-04\n"
     ]
    }
   ],
   "source": [
    "# early_stopping_callback = EarlyStopping(monitor='loss', patience=3)\n",
    "rlrp = ReduceLROnPlateau(monitor='loss', factor=0.4, verbose=0, patience=2, min_lr=0.0000001)\n",
    "\n",
    "history=model.fit(x_train, y_train, batch_size=16, epochs=50, validation_data=(x_test, y_test), callbacks=[rlrp])"
   ]
  },
  {
   "cell_type": "code",
   "execution_count": 123,
   "id": "d16bd49e",
   "metadata": {},
   "outputs": [
    {
     "name": "stdout",
     "output_type": "stream",
     "text": [
      "1/7 [===>..........................] - ETA: 0s - loss: 1.8135 - accuracy: 0.4688"
     ]
    },
    {
     "name": "stdout",
     "output_type": "stream",
     "text": [
      "7/7 [==============================] - 0s 27ms/step - loss: 1.9038 - accuracy: 0.5324\n",
      "Accuracy of our model on test data :  53.24074029922485 %\n"
     ]
    }
   ],
   "source": [
    "print(\"Accuracy of our model on test data : \" , model.evaluate(x_test, y_test)[1]*100 , \"%\")"
   ]
  },
  {
   "cell_type": "code",
   "execution_count": 124,
   "id": "39c7950c",
   "metadata": {},
   "outputs": [
    {
     "name": "stdout",
     "output_type": "stream",
     "text": [
      "7/7 [==============================] - 0s 27ms/step\n"
     ]
    },
    {
     "data": {
      "text/html": [
       "<div>\n",
       "<style scoped>\n",
       "    .dataframe tbody tr th:only-of-type {\n",
       "        vertical-align: middle;\n",
       "    }\n",
       "\n",
       "    .dataframe tbody tr th {\n",
       "        vertical-align: top;\n",
       "    }\n",
       "\n",
       "    .dataframe thead th {\n",
       "        text-align: right;\n",
       "    }\n",
       "</style>\n",
       "<table border=\"1\" class=\"dataframe\">\n",
       "  <thead>\n",
       "    <tr style=\"text-align: right;\">\n",
       "      <th></th>\n",
       "      <th>Predicted Labels</th>\n",
       "      <th>Actual Labels</th>\n",
       "    </tr>\n",
       "  </thead>\n",
       "  <tbody>\n",
       "    <tr>\n",
       "      <th>0</th>\n",
       "      <td>happy</td>\n",
       "      <td>sad</td>\n",
       "    </tr>\n",
       "    <tr>\n",
       "      <th>1</th>\n",
       "      <td>happy</td>\n",
       "      <td>fear</td>\n",
       "    </tr>\n",
       "    <tr>\n",
       "      <th>2</th>\n",
       "      <td>happy</td>\n",
       "      <td>fear</td>\n",
       "    </tr>\n",
       "    <tr>\n",
       "      <th>3</th>\n",
       "      <td>angry</td>\n",
       "      <td>angry</td>\n",
       "    </tr>\n",
       "    <tr>\n",
       "      <th>4</th>\n",
       "      <td>happy</td>\n",
       "      <td>sad</td>\n",
       "    </tr>\n",
       "    <tr>\n",
       "      <th>5</th>\n",
       "      <td>happy</td>\n",
       "      <td>sad</td>\n",
       "    </tr>\n",
       "    <tr>\n",
       "      <th>6</th>\n",
       "      <td>angry</td>\n",
       "      <td>angry</td>\n",
       "    </tr>\n",
       "    <tr>\n",
       "      <th>7</th>\n",
       "      <td>happy</td>\n",
       "      <td>fear</td>\n",
       "    </tr>\n",
       "    <tr>\n",
       "      <th>8</th>\n",
       "      <td>sad</td>\n",
       "      <td>sad</td>\n",
       "    </tr>\n",
       "    <tr>\n",
       "      <th>9</th>\n",
       "      <td>neutral</td>\n",
       "      <td>happy</td>\n",
       "    </tr>\n",
       "  </tbody>\n",
       "</table>\n",
       "</div>"
      ],
      "text/plain": [
       "  Predicted Labels Actual Labels\n",
       "0            happy           sad\n",
       "1            happy          fear\n",
       "2            happy          fear\n",
       "3            angry         angry\n",
       "4            happy           sad\n",
       "5            happy           sad\n",
       "6            angry         angry\n",
       "7            happy          fear\n",
       "8              sad           sad\n",
       "9          neutral         happy"
      ]
     },
     "execution_count": 124,
     "metadata": {},
     "output_type": "execute_result"
    }
   ],
   "source": [
    "pred_test = model.predict(x_test)\n",
    "y_pred = encoder.inverse_transform(pred_test)\n",
    "y_test = encoder.inverse_transform(y_test)\n",
    "df = pd.DataFrame(columns=['Predicted Labels', 'Actual Labels'])\n",
    "df['Predicted Labels'] = y_pred.flatten()\n",
    "df['Actual Labels'] = y_test.flatten()\n",
    "df.head(10)\n"
   ]
  },
  {
   "cell_type": "code",
   "execution_count": 125,
   "id": "9eda3f36",
   "metadata": {},
   "outputs": [
    {
     "data": {
      "image/png": "[encoded data removed]",
      "text/plain": [
       "<Figure size 1200x1000 with 2 Axes>"
      ]
     },
     "metadata": {},
     "output_type": "display_data"
    }
   ],
   "source": [
    "cm = sklearn.metrics.confusion_matrix(y_test, y_pred)\n",
    "plt.figure(figsize = (12, 10))\n",
    "cm = pd.DataFrame(cm , index = [i for i in encoder.categories_] , columns = [i for i in encoder.categories_])\n",
    "sns.heatmap(cm, linecolor='white', cmap='Blues', linewidth=1, annot=True, fmt='')\n",
    "plt.title('Confusion Matrix', size=20)\n",
    "plt.xlabel('Predicted Labels', size=14)\n",
    "plt.ylabel('Actual Labels', size=14)\n",
    "plt.show()"
   ]
  },
  {
   "cell_type": "code",
   "execution_count": 126,
   "id": "db78a11c",
   "metadata": {},
   "outputs": [
    {
     "name": "stdout",
     "output_type": "stream",
     "text": [
      "              precision    recall  f1-score   support\n",
      "\n",
      "       angry       0.53      0.79      0.64        43\n",
      "        fear       0.62      0.25      0.36        52\n",
      "       happy       0.39      0.65      0.49        49\n",
      "     neutral       0.68      0.50      0.58        26\n",
      "         sad       0.77      0.50      0.61        46\n",
      "\n",
      "    accuracy                           0.53       216\n",
      "   macro avg       0.60      0.54      0.53       216\n",
      "weighted avg       0.59      0.53      0.52       216\n",
      "\n"
     ]
    }
   ],
   "source": [
    "print(sklearn.metrics.classification_report(y_test, y_pred))"
   ]
  },
  {
   "cell_type": "code",
   "execution_count": 127,
   "id": "68d82401",
   "metadata": {},
   "outputs": [],
   "source": [
    "# !pip install tf2onnx"
   ]
  },
  {
   "cell_type": "code",
   "execution_count": 128,
   "id": "219f502c",
   "metadata": {},
   "outputs": [
    {
     "name": "stderr",
     "output_type": "stream",
     "text": [
      "2023-07-25 16:06:24.402617: I tensorflow/core/grappler/devices.cc:66] Number of eligible GPUs (core count >= 8, compute capability >= 0.0): 0\n",
      "2023-07-25 16:06:24.402731: I tensorflow/core/grappler/clusters/single_machine.cc:358] Starting new session\n",
      "2023-07-25 16:06:24.557628: I tensorflow/core/grappler/devices.cc:66] Number of eligible GPUs (core count >= 8, compute capability >= 0.0): 0\n",
      "2023-07-25 16:06:24.557755: I tensorflow/core/grappler/clusters/single_machine.cc:358] Starting new session\n"
     ]
    },
    {
     "data": {
      "text/plain": [
       "'./model.onnx'"
      ]
     },
     "execution_count": 128,
     "metadata": {},
     "output_type": "execute_result"
    }
   ],
   "source": [
    "import tf2onnx\n",
    "import tensorflow as tf\n",
    "\n",
    "onnx_model, _ = tf2onnx.convert.from_keras(model)\n",
    "tf.io.write_graph(onnx_model, '.', 'model.onnx', as_text=False)"
   ]
  },
  {
   "cell_type": "code",
   "execution_count": 129,
   "id": "66abf64b",
   "metadata": {},
   "outputs": [],
   "source": [
    "# Saved the current model to replicate results\n",
    "#dump(model, open('model.pkl', 'wb'))"
   ]
  },
  {
   "cell_type": "code",
   "execution_count": 130,
   "id": "79b75741",
   "metadata": {},
   "outputs": [],
   "source": [
    "from pickle import dump\n",
    "dump(scaler, open('scaler2.pkl', 'wb'))"
   ]
  },
  {
   "cell_type": "code",
   "execution_count": 131,
   "id": "f1e44fc5",
   "metadata": {},
   "outputs": [],
   "source": [
    "dump(encoder, open('encoder2.pkl', 'wb'))"
   ]
  },
  {
   "cell_type": "code",
   "execution_count": 132,
   "id": "6f9d8209",
   "metadata": {},
   "outputs": [
    {
     "name": "stdout",
     "output_type": "stream",
     "text": [
      "Input node name: conv1d_24_input\n",
      "Output node name: dense_4\n"
     ]
    }
   ],
   "source": [
    "input_name = onnx_model.graph.input[0].name\n",
    "output_name = onnx_model.graph.output[0].name\n",
    "\n",
    "print(\"Input node name:\", input_name)\n",
    "print(\"Output node name:\", output_name)"
   ]
  },
  {
   "cell_type": "code",
   "execution_count": null,
   "id": "7e0b9b50",
   "metadata": {},
   "outputs": [],
   "source": []
  }
 ],
 "metadata": {
  "kernelspec": {
   "display_name": "Python 3 (ipykernel)",
   "language": "python",
   "name": "python3"
  },
  "language_info": {
   "codemirror_mode": {
    "name": "ipython",
    "version": 3
   },
   "file_extension": ".py",
   "mimetype": "text/x-python",
   "name": "python",
   "nbconvert_exporter": "python",
   "pygments_lexer": "ipython3",
   "version": "3.10.8"
  }
 },
 "nbformat": 4,
 "nbformat_minor": 5
}
