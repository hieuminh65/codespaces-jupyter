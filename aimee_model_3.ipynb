{
 "cells": [
  {
   "cell_type": "code",
   "execution_count": 67,
   "id": "86f6e99d",
   "metadata": {},
   "outputs": [],
   "source": [
    "#pip install --upgrade \"protobuf<=3.20.1\""
   ]
  },
  {
   "cell_type": "markdown",
   "id": "05b57d00",
   "metadata": {},
   "source": [
    "## Import the libraries\n"
   ]
  },
  {
   "cell_type": "code",
   "execution_count": 68,
   "id": "94c67b7a",
   "metadata": {},
   "outputs": [],
   "source": [
    "#necessary imports\n",
    "import librosa\n",
    "import pandas as pd\n",
    "import numpy as np\n",
    "import sklearn\n",
    "from sklearn import preprocessing\n",
    "from sklearn.model_selection import train_test_split\n",
    "from sklearn.neural_network import MLPClassifier\n",
    "from sklearn.metrics import accuracy_score\n",
    "import glob,os\n",
    "import keras\n",
    "from keras.callbacks import ReduceLROnPlateau\n",
    "from keras.models import Sequential\n",
    "from keras.layers import Dense, Conv1D, MaxPooling1D, Flatten, Dropout, BatchNormalization\n",
    "# from keras.utils import np_utils\n",
    "from keras.callbacks import ModelCheckpoint\n",
    "import seaborn as sns\n",
    "import matplotlib.pyplot as plt\n",
    "import random"
   ]
  },
  {
   "cell_type": "code",
   "execution_count": 69,
   "id": "e81b1590",
   "metadata": {},
   "outputs": [],
   "source": [
    "random.seed(1)"
   ]
  },
  {
   "cell_type": "markdown",
   "id": "484a4960",
   "metadata": {},
   "source": [
    "## Functions for extracting features and adding noise"
   ]
  },
  {
   "cell_type": "code",
   "execution_count": 70,
   "id": "24703be9",
   "metadata": {},
   "outputs": [],
   "source": [
    "# Extracting features from each .wav file\n",
    "def extract_features(data, sample_rate):\n",
    "    # ZCR\n",
    "    result = np.array([])\n",
    "    zcr = np.mean(librosa.feature.zero_crossing_rate(y=data).T, axis=0)\n",
    "    result=np.hstack((result, zcr)) # stacking horizontally\n",
    "\n",
    "    # Chroma_stft\n",
    "    stft = np.abs(librosa.stft(data))\n",
    "    chroma_stft = np.mean(librosa.feature.chroma_stft(S=stft, sr=sample_rate).T, axis=0)\n",
    "    result = np.hstack((result, chroma_stft)) # stacking horizontally\n",
    "\n",
    "    # MFCC\n",
    "    mfcc = np.mean(librosa.feature.mfcc(y=data, sr=sample_rate).T, axis=0)\n",
    "    result = np.hstack((result, mfcc)) # stacking horizontally\n",
    "\n",
    "    # Root Mean Square Value\n",
    "    rms = np.mean(librosa.feature.rms(y=data).T, axis=0)\n",
    "    result = np.hstack((result, rms)) # stacking horizontally\n",
    "\n",
    "    # MelSpectogram\n",
    "    mel = np.mean(librosa.feature.melspectrogram(y=data, sr=sample_rate).T, axis=0)\n",
    "    result = np.hstack((result, mel)) # stacking horizontally\n",
    "    \n",
    "    return result"
   ]
  },
  {
   "cell_type": "code",
   "execution_count": 71,
   "id": "df4429c4",
   "metadata": {},
   "outputs": [],
   "source": [
    "def noise(data):\n",
    "    noise_amp = 0.035*np.random.uniform()*np.amax(data)\n",
    "    data = data + noise_amp*np.random.normal(size=data.shape[0])\n",
    "    return data\n",
    "\n",
    "def stretch(data, rate=0.8):\n",
    "    return librosa.effects.time_stretch(data, rate = rate)\n",
    "\n",
    "def shift(data):\n",
    "    shift_range = int(np.random.uniform(low=-5, high = 5)*1000)\n",
    "    return np.roll(data, shift_range)\n",
    "\n",
    "def pitch(data, sampling_rate, pitch_factor=0.7):\n",
    "    return librosa.effects.pitch_shift(data, sr = sampling_rate, n_steps = pitch_factor)\n"
   ]
  },
  {
   "cell_type": "markdown",
   "id": "04c1919a",
   "metadata": {},
   "source": [
    "## Emotions to be considered"
   ]
  },
  {
   "cell_type": "code",
   "execution_count": 72,
   "id": "b02f1828",
   "metadata": {},
   "outputs": [],
   "source": [
    "#Emotions in the dataset\n",
    "emotions={\n",
    "  '01':'neutral',\n",
    "  #'02':'calm',\n",
    "  '03':'happy',\n",
    "  '04':'sad',\n",
    "  '05':'angry',\n",
    "  '06':'fearful',\n",
    "  #'07':'disgust',\n",
    "  #'08':'surprised'\n",
    "}\n",
    "\n",
    "#Emotions to observe\n",
    "#observed_emotions=['calm', 'happy', 'fearful', 'disgust', 'sad']\n"
   ]
  },
  {
   "cell_type": "code",
   "execution_count": 73,
   "id": "0aa4489a",
   "metadata": {},
   "outputs": [],
   "source": [
    "def get_features(path, isTraining):\n",
    "    # duration and offset are used to take care of the no audio in start and the ending of each audio files as seen above.\n",
    "    #data, sample_rate = librosa.load(path, duration=2.5, offset=0.6)\n",
    "    data, sample_rate = librosa.load(path, duration=2, offset=0.6, sr=8025)\n",
    "    \n",
    "    # without augmentation\n",
    "    res1 = extract_features(data, sample_rate)\n",
    "    result = np.array(res1)\n",
    "    \n",
    "    # Augmenting only training data and skipping augmentation for test data\n",
    "    if isTraining:\n",
    "        \n",
    "        # data with noise\n",
    "        noise_data = noise(data)\n",
    "        res2 = extract_features(noise_data, sample_rate)\n",
    "        result = np.vstack((result, res2)) # stacking vertically\n",
    "\n",
    "        # data with stretching \n",
    "        stretched_data = stretch(data)\n",
    "        res3 = extract_features(stretched_data, sample_rate)\n",
    "        result = np.vstack((result, res3)) # stacking vertically\n",
    "        \n",
    "        # data with pitch offset\n",
    "        data_pitch = pitch(data, sample_rate)\n",
    "        res4 = extract_features(data_pitch, sample_rate)\n",
    "        result = np.vstack((result, res4)) # stacking vertically\n",
    "    \n",
    "    return result"
   ]
  },
  {
   "cell_type": "markdown",
   "id": "a850e92e",
   "metadata": {},
   "source": [
    "## Reading audio files and storing them in a dataframe"
   ]
  },
  {
   "cell_type": "code",
   "execution_count": 74,
   "id": "cb984459",
   "metadata": {},
   "outputs": [
    {
     "name": "stdout",
     "output_type": "stream",
     "text": [
      "['Actor_02', 'Actor_03', 'Actor_22', 'Actor_08', 'Actor_16', 'Actor_20', 'Actor_04', 'Actor_19', 'Actor_15', 'Actor_17', 'Actor_07', 'Actor_24', 'Actor_12', 'Actor_21', 'Actor_01', 'Actor_13', 'Actor_11', 'Actor_18', 'Actor_23', 'Actor_05', 'Actor_14', 'Actor_10', 'Actor_06', 'Actor_09']\n"
     ]
    }
   ],
   "source": [
    "# Creating Dataframes\n",
    "Ravdess = \"data/\"\n",
    "ravdess_directory_list = os.listdir(Ravdess)\n",
    "print(ravdess_directory_list)\n",
    "file_emotion = []\n",
    "file_path = []\n",
    "\n",
    "for folder in glob.glob(f\"{Ravdess}Actor_*\"):\n",
    "    # as their are 20 different actors in our previous directory we need to extract files for each actor.\n",
    "    actor = os.listdir(folder)\n",
    "    for file in actor:\n",
    "        part = file.split('.')[0]\n",
    "        part = part.split('-')\n",
    "        # third part in each file represents the emotion associated to that file.\n",
    "        if part[2] not in emotions.keys():\n",
    "            continue\n",
    "        file_emotion.append(int(part[2]))\n",
    "        file_path.append(folder + '/' + file)\n",
    "        \n",
    "# dataframe for emotion of files\n",
    "emotion_df = pd.DataFrame(file_emotion, columns=['Emotions'])\n",
    "\n",
    "\n",
    "# dataframe for path of files\n",
    "path_df = pd.DataFrame(file_path, columns=['Path'])\n",
    "Ravdess_df = pd.concat([emotion_df, path_df], axis=1)\n",
    "\n",
    "# Mapping integers to corresponding emotions\n",
    "Ravdess_df.Emotions.replace({1:'neutral', 3:'happy', 4:'sad', 5:'angry', 6:'fear'}, inplace=True)\n",
    "Ravdess_df.head()\n",
    "\n",
    "X, Y = Ravdess_df[\"Path\"], Ravdess_df[\"Emotions\"]"
   ]
  },
  {
   "cell_type": "markdown",
   "id": "b22cfc2f",
   "metadata": {},
   "source": [
    "## Spliting the data into Train and Test"
   ]
  },
  {
   "cell_type": "code",
   "execution_count": 75,
   "id": "bb1a1a63",
   "metadata": {},
   "outputs": [],
   "source": [
    "X_train, X_test, Y_train, Y_test = train_test_split(X, Y, random_state=0, shuffle=True)"
   ]
  },
  {
   "cell_type": "code",
   "execution_count": 76,
   "id": "0aa2e4be",
   "metadata": {},
   "outputs": [
    {
     "name": "stdout",
     "output_type": "stream",
     "text": [
      "(648,)\n",
      "(648,)\n",
      "(216,)\n",
      "(216,)\n"
     ]
    }
   ],
   "source": [
    "print(np.shape(X_train))\n",
    "print(np.shape(Y_train))\n",
    "print(np.shape(X_test))\n",
    "print(np.shape(Y_test))"
   ]
  },
  {
   "cell_type": "code",
   "execution_count": 77,
   "id": "d8323543",
   "metadata": {
    "scrolled": false
   },
   "outputs": [],
   "source": [
    "X, Y = [], []\n",
    "for path, emotion in zip(X_train, Y_train):\n",
    "    feature = get_features(path, True)\n",
    "    for ele in feature:\n",
    "        X.append(ele)\n",
    "        # appending emotion 4 times as we have applied 4 augmentation techniques on each audio file\n",
    "        Y.append(emotion)\n",
    "x_train = X\n",
    "y_train = Y"
   ]
  },
  {
   "cell_type": "code",
   "execution_count": 78,
   "id": "904d3001",
   "metadata": {},
   "outputs": [
    {
     "data": {
      "text/html": [
       "<div>\n",
       "<style scoped>\n",
       "    .dataframe tbody tr th:only-of-type {\n",
       "        vertical-align: middle;\n",
       "    }\n",
       "\n",
       "    .dataframe tbody tr th {\n",
       "        vertical-align: top;\n",
       "    }\n",
       "\n",
       "    .dataframe thead th {\n",
       "        text-align: right;\n",
       "    }\n",
       "</style>\n",
       "<table border=\"1\" class=\"dataframe\">\n",
       "  <thead>\n",
       "    <tr style=\"text-align: right;\">\n",
       "      <th></th>\n",
       "      <th>0</th>\n",
       "      <th>1</th>\n",
       "      <th>2</th>\n",
       "      <th>3</th>\n",
       "      <th>4</th>\n",
       "      <th>5</th>\n",
       "      <th>6</th>\n",
       "      <th>7</th>\n",
       "      <th>8</th>\n",
       "      <th>9</th>\n",
       "      <th>...</th>\n",
       "      <th>153</th>\n",
       "      <th>154</th>\n",
       "      <th>155</th>\n",
       "      <th>156</th>\n",
       "      <th>157</th>\n",
       "      <th>158</th>\n",
       "      <th>159</th>\n",
       "      <th>160</th>\n",
       "      <th>161</th>\n",
       "      <th>labels</th>\n",
       "    </tr>\n",
       "  </thead>\n",
       "  <tbody>\n",
       "    <tr>\n",
       "      <th>0</th>\n",
       "      <td>0.234756</td>\n",
       "      <td>0.453023</td>\n",
       "      <td>0.532435</td>\n",
       "      <td>0.675329</td>\n",
       "      <td>0.709075</td>\n",
       "      <td>0.575481</td>\n",
       "      <td>0.525318</td>\n",
       "      <td>0.548347</td>\n",
       "      <td>0.586336</td>\n",
       "      <td>0.646260</td>\n",
       "      <td>...</td>\n",
       "      <td>0.001135</td>\n",
       "      <td>0.000323</td>\n",
       "      <td>0.000474</td>\n",
       "      <td>0.000333</td>\n",
       "      <td>0.000373</td>\n",
       "      <td>0.000384</td>\n",
       "      <td>0.000303</td>\n",
       "      <td>0.000074</td>\n",
       "      <td>2.256767e-06</td>\n",
       "      <td>fear</td>\n",
       "    </tr>\n",
       "    <tr>\n",
       "      <th>1</th>\n",
       "      <td>0.309952</td>\n",
       "      <td>0.569238</td>\n",
       "      <td>0.580505</td>\n",
       "      <td>0.718990</td>\n",
       "      <td>0.801043</td>\n",
       "      <td>0.684137</td>\n",
       "      <td>0.616452</td>\n",
       "      <td>0.646667</td>\n",
       "      <td>0.686388</td>\n",
       "      <td>0.683310</td>\n",
       "      <td>...</td>\n",
       "      <td>0.001777</td>\n",
       "      <td>0.001282</td>\n",
       "      <td>0.001453</td>\n",
       "      <td>0.001139</td>\n",
       "      <td>0.001206</td>\n",
       "      <td>0.001293</td>\n",
       "      <td>0.001097</td>\n",
       "      <td>0.000905</td>\n",
       "      <td>9.122540e-04</td>\n",
       "      <td>fear</td>\n",
       "    </tr>\n",
       "    <tr>\n",
       "      <th>2</th>\n",
       "      <td>0.235400</td>\n",
       "      <td>0.467799</td>\n",
       "      <td>0.526148</td>\n",
       "      <td>0.696489</td>\n",
       "      <td>0.765350</td>\n",
       "      <td>0.596145</td>\n",
       "      <td>0.525455</td>\n",
       "      <td>0.554829</td>\n",
       "      <td>0.576128</td>\n",
       "      <td>0.608458</td>\n",
       "      <td>...</td>\n",
       "      <td>0.000454</td>\n",
       "      <td>0.000127</td>\n",
       "      <td>0.000189</td>\n",
       "      <td>0.000156</td>\n",
       "      <td>0.000179</td>\n",
       "      <td>0.000167</td>\n",
       "      <td>0.000103</td>\n",
       "      <td>0.000026</td>\n",
       "      <td>8.751683e-07</td>\n",
       "      <td>fear</td>\n",
       "    </tr>\n",
       "    <tr>\n",
       "      <th>3</th>\n",
       "      <td>0.244064</td>\n",
       "      <td>0.571490</td>\n",
       "      <td>0.473687</td>\n",
       "      <td>0.541058</td>\n",
       "      <td>0.732877</td>\n",
       "      <td>0.789297</td>\n",
       "      <td>0.602376</td>\n",
       "      <td>0.531433</td>\n",
       "      <td>0.564427</td>\n",
       "      <td>0.588936</td>\n",
       "      <td>...</td>\n",
       "      <td>0.000707</td>\n",
       "      <td>0.000806</td>\n",
       "      <td>0.000699</td>\n",
       "      <td>0.000248</td>\n",
       "      <td>0.000212</td>\n",
       "      <td>0.000182</td>\n",
       "      <td>0.000112</td>\n",
       "      <td>0.000044</td>\n",
       "      <td>5.921319e-07</td>\n",
       "      <td>fear</td>\n",
       "    </tr>\n",
       "    <tr>\n",
       "      <th>4</th>\n",
       "      <td>0.208771</td>\n",
       "      <td>0.471565</td>\n",
       "      <td>0.524938</td>\n",
       "      <td>0.570187</td>\n",
       "      <td>0.558178</td>\n",
       "      <td>0.477314</td>\n",
       "      <td>0.458931</td>\n",
       "      <td>0.627174</td>\n",
       "      <td>0.626698</td>\n",
       "      <td>0.669495</td>\n",
       "      <td>...</td>\n",
       "      <td>0.000595</td>\n",
       "      <td>0.001652</td>\n",
       "      <td>0.002122</td>\n",
       "      <td>0.000607</td>\n",
       "      <td>0.001908</td>\n",
       "      <td>0.001104</td>\n",
       "      <td>0.000152</td>\n",
       "      <td>0.000116</td>\n",
       "      <td>3.131501e-06</td>\n",
       "      <td>happy</td>\n",
       "    </tr>\n",
       "  </tbody>\n",
       "</table>\n",
       "<p>5 rows × 163 columns</p>\n",
       "</div>"
      ],
      "text/plain": [
       "          0         1         2         3         4         5         6  \\\n",
       "0  0.234756  0.453023  0.532435  0.675329  0.709075  0.575481  0.525318   \n",
       "1  0.309952  0.569238  0.580505  0.718990  0.801043  0.684137  0.616452   \n",
       "2  0.235400  0.467799  0.526148  0.696489  0.765350  0.596145  0.525455   \n",
       "3  0.244064  0.571490  0.473687  0.541058  0.732877  0.789297  0.602376   \n",
       "4  0.208771  0.471565  0.524938  0.570187  0.558178  0.477314  0.458931   \n",
       "\n",
       "          7         8         9  ...       153       154       155       156  \\\n",
       "0  0.548347  0.586336  0.646260  ...  0.001135  0.000323  0.000474  0.000333   \n",
       "1  0.646667  0.686388  0.683310  ...  0.001777  0.001282  0.001453  0.001139   \n",
       "2  0.554829  0.576128  0.608458  ...  0.000454  0.000127  0.000189  0.000156   \n",
       "3  0.531433  0.564427  0.588936  ...  0.000707  0.000806  0.000699  0.000248   \n",
       "4  0.627174  0.626698  0.669495  ...  0.000595  0.001652  0.002122  0.000607   \n",
       "\n",
       "        157       158       159       160           161  labels  \n",
       "0  0.000373  0.000384  0.000303  0.000074  2.256767e-06    fear  \n",
       "1  0.001206  0.001293  0.001097  0.000905  9.122540e-04    fear  \n",
       "2  0.000179  0.000167  0.000103  0.000026  8.751683e-07    fear  \n",
       "3  0.000212  0.000182  0.000112  0.000044  5.921319e-07    fear  \n",
       "4  0.001908  0.001104  0.000152  0.000116  3.131501e-06   happy  \n",
       "\n",
       "[5 rows x 163 columns]"
      ]
     },
     "execution_count": 78,
     "metadata": {},
     "output_type": "execute_result"
    }
   ],
   "source": [
    "# Saving features in a csv file to avoid redundant feature extraction\n",
    "Features = pd.DataFrame(x_train)\n",
    "Features['labels'] = y_train\n",
    "Features.to_csv('features.csv', index=False)\n",
    "Features.head()"
   ]
  },
  {
   "cell_type": "code",
   "execution_count": 79,
   "id": "c6be64a2",
   "metadata": {},
   "outputs": [
    {
     "name": "stdout",
     "output_type": "stream",
     "text": [
      "['fear' 'fear' 'fear' ... 'happy' 'happy' 'happy']\n"
     ]
    }
   ],
   "source": [
    "x_train = Features.iloc[: ,:-1].values\n",
    "y_train = Features['labels'].values\n",
    "print(y_train)"
   ]
  },
  {
   "cell_type": "code",
   "execution_count": 80,
   "id": "c7cee47f",
   "metadata": {},
   "outputs": [
    {
     "name": "stdout",
     "output_type": "stream",
     "text": [
      "[[0. 1. 0. 0. 0.]\n",
      " [0. 1. 0. 0. 0.]\n",
      " [0. 1. 0. 0. 0.]\n",
      " ...\n",
      " [0. 0. 1. 0. 0.]\n",
      " [0. 0. 1. 0. 0.]\n",
      " [0. 0. 1. 0. 0.]]\n"
     ]
    }
   ],
   "source": [
    "encoder = sklearn.preprocessing.OneHotEncoder()\n",
    "y_train = encoder.fit_transform(np.array(y_train).reshape(-1,1)).toarray()\n",
    "print(y_train)"
   ]
  },
  {
   "cell_type": "code",
   "execution_count": 81,
   "id": "e59ad66f",
   "metadata": {},
   "outputs": [
    {
     "name": "stdout",
     "output_type": "stream",
     "text": [
      "(216, 162)\n",
      "(216,)\n"
     ]
    }
   ],
   "source": [
    "X, Y = [], []\n",
    "for path, emotion in zip(X_test, Y_test):\n",
    "    feature = get_features(path, False)   \n",
    "    X.append(feature)\n",
    "    Y.append(emotion)\n",
    "\n",
    "print(np.shape(X))\n",
    "print(np.shape(Y))\n",
    "x_test = np.array(X)\n",
    "y_test = np.array(Y)\n"
   ]
  },
  {
   "cell_type": "code",
   "execution_count": 82,
   "id": "bf54dc00",
   "metadata": {},
   "outputs": [
    {
     "data": {
      "text/plain": [
       "55       sad\n",
       "316     fear\n",
       "252     fear\n",
       "262    angry\n",
       "31       sad\n",
       "Name: Emotions, dtype: object"
      ]
     },
     "execution_count": 82,
     "metadata": {},
     "output_type": "execute_result"
    }
   ],
   "source": [
    "Y_test.head(5)"
   ]
  },
  {
   "cell_type": "code",
   "execution_count": 83,
   "id": "6ae3a53f",
   "metadata": {},
   "outputs": [
    {
     "data": {
      "text/plain": [
       "55     data/Actor_03/03-01-04-01-01-02-03.wav\n",
       "316    data/Actor_15/03-01-06-02-01-02-15.wav\n",
       "252    data/Actor_19/03-01-06-02-01-01-19.wav\n",
       "262    data/Actor_19/03-01-05-01-02-02-19.wav\n",
       "31     data/Actor_02/03-01-04-02-01-01-02.wav\n",
       "Name: Path, dtype: object"
      ]
     },
     "execution_count": 83,
     "metadata": {},
     "output_type": "execute_result"
    }
   ],
   "source": [
    "X_test.head(5)"
   ]
  },
  {
   "cell_type": "code",
   "execution_count": 84,
   "id": "afb211d8",
   "metadata": {},
   "outputs": [],
   "source": [
    "encoder = sklearn.preprocessing.OneHotEncoder()\n",
    "y_test = encoder.fit_transform(np.array(y_test).reshape(-1,1)).toarray()"
   ]
  },
  {
   "cell_type": "code",
   "execution_count": 85,
   "id": "76164e33",
   "metadata": {},
   "outputs": [
    {
     "data": {
      "text/plain": [
       "((2592, 162), (2592, 5), (216, 162), (216, 5))"
      ]
     },
     "execution_count": 85,
     "metadata": {},
     "output_type": "execute_result"
    }
   ],
   "source": [
    "# Normalization\n",
    "scaler = sklearn.preprocessing.StandardScaler()\n",
    "x_train = scaler.fit_transform(x_train)\n",
    "x_test = scaler.transform(x_test)\n",
    "x_train.shape, y_train.shape, x_test.shape, y_test.shape"
   ]
  },
  {
   "cell_type": "code",
   "execution_count": 86,
   "id": "3228786c",
   "metadata": {},
   "outputs": [
    {
     "name": "stdout",
     "output_type": "stream",
     "text": [
      "Accuracy: 0.47685185185185186\n"
     ]
    }
   ],
   "source": [
    "model1=MLPClassifier(alpha=0.01, batch_size=64, epsilon=1e-08, hidden_layer_sizes=(500,), learning_rate='adaptive', max_iter=500)\n",
    "model1.fit(x_train,y_train)\n",
    "score = model1.score(x_test, y_test)\n",
    "print(\"Accuracy:\", score)"
   ]
  },
  {
   "cell_type": "code",
   "execution_count": 87,
   "id": "a1164fe9",
   "metadata": {},
   "outputs": [
    {
     "data": {
      "text/plain": [
       "((2592, 162, 1), (2592, 5), (216, 162, 1), (216, 5))"
      ]
     },
     "execution_count": 87,
     "metadata": {},
     "output_type": "execute_result"
    }
   ],
   "source": [
    "# Reshaping train and test data for new model\n",
    "x_train = np.expand_dims(x_train, axis=2)\n",
    "x_test = np.expand_dims(x_test, axis=2)\n",
    "x_train.shape, y_train.shape, x_test.shape, y_test.shape"
   ]
  },
  {
   "cell_type": "markdown",
   "id": "25f7f26a",
   "metadata": {},
   "source": [
    "# old model\n",
    "model=Sequential()\n",
    "model.add(Conv1D(256, kernel_size=5, strides=1, padding='same', activation='relu', input_shape=(x_train.shape[1], 1)))\n",
    "model.add(MaxPooling1D(pool_size=5, strides = 2, padding = 'same'))\n",
    "\n",
    "model.add(Conv1D(256, kernel_size=5, strides=1, padding='same', activation='relu'))\n",
    "model.add(MaxPooling1D(pool_size=5, strides = 2, padding = 'same'))\n",
    "\n",
    "model.add(Conv1D(128, kernel_size=5, strides=1, padding='same', activation='relu'))\n",
    "model.add(MaxPooling1D(pool_size=5, strides = 2, padding = 'same'))\n",
    "model.add(Dropout(0.2))\n",
    "\n",
    "model.add(Conv1D(64, kernel_size=5, strides=1, padding='same', activation='relu'))\n",
    "model.add(MaxPooling1D(pool_size=5, strides = 2, padding = 'same'))\n",
    "\n",
    "model.add(Flatten())\n",
    "model.add(Dense(units=32, activation='relu'))\n",
    "model.add(Dropout(0.3))\n",
    "\n",
    "model.add(Dense(units=8, activation='softmax'))\n",
    "model.compile(optimizer = 'adam' , loss = 'categorical_crossentropy' , metrics = ['accuracy'])\n",
    "\n",
    "model.summary()"
   ]
  },
  {
   "cell_type": "markdown",
   "id": "fd483e19",
   "metadata": {},
   "source": [
    "## New model Training"
   ]
  },
  {
   "cell_type": "code",
   "execution_count": 88,
   "id": "1860e403",
   "metadata": {},
   "outputs": [
    {
     "name": "stdout",
     "output_type": "stream",
     "text": [
      "Model: \"sequential_2\"\n",
      "_________________________________________________________________\n",
      " Layer (type)                Output Shape              Param #   \n",
      "=================================================================\n",
      " conv1d_16 (Conv1D)          (None, 162, 256)          2304      \n",
      "                                                                 \n",
      " conv1d_17 (Conv1D)          (None, 162, 256)          524544    \n",
      "                                                                 \n",
      " batch_normalization_4 (Batc  (None, 162, 256)         1024      \n",
      " hNormalization)                                                 \n",
      "                                                                 \n",
      " dropout_4 (Dropout)         (None, 162, 256)          0         \n",
      "                                                                 \n",
      " max_pooling1d_4 (MaxPooling  (None, 20, 256)          0         \n",
      " 1D)                                                             \n",
      "                                                                 \n",
      " conv1d_18 (Conv1D)          (None, 20, 128)           262272    \n",
      "                                                                 \n",
      " conv1d_19 (Conv1D)          (None, 20, 128)           131200    \n",
      "                                                                 \n",
      " conv1d_20 (Conv1D)          (None, 20, 128)           131200    \n",
      "                                                                 \n",
      " conv1d_21 (Conv1D)          (None, 20, 128)           131200    \n",
      "                                                                 \n",
      " batch_normalization_5 (Batc  (None, 20, 128)          512       \n",
      " hNormalization)                                                 \n",
      "                                                                 \n",
      " dropout_5 (Dropout)         (None, 20, 128)           0         \n",
      "                                                                 \n",
      " max_pooling1d_5 (MaxPooling  (None, 2, 128)           0         \n",
      " 1D)                                                             \n",
      "                                                                 \n",
      " conv1d_22 (Conv1D)          (None, 2, 64)             65600     \n",
      "                                                                 \n",
      " conv1d_23 (Conv1D)          (None, 2, 64)             32832     \n",
      "                                                                 \n",
      " flatten_2 (Flatten)         (None, 128)               0         \n",
      "                                                                 \n",
      " dense_2 (Dense)             (None, 5)                 645       \n",
      "                                                                 \n",
      "=================================================================\n",
      "Total params: 1,283,333\n",
      "Trainable params: 1,282,565\n",
      "Non-trainable params: 768\n",
      "_________________________________________________________________\n"
     ]
    }
   ],
   "source": [
    "model = Sequential()\n",
    "model.add(Conv1D(256, 8, padding='same',activation='relu', input_shape=(x_train.shape[1],1)))  # X_train.shape[1] = No. of Columns\n",
    "model.add(Conv1D(256, 8, padding='same', activation='relu'))\n",
    "model.add(BatchNormalization())\n",
    "model.add(Dropout(0.25))\n",
    "model.add(MaxPooling1D(pool_size=(8)))\n",
    "model.add(Conv1D(128, 8, padding='same', activation='relu'))\n",
    "model.add(Conv1D(128, 8, padding='same',activation='relu'))\n",
    "model.add(Conv1D(128, 8, padding='same',activation='relu'))\n",
    "model.add(Conv1D(128, 8, padding='same',activation='relu'))\n",
    "model.add(BatchNormalization())\n",
    "model.add(Dropout(0.25))\n",
    "model.add(MaxPooling1D(pool_size=(8)))\n",
    "model.add(Conv1D(64, 8, padding='same',activation='relu'))\n",
    "model.add(Conv1D(64, 8, padding='same',activation='relu'))\n",
    "model.add(Flatten())\n",
    "model.add(Dense(y_train.shape[1],activation='softmax')) # Target class number\n",
    "model.compile(optimizer = 'adam' , loss = 'categorical_crossentropy' , metrics = ['accuracy'])\n",
    "model.summary()"
   ]
  },
  {
   "cell_type": "code",
   "execution_count": 89,
   "id": "11e1a441",
   "metadata": {
    "scrolled": false
   },
   "outputs": [
    {
     "name": "stdout",
     "output_type": "stream",
     "text": [
      "Epoch 1/60\n",
      "162/162 [==============================] - 27s 151ms/step - loss: 1.4587 - accuracy: 0.3661 - val_loss: 1.6257 - val_accuracy: 0.2083 - lr: 0.0010\n",
      "Epoch 2/60\n",
      "162/162 [==============================] - 24s 145ms/step - loss: 1.3275 - accuracy: 0.4228 - val_loss: 1.4982 - val_accuracy: 0.3472 - lr: 0.0010\n",
      "Epoch 3/60\n",
      "162/162 [==============================] - 23s 143ms/step - loss: 1.2391 - accuracy: 0.4622 - val_loss: 1.5733 - val_accuracy: 0.4306 - lr: 0.0010\n",
      "Epoch 4/60\n",
      "162/162 [==============================] - 23s 144ms/step - loss: 1.1622 - accuracy: 0.4896 - val_loss: 1.4407 - val_accuracy: 0.4167 - lr: 0.0010\n",
      "Epoch 5/60\n",
      "162/162 [==============================] - 23s 144ms/step - loss: 1.1135 - accuracy: 0.5127 - val_loss: 1.5259 - val_accuracy: 0.4491 - lr: 0.0010\n",
      "Epoch 6/60\n",
      "  5/162 [..............................] - ETA: 27s - loss: 1.0434 - accuracy: 0.5375"
     ]
    },
    {
     "name": "stdout",
     "output_type": "stream",
     "text": [
      "162/162 [==============================] - 23s 143ms/step - loss: 1.0572 - accuracy: 0.5428 - val_loss: 1.8309 - val_accuracy: 0.3611 - lr: 0.0010\n",
      "Epoch 7/60\n",
      "162/162 [==============================] - 24s 146ms/step - loss: 0.9879 - accuracy: 0.5787 - val_loss: 1.3947 - val_accuracy: 0.4907 - lr: 0.0010\n",
      "Epoch 8/60\n",
      "162/162 [==============================] - 23s 145ms/step - loss: 0.9419 - accuracy: 0.6026 - val_loss: 1.5272 - val_accuracy: 0.4398 - lr: 0.0010\n",
      "Epoch 9/60\n",
      "162/162 [==============================] - 24s 145ms/step - loss: 0.8531 - accuracy: 0.6447 - val_loss: 1.9845 - val_accuracy: 0.3704 - lr: 0.0010\n",
      "Epoch 10/60\n",
      "162/162 [==============================] - 24s 145ms/step - loss: 0.7672 - accuracy: 0.6883 - val_loss: 4.2060 - val_accuracy: 0.3148 - lr: 0.0010\n",
      "Epoch 11/60\n",
      "162/162 [==============================] - 23s 144ms/step - loss: 0.6975 - accuracy: 0.7149 - val_loss: 1.7692 - val_accuracy: 0.4398 - lr: 0.0010\n",
      "Epoch 12/60\n",
      "162/162 [==============================] - 23s 144ms/step - loss: 0.6229 - accuracy: 0.7554 - val_loss: 1.4694 - val_accuracy: 0.5324 - lr: 0.0010\n",
      "Epoch 13/60\n",
      "162/162 [==============================] - 24s 146ms/step - loss: 0.5138 - accuracy: 0.8071 - val_loss: 1.6368 - val_accuracy: 0.5278 - lr: 0.0010\n",
      "Epoch 14/60\n",
      "162/162 [==============================] - 23s 145ms/step - loss: 0.4715 - accuracy: 0.8206 - val_loss: 1.8103 - val_accuracy: 0.5370 - lr: 0.0010\n",
      "Epoch 15/60\n",
      "162/162 [==============================] - 24s 146ms/step - loss: 0.3972 - accuracy: 0.8546 - val_loss: 1.7030 - val_accuracy: 0.5417 - lr: 0.0010\n",
      "Epoch 16/60\n",
      "162/162 [==============================] - 24s 146ms/step - loss: 0.3296 - accuracy: 0.8773 - val_loss: 2.0418 - val_accuracy: 0.5370 - lr: 0.0010\n",
      "Epoch 17/60\n",
      "162/162 [==============================] - 23s 144ms/step - loss: 0.3327 - accuracy: 0.8866 - val_loss: 2.0081 - val_accuracy: 0.5556 - lr: 0.0010\n",
      "Epoch 18/60\n",
      "162/162 [==============================] - 23s 144ms/step - loss: 0.2517 - accuracy: 0.9132 - val_loss: 2.8910 - val_accuracy: 0.4861 - lr: 0.0010\n",
      "Epoch 19/60\n",
      "162/162 [==============================] - 23s 144ms/step - loss: 0.2598 - accuracy: 0.9120 - val_loss: 1.8437 - val_accuracy: 0.5417 - lr: 0.0010\n",
      "Epoch 20/60\n",
      "162/162 [==============================] - 23s 145ms/step - loss: 0.2296 - accuracy: 0.9186 - val_loss: 2.5479 - val_accuracy: 0.5278 - lr: 0.0010\n",
      "Epoch 21/60\n",
      "162/162 [==============================] - 23s 145ms/step - loss: 0.1791 - accuracy: 0.9371 - val_loss: 2.2999 - val_accuracy: 0.5556 - lr: 0.0010\n",
      "Epoch 22/60\n",
      "162/162 [==============================] - 24s 146ms/step - loss: 0.1928 - accuracy: 0.9336 - val_loss: 3.0551 - val_accuracy: 0.5278 - lr: 0.0010\n",
      "Epoch 23/60\n",
      "162/162 [==============================] - 23s 143ms/step - loss: 0.1664 - accuracy: 0.9417 - val_loss: 2.8565 - val_accuracy: 0.5370 - lr: 0.0010\n",
      "Epoch 24/60\n",
      "162/162 [==============================] - 23s 144ms/step - loss: 0.1199 - accuracy: 0.9603 - val_loss: 2.6008 - val_accuracy: 0.5139 - lr: 0.0010\n",
      "Epoch 25/60\n",
      "162/162 [==============================] - 23s 144ms/step - loss: 0.1308 - accuracy: 0.9583 - val_loss: 2.1882 - val_accuracy: 0.5046 - lr: 0.0010\n",
      "Epoch 26/60\n",
      "162/162 [==============================] - 24s 148ms/step - loss: 0.0917 - accuracy: 0.9715 - val_loss: 2.6336 - val_accuracy: 0.6019 - lr: 0.0010\n",
      "Epoch 27/60\n",
      "162/162 [==============================] - 24s 150ms/step - loss: 0.0942 - accuracy: 0.9715 - val_loss: 2.9333 - val_accuracy: 0.5370 - lr: 0.0010\n",
      "Epoch 28/60\n",
      "162/162 [==============================] - 23s 144ms/step - loss: 0.1178 - accuracy: 0.9641 - val_loss: 2.5633 - val_accuracy: 0.5509 - lr: 0.0010\n",
      "Epoch 29/60\n",
      "162/162 [==============================] - 24s 145ms/step - loss: 0.0529 - accuracy: 0.9842 - val_loss: 2.6648 - val_accuracy: 0.5694 - lr: 4.0000e-04\n",
      "Epoch 30/60\n",
      "162/162 [==============================] - 23s 143ms/step - loss: 0.0305 - accuracy: 0.9900 - val_loss: 2.9958 - val_accuracy: 0.5602 - lr: 4.0000e-04\n",
      "Epoch 31/60\n",
      "162/162 [==============================] - 23s 142ms/step - loss: 0.0152 - accuracy: 0.9965 - val_loss: 3.5008 - val_accuracy: 0.5556 - lr: 4.0000e-04\n",
      "Epoch 32/60\n",
      "162/162 [==============================] - 23s 143ms/step - loss: 0.0174 - accuracy: 0.9931 - val_loss: 3.4241 - val_accuracy: 0.5556 - lr: 4.0000e-04\n",
      "Epoch 33/60\n",
      "162/162 [==============================] - 23s 144ms/step - loss: 0.0206 - accuracy: 0.9950 - val_loss: 3.5164 - val_accuracy: 0.5509 - lr: 4.0000e-04\n",
      "Epoch 34/60\n",
      "162/162 [==============================] - 24s 146ms/step - loss: 0.0237 - accuracy: 0.9919 - val_loss: 3.4261 - val_accuracy: 0.5833 - lr: 1.6000e-04\n",
      "Epoch 35/60\n",
      "162/162 [==============================] - 23s 144ms/step - loss: 0.0138 - accuracy: 0.9965 - val_loss: 3.6077 - val_accuracy: 0.5602 - lr: 1.6000e-04\n",
      "Epoch 36/60\n",
      "162/162 [==============================] - 23s 142ms/step - loss: 0.0118 - accuracy: 0.9965 - val_loss: 3.7172 - val_accuracy: 0.5602 - lr: 1.6000e-04\n",
      "Epoch 37/60\n",
      "162/162 [==============================] - 23s 143ms/step - loss: 0.0135 - accuracy: 0.9950 - val_loss: 3.6940 - val_accuracy: 0.5694 - lr: 1.6000e-04\n",
      "Epoch 38/60\n",
      "162/162 [==============================] - 23s 145ms/step - loss: 0.0092 - accuracy: 0.9977 - val_loss: 3.7356 - val_accuracy: 0.5556 - lr: 1.6000e-04\n",
      "Epoch 39/60\n",
      "162/162 [==============================] - 24s 145ms/step - loss: 0.0057 - accuracy: 0.9992 - val_loss: 3.8817 - val_accuracy: 0.5509 - lr: 1.6000e-04\n",
      "Epoch 40/60\n",
      "162/162 [==============================] - 24s 148ms/step - loss: 0.0087 - accuracy: 0.9969 - val_loss: 3.9123 - val_accuracy: 0.5463 - lr: 1.6000e-04\n",
      "Epoch 41/60\n",
      "162/162 [==============================] - 24s 147ms/step - loss: 0.0087 - accuracy: 0.9965 - val_loss: 3.7466 - val_accuracy: 0.5556 - lr: 1.6000e-04\n",
      "Epoch 42/60\n",
      "162/162 [==============================] - 23s 143ms/step - loss: 0.0051 - accuracy: 0.9988 - val_loss: 3.7236 - val_accuracy: 0.5648 - lr: 6.4000e-05\n",
      "Epoch 43/60\n",
      "162/162 [==============================] - 23s 144ms/step - loss: 0.0113 - accuracy: 0.9973 - val_loss: 3.9206 - val_accuracy: 0.5741 - lr: 6.4000e-05\n",
      "Epoch 44/60\n",
      "162/162 [==============================] - 24s 147ms/step - loss: 0.0074 - accuracy: 0.9985 - val_loss: 3.9284 - val_accuracy: 0.5556 - lr: 6.4000e-05\n",
      "Epoch 45/60\n",
      "162/162 [==============================] - 24s 149ms/step - loss: 0.0055 - accuracy: 0.9973 - val_loss: 3.8813 - val_accuracy: 0.5556 - lr: 2.5600e-05\n",
      "Epoch 46/60\n",
      "162/162 [==============================] - 24s 148ms/step - loss: 0.0050 - accuracy: 0.9988 - val_loss: 3.9513 - val_accuracy: 0.5648 - lr: 2.5600e-05\n",
      "Epoch 47/60\n",
      "162/162 [==============================] - 24s 148ms/step - loss: 0.0057 - accuracy: 0.9973 - val_loss: 3.9469 - val_accuracy: 0.5602 - lr: 2.5600e-05\n",
      "Epoch 48/60\n",
      "162/162 [==============================] - 24s 148ms/step - loss: 0.0019 - accuracy: 0.9996 - val_loss: 3.9496 - val_accuracy: 0.5556 - lr: 2.5600e-05\n",
      "Epoch 49/60\n",
      "162/162 [==============================] - 17s 105ms/step - loss: 0.0035 - accuracy: 0.9981 - val_loss: 3.9993 - val_accuracy: 0.5602 - lr: 2.5600e-05\n",
      "Epoch 50/60\n",
      "162/162 [==============================] - 13s 79ms/step - loss: 0.0036 - accuracy: 0.9992 - val_loss: 3.9786 - val_accuracy: 0.5648 - lr: 2.5600e-05\n",
      "Epoch 51/60\n",
      "162/162 [==============================] - 13s 81ms/step - loss: 0.0047 - accuracy: 0.9988 - val_loss: 3.9787 - val_accuracy: 0.5694 - lr: 1.0240e-05\n",
      "Epoch 52/60\n",
      "162/162 [==============================] - 13s 81ms/step - loss: 0.0035 - accuracy: 0.9985 - val_loss: 3.9819 - val_accuracy: 0.5694 - lr: 1.0240e-05\n",
      "Epoch 53/60\n",
      "162/162 [==============================] - 14s 87ms/step - loss: 0.0041 - accuracy: 0.9992 - val_loss: 3.9976 - val_accuracy: 0.5694 - lr: 4.0960e-06\n",
      "Epoch 54/60\n",
      "162/162 [==============================] - 14s 84ms/step - loss: 0.0057 - accuracy: 0.9988 - val_loss: 3.9834 - val_accuracy: 0.5602 - lr: 4.0960e-06\n",
      "Epoch 55/60\n",
      "162/162 [==============================] - 13s 81ms/step - loss: 0.0079 - accuracy: 0.9965 - val_loss: 3.9940 - val_accuracy: 0.5648 - lr: 1.6384e-06\n",
      "Epoch 56/60\n",
      "162/162 [==============================] - 13s 83ms/step - loss: 0.0048 - accuracy: 0.9988 - val_loss: 3.9926 - val_accuracy: 0.5648 - lr: 1.6384e-06\n",
      "Epoch 57/60\n",
      "162/162 [==============================] - 13s 79ms/step - loss: 0.0107 - accuracy: 0.9977 - val_loss: 4.0006 - val_accuracy: 0.5648 - lr: 6.5536e-07\n",
      "Epoch 58/60\n",
      "162/162 [==============================] - 13s 81ms/step - loss: 0.0078 - accuracy: 0.9969 - val_loss: 3.9816 - val_accuracy: 0.5694 - lr: 6.5536e-07\n",
      "Epoch 59/60\n",
      "162/162 [==============================] - 13s 80ms/step - loss: 0.0026 - accuracy: 0.9992 - val_loss: 3.9925 - val_accuracy: 0.5648 - lr: 2.6214e-07\n",
      "Epoch 60/60\n",
      "162/162 [==============================] - 13s 79ms/step - loss: 0.0029 - accuracy: 0.9992 - val_loss: 4.0004 - val_accuracy: 0.5648 - lr: 2.6214e-07\n"
     ]
    }
   ],
   "source": [
    "rlrp = ReduceLROnPlateau(monitor='loss', factor=0.4, verbose=0, patience=2, min_lr=0.0000001)\n",
    "history=model.fit(x_train, y_train, batch_size=16, epochs=60, validation_data=(x_test, y_test), callbacks=[rlrp])"
   ]
  },
  {
   "cell_type": "code",
   "execution_count": 90,
   "id": "d16bd49e",
   "metadata": {},
   "outputs": [
    {
     "name": "stdout",
     "output_type": "stream",
     "text": [
      "7/7 [==============================] - 0s 27ms/step - loss: 4.0004 - accuracy: 0.5648\n",
      "Accuracy of our model on test data :  56.48148059844971 %\n"
     ]
    }
   ],
   "source": [
    "print(\"Accuracy of our model on test data : \" , model.evaluate(x_test, y_test)[1]*100 , \"%\")"
   ]
  },
  {
   "cell_type": "code",
   "execution_count": 91,
   "id": "39c7950c",
   "metadata": {},
   "outputs": [
    {
     "name": "stdout",
     "output_type": "stream",
     "text": [
      "7/7 [==============================] - 0s 25ms/step\n"
     ]
    },
    {
     "data": {
      "text/html": [
       "<div>\n",
       "<style scoped>\n",
       "    .dataframe tbody tr th:only-of-type {\n",
       "        vertical-align: middle;\n",
       "    }\n",
       "\n",
       "    .dataframe tbody tr th {\n",
       "        vertical-align: top;\n",
       "    }\n",
       "\n",
       "    .dataframe thead th {\n",
       "        text-align: right;\n",
       "    }\n",
       "</style>\n",
       "<table border=\"1\" class=\"dataframe\">\n",
       "  <thead>\n",
       "    <tr style=\"text-align: right;\">\n",
       "      <th></th>\n",
       "      <th>Predicted Labels</th>\n",
       "      <th>Actual Labels</th>\n",
       "    </tr>\n",
       "  </thead>\n",
       "  <tbody>\n",
       "    <tr>\n",
       "      <th>0</th>\n",
       "      <td>sad</td>\n",
       "      <td>sad</td>\n",
       "    </tr>\n",
       "    <tr>\n",
       "      <th>1</th>\n",
       "      <td>happy</td>\n",
       "      <td>fear</td>\n",
       "    </tr>\n",
       "    <tr>\n",
       "      <th>2</th>\n",
       "      <td>sad</td>\n",
       "      <td>fear</td>\n",
       "    </tr>\n",
       "    <tr>\n",
       "      <th>3</th>\n",
       "      <td>angry</td>\n",
       "      <td>angry</td>\n",
       "    </tr>\n",
       "    <tr>\n",
       "      <th>4</th>\n",
       "      <td>sad</td>\n",
       "      <td>sad</td>\n",
       "    </tr>\n",
       "    <tr>\n",
       "      <th>5</th>\n",
       "      <td>sad</td>\n",
       "      <td>sad</td>\n",
       "    </tr>\n",
       "    <tr>\n",
       "      <th>6</th>\n",
       "      <td>angry</td>\n",
       "      <td>angry</td>\n",
       "    </tr>\n",
       "    <tr>\n",
       "      <th>7</th>\n",
       "      <td>happy</td>\n",
       "      <td>fear</td>\n",
       "    </tr>\n",
       "    <tr>\n",
       "      <th>8</th>\n",
       "      <td>sad</td>\n",
       "      <td>sad</td>\n",
       "    </tr>\n",
       "    <tr>\n",
       "      <th>9</th>\n",
       "      <td>sad</td>\n",
       "      <td>happy</td>\n",
       "    </tr>\n",
       "  </tbody>\n",
       "</table>\n",
       "</div>"
      ],
      "text/plain": [
       "  Predicted Labels Actual Labels\n",
       "0              sad           sad\n",
       "1            happy          fear\n",
       "2              sad          fear\n",
       "3            angry         angry\n",
       "4              sad           sad\n",
       "5              sad           sad\n",
       "6            angry         angry\n",
       "7            happy          fear\n",
       "8              sad           sad\n",
       "9              sad         happy"
      ]
     },
     "execution_count": 91,
     "metadata": {},
     "output_type": "execute_result"
    }
   ],
   "source": [
    "pred_test = model.predict(x_test)\n",
    "y_pred = encoder.inverse_transform(pred_test)\n",
    "y_test = encoder.inverse_transform(y_test)\n",
    "df = pd.DataFrame(columns=['Predicted Labels', 'Actual Labels'])\n",
    "df['Predicted Labels'] = y_pred.flatten()\n",
    "df['Actual Labels'] = y_test.flatten()\n",
    "df.head(10)\n"
   ]
  },
  {
   "cell_type": "code",
   "execution_count": 92,
   "id": "9eda3f36",
   "metadata": {},
   "outputs": [
    {
     "data": {
      "image/png": "[encoded data removed]",
      "text/plain": [
       "<Figure size 1200x1000 with 2 Axes>"
      ]
     },
     "metadata": {},
     "output_type": "display_data"
    }
   ],
   "source": [
    "cm = sklearn.metrics.confusion_matrix(y_test, y_pred)\n",
    "plt.figure(figsize = (12, 10))\n",
    "cm = pd.DataFrame(cm , index = [i for i in encoder.categories_] , columns = [i for i in encoder.categories_])\n",
    "sns.heatmap(cm, linecolor='white', cmap='Blues', linewidth=1, annot=True, fmt='')\n",
    "plt.title('Confusion Matrix', size=20)\n",
    "plt.xlabel('Predicted Labels', size=14)\n",
    "plt.ylabel('Actual Labels', size=14)\n",
    "plt.show()"
   ]
  },
  {
   "cell_type": "code",
   "execution_count": 93,
   "id": "db78a11c",
   "metadata": {},
   "outputs": [
    {
     "name": "stdout",
     "output_type": "stream",
     "text": [
      "              precision    recall  f1-score   support\n",
      "\n",
      "       angry       0.52      0.72      0.60        43\n",
      "        fear       0.51      0.35      0.41        52\n",
      "       happy       0.50      0.47      0.48        49\n",
      "     neutral       0.70      0.54      0.61        26\n",
      "         sad       0.65      0.78      0.71        46\n",
      "\n",
      "    accuracy                           0.56       216\n",
      "   macro avg       0.58      0.57      0.56       216\n",
      "weighted avg       0.56      0.56      0.55       216\n",
      "\n"
     ]
    }
   ],
   "source": [
    "print(sklearn.metrics.classification_report(y_test, y_pred))"
   ]
  },
  {
   "cell_type": "code",
   "execution_count": 94,
   "id": "68d82401",
   "metadata": {},
   "outputs": [],
   "source": [
    "# pip install tf2onnx"
   ]
  },
  {
   "cell_type": "markdown",
   "id": "ec83b9c7",
   "metadata": {},
   "source": [
    "## saving the models and related components"
   ]
  },
  {
   "cell_type": "code",
   "execution_count": 95,
   "id": "219f502c",
   "metadata": {},
   "outputs": [
    {
     "name": "stderr",
     "output_type": "stream",
     "text": [
      "2023-07-25 15:40:22.711836: I tensorflow/core/grappler/devices.cc:66] Number of eligible GPUs (core count >= 8, compute capability >= 0.0): 0\n",
      "2023-07-25 15:40:22.711929: I tensorflow/core/grappler/clusters/single_machine.cc:358] Starting new session\n",
      "2023-07-25 15:40:22.852481: I tensorflow/core/grappler/devices.cc:66] Number of eligible GPUs (core count >= 8, compute capability >= 0.0): 0\n",
      "2023-07-25 15:40:22.852589: I tensorflow/core/grappler/clusters/single_machine.cc:358] Starting new session\n"
     ]
    },
    {
     "data": {
      "text/plain": [
       "'./model.onnx'"
      ]
     },
     "execution_count": 95,
     "metadata": {},
     "output_type": "execute_result"
    }
   ],
   "source": [
    "import tf2onnx\n",
    "import tensorflow as tf\n",
    "\n",
    "onnx_model, _ = tf2onnx.convert.from_keras(model)\n",
    "tf.io.write_graph(onnx_model, '.', 'model.onnx', as_text=False)"
   ]
  },
  {
   "cell_type": "code",
   "execution_count": 96,
   "id": "66abf64b",
   "metadata": {},
   "outputs": [],
   "source": [
    "# Saved the current model to replicate results\n",
    "#dump(model, open('model.pkl', 'wb'))"
   ]
  },
  {
   "cell_type": "code",
   "execution_count": 97,
   "id": "79b75741",
   "metadata": {},
   "outputs": [],
   "source": [
    "from pickle import dump\n",
    "dump(scaler, open('scaler.pkl', 'wb'))"
   ]
  },
  {
   "cell_type": "code",
   "execution_count": 98,
   "id": "f1e44fc5",
   "metadata": {},
   "outputs": [],
   "source": [
    "dump(encoder, open('encoder.pkl', 'wb'))"
   ]
  },
  {
   "cell_type": "markdown",
   "id": "bdfdbc77",
   "metadata": {},
   "source": [
    "# Input node that needs to be replaced in Run_File.py"
   ]
  },
  {
   "cell_type": "code",
   "execution_count": 99,
   "id": "6f9d8209",
   "metadata": {},
   "outputs": [
    {
     "name": "stdout",
     "output_type": "stream",
     "text": [
      "Input node name: conv1d_16_input\n",
      "Output node name: dense_2\n"
     ]
    }
   ],
   "source": [
    "input_name = onnx_model.graph.input[0].name\n",
    "output_name = onnx_model.graph.output[0].name\n",
    "\n",
    "print(\"Input node name:\", input_name)\n",
    "print(\"Output node name:\", output_name)"
   ]
  },
  {
   "cell_type": "code",
   "execution_count": null,
   "id": "7e0b9b50",
   "metadata": {},
   "outputs": [],
   "source": []
  }
 ],
 "metadata": {
  "kernelspec": {
   "display_name": "Python 3 (ipykernel)",
   "language": "python",
   "name": "python3"
  },
  "language_info": {
   "codemirror_mode": {
    "name": "ipython",
    "version": 3
   },
   "file_extension": ".py",
   "mimetype": "text/x-python",
   "name": "python",
   "nbconvert_exporter": "python",
   "pygments_lexer": "ipython3",
   "version": "3.10.8"
  }
 },
 "nbformat": 4,
 "nbformat_minor": 5
}
